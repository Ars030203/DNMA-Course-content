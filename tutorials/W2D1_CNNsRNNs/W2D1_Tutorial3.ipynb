{
  "nbformat": 4,
  "nbformat_minor": 0,
  "metadata": {
    "colab": {
      "name": "W2D1_Tutorial3.ipynb",
      "provenance": [],
      "collapsed_sections": [
        "84Dq9a0HCXcw"
      ],
      "toc_visible": true,
      "machine_shape": "hm",
      "include_colab_link": true
    },
    "kernelspec": {
      "display_name": "Python 3",
      "name": "python3"
    },
    "widgets": {
      "application/vnd.jupyter.widget-state+json": {
        "833e67d5c590457c9fee3a428f8b0ca7": {
          "model_module": "@jupyter-widgets/controls",
          "model_name": "HBoxModel",
          "state": {
            "_view_name": "HBoxView",
            "_dom_classes": [],
            "_model_name": "HBoxModel",
            "_view_module": "@jupyter-widgets/controls",
            "_model_module_version": "1.5.0",
            "_view_count": null,
            "_view_module_version": "1.5.0",
            "box_style": "",
            "layout": "IPY_MODEL_461837ad5a0d41ffbc4af054bb8ee973",
            "_model_module": "@jupyter-widgets/controls",
            "children": [
              "IPY_MODEL_06893252e55d4d07988f3849599bbb9f",
              "IPY_MODEL_ed6ed1ea0ce1442597d821673c4dbfdf"
            ]
          }
        },
        "461837ad5a0d41ffbc4af054bb8ee973": {
          "model_module": "@jupyter-widgets/base",
          "model_name": "LayoutModel",
          "state": {
            "_view_name": "LayoutView",
            "grid_template_rows": null,
            "right": null,
            "justify_content": null,
            "_view_module": "@jupyter-widgets/base",
            "overflow": null,
            "_model_module_version": "1.2.0",
            "_view_count": null,
            "flex_flow": null,
            "width": null,
            "min_width": null,
            "border": null,
            "align_items": null,
            "bottom": null,
            "_model_module": "@jupyter-widgets/base",
            "top": null,
            "grid_column": null,
            "overflow_y": null,
            "overflow_x": null,
            "grid_auto_flow": null,
            "grid_area": null,
            "grid_template_columns": null,
            "flex": null,
            "_model_name": "LayoutModel",
            "justify_items": null,
            "grid_row": null,
            "max_height": null,
            "align_content": null,
            "visibility": null,
            "align_self": null,
            "height": null,
            "min_height": null,
            "padding": null,
            "grid_auto_rows": null,
            "grid_gap": null,
            "max_width": null,
            "order": null,
            "_view_module_version": "1.2.0",
            "grid_template_areas": null,
            "object_position": null,
            "object_fit": null,
            "grid_auto_columns": null,
            "margin": null,
            "display": null,
            "left": null
          }
        },
        "06893252e55d4d07988f3849599bbb9f": {
          "model_module": "@jupyter-widgets/controls",
          "model_name": "FloatProgressModel",
          "state": {
            "_view_name": "ProgressView",
            "style": "IPY_MODEL_a3d5f918944145b09b2587762172c594",
            "_dom_classes": [],
            "description": "100%",
            "_model_name": "FloatProgressModel",
            "bar_style": "success",
            "max": 2000,
            "_view_module": "@jupyter-widgets/controls",
            "_model_module_version": "1.5.0",
            "value": 2000,
            "_view_count": null,
            "_view_module_version": "1.5.0",
            "orientation": "horizontal",
            "min": 0,
            "description_tooltip": null,
            "_model_module": "@jupyter-widgets/controls",
            "layout": "IPY_MODEL_6d04735bd519425f8fb451ea888f661f"
          }
        },
        "ed6ed1ea0ce1442597d821673c4dbfdf": {
          "model_module": "@jupyter-widgets/controls",
          "model_name": "HTMLModel",
          "state": {
            "_view_name": "HTMLView",
            "style": "IPY_MODEL_574e5fe8489145ad8dae13da62719d8b",
            "_dom_classes": [],
            "description": "",
            "_model_name": "HTMLModel",
            "placeholder": "​",
            "_view_module": "@jupyter-widgets/controls",
            "_model_module_version": "1.5.0",
            "value": " 2000/2000 [14:09&lt;00:00,  2.35it/s]",
            "_view_count": null,
            "_view_module_version": "1.5.0",
            "description_tooltip": null,
            "_model_module": "@jupyter-widgets/controls",
            "layout": "IPY_MODEL_f98894132aca443b99c0d965b0f21f07"
          }
        },
        "a3d5f918944145b09b2587762172c594": {
          "model_module": "@jupyter-widgets/controls",
          "model_name": "ProgressStyleModel",
          "state": {
            "_view_name": "StyleView",
            "_model_name": "ProgressStyleModel",
            "description_width": "initial",
            "_view_module": "@jupyter-widgets/base",
            "_model_module_version": "1.5.0",
            "_view_count": null,
            "_view_module_version": "1.2.0",
            "bar_color": null,
            "_model_module": "@jupyter-widgets/controls"
          }
        },
        "6d04735bd519425f8fb451ea888f661f": {
          "model_module": "@jupyter-widgets/base",
          "model_name": "LayoutModel",
          "state": {
            "_view_name": "LayoutView",
            "grid_template_rows": null,
            "right": null,
            "justify_content": null,
            "_view_module": "@jupyter-widgets/base",
            "overflow": null,
            "_model_module_version": "1.2.0",
            "_view_count": null,
            "flex_flow": null,
            "width": null,
            "min_width": null,
            "border": null,
            "align_items": null,
            "bottom": null,
            "_model_module": "@jupyter-widgets/base",
            "top": null,
            "grid_column": null,
            "overflow_y": null,
            "overflow_x": null,
            "grid_auto_flow": null,
            "grid_area": null,
            "grid_template_columns": null,
            "flex": null,
            "_model_name": "LayoutModel",
            "justify_items": null,
            "grid_row": null,
            "max_height": null,
            "align_content": null,
            "visibility": null,
            "align_self": null,
            "height": null,
            "min_height": null,
            "padding": null,
            "grid_auto_rows": null,
            "grid_gap": null,
            "max_width": null,
            "order": null,
            "_view_module_version": "1.2.0",
            "grid_template_areas": null,
            "object_position": null,
            "object_fit": null,
            "grid_auto_columns": null,
            "margin": null,
            "display": null,
            "left": null
          }
        },
        "574e5fe8489145ad8dae13da62719d8b": {
          "model_module": "@jupyter-widgets/controls",
          "model_name": "DescriptionStyleModel",
          "state": {
            "_view_name": "StyleView",
            "_model_name": "DescriptionStyleModel",
            "description_width": "",
            "_view_module": "@jupyter-widgets/base",
            "_model_module_version": "1.5.0",
            "_view_count": null,
            "_view_module_version": "1.2.0",
            "_model_module": "@jupyter-widgets/controls"
          }
        },
        "f98894132aca443b99c0d965b0f21f07": {
          "model_module": "@jupyter-widgets/base",
          "model_name": "LayoutModel",
          "state": {
            "_view_name": "LayoutView",
            "grid_template_rows": null,
            "right": null,
            "justify_content": null,
            "_view_module": "@jupyter-widgets/base",
            "overflow": null,
            "_model_module_version": "1.2.0",
            "_view_count": null,
            "flex_flow": null,
            "width": null,
            "min_width": null,
            "border": null,
            "align_items": null,
            "bottom": null,
            "_model_module": "@jupyter-widgets/base",
            "top": null,
            "grid_column": null,
            "overflow_y": null,
            "overflow_x": null,
            "grid_auto_flow": null,
            "grid_area": null,
            "grid_template_columns": null,
            "flex": null,
            "_model_name": "LayoutModel",
            "justify_items": null,
            "grid_row": null,
            "max_height": null,
            "align_content": null,
            "visibility": null,
            "align_self": null,
            "height": null,
            "min_height": null,
            "padding": null,
            "grid_auto_rows": null,
            "grid_gap": null,
            "max_width": null,
            "order": null,
            "_view_module_version": "1.2.0",
            "grid_template_areas": null,
            "object_position": null,
            "object_fit": null,
            "grid_auto_columns": null,
            "margin": null,
            "display": null,
            "left": null
          }
        }
      }
    },
    "accelerator": "GPU"
  },
  "cells": [
    {
      "cell_type": "markdown",
      "metadata": {
        "id": "view-in-github",
        "colab_type": "text"
      },
      "source": [
        "<a href=\"https://colab.research.google.com/github/NeuromatchAcademy/course-content-dl/blob/w2d1_path_fix/tutorials/W2D1_CNNsRNNs/W2D1_Tutorial3.ipynb\" target=\"_parent\"><img src=\"https://colab.research.google.com/assets/colab-badge.svg\" alt=\"Open In Colab\"/></a>"
      ]
    },
    {
      "cell_type": "markdown",
      "metadata": {
        "id": "X2kPrtVyXtaP"
      },
      "source": [
        "\n",
        "# Neuromatch Academy: Week 2, Day 1, Tutorial 3\n",
        "# Day 1: Parameter Sharing (CNNs and RNNs)\n",
        "\n",
        "__Content creators:__ Alona Fyshe, Dawn McKnight, Richard Gerum, Cassidy Pirlot, Rohan Saha, Liam Peet-Pare, Saeed Najafi \n",
        "\n",
        "__Content reviewers:__ Saeed Salehi, Lily Cheng, Yu-Fang Yang, Polina Turishcheva\n",
        "\n",
        "__Production editors:__ Anmol Gupta, Spiros Chavlis \n",
        "\n",
        "__Based on material from:__ Konrad Kording, Hmrishav Bandyopadhyay, Rahul Shekhar, Tejas Srivastava"
      ]
    },
    {
      "cell_type": "markdown",
      "metadata": {
        "id": "p2DuJddRXxYY"
      },
      "source": [
        "---\n",
        "# Tutorial Objectives\n",
        "At the end of this tutorial, we will be able to:\n",
        "- Understand the structure of a Recurrent Neural Network (RNN)\n",
        "- Build a simple RNN model\n",
        "\n",
        " "
      ]
    },
    {
      "cell_type": "code",
      "metadata": {
        "colab": {
          "base_uri": "https://localhost:8080/",
          "height": 595
        },
        "cellView": "form",
        "id": "BoHorRNDNn0r",
        "outputId": "24b8580c-ade7-4210-a8c1-31a7cd8a808a"
      },
      "source": [
        "#@markdown Tutorial slides\n",
        "# you should link the slides for all tutorial videos here (we will store pdfs on osf)\n",
        "\n",
        "from IPython.display import HTML\n",
        "\n",
        "HTML('<iframe src=\"https://docs.google.com/presentation/d/1jrKnXGoCXovB5pMGtnsF0ICxr1Cu_vDk/edit#slide=id.p1\" frameborder=\"100\" width=\"960\" height=\"569\" allowfullscreen=\"true\" mozallowfullscreen=\"true\" webkitallowfullscreen=\"true\"></iframe>')"
      ],
      "execution_count": 1,
      "outputs": [
        {
          "output_type": "execute_result",
          "data": {
            "text/html": [
              "<iframe src=\"https://docs.google.com/presentation/d/1jrKnXGoCXovB5pMGtnsF0ICxr1Cu_vDk/edit#slide=id.p1\" frameborder=\"100\" width=\"960\" height=\"569\" allowfullscreen=\"true\" mozallowfullscreen=\"true\" webkitallowfullscreen=\"true\"></iframe>"
            ],
            "text/plain": [
              "<IPython.core.display.HTML object>"
            ]
          },
          "metadata": {
            "tags": []
          },
          "execution_count": 1
        }
      ]
    },
    {
      "cell_type": "code",
      "metadata": {
        "id": "azn8UA_IgJT4",
        "cellView": "form"
      },
      "source": [
        "#@title Dependencies\n",
        "!pip install livelossplot --quiet"
      ],
      "execution_count": 2,
      "outputs": []
    },
    {
      "cell_type": "code",
      "metadata": {
        "id": "fZue0ldzOv_J",
        "colab": {
          "base_uri": "https://localhost:8080/"
        },
        "outputId": "5f5a0850-6010-432f-d9c0-3a9bad37610f"
      },
      "source": [
        "# Imports\n",
        "\n",
        "import os\n",
        "import cv2\n",
        "from PIL import Image\n",
        "from tqdm.auto import tqdm\n",
        "\n",
        "import time\n",
        "import torch\n",
        "import pathlib\n",
        "import numpy as np\n",
        "import matplotlib.pyplot as plt\n",
        "\n",
        "import torch.nn as nn\n",
        "import torch.optim as optim\n",
        "import torch.nn.functional as F\n",
        "import torchvision.transforms as transforms\n",
        "from torchvision.datasets import ImageFolder\n",
        "import torchvision.datasets as datasets\n",
        "from torch.utils.data import DataLoader, TensorDataset\n",
        "from torchvision.utils import make_grid\n",
        "from IPython.display import HTML, display\n",
        "\n",
        "from tqdm.notebook import tqdm, trange\n",
        "from time import sleep\n",
        "\n",
        "device = torch.device(\"cuda\" if torch.cuda.is_available() else \"cpu\")\n",
        "device, torch.get_num_threads()\n",
        "\n",
        "!mkdir images\n",
        "!wget \"https://raw.githubusercontent.com/dem1995/generally_available_files/main/chicago_skyline_shrunk_v2.bmp\"\n",
        "!mv *.bmp images"
      ],
      "execution_count": 3,
      "outputs": [
        {
          "output_type": "stream",
          "text": [
            "--2021-06-19 08:39:58--  https://raw.githubusercontent.com/dem1995/generally_available_files/main/chicago_skyline_shrunk_v2.bmp\n",
            "Resolving raw.githubusercontent.com (raw.githubusercontent.com)... 185.199.110.133, 185.199.111.133, 185.199.108.133, ...\n",
            "Connecting to raw.githubusercontent.com (raw.githubusercontent.com)|185.199.110.133|:443... connected.\n",
            "HTTP request sent, awaiting response... 200 OK\n",
            "Length: 808090 (789K) [image/bmp]\n",
            "Saving to: ‘chicago_skyline_shrunk_v2.bmp’\n",
            "\n",
            "\r          chicago_s   0%[                    ]       0  --.-KB/s               \rchicago_skyline_shr 100%[===================>] 789.15K  --.-KB/s    in 0.03s   \n",
            "\n",
            "2021-06-19 08:39:58 (22.5 MB/s) - ‘chicago_skyline_shrunk_v2.bmp’ saved [808090/808090]\n",
            "\n"
          ],
          "name": "stdout"
        }
      ]
    },
    {
      "cell_type": "code",
      "metadata": {
        "id": "YRZ-A9qBMDWF",
        "cellView": "form"
      },
      "source": [
        "# @title Figure Settings\n",
        "%config InlineBackend.figure_format = 'retina'\n",
        "%matplotlib inline \n",
        "\n",
        "fig_w, fig_h = (8, 6)\n",
        "plt.rcParams.update({'figure.figsize': (fig_w, fig_h)})\n",
        "\n",
        "plt.rcParams[\"mpl_toolkits.legacy_colorbar\"] = False\n",
        "\n",
        "import warnings\n",
        "warnings.filterwarnings(\"ignore\", category=UserWarning, module=\"matplotlib\")\n",
        "\n",
        "\n",
        "plt.style.use(\"https://raw.githubusercontent.com/NeuromatchAcademy/\"\n",
        "              \"course-content/master/nma.mplstyle\")"
      ],
      "execution_count": 4,
      "outputs": []
    },
    {
      "cell_type": "code",
      "metadata": {
        "id": "d0xGiq-bL_Qk",
        "cellView": "form",
        "colab": {
          "base_uri": "https://localhost:8080/"
        },
        "outputId": "295b9305-bd8c-467e-9545-73c5b0e02b90"
      },
      "source": [
        "# @title Set seed for reproducibility\n",
        "seed = 2021\n",
        "torch.manual_seed(seed)\n",
        "torch.cuda.manual_seed_all(seed)\n",
        "torch.cuda.manual_seed(seed)\n",
        "np.random.seed(seed)\n",
        "torch.backends.cudnn.deterministic = True\n",
        "torch.backends.cudnn.benchmark = False\n",
        "def seed_worker(worker_id):\n",
        "  worker_seed = torch.initial_seed() % 2**32\n",
        "  np.random.seed(worker_seed)\n",
        "  random.seed(worker_seed)\n",
        "\n",
        "print ('Seed has been set.')"
      ],
      "execution_count": 5,
      "outputs": [
        {
          "output_type": "stream",
          "text": [
            "Seed has been set.\n"
          ],
          "name": "stdout"
        }
      ]
    },
    {
      "cell_type": "markdown",
      "metadata": {
        "id": "MGqeu7gpnSxW"
      },
      "source": [
        "# Section 1: Recurrent Neural Networks (RNNs)"
      ]
    },
    {
      "cell_type": "code",
      "metadata": {
        "id": "YnfKeWAKnAoJ",
        "colab": {
          "base_uri": "https://localhost:8080/",
          "height": 519
        },
        "cellView": "form",
        "outputId": "db02ce14-1535-46d3-b6a3-5790505c59b4"
      },
      "source": [
        "#@title Video 1: Intro to RNNs\n",
        "# Insert the ID of the corresponding youtube video\n",
        "from IPython.display import YouTubeVideo\n",
        "video = YouTubeVideo(id=\"0Majex-aF0E\", width=854, height=480, fs=1)\n",
        "print(\"Video available at https://youtu.be/\" + video.id)\n",
        "video"
      ],
      "execution_count": 6,
      "outputs": [
        {
          "output_type": "stream",
          "text": [
            "Video available at https://youtu.be/0Majex-aF0E\n"
          ],
          "name": "stdout"
        },
        {
          "output_type": "execute_result",
          "data": {
            "text/html": [
              "\n",
              "        <iframe\n",
              "            width=\"854\"\n",
              "            height=\"480\"\n",
              "            src=\"https://www.youtube.com/embed/0Majex-aF0E?fs=1\"\n",
              "            frameborder=\"0\"\n",
              "            allowfullscreen\n",
              "        ></iframe>\n",
              "        "
            ],
            "text/plain": [
              "<IPython.lib.display.YouTubeVideo at 0x7fb36c8eac90>"
            ],
            "image/jpeg": "[encoded data removed]"
          },
          "metadata": {
            "tags": []
          },
          "execution_count": 6
        }
      ]
    },
    {
      "cell_type": "markdown",
      "metadata": {
        "id": "GxT_oRcwUSNt"
      },
      "source": [
        "RNNs are compact models that operate over timeseries, and have the ability to remember past input. They also save parameters by using the same weights at every time step.  If you've heard of Transformers, those models dont' have this kind of temporal weight sharing, and so they are *much* larger.\n",
        "\n",
        "The code below is adapted from https://github.com/spro/char-rnn.pytorch"
      ]
    },
    {
      "cell_type": "code",
      "metadata": {
        "id": "ltw4wWzX4xEk",
        "colab": {
          "base_uri": "https://localhost:8080/"
        },
        "cellView": "form",
        "outputId": "69b9702a-c668-42f6-d700-993558c8d269"
      },
      "source": [
        "#@title RNN framework (run me)\n",
        "\n",
        "!pip install unidecode\n",
        "\n",
        "!wget --output-document=/content/sample_data/twain.txt https://github.com/amfyshe/amfyshe.github.io/blob/master/twain.txt\n",
        "\n",
        "# https://github.com/spro/char-rnn.pytorch\n",
        "\n",
        "import torch\n",
        "import torch.nn as nn\n",
        "from torch.autograd import Variable\n",
        "\n",
        "class CharRNN(nn.Module):\n",
        "    def __init__(self, input_size, hidden_size, output_size, model=\"gru\", n_layers=1):\n",
        "        super(CharRNN, self).__init__()\n",
        "        self.model = model.lower()\n",
        "        self.input_size = input_size\n",
        "        self.hidden_size = hidden_size\n",
        "        self.output_size = output_size\n",
        "        self.n_layers = n_layers\n",
        "\n",
        "        self.encoder = nn.Embedding(input_size, hidden_size)\n",
        "        if self.model == \"gru\":\n",
        "            self.rnn = nn.GRU(hidden_size, hidden_size, n_layers)\n",
        "        elif self.model == \"lstm\":\n",
        "            self.rnn = nn.LSTM(hidden_size, hidden_size, n_layers)\n",
        "        elif self.model == \"rnn\":\n",
        "            self.rnn = nn.RNN(hidden_size, hidden_size, n_layers)\n",
        "        self.decoder = nn.Linear(hidden_size, output_size)\n",
        "\n",
        "    def forward(self, input, hidden):\n",
        "        batch_size = input.size(0)\n",
        "        encoded = self.encoder(input)\n",
        "        output, hidden = self.rnn(encoded.view(1, batch_size, -1), hidden)\n",
        "        output = self.decoder(output.view(batch_size, -1))\n",
        "        return output, hidden\n",
        "\n",
        "    def init_hidden(self, batch_size):\n",
        "        if self.model == \"lstm\":\n",
        "            return (Variable(torch.zeros(self.n_layers, batch_size, self.hidden_size)),\n",
        "                    Variable(torch.zeros(self.n_layers, batch_size, self.hidden_size)))\n",
        "        return Variable(torch.zeros(self.n_layers, batch_size, self.hidden_size))\n",
        "\n",
        "\n",
        "\n",
        "\n"
      ],
      "execution_count": 7,
      "outputs": [
        {
          "output_type": "stream",
          "text": [
            "Collecting unidecode\n",
            "\u001b[?25l  Downloading https://files.pythonhosted.org/packages/9e/25/723487ca2a52ebcee88a34d7d1f5a4b80b793f179ee0f62d5371938dfa01/Unidecode-1.2.0-py2.py3-none-any.whl (241kB)\n",
            "\r\u001b[K     |█▍                              | 10kB 26.2MB/s eta 0:00:01\r\u001b[K     |██▊                             | 20kB 8.6MB/s eta 0:00:01\r\u001b[K     |████                            | 30kB 7.8MB/s eta 0:00:01\r\u001b[K     |█████▍                          | 40kB 6.0MB/s eta 0:00:01\r\u001b[K     |██████▉                         | 51kB 5.5MB/s eta 0:00:01\r\u001b[K     |████████▏                       | 61kB 6.3MB/s eta 0:00:01\r\u001b[K     |█████████▌                      | 71kB 7.1MB/s eta 0:00:01\r\u001b[K     |██████████▉                     | 81kB 7.4MB/s eta 0:00:01\r\u001b[K     |████████████▏                   | 92kB 6.8MB/s eta 0:00:01\r\u001b[K     |█████████████▋                  | 102kB 6.7MB/s eta 0:00:01\r\u001b[K     |███████████████                 | 112kB 6.7MB/s eta 0:00:01\r\u001b[K     |████████████████▎               | 122kB 6.7MB/s eta 0:00:01\r\u001b[K     |█████████████████▋              | 133kB 6.7MB/s eta 0:00:01\r\u001b[K     |███████████████████             | 143kB 6.7MB/s eta 0:00:01\r\u001b[K     |████████████████████▍           | 153kB 6.7MB/s eta 0:00:01\r\u001b[K     |█████████████████████▊          | 163kB 6.7MB/s eta 0:00:01\r\u001b[K     |███████████████████████         | 174kB 6.7MB/s eta 0:00:01\r\u001b[K     |████████████████████████▍       | 184kB 6.7MB/s eta 0:00:01\r\u001b[K     |█████████████████████████▊      | 194kB 6.7MB/s eta 0:00:01\r\u001b[K     |███████████████████████████▏    | 204kB 6.7MB/s eta 0:00:01\r\u001b[K     |████████████████████████████▌   | 215kB 6.7MB/s eta 0:00:01\r\u001b[K     |█████████████████████████████▉  | 225kB 6.7MB/s eta 0:00:01\r\u001b[K     |███████████████████████████████▏| 235kB 6.7MB/s eta 0:00:01\r\u001b[K     |████████████████████████████████| 245kB 6.7MB/s \n",
            "\u001b[?25hInstalling collected packages: unidecode\n",
            "Successfully installed unidecode-1.2.0\n",
            "--2021-06-19 08:40:01--  https://github.com/amfyshe/amfyshe.github.io/blob/master/twain.txt\n",
            "Resolving github.com (github.com)... 192.30.255.112\n",
            "Connecting to github.com (github.com)|192.30.255.112|:443... connected.\n",
            "HTTP request sent, awaiting response... 200 OK\n",
            "Length: unspecified [text/html]\n",
            "Saving to: ‘/content/sample_data/twain.txt’\n",
            "\n",
            "/content/sample_dat     [ <=>                ] 106.45K  --.-KB/s    in 0.02s   \n",
            "\n",
            "2021-06-19 08:40:02 (4.39 MB/s) - ‘/content/sample_data/twain.txt’ saved [109003]\n",
            "\n"
          ],
          "name": "stdout"
        }
      ]
    },
    {
      "cell_type": "code",
      "metadata": {
        "id": "7mLmvf4GVFrP",
        "cellView": "form"
      },
      "source": [
        "#@title Helpers (run me)\n",
        "# https://github.com/spro/char-rnn.pytorch\n",
        "\n",
        "import unidecode\n",
        "import string\n",
        "import random\n",
        "import time\n",
        "import math\n",
        "import torch\n",
        "\n",
        "# Reading and un-unicode-encoding data\n",
        "\n",
        "all_characters = string.printable\n",
        "n_characters = len(all_characters)\n",
        "\n",
        "def read_file(filename):\n",
        "    file = unidecode.unidecode(open(filename).read())\n",
        "    return file, len(file)\n",
        "\n",
        "# Turning a string into a tensor\n",
        "\n",
        "def char_tensor(string):\n",
        "    tensor = torch.zeros(len(string)).long()\n",
        "    for c in range(len(string)):\n",
        "        try:\n",
        "            tensor[c] = all_characters.index(string[c])\n",
        "        except:\n",
        "            continue\n",
        "    return tensor\n",
        "\n",
        "# Readable time elapsed\n",
        "\n",
        "def time_since(since):\n",
        "    s = time.time() - since\n",
        "    m = math.floor(s / 60)\n",
        "    s -= m * 60\n",
        "    return '%dm %ds' % (m, s)\n",
        "\n",
        "def generate(decoder, prime_str='A', predict_len=100, temperature=0.8, cuda=False):\n",
        "    hidden = decoder.init_hidden(1)\n",
        "    prime_input = Variable(char_tensor(prime_str).unsqueeze(0))\n",
        "\n",
        "    if cuda:\n",
        "        hidden = hidden.cuda()\n",
        "        prime_input = prime_input.cuda()\n",
        "    predicted = prime_str\n",
        "\n",
        "    # Use priming string to \"build up\" hidden state\n",
        "    for p in range(len(prime_str) - 1):\n",
        "        _, hidden = decoder(prime_input[:,p], hidden)\n",
        "        \n",
        "    inp = prime_input[:,-1]\n",
        "    \n",
        "    for p in range(predict_len):\n",
        "        output, hidden = decoder(inp, hidden)\n",
        "        \n",
        "        # Sample from the network as a multinomial distribution\n",
        "        output_dist = output.data.view(-1).div(temperature).exp()\n",
        "        top_i = torch.multinomial(output_dist, 1)[0]\n",
        "\n",
        "        # Add predicted character to string and use as next input\n",
        "        predicted_char = all_characters[top_i]\n",
        "        predicted += predicted_char\n",
        "        inp = Variable(char_tensor(predicted_char).unsqueeze(0))\n",
        "        if cuda:\n",
        "            inp = inp.cuda()\n",
        "\n",
        "    return predicted\n",
        "\n"
      ],
      "execution_count": 8,
      "outputs": []
    },
    {
      "cell_type": "code",
      "metadata": {
        "id": "bWja_48t70sv",
        "cellView": "code",
        "colab": {
          "base_uri": "https://localhost:8080/",
          "height": 1000,
          "referenced_widgets": [
            "833e67d5c590457c9fee3a428f8b0ca7",
            "461837ad5a0d41ffbc4af054bb8ee973",
            "06893252e55d4d07988f3849599bbb9f",
            "ed6ed1ea0ce1442597d821673c4dbfdf",
            "a3d5f918944145b09b2587762172c594",
            "6d04735bd519425f8fb451ea888f661f",
            "574e5fe8489145ad8dae13da62719d8b",
            "f98894132aca443b99c0d965b0f21f07"
          ]
        },
        "outputId": "ee3aea1b-2085-492d-a58d-cc28587c1c41"
      },
      "source": [
        "# https://github.com/spro/char-rnn.pytorch\n",
        "!ls\n",
        "!pwd\n",
        "\n",
        "batch_size = 50\n",
        "chunk_len = 200\n",
        "model = \"rnn\" # other options: lstm, gru\n",
        "\n",
        "#hyperparams\n",
        "n_layers = 2\n",
        "hidden_size = 200\n",
        "n_epochs = 2000\n",
        "learning_rate = 0.01\n",
        "print_every = 25\n",
        "\n",
        "def train(inp, target):\n",
        "  hidden = decoder.init_hidden(batch_size)\n",
        "  decoder.zero_grad()\n",
        "  loss = 0\n",
        "\n",
        "  for c in range(chunk_len):\n",
        "    output, hidden = decoder(inp[:,c], hidden)\n",
        "    loss += criterion(output.view(batch_size, -1), target[:,c])\n",
        "\n",
        "  loss.backward()\n",
        "  decoder_optimizer.step()\n",
        "  return loss.item() / chunk_len\n",
        "\n",
        "file, file_len = read_file('/content/sample_data/twain.txt')\n",
        "\n",
        "def random_training_set(chunk_len, batch_size):\n",
        "  inp = torch.LongTensor(batch_size, chunk_len)\n",
        "  target = torch.LongTensor(batch_size, chunk_len)\n",
        "  for bi in range(batch_size):\n",
        "    start_index = random.randint(0, file_len - chunk_len - 1)\n",
        "    end_index = start_index + chunk_len + 1\n",
        "    chunk = file[start_index:end_index]\n",
        "    inp[bi] = char_tensor(chunk[:-1])\n",
        "    target[bi] = char_tensor(chunk[1:])\n",
        "  inp = Variable(inp)\n",
        "  target = Variable(target)\n",
        "  return inp, target\n",
        "\n",
        "decoder = CharRNN(\n",
        "    n_characters,\n",
        "    hidden_size,\n",
        "    n_characters,\n",
        "    model=model,\n",
        "    n_layers=n_layers,\n",
        ")\n",
        "decoder_optimizer = torch.optim.Adagrad(decoder.parameters(), lr=learning_rate)\n",
        "criterion = nn.CrossEntropyLoss()\n",
        "\n",
        "start = time.time()\n",
        "all_losses = []\n",
        "loss_avg = 0\n",
        "\n",
        "\n",
        "print(\"Training for %d epochs...\" % n_epochs)\n",
        "for epoch in tqdm(range(1, n_epochs + 1), position=0, leave=True):\n",
        "  loss = train(*random_training_set(chunk_len, batch_size))\n",
        "  loss_avg += loss\n",
        "\n",
        "  if epoch % print_every == 0:\n",
        "    print('[%s (%d %d%%) %.4f]' % (time_since(start), epoch, epoch / n_epochs * 100, loss))\n",
        "    print(generate(decoder, 'Wh', 100), '\\n')"
      ],
      "execution_count": 9,
      "outputs": [
        {
          "output_type": "stream",
          "text": [
            "images\tsample_data\n",
            "/content\n",
            "Training for 2000 epochs...\n"
          ],
          "name": "stdout"
        },
        {
          "output_type": "display_data",
          "data": {
            "application/vnd.jupyter.widget-view+json": {
              "model_id": "833e67d5c590457c9fee3a428f8b0ca7",
              "version_minor": 0,
              "version_major": 2
            },
            "text/plain": [
              "HBox(children=(FloatProgress(value=0.0, max=2000.0), HTML(value='')))"
            ]
          },
          "metadata": {
            "tags": []
          }
        },
        {
          "output_type": "stream",
          "text": [
            "[0m 10s (25 1%) 2.2816]\n",
            "Whhdenteon\"\n",
            "        <kithub.ass=\"Mclisk=\"Me\" chavumy-blass=\"esara>\n",
            "</disiten \" terspadice-menthebanse= \n",
            "\n",
            "[0m 21s (50 2%) 1.8103]\n",
            "Whendineluro to-seta-camfyshe\">\n",
            "\n",
            "                <amfyshe/amgytionMind-t=\"Sears=\"(;ke&quot;75 0 @.5 cl \n",
            "\n",
            "[0m 32s (75 3%) 1.7006]\n",
            "WheEJNggZ%qub0-1.5e3.94-1.25 1.5 15-bedge-sion-riary }=\"16\" cod-contention=\"16\" data-sulicentext-tent= \n",
            "\n",
            "[0m 42s (100 5%) 1.6154]\n",
            "Whenu-ment=\"thunk&quot;: &quot;: &quot;: &quot;: [], &quot;: SegeJ class=\"octicon pra\u000be=\"Restion=\"0 0  \n",
            "\n",
            "[0m 53s (125 6%) 1.3746]\n",
            "Whow.ch\" contass=\"Bump-link--cagss=\"d-0 p.pb.25 0 111-1.72 2.252.75a.75.75 0 01.75 0 011.5 18 3.985 1. \n",
            "\n",
            "[1m 3s (150 7%) 1.3140]\n",
            "WheRu4veb0d3Yfle0m00M8e1\">&quot;key&quot;: &quot;201628300002-5.06dd72w5c68e90_codOZPKdgYYMEd+M51x7f=s \n",
            "\n",
            "[1m 14s (175 8%) 1.2806]\n",
            "Wheverame=\"evenodd\" d=\"M1.75 0 10-.25 0 11-.82.25.75 0 00-.10-.01-.45                </div>\n",
            "\n",
            "          \n",
            "\n",
            "[1m 24s (200 10%) 1.2693]\n",
            "Whex==\" touster\">/a></a>\n",
            "\n",
            "      <meta name=\"type=\"button js-text-lefoll\">\n",
            "  <link =\"ara aria-hidden=\"t \n",
            "\n",
            "[1m 35s (225 11%) 1.0172]\n",
            "Whe.js\">Colerd-none\" href=\"\" aria-havigation/javascript\" role=\"twat: &quot;00 1658416 98a22.72a6 1.75  \n",
            "\n",
            "[1m 46s (250 12%) 1.0059]\n",
            "Whvary=\"true\"><path fill-rule=\"avinary 0 0 16\" viewBox=\"0 0 16 16\" version=\"0 0 000.754.25 0 01.75.75  \n",
            "\n",
            "[1m 56s (275 13%) 1.1518]\n",
            "Whe>Ge=\"oped-id-hidden=\"true\" viewBox=\"0 0 16 16\" vergetaine-balderMenu-iden-data-src=\"https://github. \n",
            "\n",
            "[2m 7s (300 15%) 0.9882]\n",
            "Whxkpy+qulMKzyV5UONNY9w5a64axcror_ent_true\">\n",
            "          </details dinline-ml-1 f5 ma-selected-links=\"tr \n",
            "\n",
            "[2m 18s (325 16%) 1.0005]\n",
            "Whe.github.io/blob/master/twain.txt\" data-ga-click=\"Repository\" color-text-tor\">\n",
            "    </a></li>\n",
            "        \n",
            "\n",
            "[2m 29s (350 17%) 0.9023]\n",
            "WhA#VDesVow=\"tyxithusemprusearef-selectorline\" text:repged;warg totorist-strolt\">\n",
            "  <div class=\"/span> \n",
            "\n",
            "[2m 39s (375 18%) 0.8116]\n",
            "WhzM2Zc97c77c1V5&quot;, &quot;key&quot;: &quot;181154909626&quot;, &quot;key&quot;: &quot;vainamer-lea \n",
            "\n",
            "[2m 50s (400 20%) 1.0443]\n",
            "WhVaingNath=\"16\" class=\"py-2 p flex-items-center p-0 js-jump-to-secondary no-unter flex-auto style=\"me \n",
            "\n",
            "[3m 1s (425 21%) 0.8830]\n",
            "Whe.github.io/searset</a></li>\n",
            "              </details\n",
            "\n",
            "        </a>\n",
            " ar amet-tersion=\"1.1\" data-item= \n",
            "\n",
            "[3m 12s (450 22%) 0.8211]\n",
            "WheifOcx=\"RewYe2 ilink-0 costent=\"Dcus&quot;: [], &quot;id&quot;: &quot;18789-8c397a1675&quot;}, {&quo \n",
            "\n",
            "[3m 22s (475 23%) 0.8706]\n",
            "WhewBex=/js-nomb-libeload&quot;:{&quot;https://github.com/amfyshe/amfyshe.github.githubassets.com/asse \n",
            "\n",
            "[3m 33s (500 25%) 0.9050]\n",
            "Whe.github.io/melement\" data-botwies-template content=\"06f825f976908b7bdaulo5B83qO211=\"16\" height=\"16\" \n",
            "\n",
            "[3m 44s (525 26%) 0.8447]\n",
            "WhBQ==cb74amfjss=\"brow\" data-view-component=\"true\" viewBox=\"0 0 101v324.008 0 00-1.94 4.89a.25.25 0 01 \n",
            "\n",
            "[3m 54s (550 27%) 0.8801]\n",
            "Whe.github.io/security\">\n",
            "  </div>\n",
            "    <bd-tertiary pr-3\">&rarr;</span></a></li>\n",
            "              </detail \n",
            "\n",
            "[4m 5s (575 28%) 0.8040]\n",
            "Whe>\n",
            "\n",
            "                  <svg class=\"Search\" class=\"jump-to-octicon-page\" content=\"Sign_in_icame&quot;: \n",
            "\n",
            "[4m 16s (600 30%) 0.7950]\n",
            "WhKCGWbAhEdM87;(3HX5ZLbMzWqCUUGV4lexDjk15S3xRdMMMzel1=\"_riminghow.tpatilinploss_proficermay color-text \n",
            "\n",
            "[4m 26s (625 31%) 0.7733]\n",
            "WhagA==\" type=\"application/javascript\" defer=\"defer\" data-target=\"ref=\"https://github.com/amfyshe/amfy \n",
            "\n",
            "[4m 37s (650 32%) 0.6676]\n",
            "WhzJ4Dnyn+4ob/Rex+eation/javascript\" data-module-forkens-dimd-taled-links=\" /amfyshe/amfyshe.github.io \n",
            "\n",
            "[4m 48s (675 33%) 0.7309]\n",
            "Whe.github.io/responsive-url&quot;:r936 16.191 1.499 1.06L0.99l-.27-6.94z\"></path></svg>\n",
            "              \n",
            "\n",
            "[4m 58s (700 35%) 0.7184]\n",
            "WhRiBSOjs==\" type=\"application/javascript\" data-module-id=\"./chunk-left\" aria-hidden=\"true\" viewBox=\"0 \n",
            "\n",
            "[5m 9s (725 36%) 0.6453]\n",
            "Wh>\n",
            "\n",
            "    <div class=\"SelectMenu-icon\" class=\"Box-body mr-3\">\n",
            "  </a>\n",
            "\n",
            "    </div>\n",
            "\n",
            "  <meta name=\"octolym \n",
            "\n",
            "[5m 19s (750 37%) 0.6327]\n",
            "WhUWVizje=\"large=\")6ace-0\">\n",
            "                  <span class=\"js-with-center border-lg-bottom-0 mr-0 mr-3 \n",
            "\n",
            "[5m 30s (775 38%) 0.5989]\n",
            "Whe5mbzmepshe/amfyshe.github.io/mexgarker\" data-tertiary px-1 color-block no-rdichise\"></span>         \n",
            "\n",
            "[5m 41s (800 40%) 0.7466]\n",
            "WhRAf==\" type=\"application/javascript\" data-module-id=\"./chunk-links-path data-target=\"ref-selector.gi \n",
            "\n",
            "[5m 51s (825 41%) 0.7456]\n",
            "Whe.github.com\">\n",
            "                </svg>\n",
            "      <path fill-rule=\"evenodd\" d=\"M1.75 0 001.5H1.510L1.569 1 \n",
            "\n",
            "[6m 2s (850 42%) 0.6770]\n",
            "WhzM7UzBIbhGyQEzjG45W6go9hAFHMEYH9UAYXDMK10RjBUGh+YvAxaVb5tazIp&quot;, &quot;key&quot;: &quot;click.cl \n",
            "\n",
            "[6m 12s (875 43%) 0.7316]\n",
            "WhexKRhJqcqCori5pzojDEf30/ow3e7Fc397fbbl48G6EdABKzVavigU+wzjp==\" type=\"amp\">Teats octicon octicon-repo \n",
            "\n",
            "[6m 23s (900 45%) 0.7483]\n",
            "WhogCT5LOJZcPRgoQDNpxyx8zingCorljs=\"U\"\n",
            "                        <span data-content=\"input-demux sec-rub \n",
            "\n",
            "[6m 34s (925 46%) 0.6687]\n",
            "Whedjw=\"tc=\"2302 35e194b8ab7f37a42abepoctage-tion.\" aria-label=\"Project\" allass=\"d-none cts-urlethtent \n",
            "\n",
            "[6m 44s (950 47%) 0.5801]\n",
            "Wh.js\"></script>\n",
            "  </div>\n",
            "</div>\n",
            "      <span content=\"application/javascript\" data-module-id=\"./chunk- \n",
            "\n",
            "[6m 55s (975 48%) 0.6600]\n",
            "WhubViz\"></tabsorite\" content=\"{&quot;event_type&quot;:&quot;path_filler mal proining, tion-relative i \n",
            "\n",
            "[7m 6s (1000 50%) 0.6216]\n",
            "Whz==\" type=\"application/javascript\" data-module-id=\"./chunk-severity-color-text-tertiary pr-3\">&rarr; \n",
            "\n",
            "[7m 16s (1025 51%) 0.6440]\n",
            "WhkiKphtFGQYzZl+u9-0 f5H0chMvyNaZKCPackerWH2nJ+cGPXwokLEjusNatub.cs\" class=\"py-2 lh-condensed-ultra d- \n",
            "\n",
            "[7m 27s (1050 52%) 0.6972]\n",
            "Wh-tranches\" content=\"imsion/faecureton-input flex-items-center p-2\">\n",
            "          <li data-view-componen \n",
            "\n",
            "[7m 37s (1075 53%) 0.6800]\n",
            "WhzmG3KnAIKZD/DRh2V+1==\" type=\"application/javascript\" data-module-id=\"./chunk-jump-to-search-text-glo \n",
            "\n",
            "[7m 48s (1100 55%) 0.6175]\n",
            "WhedaKwWTwcrLqBxCYET1Ecjs==\" type=\"application/javascript\" data-module-id=\"./chunk-contribute js-repo- \n",
            "\n",
            "[7m 59s (1125 56%) 0.6314]\n",
            "WhEJfExPzmav31898s9D2e56l62d6L8ckVyk729FjHpBRFmww6ZZ8YkSXWPW7f=\"Pr=\"bref=\"/amfyshe/amfyshe.github.io/b \n",
            "\n",
            "[8m 9s (1150 57%) 0.4550]\n",
            "Why>CodulectMope_is&quot;: [{&quot;cation-cticon octicon-search d-none\" data-view-component=\"true\" cla \n",
            "\n",
            "[8m 20s (1175 58%) 0.6239]\n",
            "Whr+ZVxXMMzm99cad5C1Y3kf4ueRHp;18Z12qV5DesYOMpbU597Db70140f5705429338b78bf58bd857c060f56d7219&quot;, & \n",
            "\n",
            "[8m 30s (1200 60%) 0.5922]\n",
            "WhzILKEi2sGrsGCNDL/Hev/PzopaletR_pogghtYimspbocd notine\">\n",
            "                      <span class=\"Counter j \n",
            "\n",
            "[8m 41s (1225 61%) 0.6173]\n",
            "WhVBEVx=\"shorg-5.25 0 00.0-8.253-2.714a.25.25 0 00.68-.88-.06 0-.32-1.59.15-3.25 0A.75.75 0  1 0\n",
            "  <li \n",
            "\n",
            "[8m 51s (1250 62%) 0.5457]\n",
            "Whe>\n",
            "\n",
            "    </div>\n",
            "\n",
            "    \n",
            "                  <li class=\"edge-item-fix\"><a href=\"/fouts nowict Search\" href \n",
            "\n",
            "[9m 2s (1275 63%) 0.5761]\n",
            "Wh>\n",
            "            <span data-csrgethimg\" type=\"blob\" href=\"https://github.githubassets.com/amfyshe/amfys \n",
            "\n",
            "[9m 13s (1300 65%) 0.5085]\n",
            "WhkiQ==\"\n",
            "              <a href=\"https://github.com/amfyshe/amfyshe.github.io ge\" Sitnur rounded-1 flex \n",
            "\n",
            "[9m 23s (1325 66%) 0.6150]\n",
            "WhR>GIN_no>&quot;: &quot;view//iddtchEyqBAV7Vid+E0s\"MSypRMOEC{BoWXzM1j/SXQ5rCEaPrEhBwy7C5AcXTCqGi9Se+u \n",
            "\n",
            "[9m 34s (1350 67%) 0.6299]\n",
            "WhocyOq==\" type=\"application/javascript\" data-module-id=\"./chunk-severity-clicon octicon-plaction-rela \n",
            "\n",
            "[9m 44s (1375 68%) 0.6192]\n",
            "WhkgVIFx6z/MCWTC2nkCCuro/LAMZkBEzDbzVxFIGx.5553638bda33967c2e8ojs575cbM2lhGA3QSwjxpIdsFI9syRga5q_3W0zy \n",
            "\n",
            "[9m 55s (1400 70%) 0.6496]\n",
            "WhVighton\" class=\"prossurisp_daspro_ures&rion_pron_graph_ca&quot;}, {&quot;experimentIds&quot;: [], &q \n",
            "\n",
            "[10m 6s (1425 71%) 0.5647]\n",
            "Whight==\" type=\"application/javascript\" data-module-id=\"./chunk-content\" class=\"py-2 class=\"jump-to-su \n",
            "\n",
            "[10m 16s (1450 72%) 0.5398]\n",
            "Wh_js=\"Progrch\"\n",
            "                              <span data-content=\"M1600\" />Emplanes Link--primary no-u \n",
            "\n",
            "[10m 27s (1475 73%) 0.5127]\n",
            "Why>Javightydes&quot;: [], &quot;id&quot;: &quot;1906868672&quot;, &quot;key&quot;: &quot;20184510-0 j \n",
            "\n",
            "[10m 37s (1500 75%) 0.4818]\n",
            "Whz+g==\" type=\"application/javascript\" src=\"https://github.githubassets.com/assets/chunk-details-dialo \n",
            "\n",
            "[10m 48s (1525 76%) 0.4524]\n",
            "WhzZQ6BTNG+cCdOCILPLWqgKRCE0pxAwEVw==\" type=\"application/javascript\" data-module-id=\"./chunk-soctiogge \n",
            "\n",
            "[10m 59s (1550 77%) 0.4941]\n",
            "WhUB1che5.5n12.5a1 1 0 00-.75-.75zm-8.25.75a.75.75 0 011.5 0v5.5a.75.75 0 00-.75.75h-8liz\">\n",
            "           \n",
            "\n",
            "[11m 9s (1575 78%) 0.7004]\n",
            "Whi></pan></a></li>\n",
            "                                    <svg height=\"32\" class=\"py-2 lh-condensed-ultr \n",
            "\n",
            "[11m 19s (1600 80%) 0.4977]\n",
            "WhzFKcSWDUPrCIdcWnFSTDFNMLMcZA==\" type=\"application/javascript\" data-module-id=\"./chunk-invitations&qu \n",
            "\n",
            "[11m 30s (1625 81%) 0.3959]\n",
            "WhwiGht==\" relofolloon\" class=\"js-repo-diopeselected-navascroun\" data-tab-item=\"i0code-tab\" hidden>\n",
            "</ \n",
            "\n",
            "[11m 41s (1650 82%) 0.4431]\n",
            "WhV5VYETDeId/GiId/sidysFtrue.5 0 1 0 012 1.7.15 1.04A.75.75 0 01.25.25v0 1.75zM5 12.25v3.25a.25.25 0 0 \n",
            "\n",
            "[11m 51s (1675 83%) 0.5586]\n",
            "WhVight=\"16\" class=\"octicon octicon-alert\">ta-click=\"Repository, &quot;id&quot;: &quot;2067331785166&q \n",
            "\n",
            "[12m 2s (1700 85%) 0.4913]\n",
            "WhkiG/IHvOWO9MACMM8u49946c8994e16245970&quot;, &quot;key&quot;: &quot;click.signup_continue.pbaln_in_s \n",
            "\n",
            "[12m 12s (1725 86%) 0.4862]\n",
            "Wh+DK2VctW+URWCFbAVPOXLz+KzzWrRqdPvgCoUQGR/WiV+7d+NLKVw==\" type=\"application/javascript\" data-module-i \n",
            "\n",
            "[12m 23s (1750 87%) 0.5736]\n",
            "Wh+3XHd0MARkUUZY7yMe5ZSGjw==\" type=\"application/javascript\" data-module-id=\"./chunk-contriescontione t \n",
            "\n",
            "[12m 34s (1775 88%) 0.5390]\n",
            "WhkiUmY0LVbMMqIdyETzGOZEGFDI7RgPPpjRDM0Zc66xe35scb932\">\n",
            "  </div>\n",
            "\n",
            "    <div>\n",
            "                <template  \n",
            "\n",
            "[12m 44s (1800 90%) 0.5157]\n",
            "WhV>GitHub.com/projects\">\n",
            "    <path fill-rule=\"evenodd\" d=\"M8 2.443-.278a.75.75 0 011.5 0v7.5a.75.75 0 \n",
            "\n",
            "[12m 55s (1825 91%) 0.4250]\n",
            "WhzB1cSUHpJN+7DsemPoUTHgM5AuRWsgFKMO4McET0LL8clFCPG7wUPvEgG+IXSvr6ndidgYOhR/g3.js\"></script>\n",
            "\n",
            "  <line  \n",
            "\n",
            "[13m 6s (1850 92%) 0.5060]\n",
            "Whz=w2FtCQ+x09x\">\n",
            "  </span>\n",
            "            <div class=\"jump-to-octicon d-none js-jump-to-badge-search-tex \n",
            "\n",
            "[13m 16s (1875 93%) 0.4824]\n",
            "Wh^ig8thtY1tF8wY_WzC0P\"PAPdRN/Sx+1+n9jG320/41fypht8f723meptisple&quot;}, {&quot;versionymous\" defer=\"d \n",
            "\n",
            "[13m 27s (1900 95%) 0.4913]\n",
            "WhN3EJ+BZmqZ9tTBicontRmp&quot;,&quot;originating_url&quot;:&quot;https://github.com/amfyshe/amfyshe.gi \n",
            "\n",
            "[13m 37s (1925 96%) 0.4642]\n",
            "WhC0JX9wBLRkTrYsken+DequRhujsFgVPqy6ARUUnMCW5hQBAZBG9ZXlZfExRcIksV5Vi8eh62al751b78a3e75eed6aca\" data-g \n",
            "\n",
            "[13m 48s (1950 97%) 0.4313]\n",
            "WhQ==\" type=\"application/javascript\" src=\"https://github.githubassets.com/assets/chunk-insights-second \n",
            "\n",
            "[13m 58s (1975 98%) 0.5350]\n",
            "WhzBlcyOqNDunwVoKQ==\" type=\"application/javascript\" src=\"https://github.githubassets.com/assets/chunk- \n",
            "\n",
            "[14m 9s (2000 100%) 0.4605]\n",
            "WhVightVJuGutFitt:hGitHubRaNQFzFmayZzoIJSzigToZzBuxJPrFqNF+lubYfnVw==\" type=\"application/javascript\" d \n",
            "\n",
            "\n"
          ],
          "name": "stdout"
        }
      ]
    },
    {
      "cell_type": "markdown",
      "metadata": {
        "id": "bbQR27aIywct"
      },
      "source": [
        "#Section 2: Power consumption in Deep Learning\n",
        "\n",
        "Training NN models can be incredibly costly, both in actual money but also in power consumption. "
      ]
    },
    {
      "cell_type": "code",
      "metadata": {
        "id": "wWaoY787kWKL",
        "colab": {
          "base_uri": "https://localhost:8080/",
          "height": 519
        },
        "cellView": "form",
        "outputId": "7a2d4ee1-3881-4b72-a2eb-52c216d38365"
      },
      "source": [
        "#@title Video 2: Carbon Footprint of AI\n",
        "# Insert the ID of the corresponding youtube video\n",
        "from IPython.display import YouTubeVideo\n",
        "video = YouTubeVideo(id=\"2upwdK3bcXU\", width=854, height=480, fs=1)\n",
        "print(\"Video available at https://youtu.be/\" + video.id)\n",
        "video"
      ],
      "execution_count": 10,
      "outputs": [
        {
          "output_type": "stream",
          "text": [
            "Video available at https://youtu.be/2upwdK3bcXU\n"
          ],
          "name": "stdout"
        },
        {
          "output_type": "execute_result",
          "data": {
            "text/html": [
              "\n",
              "        <iframe\n",
              "            width=\"854\"\n",
              "            height=\"480\"\n",
              "            src=\"https://www.youtube.com/embed/2upwdK3bcXU?fs=1\"\n",
              "            frameborder=\"0\"\n",
              "            allowfullscreen\n",
              "        ></iframe>\n",
              "        "
            ],
            "text/plain": [
              "<IPython.lib.display.YouTubeVideo at 0x7fb3646459d0>"
            ],
            "image/jpeg": "[encoded data removed]"
          },
          "metadata": {
            "tags": []
          },
          "execution_count": 10
        }
      ]
    },
    {
      "cell_type": "markdown",
      "metadata": {
        "id": "PUQJqhfqkWig"
      },
      "source": [
        "Take a few moments to chat with your pod about the following points:\n",
        "* Which societal costs of training do you find most compelling?\n",
        "* When is training an AI model worth the cost?  Who should make that decision?\n",
        "* Should there be additional taxes on energy costs for compute centers? "
      ]
    },
    {
      "cell_type": "markdown",
      "metadata": {
        "id": "rC3MQe6fpQ0d"
      },
      "source": [
        "# Section 9: Wrap up\n",
        "\n",
        "What a day!  We've learned a lot!  The basics of CNNs and RNNs, and how changes to architecture that allow models to parameter share can greatly reduce the size of the model.  We learned about convoliution and pooling, as well as the basic idea behind RNNs.  To wrap up we thought about the impact of training large NN models."
      ]
    },
    {
      "cell_type": "code",
      "metadata": {
        "id": "N9v2Ld7osE-d",
        "colab": {
          "base_uri": "https://localhost:8080/",
          "height": 519
        },
        "cellView": "form",
        "outputId": "23b6ae56-3e63-48eb-eeaf-1354c006eb84"
      },
      "source": [
        "#@title Video 3: Wrap-up\n",
        "# Insert the ID of the corresponding youtube video\n",
        "from IPython.display import YouTubeVideo\n",
        "video = YouTubeVideo(id=\"Ikb4hwR4pU0\", width=854, height=480, fs=1)\n",
        "print(\"Video available at https://youtu.be/\" + video.id)\n",
        "video"
      ],
      "execution_count": 11,
      "outputs": [
        {
          "output_type": "stream",
          "text": [
            "Video available at https://youtu.be/Ikb4hwR4pU0\n"
          ],
          "name": "stdout"
        },
        {
          "output_type": "execute_result",
          "data": {
            "text/html": [
              "\n",
              "        <iframe\n",
              "            width=\"854\"\n",
              "            height=\"480\"\n",
              "            src=\"https://www.youtube.com/embed/Ikb4hwR4pU0?fs=1\"\n",
              "            frameborder=\"0\"\n",
              "            allowfullscreen\n",
              "        ></iframe>\n",
              "        "
            ],
            "text/plain": [
              "<IPython.lib.display.YouTubeVideo at 0x7fb364645410>"
            ],
            "image/jpeg": "[encoded data removed]"
          },
          "metadata": {
            "tags": []
          },
          "execution_count": 11
        }
      ]
    }
  ]
}