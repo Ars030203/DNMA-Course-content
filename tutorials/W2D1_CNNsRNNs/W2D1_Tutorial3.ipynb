{
  "nbformat": 4,
  "nbformat_minor": 0,
  "metadata": {
    "accelerator": "GPU",
    "colab": {
      "name": "W2D1_Tutorial3",
      "provenance": [],
      "collapsed_sections": [
        "84Dq9a0HCXcw"
      ],
      "machine_shape": "hm",
      "include_colab_link": true
    },
    "kernel": {
      "display_name": "Python 3",
      "language": "python",
      "name": "python3"
    },
    "kernelspec": {
      "display_name": "Python 3",
      "name": "python3"
    },
    "widgets": {
      "application/vnd.jupyter.widget-state+json": {
        "505980594e8146b1a47156dc3fecf4f7": {
          "model_module": "@jupyter-widgets/controls",
          "model_name": "HBoxModel",
          "state": {
            "_view_name": "HBoxView",
            "_dom_classes": [],
            "_model_name": "HBoxModel",
            "_view_module": "@jupyter-widgets/controls",
            "_model_module_version": "1.5.0",
            "_view_count": null,
            "_view_module_version": "1.5.0",
            "box_style": "",
            "layout": "IPY_MODEL_a9b1b9f0ecab4d96bc595797f27bdf50",
            "_model_module": "@jupyter-widgets/controls",
            "children": [
              "IPY_MODEL_bd9bd764635e4e7fb100acd4c8cb4545",
              "IPY_MODEL_6e88fd361fde4e888ce82cc9fa190ff8"
            ]
          }
        },
        "a9b1b9f0ecab4d96bc595797f27bdf50": {
          "model_module": "@jupyter-widgets/base",
          "model_name": "LayoutModel",
          "state": {
            "_view_name": "LayoutView",
            "grid_template_rows": null,
            "right": null,
            "justify_content": null,
            "_view_module": "@jupyter-widgets/base",
            "overflow": null,
            "_model_module_version": "1.2.0",
            "_view_count": null,
            "flex_flow": null,
            "width": null,
            "min_width": null,
            "border": null,
            "align_items": null,
            "bottom": null,
            "_model_module": "@jupyter-widgets/base",
            "top": null,
            "grid_column": null,
            "overflow_y": null,
            "overflow_x": null,
            "grid_auto_flow": null,
            "grid_area": null,
            "grid_template_columns": null,
            "flex": null,
            "_model_name": "LayoutModel",
            "justify_items": null,
            "grid_row": null,
            "max_height": null,
            "align_content": null,
            "visibility": null,
            "align_self": null,
            "height": null,
            "min_height": null,
            "padding": null,
            "grid_auto_rows": null,
            "grid_gap": null,
            "max_width": null,
            "order": null,
            "_view_module_version": "1.2.0",
            "grid_template_areas": null,
            "object_position": null,
            "object_fit": null,
            "grid_auto_columns": null,
            "margin": null,
            "display": null,
            "left": null
          }
        },
        "bd9bd764635e4e7fb100acd4c8cb4545": {
          "model_module": "@jupyter-widgets/controls",
          "model_name": "FloatProgressModel",
          "state": {
            "_view_name": "ProgressView",
            "style": "IPY_MODEL_2a6db00a2a3a45b4afcbb12deb208f86",
            "_dom_classes": [],
            "description": "100%",
            "_model_name": "FloatProgressModel",
            "bar_style": "success",
            "max": 2000,
            "_view_module": "@jupyter-widgets/controls",
            "_model_module_version": "1.5.0",
            "value": 2000,
            "_view_count": null,
            "_view_module_version": "1.5.0",
            "orientation": "horizontal",
            "min": 0,
            "description_tooltip": null,
            "_model_module": "@jupyter-widgets/controls",
            "layout": "IPY_MODEL_7db1592264bf47a293f60940b699501f"
          }
        },
        "6e88fd361fde4e888ce82cc9fa190ff8": {
          "model_module": "@jupyter-widgets/controls",
          "model_name": "HTMLModel",
          "state": {
            "_view_name": "HTMLView",
            "style": "IPY_MODEL_a27d3c1e3fca487ab621762e3ab350eb",
            "_dom_classes": [],
            "description": "",
            "_model_name": "HTMLModel",
            "placeholder": "​",
            "_view_module": "@jupyter-widgets/controls",
            "_model_module_version": "1.5.0",
            "value": " 2000/2000 [13:37&lt;00:00,  2.45it/s]",
            "_view_count": null,
            "_view_module_version": "1.5.0",
            "description_tooltip": null,
            "_model_module": "@jupyter-widgets/controls",
            "layout": "IPY_MODEL_1f1f27f216f84612aa9d9915db39c4fa"
          }
        },
        "2a6db00a2a3a45b4afcbb12deb208f86": {
          "model_module": "@jupyter-widgets/controls",
          "model_name": "ProgressStyleModel",
          "state": {
            "_view_name": "StyleView",
            "_model_name": "ProgressStyleModel",
            "description_width": "initial",
            "_view_module": "@jupyter-widgets/base",
            "_model_module_version": "1.5.0",
            "_view_count": null,
            "_view_module_version": "1.2.0",
            "bar_color": null,
            "_model_module": "@jupyter-widgets/controls"
          }
        },
        "7db1592264bf47a293f60940b699501f": {
          "model_module": "@jupyter-widgets/base",
          "model_name": "LayoutModel",
          "state": {
            "_view_name": "LayoutView",
            "grid_template_rows": null,
            "right": null,
            "justify_content": null,
            "_view_module": "@jupyter-widgets/base",
            "overflow": null,
            "_model_module_version": "1.2.0",
            "_view_count": null,
            "flex_flow": null,
            "width": null,
            "min_width": null,
            "border": null,
            "align_items": null,
            "bottom": null,
            "_model_module": "@jupyter-widgets/base",
            "top": null,
            "grid_column": null,
            "overflow_y": null,
            "overflow_x": null,
            "grid_auto_flow": null,
            "grid_area": null,
            "grid_template_columns": null,
            "flex": null,
            "_model_name": "LayoutModel",
            "justify_items": null,
            "grid_row": null,
            "max_height": null,
            "align_content": null,
            "visibility": null,
            "align_self": null,
            "height": null,
            "min_height": null,
            "padding": null,
            "grid_auto_rows": null,
            "grid_gap": null,
            "max_width": null,
            "order": null,
            "_view_module_version": "1.2.0",
            "grid_template_areas": null,
            "object_position": null,
            "object_fit": null,
            "grid_auto_columns": null,
            "margin": null,
            "display": null,
            "left": null
          }
        },
        "a27d3c1e3fca487ab621762e3ab350eb": {
          "model_module": "@jupyter-widgets/controls",
          "model_name": "DescriptionStyleModel",
          "state": {
            "_view_name": "StyleView",
            "_model_name": "DescriptionStyleModel",
            "description_width": "",
            "_view_module": "@jupyter-widgets/base",
            "_model_module_version": "1.5.0",
            "_view_count": null,
            "_view_module_version": "1.2.0",
            "_model_module": "@jupyter-widgets/controls"
          }
        },
        "1f1f27f216f84612aa9d9915db39c4fa": {
          "model_module": "@jupyter-widgets/base",
          "model_name": "LayoutModel",
          "state": {
            "_view_name": "LayoutView",
            "grid_template_rows": null,
            "right": null,
            "justify_content": null,
            "_view_module": "@jupyter-widgets/base",
            "overflow": null,
            "_model_module_version": "1.2.0",
            "_view_count": null,
            "flex_flow": null,
            "width": null,
            "min_width": null,
            "border": null,
            "align_items": null,
            "bottom": null,
            "_model_module": "@jupyter-widgets/base",
            "top": null,
            "grid_column": null,
            "overflow_y": null,
            "overflow_x": null,
            "grid_auto_flow": null,
            "grid_area": null,
            "grid_template_columns": null,
            "flex": null,
            "_model_name": "LayoutModel",
            "justify_items": null,
            "grid_row": null,
            "max_height": null,
            "align_content": null,
            "visibility": null,
            "align_self": null,
            "height": null,
            "min_height": null,
            "padding": null,
            "grid_auto_rows": null,
            "grid_gap": null,
            "max_width": null,
            "order": null,
            "_view_module_version": "1.2.0",
            "grid_template_areas": null,
            "object_position": null,
            "object_fit": null,
            "grid_auto_columns": null,
            "margin": null,
            "display": null,
            "left": null
          }
        }
      }
    }
  },
  "cells": [
    {
      "cell_type": "markdown",
      "metadata": {
        "id": "view-in-github",
        "colab_type": "text"
      },
      "source": [
        "<a href=\"https://colab.research.google.com/github/NeuromatchAcademy/course-content-dl/blob/w2d1_path_fix/tutorials/W2D1_CNNsRNNs/W2D1_Tutorial3.ipynb\" target=\"_parent\"><img src=\"https://colab.research.google.com/assets/colab-badge.svg\" alt=\"Open In Colab\"/></a>"
      ]
    },
    {
      "cell_type": "markdown",
      "metadata": {
        "id": "wRk0CuSE_T5K"
      },
      "source": [
        "\n",
        "# Neuromatch Academy: Week 2, Day 1, Tutorial 3\n",
        "# Day 1: Parameter Sharing (CNNs and RNNs)\n",
        "\n",
        "__Content creators:__ Alona Fyshe, Dawn McKnight, Richard Gerum, Cassidy Pirlot, Rohan Saha, Liam Peet-Pare, Saeed Najafi \n",
        "\n",
        "__Content reviewers:__ Saeed Salehi, Lily Cheng, Yu-Fang Yang, Polina Turishcheva\n",
        "\n",
        "__Production editors:__ Anmol Gupta, Spiros Chavlis \n",
        "\n",
        "__Based on material from:__ Konrad Kording, Hmrishav Bandyopadhyay, Rahul Shekhar, Tejas Srivastava"
      ]
    },
    {
      "cell_type": "markdown",
      "metadata": {
        "id": "jvF8bL1c_T5O"
      },
      "source": [
        "---\n",
        "# Tutorial Objectives\n",
        "At the end of this tutorial, we will be able to:\n",
        "- Understand the structure of a Recurrent Neural Network (RNN)\n",
        "- Build a simple RNN model\n",
        "\n",
        " "
      ]
    },
    {
      "cell_type": "code",
      "metadata": {
        "id": "zgRlvGxT_T5P",
        "colab": {
          "base_uri": "https://localhost:8080/",
          "height": 594
        },
        "cellView": "form",
        "outputId": "d4a7edad-5ab0-42c9-e4bf-5d9cef139b14"
      },
      "source": [
        "#@markdown Tutorial slides\n",
        "# you should link the slides for all tutorial videos here (we will store pdfs on osf)\n",
        "\n",
        "from IPython.display import HTML\n",
        "\n",
        "HTML('<iframe src=\"https://docs.google.com/presentation/d/1jrKnXGoCXovB5pMGtnsF0ICxr1Cu_vDk/edit#slide=id.p1\" frameborder=\"100\" width=\"960\" height=\"569\" allowfullscreen=\"true\" mozallowfullscreen=\"true\" webkitallowfullscreen=\"true\"></iframe>')"
      ],
      "execution_count": 1,
      "outputs": [
        {
          "output_type": "execute_result",
          "data": {
            "text/html": [
              "<iframe src=\"https://docs.google.com/presentation/d/1jrKnXGoCXovB5pMGtnsF0ICxr1Cu_vDk/edit#slide=id.p1\" frameborder=\"100\" width=\"960\" height=\"569\" allowfullscreen=\"true\" mozallowfullscreen=\"true\" webkitallowfullscreen=\"true\"></iframe>"
            ],
            "text/plain": [
              "<IPython.core.display.HTML object>"
            ]
          },
          "metadata": {
            "tags": []
          },
          "execution_count": 1
        }
      ]
    },
    {
      "cell_type": "code",
      "metadata": {
        "cellView": "form",
        "id": "OFyRbrip_T5Q"
      },
      "source": [
        "#@title Dependencies\n",
        "!pip install livelossplot --quiet"
      ],
      "execution_count": 2,
      "outputs": []
    },
    {
      "cell_type": "code",
      "metadata": {
        "id": "-Qm5SjzO_T5Q",
        "colab": {
          "base_uri": "https://localhost:8080/"
        },
        "outputId": "597744a3-9d2d-43df-e5b5-581302c1971b"
      },
      "source": [
        "# Imports\n",
        "import torch\n",
        "import numpy as np\n",
        "import matplotlib.pyplot as plt\n",
        "from IPython.display import HTML\n",
        "\n",
        "from tqdm.notebook import tqdm, trange\n",
        "from time import sleep\n",
        "\n",
        "device = torch.device(\"cuda\" if torch.cuda.is_available() else \"cpu\")\n",
        "device, torch.get_num_threads()\n",
        "\n",
        "!mkdir images\n",
        "!wget \"https://raw.githubusercontent.com/dem1995/generally_available_files/main/chicago_skyline_shrunk_v2.bmp\"\n",
        "!mv *.bmp images"
      ],
      "execution_count": 3,
      "outputs": [
        {
          "output_type": "stream",
          "text": [
            "mkdir: cannot create directory ‘images’: File exists\n",
            "--2021-06-20 11:09:35--  https://raw.githubusercontent.com/dem1995/generally_available_files/main/chicago_skyline_shrunk_v2.bmp\n",
            "Resolving raw.githubusercontent.com (raw.githubusercontent.com)... 185.199.108.133, 185.199.109.133, 185.199.110.133, ...\n",
            "Connecting to raw.githubusercontent.com (raw.githubusercontent.com)|185.199.108.133|:443... connected.\n",
            "HTTP request sent, awaiting response... 200 OK\n",
            "Length: 808090 (789K) [image/bmp]\n",
            "Saving to: ‘chicago_skyline_shrunk_v2.bmp’\n",
            "\n",
            "chicago_skyline_shr 100%[===================>] 789.15K  --.-KB/s    in 0.05s   \n",
            "\n",
            "2021-06-20 11:09:35 (14.4 MB/s) - ‘chicago_skyline_shrunk_v2.bmp’ saved [808090/808090]\n",
            "\n"
          ],
          "name": "stdout"
        }
      ]
    },
    {
      "cell_type": "code",
      "metadata": {
        "cellView": "form",
        "id": "bxsb6dCO_T5R"
      },
      "source": [
        "# @title Figure Settings\n",
        "%config InlineBackend.figure_format = 'retina'\n",
        "%matplotlib inline\n",
        "\n",
        "fig_w, fig_h = (8, 6)\n",
        "plt.rcParams.update({'figure.figsize': (fig_w, fig_h)})\n",
        "\n",
        "plt.rcParams[\"mpl_toolkits.legacy_colorbar\"] = False\n",
        "\n",
        "import warnings\n",
        "warnings.filterwarnings(\"ignore\", category=UserWarning, module=\"matplotlib\")\n",
        "\n",
        "\n",
        "plt.style.use(\"https://raw.githubusercontent.com/NeuromatchAcademy/\"\n",
        "              \"course-content/master/nma.mplstyle\")"
      ],
      "execution_count": 4,
      "outputs": []
    },
    {
      "cell_type": "code",
      "metadata": {
        "cellView": "form",
        "id": "YuT5oFX3_T5R",
        "colab": {
          "base_uri": "https://localhost:8080/"
        },
        "outputId": "50e04e2e-1be8-4b86-c0d7-edf0bc6c238d"
      },
      "source": [
        "# @title Set seed for reproducibility\n",
        "seed = 2021\n",
        "torch.manual_seed(seed)\n",
        "torch.cuda.manual_seed_all(seed)\n",
        "torch.cuda.manual_seed(seed)\n",
        "np.random.seed(seed)\n",
        "torch.backends.cudnn.deterministic = True\n",
        "torch.backends.cudnn.benchmark = False\n",
        "def seed_worker(worker_id):\n",
        "  worker_seed = torch.initial_seed() % 2**32\n",
        "  np.random.seed(worker_seed)\n",
        "  random.seed(worker_seed)\n",
        "\n",
        "print ('Seed has been set.')"
      ],
      "execution_count": 5,
      "outputs": [
        {
          "output_type": "stream",
          "text": [
            "Seed has been set.\n"
          ],
          "name": "stdout"
        }
      ]
    },
    {
      "cell_type": "markdown",
      "metadata": {
        "id": "gdZVy6Ja_T5S"
      },
      "source": [
        "# Section 1: Recurrent Neural Networks (RNNs)"
      ]
    },
    {
      "cell_type": "code",
      "metadata": {
        "cellView": "form",
        "id": "QHSrt8ee_T5S",
        "colab": {
          "base_uri": "https://localhost:8080/",
          "height": 518
        },
        "outputId": "3d18076f-e82c-4a46-cd50-61946dc973bf"
      },
      "source": [
        "#@title Video 1: Intro to RNNs\n",
        "# Insert the ID of the corresponding youtube video\n",
        "from IPython.display import YouTubeVideo\n",
        "video = YouTubeVideo(id=\"0Majex-aF0E\", width=854, height=480, fs=1)\n",
        "print(\"Video available at https://youtu.be/\" + video.id)\n",
        "video"
      ],
      "execution_count": 6,
      "outputs": [
        {
          "output_type": "stream",
          "text": [
            "Video available at https://youtu.be/0Majex-aF0E\n"
          ],
          "name": "stdout"
        },
        {
          "output_type": "execute_result",
          "data": {
            "text/html": [
              "\n",
              "        <iframe\n",
              "            width=\"854\"\n",
              "            height=\"480\"\n",
              "            src=\"https://www.youtube.com/embed/0Majex-aF0E?fs=1\"\n",
              "            frameborder=\"0\"\n",
              "            allowfullscreen\n",
              "        ></iframe>\n",
              "        "
            ],
            "text/plain": [
              "<IPython.lib.display.YouTubeVideo at 0x7f7a8bba4090>"
            ],
            "image/jpeg": "[encoded data removed]"
          },
          "metadata": {
            "tags": []
          },
          "execution_count": 6
        }
      ]
    },
    {
      "cell_type": "markdown",
      "metadata": {
        "id": "E4HR7WXJ_T5T"
      },
      "source": [
        "RNNs are compact models that operate over timeseries, and have the ability to remember past input. They also save parameters by using the same weights at every time step.  If you've heard of Transformers, those models dont' have this kind of temporal weight sharing, and so they are *much* larger.\n",
        "\n",
        "The code below is adapted from https://github.com/spro/char-rnn.pytorch"
      ]
    },
    {
      "cell_type": "code",
      "metadata": {
        "cellView": "form",
        "id": "y7xy6Fdo_T5T",
        "colab": {
          "base_uri": "https://localhost:8080/"
        },
        "outputId": "3b9e167d-8016-4d47-95be-e0f4bf3b00ce"
      },
      "source": [
        "#@title RNN framework (run me)\n",
        "\n",
        "!pip install unidecode\n",
        "\n",
        "!wget --output-document=/content/sample_data/twain.txt https://github.com/amfyshe/amfyshe.github.io/blob/master/twain.txt\n",
        "\n",
        "# https://github.com/spro/char-rnn.pytorch\n",
        "\n",
        "import torch\n",
        "import torch.nn as nn\n",
        "from torch.autograd import Variable\n",
        "\n",
        "class CharRNN(nn.Module):\n",
        "    def __init__(self, input_size, hidden_size, output_size, model=\"gru\", n_layers=1):\n",
        "        super(CharRNN, self).__init__()\n",
        "        self.model = model.lower()\n",
        "        self.input_size = input_size\n",
        "        self.hidden_size = hidden_size\n",
        "        self.output_size = output_size\n",
        "        self.n_layers = n_layers\n",
        "\n",
        "        self.encoder = nn.Embedding(input_size, hidden_size)\n",
        "        if self.model == \"gru\":\n",
        "            self.rnn = nn.GRU(hidden_size, hidden_size, n_layers)\n",
        "        elif self.model == \"lstm\":\n",
        "            self.rnn = nn.LSTM(hidden_size, hidden_size, n_layers)\n",
        "        elif self.model == \"rnn\":\n",
        "            self.rnn = nn.RNN(hidden_size, hidden_size, n_layers)\n",
        "        self.decoder = nn.Linear(hidden_size, output_size)\n",
        "\n",
        "    def forward(self, input, hidden):\n",
        "        batch_size = input.size(0)\n",
        "        encoded = self.encoder(input)\n",
        "        output, hidden = self.rnn(encoded.view(1, batch_size, -1), hidden)\n",
        "        output = self.decoder(output.view(batch_size, -1))\n",
        "        return output, hidden\n",
        "\n",
        "    def init_hidden(self, batch_size):\n",
        "        if self.model == \"lstm\":\n",
        "            return (Variable(torch.zeros(self.n_layers, batch_size, self.hidden_size)),\n",
        "                    Variable(torch.zeros(self.n_layers, batch_size, self.hidden_size)))\n",
        "        return Variable(torch.zeros(self.n_layers, batch_size, self.hidden_size))\n",
        "\n",
        "\n",
        "\n"
      ],
      "execution_count": 7,
      "outputs": [
        {
          "output_type": "stream",
          "text": [
            "Requirement already satisfied: unidecode in /usr/local/lib/python3.7/dist-packages (1.2.0)\n",
            "--2021-06-20 11:09:38--  https://github.com/amfyshe/amfyshe.github.io/blob/master/twain.txt\n",
            "Resolving github.com (github.com)... 192.30.255.113\n",
            "Connecting to github.com (github.com)|192.30.255.113|:443... connected.\n",
            "HTTP request sent, awaiting response... 200 OK\n",
            "Length: unspecified [text/html]\n",
            "Saving to: ‘/content/sample_data/twain.txt’\n",
            "\n",
            "/content/sample_dat     [ <=>                ] 106.45K  --.-KB/s    in 0.02s   \n",
            "\n",
            "2021-06-20 11:09:38 (4.79 MB/s) - ‘/content/sample_data/twain.txt’ saved [109009]\n",
            "\n"
          ],
          "name": "stdout"
        }
      ]
    },
    {
      "cell_type": "code",
      "metadata": {
        "cellView": "form",
        "id": "0pAgg3da_T5U"
      },
      "source": [
        "#@title Helpers (run me)\n",
        "# https://github.com/spro/char-rnn.pytorch\n",
        "\n",
        "import unidecode\n",
        "import string\n",
        "import random\n",
        "import time\n",
        "import math\n",
        "import torch\n",
        "\n",
        "# Reading and un-unicode-encoding data\n",
        "\n",
        "all_characters = string.printable\n",
        "n_characters = len(all_characters)\n",
        "\n",
        "def read_file(filename):\n",
        "    file = unidecode.unidecode(open(filename).read())\n",
        "    return file, len(file)\n",
        "\n",
        "# Turning a string into a tensor\n",
        "\n",
        "def char_tensor(string):\n",
        "    tensor = torch.zeros(len(string)).long()\n",
        "    for c in range(len(string)):\n",
        "        try:\n",
        "            tensor[c] = all_characters.index(string[c])\n",
        "        except:\n",
        "            continue\n",
        "    return tensor\n",
        "\n",
        "# Readable time elapsed\n",
        "\n",
        "def time_since(since):\n",
        "    s = time.time() - since\n",
        "    m = math.floor(s / 60)\n",
        "    s -= m * 60\n",
        "    return '%dm %ds' % (m, s)\n",
        "\n",
        "def generate(decoder, prime_str='A', predict_len=100, temperature=0.8, cuda=False):\n",
        "    hidden = decoder.init_hidden(1)\n",
        "    prime_input = Variable(char_tensor(prime_str).unsqueeze(0))\n",
        "\n",
        "    if cuda:\n",
        "        hidden = hidden.cuda()\n",
        "        prime_input = prime_input.cuda()\n",
        "    predicted = prime_str\n",
        "\n",
        "    # Use priming string to \"build up\" hidden state\n",
        "    for p in range(len(prime_str) - 1):\n",
        "        _, hidden = decoder(prime_input[:,p], hidden)\n",
        "\n",
        "    inp = prime_input[:,-1]\n",
        "\n",
        "    for p in range(predict_len):\n",
        "        output, hidden = decoder(inp, hidden)\n",
        "\n",
        "        # Sample from the network as a multinomial distribution\n",
        "        output_dist = output.data.view(-1).div(temperature).exp()\n",
        "        top_i = torch.multinomial(output_dist, 1)[0]\n",
        "\n",
        "        # Add predicted character to string and use as next input\n",
        "        predicted_char = all_characters[top_i]\n",
        "        predicted += predicted_char\n",
        "        inp = Variable(char_tensor(predicted_char).unsqueeze(0))\n",
        "        if cuda:\n",
        "            inp = inp.cuda()\n",
        "\n",
        "    return predicted\n"
      ],
      "execution_count": 8,
      "outputs": []
    },
    {
      "cell_type": "code",
      "metadata": {
        "cellView": "code",
        "id": "ZKndoo3I_T5V",
        "colab": {
          "base_uri": "https://localhost:8080/",
          "height": 1000,
          "referenced_widgets": [
            "505980594e8146b1a47156dc3fecf4f7",
            "a9b1b9f0ecab4d96bc595797f27bdf50",
            "bd9bd764635e4e7fb100acd4c8cb4545",
            "6e88fd361fde4e888ce82cc9fa190ff8",
            "2a6db00a2a3a45b4afcbb12deb208f86",
            "7db1592264bf47a293f60940b699501f",
            "a27d3c1e3fca487ab621762e3ab350eb",
            "1f1f27f216f84612aa9d9915db39c4fa"
          ]
        },
        "outputId": "d57662b4-7b80-4dec-e16c-3fa170a00974"
      },
      "source": [
        "# https://github.com/spro/char-rnn.pytorch\n",
        "!ls\n",
        "!pwd\n",
        "\n",
        "batch_size = 50\n",
        "chunk_len = 200\n",
        "model = \"rnn\" # other options: lstm, gru\n",
        "\n",
        "#hyperparams\n",
        "n_layers = 2\n",
        "hidden_size = 200\n",
        "n_epochs = 2000\n",
        "learning_rate = 0.01\n",
        "print_every = 25\n",
        "\n",
        "def train(inp, target):\n",
        "  hidden = decoder.init_hidden(batch_size)\n",
        "  decoder.zero_grad()\n",
        "  loss = 0\n",
        "\n",
        "  for c in range(chunk_len):\n",
        "    output, hidden = decoder(inp[:,c], hidden)\n",
        "    loss += criterion(output.view(batch_size, -1), target[:,c])\n",
        "\n",
        "  loss.backward()\n",
        "  decoder_optimizer.step()\n",
        "  return loss.item() / chunk_len\n",
        "\n",
        "file, file_len = read_file('/content/sample_data/twain.txt')\n",
        "\n",
        "def random_training_set(chunk_len, batch_size):\n",
        "  inp = torch.LongTensor(batch_size, chunk_len)\n",
        "  target = torch.LongTensor(batch_size, chunk_len)\n",
        "  for bi in range(batch_size):\n",
        "    start_index = random.randint(0, file_len - chunk_len - 1)\n",
        "    end_index = start_index + chunk_len + 1\n",
        "    chunk = file[start_index:end_index]\n",
        "    inp[bi] = char_tensor(chunk[:-1])\n",
        "    target[bi] = char_tensor(chunk[1:])\n",
        "  inp = Variable(inp)\n",
        "  target = Variable(target)\n",
        "  return inp, target\n",
        "\n",
        "decoder = CharRNN(\n",
        "    n_characters,\n",
        "    hidden_size,\n",
        "    n_characters,\n",
        "    model=model,\n",
        "    n_layers=n_layers,\n",
        ")\n",
        "decoder_optimizer = torch.optim.Adagrad(decoder.parameters(), lr=learning_rate)\n",
        "criterion = nn.CrossEntropyLoss()\n",
        "\n",
        "start = time.time()\n",
        "all_losses = []\n",
        "loss_avg = 0\n",
        "\n",
        "\n",
        "print(\"Training for %d epochs...\" % n_epochs)\n",
        "for epoch in tqdm(range(1, n_epochs + 1), position=0, leave=True):\n",
        "  loss = train(*random_training_set(chunk_len, batch_size))\n",
        "  loss_avg += loss\n",
        "\n",
        "  if epoch % print_every == 0:\n",
        "    print('[%s (%d %d%%) %.4f]' % (time_since(start), epoch,\\\n",
        "                                   epoch / n_epochs * 100, loss))\n",
        "    print(generate(decoder, 'Wh', 100), '\\n')"
      ],
      "execution_count": 9,
      "outputs": [
        {
          "output_type": "stream",
          "text": [
            "images\tsample_data\n",
            "/content\n",
            "Training for 2000 epochs...\n"
          ],
          "name": "stdout"
        },
        {
          "output_type": "display_data",
          "data": {
            "application/vnd.jupyter.widget-view+json": {
              "model_id": "505980594e8146b1a47156dc3fecf4f7",
              "version_minor": 0,
              "version_major": 2
            },
            "text/plain": [
              "HBox(children=(FloatProgress(value=0.0, max=2000.0), HTML(value='')))"
            ]
          },
          "metadata": {
            "tags": []
          }
        },
        {
          "output_type": "stream",
          "text": [
            "[0m 10s (25 1%) 2.2029]\n",
            "Whhdenteon\"\n",
            "             <siaspatectisk=\"Me\" ciclums-igelidilex-contonssionon\" ter-2a-fle-mentenubane= \n",
            "\n",
            "[0m 20s (50 2%) 1.9376]\n",
            "Whendion/urogiow-le=\"hrflowed\" class=\"Seath-3.5 0 04.75.2k-.M5 1.75.5 0 11.5a.75 0 00 03.75.75.75.0 00 \n",
            "\n",
            "[0m 30s (75 3%) 1.7712]\n",
            "WhtEj:ggZngef\" conority=\"s js-atetsjb\">\n",
            "  <divlena cripon rara>\n",
            "                   <lite               \n",
            "\n",
            "[0m 41s (100 5%) 1.6722]\n",
            "Whenu-2 po-ction-&quot;click-blone 0\" tabeltiln-reponerity=\"true\" nose\" hitaumachepas\u000ben nd-aril=\"=\"pe \n",
            "\n",
            "[0m 51s (125 6%) 1.4047]\n",
            "Whow</span>\n",
            "             </spangespata-butpbor-link--lewicke=\"(\">\n",
            "\n",
            "\n",
            "\n",
            "\n",
            "\n",
            "\n",
            "</li>\n",
            "\n",
            "</liew^ class=\"true\" cl \n",
            "\n",
            "[1m 1s (150 7%) 1.2054]\n",
            "Whevendent-item-0\" class=\"puttory relaps d-sulsser/amfyshe.github.ddtew\">\n",
            "      \n",
            "    <div>\n",
            "       \n",
            "</s \n",
            "\n",
            "[1m 11s (175 8%) 1.2261]\n",
            "WheveramentIds&quot;: &quot;experimentIds&quot;, &quot;expelecomponent\" versive-content=\"true\" class=\" \n",
            "\n",
            "[1m 22s (200 10%) 1.3780]\n",
            "Whex/cogquot;, &quot;orsion-resrofer\" contror: class=\"js-jump-to-suggestiols-label=\"aranary class=\"ptt \n",
            "\n",
            "[1m 32s (225 11%) 1.1932]\n",
            "Whe.js\">Coler-selector-count_sy\">\n",
            "  </div>\n",
            "</span></panchicon nt=\"true\" class=\"Bump-link-symbol fill-r \n",
            "\n",
            "[1m 42s (250 12%) 1.0793]\n",
            "Whesinent=\"true\" width-trmin.tot;: &quot;key&quot;: [], &quot;entity\" data-selected-leaded-feadc.0ca.2 \n",
            "\n",
            "[1m 53s (275 13%) 1.0818]\n",
            "Whe></shr/jump-to-suggestion-jamfyshe.github.io/blob/gitem\">\n",
            "        <link itemink-click.cloingearef-s \n",
            "\n",
            "[2m 3s (300 15%) 1.1244]\n",
            "WhxIpJ+qxINKTyV5UO4\\79d5a64ex_14ecY37x6H3335c0f58b4adcheJ4ed1fFjconsL9fF253d3qf984ad0cQTQQOQJ9Nndb,NMP \n",
            "\n",
            "[2m 13s (325 16%) 1.0167]\n",
            "Whe.github.io/blob/tion-gathub.io/se\"><a href=\"/amfyshe/amfyshe.github.io/blon\">\n",
            "    </a></li>\n",
            "        \n",
            "\n",
            "[2m 23s (350 17%) 0.9596]\n",
            "Whe.js\"><path fill-rule=\"eventMonent-bodte\" class=\"Box-glark nonu\" />\n",
            "\n",
            "        <a href=\"/tobrefor: int \n",
            "\n",
            "[2m 34s (375 18%) 1.0803]\n",
            "Whangector.2earme-to-badge-tertiary pr-3\">&rast=\"no-utton class=\"py-3 border-lubes-search flex-itemp-i \n",
            "\n",
            "[2m 44s (400 20%) 0.8872]\n",
            "Whongent&quot;:&quot;: [], &quot;id&quot;: &quot;1927&quot;, &quot;ortion-item to this refoss/chunk-ju \n",
            "\n",
            "[2m 54s (425 21%) 0.9825]\n",
            "Whe.github.io/searse weader, go to Header, go to geating <span class=\"applications\"></script>\n",
            "         \n",
            "\n",
            "[3m 4s (450 22%) 1.0303]\n",
            "Whes_prg_pratYerFiations_grs/coktessions&quot;: [], &quot;id&quot;: &quot;click.classroom class=\"octic \n",
            "\n",
            "[3m 15s (475 23%) 0.9294]\n",
            "Whew+fx==\" type=\"list-folled out)                <svg holg-ly-dela iser-inline\">\n",
            "                heade \n",
            "\n",
            "[3m 25s (500 25%) 0.9477]\n",
            "Whemink.Dglass=\"Bump-link-symbol float-right text-mid.js\" data-menu-button\" class=\"py-2 lh-id=\"./chunk \n",
            "\n",
            "[3m 35s (525 26%) 0.7621]\n",
            "WhBQ==\" type=\"buttor\" aria-label=\"Repository&quot;:&quot;key&quot;: &quot;20282049192&quot;, &quot;key \n",
            "\n",
            "[3m 46s (550 27%) 0.9501]\n",
            "WhgghQyariRHwEYyQ==\"htcusive\" class=\"js-ditype_to_siginer\" content=\"34370641865601783901c8jCopjo/pj+cr \n",
            "\n",
            "[3m 56s (575 28%) 0.8476]\n",
            "Whe>\n",
            "\n",
            "\n",
            "              <div class=\"SelectMenu-item branches#/dDonYUPXZKpoxRk&quot;,&quot;enter_mishudes/ \n",
            "\n",
            "[4m 6s (600 30%) 0.8377]\n",
            "Whemplbfy=\"0 flex-auto ory pr-3 1c.15a.75.25 0 00-.75.75a.75.75 0 0000-3 3.55.75 0 018 1.088 0 12-1.49 \n",
            "\n",
            "[4m 16s (625 31%) 0.7609]\n",
            "WhagA=\"g5A.githubassets.com/assets/chunk-projects\" data-mone f5 SelectMenu-ing\" href=\"/amfyshe/amfyshe \n",
            "\n",
            "[4m 27s (650 32%) 0.8148]\n",
            "WheJUDnyLG4fyJRVeveV720cd9edbH0AcXBsX3xQxEGDVMH{DfQGQLLQRJiKQBTZlQEOhDMMXbw+EIQ+THMzRQAcIFRhWTUppQzwrY \n",
            "\n",
            "[4m 37s (675 33%) 0.7469]\n",
            "Whemplltexvis-jump-to-icon-link \">\n",
            "  <metails ctions-url\" /><meta name=\"Popoodarcatficylor.js\"><path f \n",
            "\n",
            "[4m 47s (700 35%) 0.7516]\n",
            "Whevisourte-octicon-script\" class=\"octicon octicon-project f-sels-details-reng                         \n",
            "\n",
            "[4m 57s (725 36%) 0.8145]\n",
            "Whe7D2.5a8 1 0 11-1.06 1.06L6-1.669-1.5 3.5 0 011.06-1.499 0 00-1.5 0v-8.5a.25.25 0 01-.144-1.5 0 100- \n",
            "\n",
            "[5m 7s (750 37%) 0.7067]\n",
            "WheWVzMje612eve.js\"></script>\n",
            "    </div>\n",
            "      Deversion=\"1.1\" role=\"img\"><path fill-rule=\"evenodd\" d= \n",
            "\n",
            "[5m 18s (775 38%) 0.6554]\n",
            "Whemmbrow.enter header-renavigation-item\" class=\"octicon octicon-details data-torition\" class=\"octicon \n",
            "\n",
            "[5m 28s (800 40%) 0.7743]\n",
            "Whkid=\"x/ddownew\">to content\" content=\"emplate\">\n",
            "      <span data-tagg-s\" data-top=\"true\" class=\"list- \n",
            "\n",
            "[5m 38s (825 41%) 0.7848]\n",
            "Whe4UmdSgA=\"RLivgOex7_du+fjs-ta2e1f108 0 00-.72-.87.66-1.06-1.06 0 1.06 0 0L1.01-.61-.01-.01-.00-..5 l \n",
            "\n",
            "[5m 48s (850 42%) 0.7642]\n",
            "WheUSUQeObhG8zM5-4zMWJhoghAVyMSmH9UAYXDMK80RjBwcagRvgraqE=%7\" />\n",
            "\n",
            "\n",
            "      \n",
            "\n",
            "\n",
            "  <a tabindex=\"0\" height=\" \n",
            "\n",
            "[5m 58s (875 43%) 0.6481]\n",
            "Whe3bRxJqcq2dLI5pzAlyBS30cow3e7Fc39ctFca4iGimenk-0\"></path>\n",
            "</svg>\n",
            "    \n",
            "                <div class=\"do \n",
            "\n",
            "[6m 9s (900 45%) 0.7828]\n",
            "WhowCe5LORZ2PRgoQeNphyIOJzgwasE_jixtUjZFzM12w6esQ:/js\"></script>\n",
            "    <script crossorigin=\"anonymous\" d \n",
            "\n",
            "[6m 19s (925 46%) 0.6389]\n",
            "WheWjmIDQA==\" sector p-scarefity-target=\"ref-selector#tabounderlinenav-item dropdown-item dropdown-ite \n",
            "\n",
            "[6m 29s (950 47%) 0.7592]\n",
            "Whage/Repository\n",
            "              <a class=\"jump-octicon-achell-balest-border-lg-bottom-0 m-0 js-jump-to- \n",
            "\n",
            "[6m 39s (975 48%) 0.6592]\n",
            "WhubeNjpe3+cuWKYXARL3e967469083e2b&aust_hthrg:-4zM1b.75 6.5 1.75 0zM8 1251383h34e74a3f39908alangestiov \n",
            "\n",
            "[6m 49s (1000 50%) 0.5969]\n",
            "WhzVehbody\">\n",
            "      <div class=\"anottom no-wrap js-jump-to-badge-search fo to avaryade&quot=\"ref-select \n",
            "\n",
            "[7m 0s (1025 51%) 0.6600]\n",
            "Whkth=\"js-flex\">\n",
            "\n",
            "    <ul class=\"py-2 lh-condensed-ultra d-block Link--secondary no-underline h5 Bump- \n",
            "\n",
            "[7m 10s (1050 52%) 0.6946]\n",
            "WhatiTnZzZUUJED12MHPITimeNoview.create_flass=\"p-0 mis.github.com/enterenterprise</a>\n",
            "\n",
            "        <svg hei \n",
            "\n",
            "[7m 20s (1075 53%) 0.7419]\n",
            "WhkiG_In&quot;,{&quot;experimentIds&quot;: [], &quot;id&quot;: &quot;2023203&quot;, &quot;key&quot;: & \n",
            "\n",
            "[7m 30s (1100 55%) 0.6262]\n",
            "WheNavigation.crict.commous\" defer=\"defer\" integrity=\"sha512-25H19f5l640e956d8303f546f0f16dizejobrifac \n",
            "\n",
            "[7m 41s (1125 56%) 0.5054]\n",
            "WheNjE_PInsvgVe/amfyshe.github.io\">\n",
            "        <svg class=\"octicon octicon-search flex-shrink-0 js-jump-t \n",
            "\n",
            "[7m 51s (1150 57%) 0.6675]\n",
            "WhyIds/ZwYBYO/MkGzo3QeGER5yE3444cct3fll6bdrcaW7g7cjucdssetwayp-emroatimizely_inse details-overlay-mo-i \n",
            "\n",
            "[8m 1s (1175 58%) 0.6401]\n",
            "WheDNRvPpMzmcypas5.js\">\n",
            "\n",
            "1.5 1.5 0 100-1.5H1.75v-2.594 3.012 0 \n",
            "\n",
            "[8m 11s (1200 60%) 0.6804]\n",
            "Whachesklist;:/Navigityot;}, {&quot;experimentIds&quot;: [], &quot;id&quot;: &quot;c007858299C0&quot;, \n",
            "\n",
            "[8m 22s (1225 61%) 0.6290]\n",
            "WhaBEMke/showic=\"zmriatioblor\" data-heav-ork_itatus repo_profile&quot;}, {&quot;experimentIds&quot;: [ \n",
            "\n",
            "[8m 32s (1250 62%) 0.6054]\n",
            "Whemptreledown-uled ender flex-shrink-0 js-jump-to-octicon js-jump-to-octicon octicon-dragment>\n",
            "\n",
            "      \n",
            "\n",
            "[8m 42s (1275 63%) 0.5100]\n",
            "Whem\">\n",
            "                      <div class=\"px-md-4 px-lg-0 l\" data-selected-links:repositorymiyshe5.js\"> \n",
            "\n",
            "[8m 52s (1300 65%) 0.4913]\n",
            "WhkizeNotP+Vch+WyGTaudd/aJfjsZze8KfrM04EJv501l3ff799494563980f3db966a299db0c4epb_SewNatioglers_promert \n",
            "\n",
            "[9m 2s (1325 66%) 0.6281]\n",
            "WhkizINonMZ8u8bjIcGTACFNPvb31b/beIPcjEcDnAVy\">\n",
            "                </span>\n",
            "                    </ul>\n",
            "      \n",
            "\n",
            "[9m 12s (1350 67%) 0.4724]\n",
            "WhowNavidy_repogitHub0\">\n",
            "                            <a class=\"container jump-to-suggestion p-ropex\">< \n",
            "\n",
            "[9m 23s (1375 68%) 0.5314]\n",
            "Whs+gqux6zw5kbUG25dLCjxcDRRM16pleDbypxFDrx.verwidthub.githubassets.com/blocsource_repo_sourct\" data-ga \n",
            "\n",
            "[9m 33s (1400 70%) 0.6425]\n",
            "Whemplote-urs=\"input-sm headedavata-hotker=\"notelicon-path js-header-bar\">\n",
            "            <div class=\"btn \n",
            "\n",
            "[9m 43s (1425 71%) 0.5485]\n",
            "WheDd6fle5zB682b5xWzo49JXMs9CBIsGEYNtIJQF/mTAvKiSg3HUJSVW8zmrF+RcGBhPIRND8Gm+A6DLlUPHci37f3157cV4e2511 \n",
            "\n",
            "[9m 53s (1450 72%) 0.5348]\n",
            "Whe?Yfithub.com/amfyshe/amfyshe.github.io/blob/show-lg-bottom-condensed-ultra d-block Link--secondary  \n",
            "\n",
            "[10m 3s (1475 73%) 0.6070]\n",
            "WhyIJN/HeQkfwLxQw\">\n",
            "  <meta name=\"twain.txt\" id=\"repo-podion- <li data-menu-item=\"i1pjax\" hidden>\n",
            "     \n",
            "\n",
            "[10m 14s (1500 75%) 0.5936]\n",
            "WhagSFQrTG+zoQJ+minksFrappQred-none\" aria-label=\"Copy_project repo_contributors_cta&quot;}, {&quot;exp \n",
            "\n",
            "[10m 24s (1525 76%) 0.5213]\n",
            "WhyIQ=\"T/a5f8ex/=\"visighttLss=\"width-0 js-details-ropectleats&quot;: [], &quot;id&quot;: &quot;2043300 \n",
            "\n",
            "[10m 34s (1550 77%) 0.6498]\n",
            "WhkB+xtePY+dh755c032f7de33aa54ze732e499Z21Z328C/maspgKnjNmpxKZZxJYnqNxtCugXQILLcZLpxOelQWJNmVFVicAZLxj \n",
            "\n",
            "[10m 44s (1575 78%) 0.5429]\n",
            "WhistQets tab\" data-view-component=\"true\" hiddGoP-eaumx-lg-0\">\n",
            "            <a href=\"/amfyshe/amfyshe.g \n",
            "\n",
            "[10m 55s (1600 80%) 0.5230]\n",
            "WhesmlntDistCopy width-full }e Sole=\"menuitem\" class=\"js-she5 -1loje-jump-to-badge-search\">\n",
            "    <div c \n",
            "\n",
            "[11m 5s (1625 81%) 0.5108]\n",
            "WhesG&quot;,&quot;endit_syghithut=\"SearminV3e=\"e4fll5.jump-to-suggestion-nav-toatimenub\">\n",
            "  </details- \n",
            "\n",
            "[11m 15s (1650 82%) 0.6059]\n",
            "Whatimengey&quot;:&quot;repository_id&quot;:null,&quot;auth_type&quot;:&quot;libe_onterent/amfyshe/amf \n",
            "\n",
            "[11m 25s (1675 83%) 0.5822]\n",
            "WhesAume-tertiary pl-3 16 16\" version=\"1.1\" width=\"16\" height=\"16\" width=\"16\" class=\"octicon octicon-o \n",
            "\n",
            "[11m 35s (1700 85%) 0.5753]\n",
            "Whkic=\"HeventMdG16\">\n",
            "\n",
            "    </div>\n",
            "        <li class=\"mr-3 mr-lg-0\"><a href=\"https://github.githubassets \n",
            "\n",
            "[11m 45s (1725 86%) 0.4815]\n",
            "Whame%17\">\n",
            "                    </li>\n",
            "              <li data-view-component=\"true\" type=\"application/ja \n",
            "\n",
            "[11m 55s (1750 87%) 0.4973]\n",
            "Wh+gg==\" type=\"application/javascript\" src=\"https://github.githubassets.com/assets/chunk-witter:im_int \n",
            "\n",
            "[12m 6s (1775 88%) 0.5625]\n",
            "WhkKUyIWXVbM+dxhyi474wsGoFD07Rtw8p9RDM0ujPCgwizZcop+Tjp;H/MEicksFrMUnx2zMBInK.5K97R45bis8Qq0Nf5AlFsVQe \n",
            "\n",
            "[12m 16s (1800 90%) 0.5031]\n",
            "Whes/licksooticing\" class=\"d-inline-block ml-1 v-align-middle\">|</span>\n",
            "                    </summatab \n",
            "\n",
            "[12m 26s (1825 91%) 0.4836]\n",
            "WhaBDIds&quot;: &quot;185571&quot;, &quot;key&quot;: &quot;click.6a171144 3a5.5 1.75 0 001.006 2.5zm-2 \n",
            "\n",
            "[12m 36s (1850 92%) 0.5710]\n",
            "Whasp>trolser=\"difest branches/tags-tab\" data-view-component=\"true\" class=\"jump-to-suggestion-path js- \n",
            "\n",
            "[12m 46s (1875 93%) 0.5547]\n",
            "Whamp;\n",
            "        </div>\n",
            "\n",
            " <meta property=\"og:title\" content=\"Contribute type=\"application/javascript\" da \n",
            "\n",
            "[12m 57s (1900 95%) 0.5039]\n",
            "WhesElYcat;, thit,&quot;id&quot;: &quot;20234660,&quot;}, {&quot;experimentIds&quot;: [&quot;201944223 \n",
            "\n",
            "[13m 7s (1925 96%) 0.4892]\n",
            "Whes/tettpred-search flex-shrink-0 flex-justify-between pt-4 pt-clipboard-content-melablent=\"2\" srthis \n",
            "\n",
            "[13m 17s (1950 97%) 0.5512]\n",
            "WhesAhref-selected:ref-selector#inputsot ablass=\"octicon octicon-repo d-none\" title=\"Search\" data-sagl \n",
            "\n",
            "[13m 27s (1975 98%) 0.5322]\n",
            "Whatimbto suggestedilines/search js-jump-to-badge-jump\">\n",
            "              <input type=\"text\"\n",
            "n icon color \n",
            "\n",
            "[13m 37s (2000 100%) 0.5145]\n",
            "Whest-0 flex-lg-4 pr-3\">&rarr;</span></a></li>\n",
            "        <svg height=\"290063896f699757&quot;, &quot;key& \n",
            "\n",
            "\n"
          ],
          "name": "stdout"
        }
      ]
    },
    {
      "cell_type": "markdown",
      "metadata": {
        "id": "4vK_FZOy_T5W"
      },
      "source": [
        "#Section 2: Power consumption in Deep Learning\n",
        "\n",
        "Training NN models can be incredibly costly, both in actual money but also in power consumption. "
      ]
    },
    {
      "cell_type": "code",
      "metadata": {
        "cellView": "form",
        "id": "x4IdpmiM_T5W",
        "colab": {
          "base_uri": "https://localhost:8080/",
          "height": 518
        },
        "outputId": "f339b6a0-9c4f-483c-8cc4-ada7c19ba252"
      },
      "source": [
        "#@title Video 2: Carbon Footprint of AI\n",
        "# Insert the ID of the corresponding youtube video\n",
        "from IPython.display import YouTubeVideo\n",
        "video = YouTubeVideo(id=\"2upwdK3bcXU\", width=854, height=480, fs=1)\n",
        "print(\"Video available at https://youtu.be/\" + video.id)\n",
        "video"
      ],
      "execution_count": 10,
      "outputs": [
        {
          "output_type": "stream",
          "text": [
            "Video available at https://youtu.be/2upwdK3bcXU\n"
          ],
          "name": "stdout"
        },
        {
          "output_type": "execute_result",
          "data": {
            "text/html": [
              "\n",
              "        <iframe\n",
              "            width=\"854\"\n",
              "            height=\"480\"\n",
              "            src=\"https://www.youtube.com/embed/2upwdK3bcXU?fs=1\"\n",
              "            frameborder=\"0\"\n",
              "            allowfullscreen\n",
              "        ></iframe>\n",
              "        "
            ],
            "text/plain": [
              "<IPython.lib.display.YouTubeVideo at 0x7f7a8bbc51d0>"
            ],
            "image/jpeg": "[encoded data removed]"
          },
          "metadata": {
            "tags": []
          },
          "execution_count": 10
        }
      ]
    },
    {
      "cell_type": "markdown",
      "metadata": {
        "id": "HtrrJY7x_T5X"
      },
      "source": [
        "Take a few moments to chat with your pod about the following points:\n",
        "* Which societal costs of training do you find most compelling?\n",
        "* When is training an AI model worth the cost?  Who should make that decision?\n",
        "* Should there be additional taxes on energy costs for compute centers? "
      ]
    },
    {
      "cell_type": "markdown",
      "metadata": {
        "id": "37d1-y87_T5X"
      },
      "source": [
        "# Section 3: Wrap up\n",
        "\n",
        "What a day!  We've learned a lot!  The basics of CNNs and RNNs, and how changes to architecture that allow models to parameter share can greatly reduce the size of the model.  We learned about convoliution and pooling, as well as the basic idea behind RNNs.  To wrap up we thought about the impact of training large NN models."
      ]
    },
    {
      "cell_type": "code",
      "metadata": {
        "cellView": "form",
        "id": "uEDoNDIw_T5Y",
        "colab": {
          "base_uri": "https://localhost:8080/",
          "height": 518
        },
        "outputId": "423ff25c-fc87-482d-e47c-1dc7a291cbfb"
      },
      "source": [
        "#@title Video 3: Wrap-up\n",
        "# Insert the ID of the corresponding youtube video\n",
        "from IPython.display import YouTubeVideo\n",
        "video = YouTubeVideo(id=\"Ikb4hwR4pU0\", width=854, height=480, fs=1)\n",
        "print(\"Video available at https://youtu.be/\" + video.id)\n",
        "video"
      ],
      "execution_count": 11,
      "outputs": [
        {
          "output_type": "stream",
          "text": [
            "Video available at https://youtu.be/Ikb4hwR4pU0\n"
          ],
          "name": "stdout"
        },
        {
          "output_type": "execute_result",
          "data": {
            "text/html": [
              "\n",
              "        <iframe\n",
              "            width=\"854\"\n",
              "            height=\"480\"\n",
              "            src=\"https://www.youtube.com/embed/Ikb4hwR4pU0?fs=1\"\n",
              "            frameborder=\"0\"\n",
              "            allowfullscreen\n",
              "        ></iframe>\n",
              "        "
            ],
            "text/plain": [
              "<IPython.lib.display.YouTubeVideo at 0x7f7a8bbc5b90>"
            ],
            "image/jpeg": "[encoded data removed]"
          },
          "metadata": {
            "tags": []
          },
          "execution_count": 11
        }
      ]
    }
  ]
}