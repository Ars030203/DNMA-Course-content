{
  "nbformat": 4,
  "nbformat_minor": 0,
  "metadata": {
    "accelerator": "GPU",
    "colab": {
      "name": "W2D1_Tutorial3",
      "provenance": [],
      "collapsed_sections": [
        "84Dq9a0HCXcw"
      ],
      "machine_shape": "hm",
      "include_colab_link": true
    },
    "kernel": {
      "display_name": "Python 3",
      "language": "python",
      "name": "python3"
    },
    "kernelspec": {
      "display_name": "Python 3",
      "name": "python3"
    },
    "widgets": {
      "application/vnd.jupyter.widget-state+json": {
        "57161c5adbd240daa473ed92b16fdb98": {
          "model_module": "@jupyter-widgets/controls",
          "model_name": "HBoxModel",
          "state": {
            "_view_name": "HBoxView",
            "_dom_classes": [],
            "_model_name": "HBoxModel",
            "_view_module": "@jupyter-widgets/controls",
            "_model_module_version": "1.5.0",
            "_view_count": null,
            "_view_module_version": "1.5.0",
            "box_style": "",
            "layout": "IPY_MODEL_7d591001f9b24674bb85905ad4e0dc80",
            "_model_module": "@jupyter-widgets/controls",
            "children": [
              "IPY_MODEL_9a723f08a74845688a703f1e8618deff",
              "IPY_MODEL_acc81dd2991043d193c813b84c123524"
            ]
          }
        },
        "7d591001f9b24674bb85905ad4e0dc80": {
          "model_module": "@jupyter-widgets/base",
          "model_name": "LayoutModel",
          "state": {
            "_view_name": "LayoutView",
            "grid_template_rows": null,
            "right": null,
            "justify_content": null,
            "_view_module": "@jupyter-widgets/base",
            "overflow": null,
            "_model_module_version": "1.2.0",
            "_view_count": null,
            "flex_flow": null,
            "width": null,
            "min_width": null,
            "border": null,
            "align_items": null,
            "bottom": null,
            "_model_module": "@jupyter-widgets/base",
            "top": null,
            "grid_column": null,
            "overflow_y": null,
            "overflow_x": null,
            "grid_auto_flow": null,
            "grid_area": null,
            "grid_template_columns": null,
            "flex": null,
            "_model_name": "LayoutModel",
            "justify_items": null,
            "grid_row": null,
            "max_height": null,
            "align_content": null,
            "visibility": null,
            "align_self": null,
            "height": null,
            "min_height": null,
            "padding": null,
            "grid_auto_rows": null,
            "grid_gap": null,
            "max_width": null,
            "order": null,
            "_view_module_version": "1.2.0",
            "grid_template_areas": null,
            "object_position": null,
            "object_fit": null,
            "grid_auto_columns": null,
            "margin": null,
            "display": null,
            "left": null
          }
        },
        "9a723f08a74845688a703f1e8618deff": {
          "model_module": "@jupyter-widgets/controls",
          "model_name": "FloatProgressModel",
          "state": {
            "_view_name": "ProgressView",
            "style": "IPY_MODEL_a760bb43561540b487604df237a1e713",
            "_dom_classes": [],
            "description": "100%",
            "_model_name": "FloatProgressModel",
            "bar_style": "success",
            "max": 2000,
            "_view_module": "@jupyter-widgets/controls",
            "_model_module_version": "1.5.0",
            "value": 2000,
            "_view_count": null,
            "_view_module_version": "1.5.0",
            "orientation": "horizontal",
            "min": 0,
            "description_tooltip": null,
            "_model_module": "@jupyter-widgets/controls",
            "layout": "IPY_MODEL_0dc1cd517e7b461592665d7f4a94896e"
          }
        },
        "acc81dd2991043d193c813b84c123524": {
          "model_module": "@jupyter-widgets/controls",
          "model_name": "HTMLModel",
          "state": {
            "_view_name": "HTMLView",
            "style": "IPY_MODEL_620199e81f5d4a00aef129c9ebfeca4a",
            "_dom_classes": [],
            "description": "",
            "_model_name": "HTMLModel",
            "placeholder": "​",
            "_view_module": "@jupyter-widgets/controls",
            "_model_module_version": "1.5.0",
            "value": " 2000/2000 [13:32&lt;00:00,  2.46it/s]",
            "_view_count": null,
            "_view_module_version": "1.5.0",
            "description_tooltip": null,
            "_model_module": "@jupyter-widgets/controls",
            "layout": "IPY_MODEL_3ad4f0bddda24d3d89fdeb5bfc6f74e7"
          }
        },
        "a760bb43561540b487604df237a1e713": {
          "model_module": "@jupyter-widgets/controls",
          "model_name": "ProgressStyleModel",
          "state": {
            "_view_name": "StyleView",
            "_model_name": "ProgressStyleModel",
            "description_width": "initial",
            "_view_module": "@jupyter-widgets/base",
            "_model_module_version": "1.5.0",
            "_view_count": null,
            "_view_module_version": "1.2.0",
            "bar_color": null,
            "_model_module": "@jupyter-widgets/controls"
          }
        },
        "0dc1cd517e7b461592665d7f4a94896e": {
          "model_module": "@jupyter-widgets/base",
          "model_name": "LayoutModel",
          "state": {
            "_view_name": "LayoutView",
            "grid_template_rows": null,
            "right": null,
            "justify_content": null,
            "_view_module": "@jupyter-widgets/base",
            "overflow": null,
            "_model_module_version": "1.2.0",
            "_view_count": null,
            "flex_flow": null,
            "width": null,
            "min_width": null,
            "border": null,
            "align_items": null,
            "bottom": null,
            "_model_module": "@jupyter-widgets/base",
            "top": null,
            "grid_column": null,
            "overflow_y": null,
            "overflow_x": null,
            "grid_auto_flow": null,
            "grid_area": null,
            "grid_template_columns": null,
            "flex": null,
            "_model_name": "LayoutModel",
            "justify_items": null,
            "grid_row": null,
            "max_height": null,
            "align_content": null,
            "visibility": null,
            "align_self": null,
            "height": null,
            "min_height": null,
            "padding": null,
            "grid_auto_rows": null,
            "grid_gap": null,
            "max_width": null,
            "order": null,
            "_view_module_version": "1.2.0",
            "grid_template_areas": null,
            "object_position": null,
            "object_fit": null,
            "grid_auto_columns": null,
            "margin": null,
            "display": null,
            "left": null
          }
        },
        "620199e81f5d4a00aef129c9ebfeca4a": {
          "model_module": "@jupyter-widgets/controls",
          "model_name": "DescriptionStyleModel",
          "state": {
            "_view_name": "StyleView",
            "_model_name": "DescriptionStyleModel",
            "description_width": "",
            "_view_module": "@jupyter-widgets/base",
            "_model_module_version": "1.5.0",
            "_view_count": null,
            "_view_module_version": "1.2.0",
            "_model_module": "@jupyter-widgets/controls"
          }
        },
        "3ad4f0bddda24d3d89fdeb5bfc6f74e7": {
          "model_module": "@jupyter-widgets/base",
          "model_name": "LayoutModel",
          "state": {
            "_view_name": "LayoutView",
            "grid_template_rows": null,
            "right": null,
            "justify_content": null,
            "_view_module": "@jupyter-widgets/base",
            "overflow": null,
            "_model_module_version": "1.2.0",
            "_view_count": null,
            "flex_flow": null,
            "width": null,
            "min_width": null,
            "border": null,
            "align_items": null,
            "bottom": null,
            "_model_module": "@jupyter-widgets/base",
            "top": null,
            "grid_column": null,
            "overflow_y": null,
            "overflow_x": null,
            "grid_auto_flow": null,
            "grid_area": null,
            "grid_template_columns": null,
            "flex": null,
            "_model_name": "LayoutModel",
            "justify_items": null,
            "grid_row": null,
            "max_height": null,
            "align_content": null,
            "visibility": null,
            "align_self": null,
            "height": null,
            "min_height": null,
            "padding": null,
            "grid_auto_rows": null,
            "grid_gap": null,
            "max_width": null,
            "order": null,
            "_view_module_version": "1.2.0",
            "grid_template_areas": null,
            "object_position": null,
            "object_fit": null,
            "grid_auto_columns": null,
            "margin": null,
            "display": null,
            "left": null
          }
        }
      }
    }
  },
  "cells": [
    {
      "cell_type": "markdown",
      "metadata": {
        "id": "view-in-github",
        "colab_type": "text"
      },
      "source": [
        "<a href=\"https://colab.research.google.com/github/NeuromatchAcademy/course-content-dl/blob/w2d1_path_fix/tutorials/W2D1_CNNsRNNs/student/W2D1_Tutorial3.ipynb\" target=\"_parent\"><img src=\"https://colab.research.google.com/assets/colab-badge.svg\" alt=\"Open In Colab\"/></a>"
      ]
    },
    {
      "cell_type": "markdown",
      "metadata": {
        "id": "HcSDWOk_51ls"
      },
      "source": [
        "\n",
        "# Neuromatch Academy: Week 2, Day 1, Tutorial 3\n",
        "# Day 1: Parameter Sharing (CNNs and RNNs)\n",
        "\n",
        "__Content creators:__ Alona Fyshe, Dawn McKnight, Richard Gerum, Cassidy Pirlot, Rohan Saha, Liam Peet-Pare, Saeed Najafi \n",
        "\n",
        "__Content reviewers:__ Saeed Salehi, Lily Cheng, Yu-Fang Yang, Polina Turishcheva\n",
        "\n",
        "__Production editors:__ Anmol Gupta, Spiros Chavlis \n",
        "\n",
        "__Based on material from:__ Konrad Kording, Hmrishav Bandyopadhyay, Rahul Shekhar, Tejas Srivastava"
      ]
    },
    {
      "cell_type": "markdown",
      "metadata": {
        "id": "gb1GcQJX51lw"
      },
      "source": [
        "---\n",
        "# Tutorial Objectives\n",
        "At the end of this tutorial, we will be able to:\n",
        "- Understand the structure of a Recurrent Neural Network (RNN)\n",
        "- Build a simple RNN model\n",
        "\n",
        " "
      ]
    },
    {
      "cell_type": "code",
      "metadata": {
        "cellView": "form",
        "colab": {
          "base_uri": "https://localhost:8080/",
          "height": 594
        },
        "id": "TwGxzW4W51lw",
        "outputId": "5e011225-5358-4bf4-b437-6188df0f9bda"
      },
      "source": [
        "#@markdown Tutorial slides\n",
        "# you should link the slides for all tutorial videos here (we will store pdfs on osf)\n",
        "\n",
        "from IPython.display import HTML\n",
        "\n",
        "HTML('<iframe src=\"https://docs.google.com/presentation/d/1jrKnXGoCXovB5pMGtnsF0ICxr1Cu_vDk/edit#slide=id.p1\" frameborder=\"100\" width=\"960\" height=\"569\" allowfullscreen=\"true\" mozallowfullscreen=\"true\" webkitallowfullscreen=\"true\"></iframe>')"
      ],
      "execution_count": 8,
      "outputs": [
        {
          "output_type": "execute_result",
          "data": {
            "text/html": [
              "<iframe src=\"https://docs.google.com/presentation/d/1jrKnXGoCXovB5pMGtnsF0ICxr1Cu_vDk/edit#slide=id.p1\" frameborder=\"100\" width=\"960\" height=\"569\" allowfullscreen=\"true\" mozallowfullscreen=\"true\" webkitallowfullscreen=\"true\"></iframe>"
            ],
            "text/plain": [
              "<IPython.core.display.HTML object>"
            ]
          },
          "metadata": {
            "tags": []
          },
          "execution_count": 8
        }
      ]
    },
    {
      "cell_type": "code",
      "metadata": {
        "cellView": "form",
        "id": "cE6Yfpf851lx"
      },
      "source": [
        "#@title Dependencies\n",
        "!pip install livelossplot --quiet"
      ],
      "execution_count": 9,
      "outputs": []
    },
    {
      "cell_type": "code",
      "metadata": {
        "colab": {
          "base_uri": "https://localhost:8080/"
        },
        "id": "I87lItwb51lx",
        "outputId": "e76e2ac7-8fd5-416c-b86a-36074886d7f2"
      },
      "source": [
        "# Imports\n",
        "import torch\n",
        "import numpy as np\n",
        "import matplotlib.pyplot as plt\n",
        "from IPython.display import HTML\n",
        "\n",
        "from tqdm.notebook import tqdm, trange\n",
        "from time import sleep\n",
        "\n",
        "device = torch.device(\"cuda\" if torch.cuda.is_available() else \"cpu\")\n",
        "device, torch.get_num_threads()\n",
        "\n",
        "!mkdir images\n",
        "!wget \"https://raw.githubusercontent.com/dem1995/generally_available_files/main/chicago_skyline_shrunk_v2.bmp\"\n",
        "!mv *.bmp images"
      ],
      "execution_count": 10,
      "outputs": [
        {
          "output_type": "stream",
          "text": [
            "mkdir: cannot create directory ‘images’: File exists\n",
            "--2021-06-20 10:13:17--  https://raw.githubusercontent.com/dem1995/generally_available_files/main/chicago_skyline_shrunk_v2.bmp\n",
            "Resolving raw.githubusercontent.com (raw.githubusercontent.com)... 185.199.108.133, 185.199.109.133, 185.199.110.133, ...\n",
            "Connecting to raw.githubusercontent.com (raw.githubusercontent.com)|185.199.108.133|:443... connected.\n",
            "HTTP request sent, awaiting response... 200 OK\n",
            "Length: 808090 (789K) [image/bmp]\n",
            "Saving to: ‘chicago_skyline_shrunk_v2.bmp’\n",
            "\n",
            "chicago_skyline_shr 100%[===================>] 789.15K  --.-KB/s    in 0.02s   \n",
            "\n",
            "2021-06-20 10:13:17 (38.7 MB/s) - ‘chicago_skyline_shrunk_v2.bmp’ saved [808090/808090]\n",
            "\n"
          ],
          "name": "stdout"
        }
      ]
    },
    {
      "cell_type": "code",
      "metadata": {
        "cellView": "form",
        "id": "Yw24-PZs51ly"
      },
      "source": [
        "# @title Figure Settings\n",
        "%config InlineBackend.figure_format = 'retina'\n",
        "%matplotlib inline\n",
        "\n",
        "fig_w, fig_h = (8, 6)\n",
        "plt.rcParams.update({'figure.figsize': (fig_w, fig_h)})\n",
        "\n",
        "plt.rcParams[\"mpl_toolkits.legacy_colorbar\"] = False\n",
        "\n",
        "import warnings\n",
        "warnings.filterwarnings(\"ignore\", category=UserWarning, module=\"matplotlib\")\n",
        "\n",
        "\n",
        "plt.style.use(\"https://raw.githubusercontent.com/NeuromatchAcademy/\"\n",
        "              \"course-content/master/nma.mplstyle\")"
      ],
      "execution_count": 11,
      "outputs": []
    },
    {
      "cell_type": "code",
      "metadata": {
        "cellView": "form",
        "colab": {
          "base_uri": "https://localhost:8080/"
        },
        "id": "nv3djseN51ly",
        "outputId": "e3e90eb9-41c0-41cc-afd2-2365ed924cdd"
      },
      "source": [
        "# @title Set seed for reproducibility\n",
        "seed = 2021\n",
        "torch.manual_seed(seed)\n",
        "torch.cuda.manual_seed_all(seed)\n",
        "torch.cuda.manual_seed(seed)\n",
        "np.random.seed(seed)\n",
        "torch.backends.cudnn.deterministic = True\n",
        "torch.backends.cudnn.benchmark = False\n",
        "def seed_worker(worker_id):\n",
        "  worker_seed = torch.initial_seed() % 2**32\n",
        "  np.random.seed(worker_seed)\n",
        "  random.seed(worker_seed)\n",
        "\n",
        "print ('Seed has been set.')"
      ],
      "execution_count": 12,
      "outputs": [
        {
          "output_type": "stream",
          "text": [
            "Seed has been set.\n"
          ],
          "name": "stdout"
        }
      ]
    },
    {
      "cell_type": "markdown",
      "metadata": {
        "id": "Zyw8jS0q51lz"
      },
      "source": [
        "# Section 1: Recurrent Neural Networks (RNNs)"
      ]
    },
    {
      "cell_type": "code",
      "metadata": {
        "cellView": "form",
        "colab": {
          "base_uri": "https://localhost:8080/",
          "height": 518
        },
        "id": "i1YrahFJ51lz",
        "outputId": "0d832a26-9816-4bf0-9787-0760b816cffe"
      },
      "source": [
        "#@title Video 1: Intro to RNNs\n",
        "# Insert the ID of the corresponding youtube video\n",
        "from IPython.display import YouTubeVideo\n",
        "video = YouTubeVideo(id=\"0Majex-aF0E\", width=854, height=480, fs=1)\n",
        "print(\"Video available at https://youtu.be/\" + video.id)\n",
        "video"
      ],
      "execution_count": 13,
      "outputs": [
        {
          "output_type": "stream",
          "text": [
            "Video available at https://youtu.be/0Majex-aF0E\n"
          ],
          "name": "stdout"
        },
        {
          "output_type": "execute_result",
          "data": {
            "text/html": [
              "\n",
              "        <iframe\n",
              "            width=\"854\"\n",
              "            height=\"480\"\n",
              "            src=\"https://www.youtube.com/embed/0Majex-aF0E?fs=1\"\n",
              "            frameborder=\"0\"\n",
              "            allowfullscreen\n",
              "        ></iframe>\n",
              "        "
            ],
            "text/plain": [
              "<IPython.lib.display.YouTubeVideo at 0x7f920a270b50>"
            ],
            "image/jpeg": "[encoded data removed]"
          },
          "metadata": {
            "tags": []
          },
          "execution_count": 13
        }
      ]
    },
    {
      "cell_type": "markdown",
      "metadata": {
        "id": "7-Pf_FMs51l0"
      },
      "source": [
        "RNNs are compact models that operate over timeseries, and have the ability to remember past input. They also save parameters by using the same weights at every time step.  If you've heard of Transformers, those models dont' have this kind of temporal weight sharing, and so they are *much* larger.\n",
        "\n",
        "The code below is adapted from https://github.com/spro/char-rnn.pytorch"
      ]
    },
    {
      "cell_type": "code",
      "metadata": {
        "cellView": "form",
        "colab": {
          "base_uri": "https://localhost:8080/"
        },
        "id": "rgiAADXi51l0",
        "outputId": "f671394d-d047-4129-b554-39bb2417f2f8"
      },
      "source": [
        "#@title RNN framework (run me)\n",
        "\n",
        "!pip install unidecode\n",
        "\n",
        "!wget --output-document=/content/sample_data/twain.txt https://github.com/amfyshe/amfyshe.github.io/blob/master/twain.txt\n",
        "\n",
        "# https://github.com/spro/char-rnn.pytorch\n",
        "\n",
        "import torch\n",
        "import torch.nn as nn\n",
        "from torch.autograd import Variable\n",
        "\n",
        "class CharRNN(nn.Module):\n",
        "    def __init__(self, input_size, hidden_size, output_size, model=\"gru\", n_layers=1):\n",
        "        super(CharRNN, self).__init__()\n",
        "        self.model = model.lower()\n",
        "        self.input_size = input_size\n",
        "        self.hidden_size = hidden_size\n",
        "        self.output_size = output_size\n",
        "        self.n_layers = n_layers\n",
        "\n",
        "        self.encoder = nn.Embedding(input_size, hidden_size)\n",
        "        if self.model == \"gru\":\n",
        "            self.rnn = nn.GRU(hidden_size, hidden_size, n_layers)\n",
        "        elif self.model == \"lstm\":\n",
        "            self.rnn = nn.LSTM(hidden_size, hidden_size, n_layers)\n",
        "        elif self.model == \"rnn\":\n",
        "            self.rnn = nn.RNN(hidden_size, hidden_size, n_layers)\n",
        "        self.decoder = nn.Linear(hidden_size, output_size)\n",
        "\n",
        "    def forward(self, input, hidden):\n",
        "        batch_size = input.size(0)\n",
        "        encoded = self.encoder(input)\n",
        "        output, hidden = self.rnn(encoded.view(1, batch_size, -1), hidden)\n",
        "        output = self.decoder(output.view(batch_size, -1))\n",
        "        return output, hidden\n",
        "\n",
        "    def init_hidden(self, batch_size):\n",
        "        if self.model == \"lstm\":\n",
        "            return (Variable(torch.zeros(self.n_layers, batch_size, self.hidden_size)),\n",
        "                    Variable(torch.zeros(self.n_layers, batch_size, self.hidden_size)))\n",
        "        return Variable(torch.zeros(self.n_layers, batch_size, self.hidden_size))\n",
        "\n",
        "\n",
        "\n"
      ],
      "execution_count": 14,
      "outputs": [
        {
          "output_type": "stream",
          "text": [
            "Requirement already satisfied: unidecode in /usr/local/lib/python3.7/dist-packages (1.2.0)\n",
            "--2021-06-20 10:13:20--  https://github.com/amfyshe/amfyshe.github.io/blob/master/twain.txt\n",
            "Resolving github.com (github.com)... 140.82.112.3\n",
            "Connecting to github.com (github.com)|140.82.112.3|:443... connected.\n",
            "HTTP request sent, awaiting response... 200 OK\n",
            "Length: unspecified [text/html]\n",
            "Saving to: ‘/content/sample_data/twain.txt’\n",
            "\n",
            "/content/sample_dat     [ <=>                ] 106.45K  --.-KB/s    in 0.006s  \n",
            "\n",
            "2021-06-20 10:13:20 (17.9 MB/s) - ‘/content/sample_data/twain.txt’ saved [109004]\n",
            "\n"
          ],
          "name": "stdout"
        }
      ]
    },
    {
      "cell_type": "code",
      "metadata": {
        "cellView": "form",
        "id": "dVlvLW5151l1"
      },
      "source": [
        "#@title Helpers (run me)\n",
        "# https://github.com/spro/char-rnn.pytorch\n",
        "\n",
        "import unidecode\n",
        "import string\n",
        "import random\n",
        "import time\n",
        "import math\n",
        "import torch\n",
        "\n",
        "# Reading and un-unicode-encoding data\n",
        "\n",
        "all_characters = string.printable\n",
        "n_characters = len(all_characters)\n",
        "\n",
        "def read_file(filename):\n",
        "    file = unidecode.unidecode(open(filename).read())\n",
        "    return file, len(file)\n",
        "\n",
        "# Turning a string into a tensor\n",
        "\n",
        "def char_tensor(string):\n",
        "    tensor = torch.zeros(len(string)).long()\n",
        "    for c in range(len(string)):\n",
        "        try:\n",
        "            tensor[c] = all_characters.index(string[c])\n",
        "        except:\n",
        "            continue\n",
        "    return tensor\n",
        "\n",
        "# Readable time elapsed\n",
        "\n",
        "def time_since(since):\n",
        "    s = time.time() - since\n",
        "    m = math.floor(s / 60)\n",
        "    s -= m * 60\n",
        "    return '%dm %ds' % (m, s)\n",
        "\n",
        "def generate(decoder, prime_str='A', predict_len=100, temperature=0.8, cuda=False):\n",
        "    hidden = decoder.init_hidden(1)\n",
        "    prime_input = Variable(char_tensor(prime_str).unsqueeze(0))\n",
        "\n",
        "    if cuda:\n",
        "        hidden = hidden.cuda()\n",
        "        prime_input = prime_input.cuda()\n",
        "    predicted = prime_str\n",
        "\n",
        "    # Use priming string to \"build up\" hidden state\n",
        "    for p in range(len(prime_str) - 1):\n",
        "        _, hidden = decoder(prime_input[:,p], hidden)\n",
        "\n",
        "    inp = prime_input[:,-1]\n",
        "\n",
        "    for p in range(predict_len):\n",
        "        output, hidden = decoder(inp, hidden)\n",
        "\n",
        "        # Sample from the network as a multinomial distribution\n",
        "        output_dist = output.data.view(-1).div(temperature).exp()\n",
        "        top_i = torch.multinomial(output_dist, 1)[0]\n",
        "\n",
        "        # Add predicted character to string and use as next input\n",
        "        predicted_char = all_characters[top_i]\n",
        "        predicted += predicted_char\n",
        "        inp = Variable(char_tensor(predicted_char).unsqueeze(0))\n",
        "        if cuda:\n",
        "            inp = inp.cuda()\n",
        "\n",
        "    return predicted\n"
      ],
      "execution_count": 15,
      "outputs": []
    },
    {
      "cell_type": "code",
      "metadata": {
        "cellView": "code",
        "colab": {
          "base_uri": "https://localhost:8080/",
          "height": 1000,
          "referenced_widgets": [
            "57161c5adbd240daa473ed92b16fdb98",
            "7d591001f9b24674bb85905ad4e0dc80",
            "9a723f08a74845688a703f1e8618deff",
            "acc81dd2991043d193c813b84c123524",
            "a760bb43561540b487604df237a1e713",
            "0dc1cd517e7b461592665d7f4a94896e",
            "620199e81f5d4a00aef129c9ebfeca4a",
            "3ad4f0bddda24d3d89fdeb5bfc6f74e7"
          ]
        },
        "id": "J0wrB-Yf51l2",
        "outputId": "274f3719-6da0-4953-9c7e-f04ae1558c2e"
      },
      "source": [
        "# https://github.com/spro/char-rnn.pytorch\n",
        "!ls\n",
        "!pwd\n",
        "\n",
        "batch_size = 50\n",
        "chunk_len = 200\n",
        "model = \"rnn\" # other options: lstm, gru\n",
        "\n",
        "#hyperparams\n",
        "n_layers = 2\n",
        "hidden_size = 200\n",
        "n_epochs = 2000\n",
        "learning_rate = 0.01\n",
        "print_every = 25\n",
        "\n",
        "def train(inp, target):\n",
        "  hidden = decoder.init_hidden(batch_size)\n",
        "  decoder.zero_grad()\n",
        "  loss = 0\n",
        "\n",
        "  for c in range(chunk_len):\n",
        "    output, hidden = decoder(inp[:,c], hidden)\n",
        "    loss += criterion(output.view(batch_size, -1), target[:,c])\n",
        "\n",
        "  loss.backward()\n",
        "  decoder_optimizer.step()\n",
        "  return loss.item() / chunk_len\n",
        "\n",
        "file, file_len = read_file('/content/sample_data/twain.txt')\n",
        "\n",
        "def random_training_set(chunk_len, batch_size):\n",
        "  inp = torch.LongTensor(batch_size, chunk_len)\n",
        "  target = torch.LongTensor(batch_size, chunk_len)\n",
        "  for bi in range(batch_size):\n",
        "    start_index = random.randint(0, file_len - chunk_len - 1)\n",
        "    end_index = start_index + chunk_len + 1\n",
        "    chunk = file[start_index:end_index]\n",
        "    inp[bi] = char_tensor(chunk[:-1])\n",
        "    target[bi] = char_tensor(chunk[1:])\n",
        "  inp = Variable(inp)\n",
        "  target = Variable(target)\n",
        "  return inp, target\n",
        "\n",
        "decoder = CharRNN(\n",
        "    n_characters,\n",
        "    hidden_size,\n",
        "    n_characters,\n",
        "    model=model,\n",
        "    n_layers=n_layers,\n",
        ")\n",
        "decoder_optimizer = torch.optim.Adagrad(decoder.parameters(), lr=learning_rate)\n",
        "criterion = nn.CrossEntropyLoss()\n",
        "\n",
        "start = time.time()\n",
        "all_losses = []\n",
        "loss_avg = 0\n",
        "\n",
        "\n",
        "print(\"Training for %d epochs...\" % n_epochs)\n",
        "for epoch in tqdm(range(1, n_epochs + 1), position=0, leave=True):\n",
        "  loss = train(*random_training_set(chunk_len, batch_size))\n",
        "  loss_avg += loss\n",
        "\n",
        "  if epoch % print_every == 0:\n",
        "    print('[%s (%d %d%%) %.4f]' % (time_since(start), epoch, epoch / n_epochs * 100, loss))\n",
        "    print(generate(decoder, 'Wh', 100), '\\n')"
      ],
      "execution_count": 16,
      "outputs": [
        {
          "output_type": "stream",
          "text": [
            "images\tsample_data\n",
            "/content\n",
            "Training for 2000 epochs...\n"
          ],
          "name": "stdout"
        },
        {
          "output_type": "display_data",
          "data": {
            "application/vnd.jupyter.widget-view+json": {
              "model_id": "57161c5adbd240daa473ed92b16fdb98",
              "version_minor": 0,
              "version_major": 2
            },
            "text/plain": [
              "HBox(children=(FloatProgress(value=0.0, max=2000.0), HTML(value='')))"
            ]
          },
          "metadata": {
            "tags": []
          }
        },
        {
          "output_type": "stream",
          "text": [
            "[0m 10s (25 1%) 2.2108]\n",
            "Whhdextson\" colg--bopkj-se=\"aspatectisk=\"Me\" chavumy-b.git=\"beadarocl csionon\" ter-2a-fle-menterubass= \n",
            "\n",
            "[0m 20s (50 2%) 1.9526]\n",
            "Whendion/urogion-menumanoumposta-shadary=\"1-3.75 0 4.0561.75M77.79M25 0 11.5a.75 0 00 060.77-0.5@3.5 0 \n",
            "\n",
            "[0m 30s (75 3%) 1.6591]\n",
            "WheEJNggZkge/pppogeta    <meta <stajbed=\"3.44 0 00 111.75 2.5 0 00 1.5 0 11.16 8.594.036 1.75 0 08.222 \n",
            "\n",
            "[0m 40s (100 5%) 1.5504]\n",
            "Wheckarcon/ciment&quot;: &quot;: &quot;: &quot;: &quot;: [], &quot;: &quot;, &quot;5 \u000bed width=\"12=\"16 \n",
            "\n",
            "[0m 51s (125 6%) 1.5671]\n",
            "Who/s-name\" tyss=\"Bump-link--bagss=\"d-0 0 1.16  5 1v-2.57-.27-.25.75 0 00-1.06-.48 e.github.iot-relate \n",
            "\n",
            "[1m 1s (150 7%) 1.2857]\n",
            "Whoverver, intripe           </matref=\"toped role=\"Mancon rel-noneddele_tertion no-proderline\" data-vi \n",
            "\n",
            "[1m 11s (175 8%) 1.3612]\n",
            "WhiL5 ame3.252a.75.75 0 001 0 01-1.5 0 01-.25.25 0 00 11.06l-.7012.54F-3.25a1 1.75 0 01.16 0.21-.0018  \n",
            "\n",
            "[1m 21s (200 10%) 1.3390]\n",
            "Whex/chequithue\">/></sightt-serrofer\" controrue\" content=\"true\" viewBox=\"0 0 10-1.5 0va.792\" data-sito \n",
            "\n",
            "[1m 31s (225 11%) 1.1057]\n",
            "Whe.js\">ColeNenderline cou&quot;experimentIds&quot;201475823838&quot;, &quot; file-id=\"./chonem d-lg-t \n",
            "\n",
            "[1m 41s (250 12%) 1.0075]\n",
            "WhvgryMentht9pxF35Scke-trabsitementIds&quot;,&quot;click.75.75 0 011.25h-.040-0 000.7542.25 0 00.00-.2 \n",
            "\n",
            "[1m 51s (275 13%) 1.2519]\n",
            "WhO+GMR/AmeBBZd3M7333e/8loCubjamitymes/amfyshe.github.io/block\" data-ll-click\">ilon-refres/Signup=\"ref \n",
            "\n",
            "[2m 1s (300 15%) 1.0489]\n",
            "WhxcppysiclickV5.25\\7995a6a4-3.42 2.75.75 0 00-.894 1.5.75.75 0 011.5 0 113-.82.84-.00-.31-1.5 1.72 3. \n",
            "\n",
            "[2m 12s (325 16%) 1.1011]\n",
            "WherKMrMRnjaWPGotwiqiobM10552cb8f666\" viewBon=\"17c9 0 3.72 1.75 0 00-.75-.384.206 16 16\" version=\"true \n",
            "\n",
            "[2m 22s (350 17%) 0.9119]\n",
            "WhA#Vkey=\"chef-2ctassets.com/assets/chunk-controus\" defgexter\" role=\"img\"></svg>\n",
            "    <li class=\"/span> \n",
            "\n",
            "[2m 32s (375 18%) 0.9716]\n",
            "WhzM5.click.csetemplate\">\n",
            "        </li>\n",
            "          <script crossorigin=\"anonymous\" data-gadcolor\" role= \n",
            "\n",
            "[2m 42s (400 20%) 0.9501]\n",
            "Whong_overcardium-secondary color-text-terta terter_urd_ur/>\n",
            "      \n",
            "\n",
            "                  <a href=\"home-c \n",
            "\n",
            "[2m 52s (425 21%) 0.9981]\n",
            "Whex=\"heff-cols\" data-hydro-click=\"Footer, go to &quot;key&quot;: &quot;key&quot;: &quot;cardbsnriment \n",
            "\n",
            "[3m 2s (450 22%) 0.8583]\n",
            "Wh5cJavg_repo_prefatat js-paght-width=\"16\" width=\"16\" class=\"d-flex flex-container_in_tx_pripage&quot; \n",
            "\n",
            "[3m 12s (475 23%) 0.8333]\n",
            "WhewBWx//moks-collow\" data-hotkey=\"h flex-shrink-0 mb-lob6 d-none\" title=\"Signed ma-link-symbol d-none \n",
            "\n",
            "[3m 23s (500 25%) 0.8594]\n",
            "WherS/IRDQlassT+lghkLS3LNinT\"brayshe/>ma-s GitHub, text: Header, go to data-hotkey=\"1\" class=\"py-cula  \n",
            "\n",
            "[3m 33s (525 26%) 0.8933]\n",
            "WhBQ==\" py-md-0 bre-srainenav-item no-underline 95b1f\" href=\"/amfyshe/amfyshe.github.io/pualhres=\"bade \n",
            "\n",
            "[3m 43s (550 27%) 0.8714]\n",
            "Whe/tDfa.js\"></script>\n",
            "    <li data-view-component=\"true\" class=\"flex-chidel=\"/span>\n",
            "    </div>\n",
            "\n",
            "    < \n",
            "\n",
            "[3m 53s (575 28%) 0.8494]\n",
            "WheckectMenk-copyplse\" data-hopdob-0d8666l6\" height=\"16\" width=\"16\" height=\"76\" class=\"fyle-flex flex- \n",
            "\n",
            "[4m 3s (600 30%) 0.8493]\n",
            "WheCSebghtt0 f;sumXshLbMzmqCUqcV4lxxDjum5C3g9df7laentplating_upbop;peflls\" data-module-id=\"./chunk-sec \n",
            "\n",
            "[4m 13s (625 31%) 0.8178]\n",
            "Whagin=\"anonymous\" defer=\"defer\" integrity=\"searcabtad sec&quot;: &quot;20425.251 0 3.06 1.06l-.72 6.0 \n",
            "\n",
            "[4m 23s (650 32%) 0.8331]\n",
            "WhzmgDnyLr43JxRer+nV7cMTeDNdRH0AcNAEX3xQUEGDVMHvDflGGeIQNJiKdBHZlQEOhZVMXbE+EIQbTHMzRQugdFtypePppQzw=\" \n",
            "\n",
            "[4m 33s (675 33%) 0.7654]\n",
            "WheRZEUtMov/KoQwBVd7wBPxWBwIjus/cjMImNIPVqqxp1pypDGQfLkX5\"/KO+=0tHgJ6OFsPVehotDRMTgqpoploc=\"quetplas-t \n",
            "\n",
            "[4m 43s (700 35%) 0.7545]\n",
            "WhRy/aOfyphizerueleth-3d-clock Link--secolded-/limend>\n",
            "          <div class=\"octicon octicon-bottom-au \n",
            "\n",
            "[4m 54s (725 36%) 0.8378]\n",
            "WheWDrMindCU=8836454&quot;, &quot;key&quot;: &quot;20274&quot;, &quot;key&quot;: &quot;click.classets/ \n",
            "\n",
            "[5m 4s (750 37%) 0.8438]\n",
            "WheWVic0UPRZWvexryZBpUF90AxD+aIf93Uy7eBzM24YMCADR75LxZvF9x=\"how\">\n",
            "              <li>\n",
            "\n",
            "</div>\n",
            "\n",
            "\n",
            "        \n",
            "\n",
            "[5m 14s (775 38%) 0.8700]\n",
            "Whe5mbzNVhZhZWFkegwiUG7CbdavizpaJzJgEFWyTgrKqHFEOxpRvgMjbjWigpbolzMSJlcz+45L2cxDent/mbdeve/amfyshe.git \n",
            "\n",
            "[5m 24s (800 40%) 0.6232]\n",
            "WhRypazxrg=\"Nope-items-center flex-auto\" data-content=\"22\" height=\"16\" aria-hidden=\"true\" viewBox=\"0 0 \n",
            "\n",
            "[5m 34s (825 41%) 0.7403]\n",
            "Whe4/mdzZlbXa4SecOD37_pu+f1s0Ux2ercs/boat-ompprody_acdompy\">\n",
            "      <div class=\"d-flex flex-items-cente \n",
            "\n",
            "[5m 44s (850 42%) 0.7502]\n",
            "WheUVMzM3bht8c0f76b5a6g5&quot;, &quot;key&quot;: &quot;click.details repo_somication-labele&quot;}, {& \n",
            "\n",
            "[5m 54s (875 43%) 0.7622]\n",
            "Whexb-0\" href=\"/pp\">\n",
            "                      <meta name=\"visithub/search\"\n",
            "                <path d=\"M8 9a \n",
            "\n",
            "[6m 5s (900 45%) 0.6875]\n",
            "WhowCedIn_in_page&quot;:&quot;authentication.clss\" data-content=\"amfyshe/amfyshe.github.io/pulse\" data \n",
            "\n",
            "[6m 15s (925 46%) 0.7008]\n",
            "WheWJzrptIbjVRsdchNd/s/bokCent\" /><meta name=\"button\" aria-label=\"Team\" style=\"box color-text-privacy  \n",
            "\n",
            "[6m 25s (950 47%) 0.6390]\n",
            "Wh.js\"></script>\n",
            "            <div class=\"jump-or+logged_inlogged out) Header, go to [], &quot;id&quot; \n",
            "\n",
            "[6m 35s (975 48%) 0.6115]\n",
            "WhzUfNjDD3+cuGKYXARhav9ex4FelttIpyqid+zQ3==\" type=\"application.js\"></script>\n",
            "    <script crossorigin=\" \n",
            "\n",
            "[6m 45s (1000 50%) 0.6713]\n",
            "Whz\">hel=\"Redpelachesetf7ce9dd1adde98 04413c0.75c2 3.05v-1.5V1.5A2.5 2.5 0 0113-3.67402.456 1 0 011.06 \n",
            "\n",
            "[6m 56s (1025 51%) 0.6566]\n",
            "WhetKv0cxGf+zoG+u9dit3zkwchUUZ5UZzgKaFkMEWXAWJ+cGPXwckLEjumpss=\"https://github.githubassets.com/assets \n",
            "\n",
            "[7m 6s (1050 52%) 0.6280]\n",
            "Wh==\" type=\"application/javascript\" data-module-id=\"./chunk-indetedrepe-jump-to-badge-search border-bo \n",
            "\n",
            "[7m 16s (1075 53%) 0.6246]\n",
            "WhomentIds&quot;: [], &quot;id&quot;: &quot;182822470303&quot;, &quot;key&quot;: &quot;click.org_onboa \n",
            "\n",
            "[7m 26s (1100 55%) 0.6764]\n",
            "WheNaviorserepository&quot;}, {&quot;experimentIds&quot;: [], &quot;id&quot;: &quot;2006166950&quot;,  \n",
            "\n",
            "[7m 36s (1125 56%) 0.6677]\n",
            "WheNbEFtIGsTv1897s3DBQ56062FRLzhiVik==\" type=\"application/javascript\" data-mono flex-justify-between f \n",
            "\n",
            "[7m 46s (1150 57%) 0.5791]\n",
            "WhyJzm/urvBYd/GrGpringCob5A63445c9b3fact4d64dce9b.js\"></script>\n",
            "    <link Underlinenav-item no-wrap co \n",
            "\n",
            "[7m 57s (1175 58%) 0.6685]\n",
            "Whr+NRvPrMzmN9HEdRCPY3kb4he/tppC0ZQrqV+==\" type=\"application/javascript\" data-module-id=\"./chunk-repo- \n",
            "\n",
            "[8m 7s (1200 60%) 0.6548]\n",
            "WhzIjs=\"isinsource=\"enomipboard-community\">\n",
            "    <div class=\"border rounded-1 flex\">\n",
            "      <div>\n",
            "\n",
            "    < \n",
            "\n",
            "[8m 17s (1225 61%) 0.6319]\n",
            "WhodEmxp\">\n",
            "          <li>\n",
            "              <li class=\"dropdown-item\" class=\"edge-item-fix\"><a href=\"https \n",
            "\n",
            "[8m 27s (1250 62%) 0.5169]\n",
            "Whe6V2ext-00f\" height=\"16\" width=\"16\" height=\"16\" aria-hidden=\"true\"><path d=\"M5 0 100-1.5zm-1.214.076 \n",
            "\n",
            "[8m 38s (1275 63%) 0.6019]\n",
            "WheNavigationsig\">\n",
            "          <div class=\"js-s\" viewBox=\"0 0 16 16\" version=\"1.1\" data-hydro-click=\"{&q \n",
            "\n",
            "[8m 48s (1300 65%) 0.5409]\n",
            "WhVyQ/NVVacVXejSoGTSum334df6lbe28af5a049ff775bef1799&quot;, &quot;key&quot;: &quot;click.org_onboardin \n",
            "\n",
            "[8m 58s (1325 66%) 0.6532]\n",
            "WhRySoNanDdyF/githiTikizPvy+yLAiTIPcur+qnAVSVGWKE0MCMSBuRMpryzMRWic+dj/oBQk==\" type=\"application/javas \n",
            "\n",
            "[9m 8s (1350 67%) 0.6300]\n",
            "Whox_lcut&quot;}], &quot;id&quot;: &quot;201851&quot;, &quot;key&quot;: &quot;click.org helf=\"8\" heigh \n",
            "\n",
            "[9m 19s (1375 68%) 0.6124]\n",
            "WhzgTd=\"6z\">S/amfyshe/amfyshe.github.io/blob/master/twain.txt&quot;,&quot;payload&quot;:{&quot;enditem \n",
            "\n",
            "[9m 29s (1400 70%) 0.6495]\n",
            "WheTVghomponent=\"true\" class=\"py-2 lh-condensed-ultra d-block Link--secondary no-underline f5 Bump-lin \n",
            "\n",
            "[9m 39s (1425 71%) 0.5374]\n",
            "WhoDO6Np0NpBG82RhxW0NxXJXMBuCBMvgquotPJM8/LBABKcSUDQWurV2cpHAF+RuGpyPzmNDqY/+x6T0z3P2cx3eI3LAZhVweTImp \n",
            "\n",
            "[9m 49s (1450 72%) 0.6454]\n",
            "WhVgVgheIvA5teXPveKkoFtDUbDPyDrypordQunt.tCollocation\" content=\"UTF16000ff9c5bda7db87d6756e9f75aa17516 \n",
            "\n",
            "[9m 59s (1475 73%) 0.5692]\n",
            "WhyIJs/deQ==\" type=\"application/javascript\" src=\"https://github.githubassets.com/assets/chunk-foat--fo \n",
            "\n",
            "[10m 9s (1500 75%) 0.5251]\n",
            "Whe/zav9ext-ompbranches\" data-ga-click=\"Repository, Navigation click, Instar barn-thele\">\n",
            "             \n",
            "\n",
            "[10m 19s (1525 76%) 0.5189]\n",
            "WhyIQ=\"TNanure//opt>\n",
            "\n",
            "\n",
            "                </summary>\n",
            "\n",
            "    <li class=\"edge-item-fix\"><a href=\"/amfyshe/amf \n",
            "\n",
            "[10m 29s (1550 77%) 0.4990]\n",
            "WhUH1EFeMk+dhKzil1+cJADruFiQ5yzWnVqf/h9ZzdZ3xQC/El+9fd+7812/oubbenndar_action&quot;}, {&quot;experimen \n",
            "\n",
            "[10m 39s (1575 78%) 0.4732]\n",
            "WhVRSQ==\" type=\"apple duol-search data-hydro-click-hmac=\"b3d65be0b166058e06d47f0c0bdcra43e5b377ea49887 \n",
            "\n",
            "[10m 50s (1600 80%) 0.6135]\n",
            "Whe/mrnwDys4ClacW+yST09NftMgme=/y=\"6003f-13a2.25 2.25 0 00.45-.754 2.516 4.744 2.925-1.94l6.22-3.154 2 \n",
            "\n",
            "[11m 0s (1625 81%) 0.5377]\n",
            "WhwTy&quot;, &quot;key&quot;: &quot;click.classroom_creab\" data-view-component=\"true\" height=\"16\" widt \n",
            "\n",
            "[11m 10s (1650 82%) 0.5134]\n",
            "WhVgEYESDqINN_mINVIRN_nN_tI/DDgSOUguFtdVbLSXe=\"PCocticon\">\n",
            "    <include-fragment>\n",
            "\n",
            "\n",
            "\n",
            "  \n",
            "               \n",
            "\n",
            "[11m 20s (1675 83%) 0.5286]\n",
            "Whe%,/LathQre\"_dapp&quot;}, {&quot;experimentIds&quot;: [], &quot;id&quot;: &quot;182642467&quot;, &qu \n",
            "\n",
            "[11m 30s (1700 85%) 0.4539]\n",
            "WhkYceI4PReNavications\" /><meta name=\"octolytics-dimension-repository_nembold175c-8.75a1.70z\"></path>\n",
            " \n",
            "\n",
            "[11m 41s (1725 86%) 0.5522]\n",
            "Wh+kerubt955A64d6966aa145\" nabeader&quot;}, {&quot;experimentIds&quot;: [], &quot;id&quot;: &quot;1946 \n",
            "\n",
            "[11m 51s (1750 87%) 0.4933]\n",
            "Wh+IMUfDM94MUUZ/DRZzGZSSjwdxrMYJuRmaWJ5v4lesLMCuctEex8eDbdy8Kf7bqfjSch1L1zG2Q==\" type=\"application_in_ \n",
            "\n",
            "[12m 1s (1775 88%) 0.5273]\n",
            "WheKUaWPXVlMMHKZyv4lx7wh9F9I7htwcp9RDe0KFwKxTIZZUVp+4j2RH/VHcuJshrU==\" type=\"application/javascript\" d \n",
            "\n",
            "[12m 11s (1800 90%) 0.5065]\n",
            "WhVKcizMeV3gidsHJ/mlQaZP==\" type=\"application/javascript\" data-module-id=\"./chunk-copy-oustomer ssorig \n",
            "\n",
            "[12m 21s (1825 91%) 0.5404]\n",
            "WhgBzmizma1.75v12.5A2.5 2h4.75 7h14.447c00L88.092 8.042 0 01.06-1.06L13\" /><meta name=\"octolytics-dime \n",
            "\n",
            "[12m 31s (1850 92%) 0.4785]\n",
            "WhziUOFEnQ+e/sv+9zmr4glibM2.5a.75.75 0 010 1.5 0 100-3 1.5 3.5 0 009.25-.25v-9.5a1 1 0 01-1 0d-1 1.44- \n",
            "\n",
            "[12m 41s (1875 93%) 0.4573]\n",
            "Wh^H/Drs3W1HeWgOTWzQ0VQE==7\" /><meta name=\"octolytics-dimension-user_ordication.click&quot;,&quot;payl \n",
            "\n",
            "[12m 52s (1900 95%) 0.5748]\n",
            "WheDEJ+dNnUPl/TBzM1V5VJhdzg5bboTGuODeWgP+pw+cYECqFwPAvDr5HpjGqc5Kbwikie.js\"></script>\n",
            "          <span  \n",
            "\n",
            "[13m 2s (1925 96%) 0.5091]\n",
            "Whex/XXwPrqJdVYgB/8J5zqXChuGQjhxPmyPA+UUWM3W55mBAcBG9jXLZfEzRcIkwDNOQEntC+lW2J5CEOyGSQ==\" type=\"applic \n",
            "\n",
            "[13m 12s (1950 97%) 0.4581]\n",
            "WhzyAht7517=\"W1ke2Jzi2Hpr+6H2dN+lFulY/ChQzgZgDL8ISbjMsJlowg:/mages\">Cogranclede\"><!-- '\"  <script cros \n",
            "\n",
            "[13m 22s (1975 98%) 0.4618]\n",
            "WhzmlUyNP+NK2wVoKVABu6010Fdf5w==\" type=\"application/javascript\" data-module-id=\"./chunk-secondary no-u \n",
            "\n",
            "[13m 32s (2000 100%) 0.6242]\n",
            "WhVNOs7VAZf==\"\n",
            " 1-2.5L1 2.25-.25h12.5a.25.25 0 00-.25.25H1.75a.25.25 0 01-.25.25H1.75a.25.25 0 01-.25- \n",
            "\n",
            "\n"
          ],
          "name": "stdout"
        }
      ]
    },
    {
      "cell_type": "markdown",
      "metadata": {
        "id": "a1bpPEcX51l4"
      },
      "source": [
        "#Section 2: Power consumption in Deep Learning\n",
        "\n",
        "Training NN models can be incredibly costly, both in actual money but also in power consumption. "
      ]
    },
    {
      "cell_type": "code",
      "metadata": {
        "cellView": "form",
        "colab": {
          "base_uri": "https://localhost:8080/",
          "height": 518
        },
        "id": "CH0GvxlC51l5",
        "outputId": "e1fd182e-8180-49e8-c8d1-f802f1a8dfec"
      },
      "source": [
        "#@title Video 2: Carbon Footprint of AI\n",
        "# Insert the ID of the corresponding youtube video\n",
        "from IPython.display import YouTubeVideo\n",
        "video = YouTubeVideo(id=\"2upwdK3bcXU\", width=854, height=480, fs=1)\n",
        "print(\"Video available at https://youtu.be/\" + video.id)\n",
        "video"
      ],
      "execution_count": 17,
      "outputs": [
        {
          "output_type": "stream",
          "text": [
            "Video available at https://youtu.be/2upwdK3bcXU\n"
          ],
          "name": "stdout"
        },
        {
          "output_type": "execute_result",
          "data": {
            "text/html": [
              "\n",
              "        <iframe\n",
              "            width=\"854\"\n",
              "            height=\"480\"\n",
              "            src=\"https://www.youtube.com/embed/2upwdK3bcXU?fs=1\"\n",
              "            frameborder=\"0\"\n",
              "            allowfullscreen\n",
              "        ></iframe>\n",
              "        "
            ],
            "text/plain": [
              "<IPython.lib.display.YouTubeVideo at 0x7f920a229090>"
            ],
            "image/jpeg": "[encoded data removed]"
          },
          "metadata": {
            "tags": []
          },
          "execution_count": 17
        }
      ]
    },
    {
      "cell_type": "markdown",
      "metadata": {
        "id": "ZELko9i-51l5"
      },
      "source": [
        "Take a few moments to chat with your pod about the following points:\n",
        "* Which societal costs of training do you find most compelling?\n",
        "* When is training an AI model worth the cost?  Who should make that decision?\n",
        "* Should there be additional taxes on energy costs for compute centers? "
      ]
    },
    {
      "cell_type": "markdown",
      "metadata": {
        "id": "kX8C9Nik51l6"
      },
      "source": [
        "# Section 3: Wrap up\n",
        "\n",
        "What a day!  We've learned a lot!  The basics of CNNs and RNNs, and how changes to architecture that allow models to parameter share can greatly reduce the size of the model.  We learned about convoliution and pooling, as well as the basic idea behind RNNs.  To wrap up we thought about the impact of training large NN models."
      ]
    },
    {
      "cell_type": "code",
      "metadata": {
        "cellView": "form",
        "colab": {
          "base_uri": "https://localhost:8080/",
          "height": 518
        },
        "id": "D9pkhNKt51l6",
        "outputId": "764b88d0-30e5-4b38-9a80-8ea533216bf4"
      },
      "source": [
        "#@title Video 3: Wrap-up\n",
        "# Insert the ID of the corresponding youtube video\n",
        "from IPython.display import YouTubeVideo\n",
        "video = YouTubeVideo(id=\"Ikb4hwR4pU0\", width=854, height=480, fs=1)\n",
        "print(\"Video available at https://youtu.be/\" + video.id)\n",
        "video"
      ],
      "execution_count": 18,
      "outputs": [
        {
          "output_type": "stream",
          "text": [
            "Video available at https://youtu.be/Ikb4hwR4pU0\n"
          ],
          "name": "stdout"
        },
        {
          "output_type": "execute_result",
          "data": {
            "text/html": [
              "\n",
              "        <iframe\n",
              "            width=\"854\"\n",
              "            height=\"480\"\n",
              "            src=\"https://www.youtube.com/embed/Ikb4hwR4pU0?fs=1\"\n",
              "            frameborder=\"0\"\n",
              "            allowfullscreen\n",
              "        ></iframe>\n",
              "        "
            ],
            "text/plain": [
              "<IPython.lib.display.YouTubeVideo at 0x7f920a1fb150>"
            ],
            "image/jpeg": "[encoded data removed]"
          },
          "metadata": {
            "tags": []
          },
          "execution_count": 18
        }
      ]
    }
  ]
}