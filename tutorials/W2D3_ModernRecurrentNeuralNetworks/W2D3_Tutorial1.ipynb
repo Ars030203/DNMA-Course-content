{
  "nbformat": 4,
  "nbformat_minor": 0,
  "metadata": {
    "colab": {
      "name": "W2D3_Tutorial1",
      "provenance": [],
      "collapsed_sections": [],
      "toc_visible": true,
      "machine_shape": "hm",
      "include_colab_link": true
    },
    "kernel": {
      "display_name": "Python 3",
      "language": "python",
      "name": "python3"
    },
    "kernelspec": {
      "display_name": "Python 3",
      "name": "python3"
    },
    "language_info": {
      "name": "python"
    },
    "widgets": {
      "application/vnd.jupyter.widget-state+json": {
        "358d323a834f412f86c2db2205036efb": {
          "model_module": "@jupyter-widgets/controls",
          "model_name": "TabModel",
          "state": {
            "_view_name": "TabView",
            "_dom_classes": [],
            "_titles": {
              "0": "Youtube",
              "1": "Bilibili"
            },
            "_model_name": "TabModel",
            "_view_module": "@jupyter-widgets/controls",
            "selected_index": 0,
            "_model_module_version": "1.5.0",
            "_view_count": null,
            "_view_module_version": "1.5.0",
            "box_style": "",
            "layout": "IPY_MODEL_56e40e6a52ff4593a4dab9221b625bf4",
            "_model_module": "@jupyter-widgets/controls",
            "children": [
              "IPY_MODEL_e20b79077262460daf17653de0361452",
              "IPY_MODEL_c55504289a6d44818203629908a3dbec"
            ]
          }
        },
        "56e40e6a52ff4593a4dab9221b625bf4": {
          "model_module": "@jupyter-widgets/base",
          "model_name": "LayoutModel",
          "state": {
            "_view_name": "LayoutView",
            "grid_template_rows": null,
            "right": null,
            "justify_content": null,
            "_view_module": "@jupyter-widgets/base",
            "overflow": null,
            "_model_module_version": "1.2.0",
            "_view_count": null,
            "flex_flow": null,
            "width": null,
            "min_width": null,
            "border": null,
            "align_items": null,
            "bottom": null,
            "_model_module": "@jupyter-widgets/base",
            "top": null,
            "grid_column": null,
            "overflow_y": null,
            "overflow_x": null,
            "grid_auto_flow": null,
            "grid_area": null,
            "grid_template_columns": null,
            "flex": null,
            "_model_name": "LayoutModel",
            "justify_items": null,
            "grid_row": null,
            "max_height": null,
            "align_content": null,
            "visibility": null,
            "align_self": null,
            "height": null,
            "min_height": null,
            "padding": null,
            "grid_auto_rows": null,
            "grid_gap": null,
            "max_width": null,
            "order": null,
            "_view_module_version": "1.2.0",
            "grid_template_areas": null,
            "object_position": null,
            "object_fit": null,
            "grid_auto_columns": null,
            "margin": null,
            "display": null,
            "left": null
          }
        },
        "e20b79077262460daf17653de0361452": {
          "model_module": "@jupyter-widgets/output",
          "model_name": "OutputModel",
          "state": {
            "_view_name": "OutputView",
            "msg_id": "",
            "_dom_classes": [],
            "_model_name": "OutputModel",
            "outputs": [
              {
                "output_type": "stream",
                "metadata": {
                  "tags": []
                },
                "text": "Video available at https://youtube.com/watch?v=EdnZ4tS4kK0\n",
                "stream": "stdout"
              },
              {
                "output_type": "display_data",
                "metadata": {
                  "tags": []
                },
                "text/html": "\n        <iframe\n            width=\"854\"\n            height=\"480\"\n            src=\"https://www.youtube.com/embed/EdnZ4tS4kK0?fs=1&rel=0\"\n            frameborder=\"0\"\n            allowfullscreen\n        ></iframe>\n        ",
                "text/plain": "<IPython.lib.display.YouTubeVideo at 0x7fafb4552dd0>",
                "image/jpeg": "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\n"
              }
            ],
            "_view_module": "@jupyter-widgets/output",
            "_model_module_version": "1.0.0",
            "_view_count": null,
            "_view_module_version": "1.0.0",
            "layout": "IPY_MODEL_d27d2f25f4964e49bef7cced083bfc59",
            "_model_module": "@jupyter-widgets/output"
          }
        },
        "c55504289a6d44818203629908a3dbec": {
          "model_module": "@jupyter-widgets/output",
          "model_name": "OutputModel",
          "state": {
            "_view_name": "OutputView",
            "msg_id": "",
            "_dom_classes": [],
            "_model_name": "OutputModel",
            "outputs": [
              {
                "output_type": "stream",
                "metadata": {
                  "tags": []
                },
                "text": "Video available at https://www.bilibili.com/video/\n",
                "stream": "stdout"
              },
              {
                "output_type": "display_data",
                "metadata": {
                  "tags": []
                },
                "text/html": "\n        <iframe\n            width=\"854\"\n            height=\"480\"\n            src=\"https://player.bilibili.com/player.html?bvid=&page=1?fs=1\"\n            frameborder=\"0\"\n            allowfullscreen\n        ></iframe>\n        ",
                "text/plain": "<__main__.BiliVideo at 0x7fafb456c9d0>"
              }
            ],
            "_view_module": "@jupyter-widgets/output",
            "_model_module_version": "1.0.0",
            "_view_count": null,
            "_view_module_version": "1.0.0",
            "layout": "IPY_MODEL_8a673bc2d66a4ea0ad661fd0d455c5ca",
            "_model_module": "@jupyter-widgets/output"
          }
        },
        "d27d2f25f4964e49bef7cced083bfc59": {
          "model_module": "@jupyter-widgets/base",
          "model_name": "LayoutModel",
          "state": {
            "_view_name": "LayoutView",
            "grid_template_rows": null,
            "right": null,
            "justify_content": null,
            "_view_module": "@jupyter-widgets/base",
            "overflow": null,
            "_model_module_version": "1.2.0",
            "_view_count": null,
            "flex_flow": null,
            "width": null,
            "min_width": null,
            "border": null,
            "align_items": null,
            "bottom": null,
            "_model_module": "@jupyter-widgets/base",
            "top": null,
            "grid_column": null,
            "overflow_y": null,
            "overflow_x": null,
            "grid_auto_flow": null,
            "grid_area": null,
            "grid_template_columns": null,
            "flex": null,
            "_model_name": "LayoutModel",
            "justify_items": null,
            "grid_row": null,
            "max_height": null,
            "align_content": null,
            "visibility": null,
            "align_self": null,
            "height": null,
            "min_height": null,
            "padding": null,
            "grid_auto_rows": null,
            "grid_gap": null,
            "max_width": null,
            "order": null,
            "_view_module_version": "1.2.0",
            "grid_template_areas": null,
            "object_position": null,
            "object_fit": null,
            "grid_auto_columns": null,
            "margin": null,
            "display": null,
            "left": null
          }
        },
        "8a673bc2d66a4ea0ad661fd0d455c5ca": {
          "model_module": "@jupyter-widgets/base",
          "model_name": "LayoutModel",
          "state": {
            "_view_name": "LayoutView",
            "grid_template_rows": null,
            "right": null,
            "justify_content": null,
            "_view_module": "@jupyter-widgets/base",
            "overflow": null,
            "_model_module_version": "1.2.0",
            "_view_count": null,
            "flex_flow": null,
            "width": null,
            "min_width": null,
            "border": null,
            "align_items": null,
            "bottom": null,
            "_model_module": "@jupyter-widgets/base",
            "top": null,
            "grid_column": null,
            "overflow_y": null,
            "overflow_x": null,
            "grid_auto_flow": null,
            "grid_area": null,
            "grid_template_columns": null,
            "flex": null,
            "_model_name": "LayoutModel",
            "justify_items": null,
            "grid_row": null,
            "max_height": null,
            "align_content": null,
            "visibility": null,
            "align_self": null,
            "height": null,
            "min_height": null,
            "padding": null,
            "grid_auto_rows": null,
            "grid_gap": null,
            "max_width": null,
            "order": null,
            "_view_module_version": "1.2.0",
            "grid_template_areas": null,
            "object_position": null,
            "object_fit": null,
            "grid_auto_columns": null,
            "margin": null,
            "display": null,
            "left": null
          }
        },
        "b23ed0bb1cfd4b4d9e67733e4a946a31": {
          "model_module": "@jupyter-widgets/controls",
          "model_name": "TabModel",
          "state": {
            "_view_name": "TabView",
            "_dom_classes": [],
            "_titles": {
              "0": "Youtube",
              "1": "Bilibili"
            },
            "_model_name": "TabModel",
            "_view_module": "@jupyter-widgets/controls",
            "selected_index": 0,
            "_model_module_version": "1.5.0",
            "_view_count": null,
            "_view_module_version": "1.5.0",
            "box_style": "",
            "layout": "IPY_MODEL_23fd0fa9b5f04e1ab28bb944bc35d27c",
            "_model_module": "@jupyter-widgets/controls",
            "children": [
              "IPY_MODEL_3b40994b6ef54ea3b68ce5fc0695e6c1",
              "IPY_MODEL_9fe0327297aa46a3838b4d07ad2faaf5"
            ]
          }
        },
        "23fd0fa9b5f04e1ab28bb944bc35d27c": {
          "model_module": "@jupyter-widgets/base",
          "model_name": "LayoutModel",
          "state": {
            "_view_name": "LayoutView",
            "grid_template_rows": null,
            "right": null,
            "justify_content": null,
            "_view_module": "@jupyter-widgets/base",
            "overflow": null,
            "_model_module_version": "1.2.0",
            "_view_count": null,
            "flex_flow": null,
            "width": null,
            "min_width": null,
            "border": null,
            "align_items": null,
            "bottom": null,
            "_model_module": "@jupyter-widgets/base",
            "top": null,
            "grid_column": null,
            "overflow_y": null,
            "overflow_x": null,
            "grid_auto_flow": null,
            "grid_area": null,
            "grid_template_columns": null,
            "flex": null,
            "_model_name": "LayoutModel",
            "justify_items": null,
            "grid_row": null,
            "max_height": null,
            "align_content": null,
            "visibility": null,
            "align_self": null,
            "height": null,
            "min_height": null,
            "padding": null,
            "grid_auto_rows": null,
            "grid_gap": null,
            "max_width": null,
            "order": null,
            "_view_module_version": "1.2.0",
            "grid_template_areas": null,
            "object_position": null,
            "object_fit": null,
            "grid_auto_columns": null,
            "margin": null,
            "display": null,
            "left": null
          }
        },
        "3b40994b6ef54ea3b68ce5fc0695e6c1": {
          "model_module": "@jupyter-widgets/output",
          "model_name": "OutputModel",
          "state": {
            "_view_name": "OutputView",
            "msg_id": "",
            "_dom_classes": [],
            "_model_name": "OutputModel",
            "outputs": [
              {
                "output_type": "stream",
                "metadata": {
                  "tags": []
                },
                "text": "Video available at https://youtube.com/watch?v=LrNVfGiyNws\n",
                "stream": "stdout"
              },
              {
                "output_type": "display_data",
                "metadata": {
                  "tags": []
                },
                "text/html": "\n        <iframe\n            width=\"854\"\n            height=\"480\"\n            src=\"https://www.youtube.com/embed/LrNVfGiyNws?fs=1&rel=0\"\n            frameborder=\"0\"\n            allowfullscreen\n        ></iframe>\n        ",
                "text/plain": "<IPython.lib.display.YouTubeVideo at 0x7faf35cfdb90>",
                "image/jpeg": "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\n"
              }
            ],
            "_view_module": "@jupyter-widgets/output",
            "_model_module_version": "1.0.0",
            "_view_count": null,
            "_view_module_version": "1.0.0",
            "layout": "IPY_MODEL_d1d7a14d35ec4dd084adb22b3dc52bc6",
            "_model_module": "@jupyter-widgets/output"
          }
        },
        "9fe0327297aa46a3838b4d07ad2faaf5": {
          "model_module": "@jupyter-widgets/output",
          "model_name": "OutputModel",
          "state": {
            "_view_name": "OutputView",
            "msg_id": "",
            "_dom_classes": [],
            "_model_name": "OutputModel",
            "outputs": [
              {
                "output_type": "stream",
                "metadata": {
                  "tags": []
                },
                "text": "Video available at https://www.bilibili.com/video/\n",
                "stream": "stdout"
              },
              {
                "output_type": "display_data",
                "metadata": {
                  "tags": []
                },
                "text/html": "\n        <iframe\n            width=\"854\"\n            height=\"480\"\n            src=\"https://player.bilibili.com/player.html?bvid=&page=1?fs=1\"\n            frameborder=\"0\"\n            allowfullscreen\n        ></iframe>\n        ",
                "text/plain": "<__main__.BiliVideo at 0x7faf35ca7a10>"
              }
            ],
            "_view_module": "@jupyter-widgets/output",
            "_model_module_version": "1.0.0",
            "_view_count": null,
            "_view_module_version": "1.0.0",
            "layout": "IPY_MODEL_bce1c9e942494ecb89e74d48d658ab43",
            "_model_module": "@jupyter-widgets/output"
          }
        },
        "d1d7a14d35ec4dd084adb22b3dc52bc6": {
          "model_module": "@jupyter-widgets/base",
          "model_name": "LayoutModel",
          "state": {
            "_view_name": "LayoutView",
            "grid_template_rows": null,
            "right": null,
            "justify_content": null,
            "_view_module": "@jupyter-widgets/base",
            "overflow": null,
            "_model_module_version": "1.2.0",
            "_view_count": null,
            "flex_flow": null,
            "width": null,
            "min_width": null,
            "border": null,
            "align_items": null,
            "bottom": null,
            "_model_module": "@jupyter-widgets/base",
            "top": null,
            "grid_column": null,
            "overflow_y": null,
            "overflow_x": null,
            "grid_auto_flow": null,
            "grid_area": null,
            "grid_template_columns": null,
            "flex": null,
            "_model_name": "LayoutModel",
            "justify_items": null,
            "grid_row": null,
            "max_height": null,
            "align_content": null,
            "visibility": null,
            "align_self": null,
            "height": null,
            "min_height": null,
            "padding": null,
            "grid_auto_rows": null,
            "grid_gap": null,
            "max_width": null,
            "order": null,
            "_view_module_version": "1.2.0",
            "grid_template_areas": null,
            "object_position": null,
            "object_fit": null,
            "grid_auto_columns": null,
            "margin": null,
            "display": null,
            "left": null
          }
        },
        "bce1c9e942494ecb89e74d48d658ab43": {
          "model_module": "@jupyter-widgets/base",
          "model_name": "LayoutModel",
          "state": {
            "_view_name": "LayoutView",
            "grid_template_rows": null,
            "right": null,
            "justify_content": null,
            "_view_module": "@jupyter-widgets/base",
            "overflow": null,
            "_model_module_version": "1.2.0",
            "_view_count": null,
            "flex_flow": null,
            "width": null,
            "min_width": null,
            "border": null,
            "align_items": null,
            "bottom": null,
            "_model_module": "@jupyter-widgets/base",
            "top": null,
            "grid_column": null,
            "overflow_y": null,
            "overflow_x": null,
            "grid_auto_flow": null,
            "grid_area": null,
            "grid_template_columns": null,
            "flex": null,
            "_model_name": "LayoutModel",
            "justify_items": null,
            "grid_row": null,
            "max_height": null,
            "align_content": null,
            "visibility": null,
            "align_self": null,
            "height": null,
            "min_height": null,
            "padding": null,
            "grid_auto_rows": null,
            "grid_gap": null,
            "max_width": null,
            "order": null,
            "_view_module_version": "1.2.0",
            "grid_template_areas": null,
            "object_position": null,
            "object_fit": null,
            "grid_auto_columns": null,
            "margin": null,
            "display": null,
            "left": null
          }
        },
        "ca9e346ec89147639775bbd0dde37f2a": {
          "model_module": "@jupyter-widgets/controls",
          "model_name": "TabModel",
          "state": {
            "_view_name": "TabView",
            "_dom_classes": [],
            "_titles": {
              "0": "Youtube",
              "1": "Bilibili"
            },
            "_model_name": "TabModel",
            "_view_module": "@jupyter-widgets/controls",
            "selected_index": 0,
            "_model_module_version": "1.5.0",
            "_view_count": null,
            "_view_module_version": "1.5.0",
            "box_style": "",
            "layout": "IPY_MODEL_0d9938de20314e769b2bee65d71637e3",
            "_model_module": "@jupyter-widgets/controls",
            "children": [
              "IPY_MODEL_ae5274dc2c0a45e1a0c21a8cfb452523",
              "IPY_MODEL_af8cdd792f9b4d2c98e60618950efb7f"
            ]
          }
        },
        "0d9938de20314e769b2bee65d71637e3": {
          "model_module": "@jupyter-widgets/base",
          "model_name": "LayoutModel",
          "state": {
            "_view_name": "LayoutView",
            "grid_template_rows": null,
            "right": null,
            "justify_content": null,
            "_view_module": "@jupyter-widgets/base",
            "overflow": null,
            "_model_module_version": "1.2.0",
            "_view_count": null,
            "flex_flow": null,
            "width": null,
            "min_width": null,
            "border": null,
            "align_items": null,
            "bottom": null,
            "_model_module": "@jupyter-widgets/base",
            "top": null,
            "grid_column": null,
            "overflow_y": null,
            "overflow_x": null,
            "grid_auto_flow": null,
            "grid_area": null,
            "grid_template_columns": null,
            "flex": null,
            "_model_name": "LayoutModel",
            "justify_items": null,
            "grid_row": null,
            "max_height": null,
            "align_content": null,
            "visibility": null,
            "align_self": null,
            "height": null,
            "min_height": null,
            "padding": null,
            "grid_auto_rows": null,
            "grid_gap": null,
            "max_width": null,
            "order": null,
            "_view_module_version": "1.2.0",
            "grid_template_areas": null,
            "object_position": null,
            "object_fit": null,
            "grid_auto_columns": null,
            "margin": null,
            "display": null,
            "left": null
          }
        },
        "ae5274dc2c0a45e1a0c21a8cfb452523": {
          "model_module": "@jupyter-widgets/output",
          "model_name": "OutputModel",
          "state": {
            "_view_name": "OutputView",
            "msg_id": "",
            "_dom_classes": [],
            "_model_name": "OutputModel",
            "outputs": [
              {
                "output_type": "stream",
                "metadata": {
                  "tags": []
                },
                "text": "Video available at https://youtube.com/watch?v=P_I2Ram6Tac\n",
                "stream": "stdout"
              },
              {
                "output_type": "display_data",
                "metadata": {
                  "tags": []
                },
                "text/html": "\n        <iframe\n            width=\"854\"\n            height=\"480\"\n            src=\"https://www.youtube.com/embed/P_I2Ram6Tac?fs=1&rel=0\"\n            frameborder=\"0\"\n            allowfullscreen\n        ></iframe>\n        ",
                "text/plain": "<IPython.lib.display.YouTubeVideo at 0x7faf2f08f810>",
                "image/jpeg": "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\n"
              }
            ],
            "_view_module": "@jupyter-widgets/output",
            "_model_module_version": "1.0.0",
            "_view_count": null,
            "_view_module_version": "1.0.0",
            "layout": "IPY_MODEL_d8af650c84144727947e1a4954c243db",
            "_model_module": "@jupyter-widgets/output"
          }
        },
        "af8cdd792f9b4d2c98e60618950efb7f": {
          "model_module": "@jupyter-widgets/output",
          "model_name": "OutputModel",
          "state": {
            "_view_name": "OutputView",
            "msg_id": "",
            "_dom_classes": [],
            "_model_name": "OutputModel",
            "outputs": [
              {
                "output_type": "stream",
                "metadata": {
                  "tags": []
                },
                "text": "Video available at https://www.bilibili.com/video/\n",
                "stream": "stdout"
              },
              {
                "output_type": "display_data",
                "metadata": {
                  "tags": []
                },
                "text/html": "\n        <iframe\n            width=\"854\"\n            height=\"480\"\n            src=\"https://player.bilibili.com/player.html?bvid=&page=1?fs=1\"\n            frameborder=\"0\"\n            allowfullscreen\n        ></iframe>\n        ",
                "text/plain": "<__main__.BiliVideo at 0x7faf348c13d0>"
              }
            ],
            "_view_module": "@jupyter-widgets/output",
            "_model_module_version": "1.0.0",
            "_view_count": null,
            "_view_module_version": "1.0.0",
            "layout": "IPY_MODEL_eba761c3807840a491031b12638fdf54",
            "_model_module": "@jupyter-widgets/output"
          }
        },
        "d8af650c84144727947e1a4954c243db": {
          "model_module": "@jupyter-widgets/base",
          "model_name": "LayoutModel",
          "state": {
            "_view_name": "LayoutView",
            "grid_template_rows": null,
            "right": null,
            "justify_content": null,
            "_view_module": "@jupyter-widgets/base",
            "overflow": null,
            "_model_module_version": "1.2.0",
            "_view_count": null,
            "flex_flow": null,
            "width": null,
            "min_width": null,
            "border": null,
            "align_items": null,
            "bottom": null,
            "_model_module": "@jupyter-widgets/base",
            "top": null,
            "grid_column": null,
            "overflow_y": null,
            "overflow_x": null,
            "grid_auto_flow": null,
            "grid_area": null,
            "grid_template_columns": null,
            "flex": null,
            "_model_name": "LayoutModel",
            "justify_items": null,
            "grid_row": null,
            "max_height": null,
            "align_content": null,
            "visibility": null,
            "align_self": null,
            "height": null,
            "min_height": null,
            "padding": null,
            "grid_auto_rows": null,
            "grid_gap": null,
            "max_width": null,
            "order": null,
            "_view_module_version": "1.2.0",
            "grid_template_areas": null,
            "object_position": null,
            "object_fit": null,
            "grid_auto_columns": null,
            "margin": null,
            "display": null,
            "left": null
          }
        },
        "eba761c3807840a491031b12638fdf54": {
          "model_module": "@jupyter-widgets/base",
          "model_name": "LayoutModel",
          "state": {
            "_view_name": "LayoutView",
            "grid_template_rows": null,
            "right": null,
            "justify_content": null,
            "_view_module": "@jupyter-widgets/base",
            "overflow": null,
            "_model_module_version": "1.2.0",
            "_view_count": null,
            "flex_flow": null,
            "width": null,
            "min_width": null,
            "border": null,
            "align_items": null,
            "bottom": null,
            "_model_module": "@jupyter-widgets/base",
            "top": null,
            "grid_column": null,
            "overflow_y": null,
            "overflow_x": null,
            "grid_auto_flow": null,
            "grid_area": null,
            "grid_template_columns": null,
            "flex": null,
            "_model_name": "LayoutModel",
            "justify_items": null,
            "grid_row": null,
            "max_height": null,
            "align_content": null,
            "visibility": null,
            "align_self": null,
            "height": null,
            "min_height": null,
            "padding": null,
            "grid_auto_rows": null,
            "grid_gap": null,
            "max_width": null,
            "order": null,
            "_view_module_version": "1.2.0",
            "grid_template_areas": null,
            "object_position": null,
            "object_fit": null,
            "grid_auto_columns": null,
            "margin": null,
            "display": null,
            "left": null
          }
        },
        "d1d12b28232945d687cfb3706bed3957": {
          "model_module": "@jupyter-widgets/controls",
          "model_name": "TabModel",
          "state": {
            "_view_name": "TabView",
            "_dom_classes": [],
            "_titles": {
              "0": "Youtube",
              "1": "Bilibili"
            },
            "_model_name": "TabModel",
            "_view_module": "@jupyter-widgets/controls",
            "selected_index": 0,
            "_model_module_version": "1.5.0",
            "_view_count": null,
            "_view_module_version": "1.5.0",
            "box_style": "",
            "layout": "IPY_MODEL_c66e6246b5ac461085d380cfb2616b7c",
            "_model_module": "@jupyter-widgets/controls",
            "children": [
              "IPY_MODEL_8597115e85d6441e9f06b14d918de271",
              "IPY_MODEL_55ff23e34de7450a810c4a7a0281e5cb"
            ]
          }
        },
        "c66e6246b5ac461085d380cfb2616b7c": {
          "model_module": "@jupyter-widgets/base",
          "model_name": "LayoutModel",
          "state": {
            "_view_name": "LayoutView",
            "grid_template_rows": null,
            "right": null,
            "justify_content": null,
            "_view_module": "@jupyter-widgets/base",
            "overflow": null,
            "_model_module_version": "1.2.0",
            "_view_count": null,
            "flex_flow": null,
            "width": null,
            "min_width": null,
            "border": null,
            "align_items": null,
            "bottom": null,
            "_model_module": "@jupyter-widgets/base",
            "top": null,
            "grid_column": null,
            "overflow_y": null,
            "overflow_x": null,
            "grid_auto_flow": null,
            "grid_area": null,
            "grid_template_columns": null,
            "flex": null,
            "_model_name": "LayoutModel",
            "justify_items": null,
            "grid_row": null,
            "max_height": null,
            "align_content": null,
            "visibility": null,
            "align_self": null,
            "height": null,
            "min_height": null,
            "padding": null,
            "grid_auto_rows": null,
            "grid_gap": null,
            "max_width": null,
            "order": null,
            "_view_module_version": "1.2.0",
            "grid_template_areas": null,
            "object_position": null,
            "object_fit": null,
            "grid_auto_columns": null,
            "margin": null,
            "display": null,
            "left": null
          }
        },
        "8597115e85d6441e9f06b14d918de271": {
          "model_module": "@jupyter-widgets/output",
          "model_name": "OutputModel",
          "state": {
            "_view_name": "OutputView",
            "msg_id": "",
            "_dom_classes": [],
            "_model_name": "OutputModel",
            "outputs": [
              {
                "output_type": "stream",
                "metadata": {
                  "tags": []
                },
                "text": "Video available at https://youtube.com/watch?v=djxZMSm7h2k\n",
                "stream": "stdout"
              },
              {
                "output_type": "display_data",
                "metadata": {
                  "tags": []
                },
                "text/html": "\n        <iframe\n            width=\"854\"\n            height=\"480\"\n            src=\"https://www.youtube.com/embed/djxZMSm7h2k?fs=1&rel=0\"\n            frameborder=\"0\"\n            allowfullscreen\n        ></iframe>\n        ",
                "text/plain": "<IPython.lib.display.YouTubeVideo at 0x7faf2e9d4f90>",
                "image/jpeg": "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\n"
              }
            ],
            "_view_module": "@jupyter-widgets/output",
            "_model_module_version": "1.0.0",
            "_view_count": null,
            "_view_module_version": "1.0.0",
            "layout": "IPY_MODEL_a9ad5c787269405fa334a9a01ac0519f",
            "_model_module": "@jupyter-widgets/output"
          }
        },
        "55ff23e34de7450a810c4a7a0281e5cb": {
          "model_module": "@jupyter-widgets/output",
          "model_name": "OutputModel",
          "state": {
            "_view_name": "OutputView",
            "msg_id": "",
            "_dom_classes": [],
            "_model_name": "OutputModel",
            "outputs": [
              {
                "output_type": "stream",
                "metadata": {
                  "tags": []
                },
                "text": "Video available at https://www.bilibili.com/video/\n",
                "stream": "stdout"
              },
              {
                "output_type": "display_data",
                "metadata": {
                  "tags": []
                },
                "text/html": "\n        <iframe\n            width=\"854\"\n            height=\"480\"\n            src=\"https://player.bilibili.com/player.html?bvid=&page=1?fs=1\"\n            frameborder=\"0\"\n            allowfullscreen\n        ></iframe>\n        ",
                "text/plain": "<__main__.BiliVideo at 0x7faf2ed9f790>"
              }
            ],
            "_view_module": "@jupyter-widgets/output",
            "_model_module_version": "1.0.0",
            "_view_count": null,
            "_view_module_version": "1.0.0",
            "layout": "IPY_MODEL_69c3848483a44354b03a5e8311255105",
            "_model_module": "@jupyter-widgets/output"
          }
        },
        "a9ad5c787269405fa334a9a01ac0519f": {
          "model_module": "@jupyter-widgets/base",
          "model_name": "LayoutModel",
          "state": {
            "_view_name": "LayoutView",
            "grid_template_rows": null,
            "right": null,
            "justify_content": null,
            "_view_module": "@jupyter-widgets/base",
            "overflow": null,
            "_model_module_version": "1.2.0",
            "_view_count": null,
            "flex_flow": null,
            "width": null,
            "min_width": null,
            "border": null,
            "align_items": null,
            "bottom": null,
            "_model_module": "@jupyter-widgets/base",
            "top": null,
            "grid_column": null,
            "overflow_y": null,
            "overflow_x": null,
            "grid_auto_flow": null,
            "grid_area": null,
            "grid_template_columns": null,
            "flex": null,
            "_model_name": "LayoutModel",
            "justify_items": null,
            "grid_row": null,
            "max_height": null,
            "align_content": null,
            "visibility": null,
            "align_self": null,
            "height": null,
            "min_height": null,
            "padding": null,
            "grid_auto_rows": null,
            "grid_gap": null,
            "max_width": null,
            "order": null,
            "_view_module_version": "1.2.0",
            "grid_template_areas": null,
            "object_position": null,
            "object_fit": null,
            "grid_auto_columns": null,
            "margin": null,
            "display": null,
            "left": null
          }
        },
        "69c3848483a44354b03a5e8311255105": {
          "model_module": "@jupyter-widgets/base",
          "model_name": "LayoutModel",
          "state": {
            "_view_name": "LayoutView",
            "grid_template_rows": null,
            "right": null,
            "justify_content": null,
            "_view_module": "@jupyter-widgets/base",
            "overflow": null,
            "_model_module_version": "1.2.0",
            "_view_count": null,
            "flex_flow": null,
            "width": null,
            "min_width": null,
            "border": null,
            "align_items": null,
            "bottom": null,
            "_model_module": "@jupyter-widgets/base",
            "top": null,
            "grid_column": null,
            "overflow_y": null,
            "overflow_x": null,
            "grid_auto_flow": null,
            "grid_area": null,
            "grid_template_columns": null,
            "flex": null,
            "_model_name": "LayoutModel",
            "justify_items": null,
            "grid_row": null,
            "max_height": null,
            "align_content": null,
            "visibility": null,
            "align_self": null,
            "height": null,
            "min_height": null,
            "padding": null,
            "grid_auto_rows": null,
            "grid_gap": null,
            "max_width": null,
            "order": null,
            "_view_module_version": "1.2.0",
            "grid_template_areas": null,
            "object_position": null,
            "object_fit": null,
            "grid_auto_columns": null,
            "margin": null,
            "display": null,
            "left": null
          }
        }
      }
    }
  },
  "cells": [
    {
      "cell_type": "markdown",
      "metadata": {
        "id": "view-in-github",
        "colab_type": "text"
      },
      "source": [
        "<a href=\"https://colab.research.google.com/github/NeuromatchAcademy/course-content-dl/blob/w2d3_updates/tutorials/W2D3_ModernRecurrentNeuralNetworks/W2D3_Tutorial1.ipynb\" target=\"_parent\"><img src=\"https://colab.research.google.com/assets/colab-badge.svg\" alt=\"Open In Colab\"/></a>"
      ]
    },
    {
      "cell_type": "markdown",
      "metadata": {
        "execution": {},
        "id": "gEwmigAuPOlJ"
      },
      "source": [
        "# Tutorial 1: Modeling sequencies and encoding text\n",
        "**Week 2, Day 3: Modern RNNs**\n",
        "\n",
        "**By Neuromatch Academy**\n",
        "\n",
        "__Content creators:__ Bhargav Srinivasa Desikan, Anis Zahedifard, James Evans\n",
        "\n",
        "__Content reviewers:__ Lily Cheng, Melvin Selim Atay\n",
        "\n",
        "__Production editors:__ Roberto Guidotti, Spiros Chavlis\n"
      ]
    },
    {
      "cell_type": "markdown",
      "metadata": {
        "execution": {},
        "id": "xFHZUDIxPOlN"
      },
      "source": [
        "**Our 2021 Sponsors, including Presenting Sponsor Facebook Reality Labs**\n",
        "\n",
        "<p align='center'><img src='https://github.com/NeuromatchAcademy/widgets/blob/master/sponsors.png?raw=True'/></p>"
      ]
    },
    {
      "cell_type": "markdown",
      "metadata": {
        "execution": {},
        "id": "NGOZ_Z0bPOlN"
      },
      "source": [
        "----\n",
        "# Tutorial objectives\n",
        "\n",
        "Before we begin with exploring how RNNs excel at modelling sequences, we will explore some of the other ways we can model sequences, encode text, and make meaningful measurements using such encodings and embeddings. "
      ]
    },
    {
      "cell_type": "code",
      "metadata": {
        "execution": {},
        "cellView": "form",
        "id": "6hdLLJnBPOlO",
        "outputId": "a1fe477e-cf5a-4d60-f9c9-2a8273549717",
        "colab": {
          "base_uri": "https://localhost:8080/",
          "height": 590
        }
      },
      "source": [
        "#@markdown Tutorial slides\n",
        "# you should link the slides for all tutorial videos here (we will store pdfs on osf)\n",
        "\n",
        "from IPython.display import HTML\n",
        "HTML('<iframe src=\"\" frameborder=\"0\" width=\"960\" height=\"569\" allowfullscreen=\"true\" mozallowfullscreen=\"true\" webkitallowfullscreen=\"true\"></iframe>')"
      ],
      "execution_count": 1,
      "outputs": [
        {
          "output_type": "execute_result",
          "data": {
            "text/html": [
              "<iframe src=\"\" frameborder=\"0\" width=\"960\" height=\"569\" allowfullscreen=\"true\" mozallowfullscreen=\"true\" webkitallowfullscreen=\"true\"></iframe>"
            ],
            "text/plain": [
              "<IPython.core.display.HTML object>"
            ]
          },
          "metadata": {
            "tags": []
          },
          "execution_count": 1
        }
      ]
    },
    {
      "cell_type": "code",
      "metadata": {
        "cellView": "form",
        "execution": {},
        "id": "_z_QBmXLPOlO",
        "outputId": "55dafdc8-a3b0-4ab2-f8be-8a20f4b9026d",
        "colab": {
          "base_uri": "https://localhost:8080/",
          "height": 580,
          "referenced_widgets": [
            "358d323a834f412f86c2db2205036efb",
            "56e40e6a52ff4593a4dab9221b625bf4",
            "e20b79077262460daf17653de0361452",
            "c55504289a6d44818203629908a3dbec",
            "d27d2f25f4964e49bef7cced083bfc59",
            "8a673bc2d66a4ea0ad661fd0d455c5ca"
          ]
        }
      },
      "source": [
        "#@title Video 1: Introduction\n",
        "# Insert the ID of the corresponding youtube video\n",
        "from ipywidgets import widgets\n",
        "\n",
        "out2 = widgets.Output()\n",
        "with out2:\n",
        "  from IPython.display import IFrame\n",
        "  class BiliVideo(IFrame):\n",
        "      def __init__(self, id, page=1, width=400, height=300, **kwargs):\n",
        "          self.id=id\n",
        "          src = \"https://player.bilibili.com/player.html?bvid={0}&page={1}\".format(id, page)\n",
        "          super(BiliVideo, self).__init__(src, width, height, **kwargs)\n",
        "\n",
        "  video = BiliVideo(id=f\"\", width=854, height=480, fs=1)\n",
        "  print(\"Video available at https://www.bilibili.com/video/{0}\".format(video.id))\n",
        "  display(video)\n",
        "\n",
        "out1 = widgets.Output()\n",
        "with out1:\n",
        "  from IPython.display import YouTubeVideo\n",
        "  video = YouTubeVideo(id=f\"EdnZ4tS4kK0\", width=854, height=480, fs=1, rel=0)\n",
        "  print(\"Video available at https://youtube.com/watch?v=\" + video.id)\n",
        "  display(video)\n",
        "\n",
        "out = widgets.Tab([out1, out2])\n",
        "out.set_title(0, 'Youtube')\n",
        "out.set_title(1, 'Bilibili')\n",
        "\n",
        "display(out)"
      ],
      "execution_count": 2,
      "outputs": [
        {
          "output_type": "display_data",
          "data": {
            "application/vnd.jupyter.widget-view+json": {
              "model_id": "358d323a834f412f86c2db2205036efb",
              "version_minor": 0,
              "version_major": 2
            },
            "text/plain": [
              "Tab(children=(Output(), Output()), _titles={'0': 'Youtube', '1': 'Bilibili'})"
            ]
          },
          "metadata": {
            "tags": []
          }
        }
      ]
    },
    {
      "cell_type": "markdown",
      "metadata": {
        "execution": {},
        "id": "JZipKfiwPOlP"
      },
      "source": [
        "---\n",
        "## Setup"
      ]
    },
    {
      "cell_type": "code",
      "metadata": {
        "execution": {},
        "id": "zeFdPSUzPOlQ",
        "outputId": "0104195d-8781-4b12-ba38-afc7a4db2429",
        "colab": {
          "base_uri": "https://localhost:8080/"
        }
      },
      "source": [
        "# Install packages\n",
        "!pip install torchtext==0.4.0 --quiet\n",
        "!pip install --upgrade gensim --quiet\n",
        "!pip install unidecode --quiet\n",
        "!pip install d2l --quiet\n",
        "!pip install hmmlearn --quiet\n",
        "!pip install fasttext --quiet\n",
        "\n",
        "# Imports\n",
        "import os\n",
        "\n",
        "import time\n",
        "import nltk\n",
        "import torch\n",
        "import random\n",
        "import pickle\n",
        "import string\n",
        "import zipfile\n",
        "import fasttext\n",
        "import requests\n",
        "\n",
        "import numpy as np\n",
        "import pandas as pd\n",
        "import torch.nn as nn\n",
        "import matplotlib.cm as cm\n",
        "import matplotlib.pyplot as plt\n",
        "\n",
        "from IPython.display import Image\n",
        "from tqdm import tqdm_notebook as tqdm\n",
        "\n",
        "from hmmlearn import hmm\n",
        "from nltk import FreqDist\n",
        "from nltk.corpus import brown\n",
        "from d2l import torch as d2l\n",
        "from gensim.models import Word2Vec\n",
        "from scipy.sparse import dok_matrix\n",
        "from torchtext import data, datasets\n",
        "from torch.nn import functional as F\n",
        "from torchtext.vocab import FastText\n",
        "from nltk.tokenize import word_tokenize\n",
        "\n",
        "from sklearn.manifold import TSNE\n",
        "from sklearn.preprocessing import LabelEncoder\n",
        "from sklearn.metrics.pairwise import cosine_similarity\n",
        "\n",
        "from IPython.display import YouTubeVideo\n",
        "\n",
        "# no critical warnings, so we supress it\n",
        "import warnings\n",
        "warnings.simplefilter(\"ignore\")\n",
        "\n",
        "nltk.download('punkt')\n",
        "nltk.download('averaged_perceptron_tagger')\n",
        "nltk.download('brown')\n",
        "nltk.download('webtext')\n",
        "\n",
        "device = torch.device('cuda' if torch.cuda.is_available() else 'cpu')"
      ],
      "execution_count": 3,
      "outputs": [
        {
          "output_type": "stream",
          "text": [
            "[nltk_data] Downloading package punkt to /root/nltk_data...\n",
            "[nltk_data]   Package punkt is already up-to-date!\n",
            "[nltk_data] Downloading package averaged_perceptron_tagger to\n",
            "[nltk_data]     /root/nltk_data...\n",
            "[nltk_data]   Package averaged_perceptron_tagger is already up-to-\n",
            "[nltk_data]       date!\n",
            "[nltk_data] Downloading package brown to /root/nltk_data...\n",
            "[nltk_data]   Package brown is already up-to-date!\n",
            "[nltk_data] Downloading package webtext to /root/nltk_data...\n",
            "[nltk_data]   Package webtext is already up-to-date!\n"
          ],
          "name": "stdout"
        },
        {
          "output_type": "stream",
          "text": [
            "/usr/local/lib/python3.7/dist-packages/gensim/similarities/__init__.py:15: UserWarning: The gensim.similarities.levenshtein submodule is disabled, because the optional Levenshtein package <https://pypi.org/project/python-Levenshtein/> is unavailable. Install Levenhstein (e.g. `pip install python-Levenshtein`) to suppress this warning.\n",
            "  warnings.warn(msg)\n"
          ],
          "name": "stderr"
        }
      ]
    },
    {
      "cell_type": "code",
      "metadata": {
        "cellView": "form",
        "execution": {},
        "id": "Tiq0jCdzPOlQ"
      },
      "source": [
        "# @title Figure Settings\n",
        "import ipywidgets as widgets\n",
        "%matplotlib inline\n",
        "%config InlineBackend.figure_format = 'retina'\n",
        "\n",
        "plt.style.use(\"https://raw.githubusercontent.com/NeuromatchAcademy/content-creation/main/nma.mplstyle\")"
      ],
      "execution_count": 4,
      "outputs": []
    },
    {
      "cell_type": "code",
      "metadata": {
        "cellView": "form",
        "execution": {},
        "id": "XNylHcgwPOlR"
      },
      "source": [
        "#@title Helper functions\n",
        "def cosine_similarity(vec_a, vec_b):\n",
        "    \"\"\"Compute cosine similarity between vec_a and vec_b\"\"\"\n",
        "    return np.dot(vec_a, vec_b) / (np.linalg.norm(vec_a) * np.linalg.norm(vec_b))\n",
        "\n",
        "\n",
        "def tokenize(sentences):\n",
        "  #Tokenize the sentence\n",
        "  #from nltk.tokenize library use word_tokenize\n",
        "  token = word_tokenize(sentences)\n",
        "\n",
        "  return token\n",
        "\n",
        "\n",
        "def plot_train_val(x, train, val, train_label, val_label, title, y_label,\n",
        "                   color):\n",
        "  plt.plot(x, train, label=train_label, color=color)\n",
        "  plt.plot(x, val, label=val_label, color=color, linestyle='--')\n",
        "  plt.legend(loc='lower right')\n",
        "  plt.xlabel('epoch')\n",
        "  plt.ylabel(y_label)\n",
        "  plt.title(title)\n",
        "\n",
        "\n",
        "def load_dataset(emb_vectors, sentence_length=50, seed=522):\n",
        "  TEXT = data.Field(sequential=True,\n",
        "                    tokenize=tokenize,\n",
        "                    lower=True,\n",
        "                    include_lengths=True,\n",
        "                    batch_first=True,\n",
        "                    fix_length=sentence_length)\n",
        "  LABEL = data.LabelField(dtype=torch.float)\n",
        "\n",
        "  train_data, test_data = datasets.IMDB.splits(TEXT, LABEL)\n",
        "\n",
        "  TEXT.build_vocab(train_data, vectors=emb_vectors)\n",
        "  LABEL.build_vocab(train_data)\n",
        "\n",
        "  train_data, valid_data = train_data.split(split_ratio=0.7,\n",
        "                                            random_state=random.seed(seed))\n",
        "  train_iter, valid_iter, test_iter = data.BucketIterator.splits((train_data,\n",
        "                                                                  valid_data,\n",
        "                                                                  test_data),\n",
        "                                                                  batch_size=32,\n",
        "                                                                  sort_key=lambda x: len(x.text),\n",
        "                                                                  repeat=False,\n",
        "                                                                  shuffle=True)\n",
        "  vocab_size = len(TEXT.vocab)\n",
        "\n",
        "  print(f'Data are loaded. sentence length: {sentence_length} '\n",
        "        f'seed: {seed}')\n",
        "\n",
        "  return TEXT, vocab_size, train_iter, valid_iter, test_iter\n",
        "\n",
        "\n",
        "def download_file_from_google_drive(id, destination):\n",
        "  URL = \"https://docs.google.com/uc?export=download\"\n",
        "\n",
        "  session = requests.Session()\n",
        "\n",
        "  response = session.get(URL, params={ 'id': id }, stream=True)\n",
        "  token = get_confirm_token(response)\n",
        "\n",
        "  if token:\n",
        "    params = { 'id': id, 'confirm': token }\n",
        "    response = session.get(URL, params=params, stream=True)\n",
        "\n",
        "  save_response_content(response, destination)\n",
        "\n",
        "\n",
        "def get_confirm_token(response):\n",
        "  for key, value in response.cookies.items():\n",
        "    if key.startswith('download_warning'):\n",
        "      return value\n",
        "\n",
        "  return None\n",
        "\n",
        "\n",
        "def save_response_content(response, destination):\n",
        "  CHUNK_SIZE = 32768\n",
        "\n",
        "  with open(destination, \"wb\") as f:\n",
        "    for chunk in response.iter_content(CHUNK_SIZE):\n",
        "      if chunk: # filter out keep-alive new chunks\n",
        "        f.write(chunk)"
      ],
      "execution_count": 5,
      "outputs": []
    },
    {
      "cell_type": "code",
      "metadata": {
        "cellView": "form",
        "execution": {},
        "id": "qFEbIzXfPOlR",
        "outputId": "a917ad5f-09a4-402b-b3ec-44b4550e2edf",
        "colab": {
          "base_uri": "https://localhost:8080/"
        }
      },
      "source": [
        "#@title Set random seed\n",
        "\n",
        "#@markdown Executing `set_seed(seed=seed)` you are setting the seed\n",
        "\n",
        "# for DL its critical to set the random seed so that students can have a\n",
        "# baseline to compare their results to expected results.\n",
        "# Read more here: https://pytorch.org/docs/stable/notes/randomness.html\n",
        "\n",
        "# Call `set_seed` function in the exercises to ensure reproducibility.\n",
        "import random\n",
        "\n",
        "def set_seed(seed=None, seed_torch=True):\n",
        "  if seed is None:\n",
        "    seed = np.random.choice(2 ** 32)\n",
        "  random.seed(seed)\n",
        "  np.random.seed(seed)\n",
        "  if seed_torch:\n",
        "    torch.manual_seed(seed)\n",
        "    torch.cuda.manual_seed_all(seed)\n",
        "    torch.cuda.manual_seed(seed)\n",
        "    torch.backends.cudnn.benchmark = False\n",
        "    torch.backends.cudnn.deterministic = True\n",
        "\n",
        "  print(f'Random seed {seed} has been set.')\n",
        "\n",
        "# In case that `DataLoader` is used\n",
        "def seed_worker(worker_id):\n",
        "  worker_seed = torch.initial_seed() % 2**32\n",
        "  np.random.seed(worker_seed)\n",
        "  random.seed(worker_seed)\n",
        "\n",
        "\n",
        "# Before the exercises it should re-executed to ensure reproducibility\n",
        "set_seed(seed=2021)  # change 2021 with any number you like"
      ],
      "execution_count": 6,
      "outputs": [
        {
          "output_type": "stream",
          "text": [
            "Random seed 2021 has been set.\n"
          ],
          "name": "stdout"
        }
      ]
    },
    {
      "cell_type": "code",
      "metadata": {
        "cellView": "form",
        "execution": {},
        "id": "rf5tt07VPOlS"
      },
      "source": [
        "#@title Set device (GPU or CPU). Execute `set_device()`\n",
        "\n",
        "# inform the user if the notebook uses GPU or CPU.\n",
        "\n",
        "def set_device():\n",
        "  device = \"cuda\" if torch.cuda.is_available() else \"cpu\"\n",
        "  if device != \"cuda\":\n",
        "    print(\"WARNING: For this notebook to perform best, \"\n",
        "        \"if possible, in the menu under `Runtime` -> \"\n",
        "        \"`Change runtime type.`  select `GPU` \")\n",
        "  else:\n",
        "    print(\"GPU is enabled in this notebook.\")\n",
        "\n",
        "  return device"
      ],
      "execution_count": 7,
      "outputs": []
    },
    {
      "cell_type": "code",
      "metadata": {
        "execution": {},
        "id": "oZRdtFIhPOlS",
        "outputId": "3508e8b6-0c99-46da-9872-a4d0418a1715",
        "colab": {
          "base_uri": "https://localhost:8080/"
        }
      },
      "source": [
        "DEVICE = set_device()\n",
        "SEED = 2021\n",
        "set_seed(seed=SEED, seed_torch=True)"
      ],
      "execution_count": 8,
      "outputs": [
        {
          "output_type": "stream",
          "text": [
            "WARNING: For this notebook to perform best, if possible, in the menu under `Runtime` -> `Change runtime type.`  select `GPU` \n",
            "Random seed 2021 has been set.\n"
          ],
          "name": "stdout"
        }
      ]
    },
    {
      "cell_type": "markdown",
      "metadata": {
        "execution": {},
        "id": "bA8XL3JmPOlT"
      },
      "source": [
        "---\n",
        "# Section 1: Sequences, Markov Chains & HMMs"
      ]
    },
    {
      "cell_type": "code",
      "metadata": {
        "cellView": "form",
        "execution": {},
        "id": "hsYMujy4POlT",
        "outputId": "a7f96bcb-5c98-4432-9788-55449aa0e296",
        "colab": {
          "base_uri": "https://localhost:8080/",
          "height": 580,
          "referenced_widgets": [
            "b23ed0bb1cfd4b4d9e67733e4a946a31",
            "23fd0fa9b5f04e1ab28bb944bc35d27c",
            "3b40994b6ef54ea3b68ce5fc0695e6c1",
            "9fe0327297aa46a3838b4d07ad2faaf5",
            "d1d7a14d35ec4dd084adb22b3dc52bc6",
            "bce1c9e942494ecb89e74d48d658ab43"
          ]
        }
      },
      "source": [
        "#@title Video 2: Sequences & Markov Processes\n",
        "# Insert the ID of the corresponding youtube video\n",
        "from ipywidgets import widgets\n",
        "\n",
        "out2 = widgets.Output()\n",
        "with out2:\n",
        "  from IPython.display import IFrame\n",
        "  class BiliVideo(IFrame):\n",
        "      def __init__(self, id, page=1, width=400, height=300, **kwargs):\n",
        "          self.id=id\n",
        "          src = \"https://player.bilibili.com/player.html?bvid={0}&page={1}\".format(id, page)\n",
        "          super(BiliVideo, self).__init__(src, width, height, **kwargs)\n",
        "\n",
        "  video = BiliVideo(id=f\"\", width=854, height=480, fs=1)\n",
        "  print(\"Video available at https://www.bilibili.com/video/{0}\".format(video.id))\n",
        "  display(video)\n",
        "\n",
        "out1 = widgets.Output()\n",
        "with out1:\n",
        "  from IPython.display import YouTubeVideo\n",
        "  video = YouTubeVideo(id=f\"LrNVfGiyNws\", width=854, height=480, fs=1, rel=0)\n",
        "  print(\"Video available at https://youtube.com/watch?v=\" + video.id)\n",
        "  display(video)\n",
        "\n",
        "out = widgets.Tab([out1, out2])\n",
        "out.set_title(0, 'Youtube')\n",
        "out.set_title(1, 'Bilibili')\n",
        "\n",
        "display(out)"
      ],
      "execution_count": 9,
      "outputs": [
        {
          "output_type": "display_data",
          "data": {
            "application/vnd.jupyter.widget-view+json": {
              "model_id": "b23ed0bb1cfd4b4d9e67733e4a946a31",
              "version_minor": 0,
              "version_major": 2
            },
            "text/plain": [
              "Tab(children=(Output(), Output()), _titles={'0': 'Youtube', '1': 'Bilibili'})"
            ]
          },
          "metadata": {
            "tags": []
          }
        }
      ]
    },
    {
      "cell_type": "markdown",
      "metadata": {
        "execution": {},
        "id": "-9vps7WoPOlT"
      },
      "source": [
        "\n",
        "\n",
        "In this notebook we will be exploring the world of sequences - thinking of what kind of data can be thought of as sequences, and how these sequences can be represented as Markov Chains and Hidden Markov Models. These ideas and methods were an important part of natural language processing and language modelling, and serve as a useful way to ground ourselves before we dive into neural network methods."
      ]
    },
    {
      "cell_type": "markdown",
      "metadata": {
        "execution": {},
        "id": "yCkmGWWHPOlU"
      },
      "source": [
        "\n",
        "## Why is this relevant? How are these sequences related to modern recurrent neural networks?\n",
        "\n",
        "Like we mentioned before, the notion of modelling sequences of data - in this particular case, **language**, is an ideal place to start. RNNs themselves were constructed keeping in mind sequences, and the ability to temporally model sequences is what inspired RNNs (and the family of LSTM, GRUs - we will see this in the next notebook).\n",
        "\n",
        "Markov models and hidden markov models serve as an introduction to these concepts because they were some of the earliest ways to think about sequences. They do not capture a lot of the complexity that RNNs excel at, but are an useful way of thinking of sequences, probabilities, and how we can use these concepts to perform  tasks such as text generation, or classification - tasks that RNNs excel at today. \n",
        "\n",
        "Think of this section as an introduction to thinking with sequences and text data, and as a historical introduction to the world of modelling sequential data. "
      ]
    },
    {
      "cell_type": "markdown",
      "metadata": {
        "execution": {},
        "id": "hLCmwd6UPOlV"
      },
      "source": [
        "## Section 1.1: What data are sequences?\n",
        "\n",
        "Native Sequences:\n",
        "\n",
        "- Temporally occurring events (e.g., history, stock prices)\n",
        "- Temporally processed events (e.g., communication)\n",
        "- Topologically connected components (e.g., polymers, peptides)\n",
        "\n",
        "Synthetic Sequences: \n",
        "\n",
        "- Anything processed as a sequence (e.g., scanned pixels in an image)\n",
        "\n",
        "Sequences can be represented as a Markov Process - since this notion of sequential data is intrinsically linked to RNNs, it is a good place for us to start, and natural language (text!) will be our sequence of choice. \n",
        "\n",
        "We will be using the Brown corpus which comes loaded with NLTK, and using the entire corpus - this requires a lot of RAM for some of the methods, so we recommend using a smaller subset of categories if you do not have enough RAM.\n",
        "\n",
        "We will be using some of the code from this [tutorial](https://www.kdnuggets.com/2019/11/markov-chains-train-text-generation.html) and this [Jupyter notebook](https://github.com/StrikingLoo/ASOIAF-Markov/blob/master/ASOIAF.ipynb)\n",
        "\n",
        "The first few cells of code all involve set-up; some of this code will be hidden because they are not necessary to understand the ideas of markov models, but the way data is setup can be vital to the way the model performs (something in common with neural network models!).\n",
        "\n",
        "Let us start with loading our corpus.\n",
        "\n"
      ]
    },
    {
      "cell_type": "code",
      "metadata": {
        "execution": {},
        "id": "JNplTrpiPOlV"
      },
      "source": [
        "category = ['editorial', 'fiction', 'government', 'news', 'religion']\n",
        "sentences = brown.sents(categories=category)"
      ],
      "execution_count": 10,
      "outputs": []
    },
    {
      "cell_type": "markdown",
      "metadata": {
        "execution": {},
        "id": "kxHhBfxZPOlV"
      },
      "source": [
        "Now that we have our sentences, let us look at some statistics to get an idea of what we are dealing with."
      ]
    },
    {
      "cell_type": "code",
      "metadata": {
        "execution": {},
        "id": "Pe95_wpQPOlW"
      },
      "source": [
        "lengths = [len(sentence) for sentence in sentences]\n",
        "lengths = pd.Series(lengths)"
      ],
      "execution_count": 11,
      "outputs": []
    },
    {
      "cell_type": "code",
      "metadata": {
        "execution": {},
        "id": "z4i-Tz78POlW",
        "outputId": "98087bcf-d77d-4424-8fab-fc424f1e482e",
        "colab": {
          "base_uri": "https://localhost:8080/"
        }
      },
      "source": [
        "lengths.quantile(.8)"
      ],
      "execution_count": 12,
      "outputs": [
        {
          "output_type": "execute_result",
          "data": {
            "text/plain": [
              "30.0"
            ]
          },
          "metadata": {
            "tags": []
          },
          "execution_count": 12
        }
      ]
    },
    {
      "cell_type": "code",
      "metadata": {
        "execution": {},
        "id": "YdRjhkYtPOlX",
        "outputId": "4e630d3e-1e38-4a6b-c877-ef1d6e1fa54a",
        "colab": {
          "base_uri": "https://localhost:8080/"
        }
      },
      "source": [
        "lengths.describe()"
      ],
      "execution_count": 13,
      "outputs": [
        {
          "output_type": "execute_result",
          "data": {
            "text/plain": [
              "count    16617.000000\n",
              "mean        20.470723\n",
              "std         13.656809\n",
              "min          1.000000\n",
              "25%         10.000000\n",
              "50%         18.000000\n",
              "75%         28.000000\n",
              "max        180.000000\n",
              "dtype: float64"
            ]
          },
          "metadata": {
            "tags": []
          },
          "execution_count": 13
        }
      ]
    },
    {
      "cell_type": "code",
      "metadata": {
        "execution": {},
        "id": "uKqMAGFEPOlX",
        "outputId": "283830b9-87d7-4451-cad3-7d4df436ff47",
        "colab": {
          "base_uri": "https://localhost:8080/"
        }
      },
      "source": [
        "sentences[0:2]"
      ],
      "execution_count": 14,
      "outputs": [
        {
          "output_type": "execute_result",
          "data": {
            "text/plain": [
              "[['The',\n",
              "  'Fulton',\n",
              "  'County',\n",
              "  'Grand',\n",
              "  'Jury',\n",
              "  'said',\n",
              "  'Friday',\n",
              "  'an',\n",
              "  'investigation',\n",
              "  'of',\n",
              "  \"Atlanta's\",\n",
              "  'recent',\n",
              "  'primary',\n",
              "  'election',\n",
              "  'produced',\n",
              "  '``',\n",
              "  'no',\n",
              "  'evidence',\n",
              "  \"''\",\n",
              "  'that',\n",
              "  'any',\n",
              "  'irregularities',\n",
              "  'took',\n",
              "  'place',\n",
              "  '.'],\n",
              " ['The',\n",
              "  'jury',\n",
              "  'further',\n",
              "  'said',\n",
              "  'in',\n",
              "  'term-end',\n",
              "  'presentments',\n",
              "  'that',\n",
              "  'the',\n",
              "  'City',\n",
              "  'Executive',\n",
              "  'Committee',\n",
              "  ',',\n",
              "  'which',\n",
              "  'had',\n",
              "  'over-all',\n",
              "  'charge',\n",
              "  'of',\n",
              "  'the',\n",
              "  'election',\n",
              "  ',',\n",
              "  '``',\n",
              "  'deserves',\n",
              "  'the',\n",
              "  'praise',\n",
              "  'and',\n",
              "  'thanks',\n",
              "  'of',\n",
              "  'the',\n",
              "  'City',\n",
              "  'of',\n",
              "  'Atlanta',\n",
              "  \"''\",\n",
              "  'for',\n",
              "  'the',\n",
              "  'manner',\n",
              "  'in',\n",
              "  'which',\n",
              "  'the',\n",
              "  'election',\n",
              "  'was',\n",
              "  'conducted',\n",
              "  '.']]"
            ]
          },
          "metadata": {
            "tags": []
          },
          "execution_count": 14
        }
      ]
    },
    {
      "cell_type": "markdown",
      "metadata": {
        "execution": {},
        "id": "lgBMZXckPOlX"
      },
      "source": [
        "This gives us an idea of what our dataset looks like, along with some average lengths. This kind of quick data exploration can be very useful - we know how long different sequences are, and how we might want to collect these words."
      ]
    },
    {
      "cell_type": "markdown",
      "metadata": {
        "execution": {},
        "id": "_K0dDE7HPOlY"
      },
      "source": [
        "Since we will be modelling words as sequences in sentences, let us first collect all the words in our corpus."
      ]
    },
    {
      "cell_type": "code",
      "metadata": {
        "execution": {},
        "id": "Kn86S5GWPOlY"
      },
      "source": [
        "corpus_words = []\n",
        "for sentence in sentences:\n",
        "  for word in sentence:\n",
        "    if \"''\" not in word and \"``\" not in word:\n",
        "      corpus_words.append(word)"
      ],
      "execution_count": 15,
      "outputs": []
    },
    {
      "cell_type": "code",
      "metadata": {
        "execution": {},
        "id": "v7grmrTkPOlY",
        "outputId": "c01bdd84-8087-4e99-c111-2cd2719bdf9f",
        "colab": {
          "base_uri": "https://localhost:8080/"
        }
      },
      "source": [
        "print(\"Corpus length: \"+ str(len(corpus_words)))"
      ],
      "execution_count": 16,
      "outputs": [
        {
          "output_type": "stream",
          "text": [
            "Corpus length: 335766\n"
          ],
          "name": "stdout"
        }
      ]
    },
    {
      "cell_type": "code",
      "metadata": {
        "execution": {},
        "id": "3ps5nal1POlY",
        "outputId": "849b0332-9bcb-4e1f-aa56-c19db0beabac",
        "colab": {
          "base_uri": "https://localhost:8080/"
        }
      },
      "source": [
        "corpus_words[0:20]"
      ],
      "execution_count": 17,
      "outputs": [
        {
          "output_type": "execute_result",
          "data": {
            "text/plain": [
              "['The',\n",
              " 'Fulton',\n",
              " 'County',\n",
              " 'Grand',\n",
              " 'Jury',\n",
              " 'said',\n",
              " 'Friday',\n",
              " 'an',\n",
              " 'investigation',\n",
              " 'of',\n",
              " \"Atlanta's\",\n",
              " 'recent',\n",
              " 'primary',\n",
              " 'election',\n",
              " 'produced',\n",
              " 'no',\n",
              " 'evidence',\n",
              " 'that',\n",
              " 'any',\n",
              " 'irregularities']"
            ]
          },
          "metadata": {
            "tags": []
          },
          "execution_count": 17
        }
      ]
    },
    {
      "cell_type": "markdown",
      "metadata": {
        "execution": {},
        "id": "Ugm0gUOiPOlZ"
      },
      "source": [
        "We'll now get distinct words and create a matrix to represent all these words - this is necessary because we will be using this matrix to look at the probability of the words in sequences."
      ]
    },
    {
      "cell_type": "code",
      "metadata": {
        "cellView": "form",
        "execution": {},
        "id": "JeeMa0mbPOlZ"
      },
      "source": [
        "# @title Creating Matrices and Distinct Words\n",
        "distinct_words = list(set(corpus_words))\n",
        "word_idx_dict = {word: i for i, word in enumerate(distinct_words)}\n",
        "distinct_words_count = len(list(set(corpus_words)))\n",
        "next_word_matrix = np.zeros([distinct_words_count, distinct_words_count])"
      ],
      "execution_count": 18,
      "outputs": []
    },
    {
      "cell_type": "code",
      "metadata": {
        "execution": {},
        "id": "IH6DDdiNPOla",
        "outputId": "a7a8aff0-7eca-44a0-8ef6-b99a8e860953",
        "colab": {
          "base_uri": "https://localhost:8080/"
        }
      },
      "source": [
        "print(\"Number of distinct words: \" + str(distinct_words_count))"
      ],
      "execution_count": 19,
      "outputs": [
        {
          "output_type": "stream",
          "text": [
            "Number of distinct words: 27485\n"
          ],
          "name": "stdout"
        }
      ]
    },
    {
      "cell_type": "markdown",
      "metadata": {
        "execution": {},
        "id": "enxnRykpPOla"
      },
      "source": [
        "In the following lines of code we are populating the matrix that tracks the next word in a sentence."
      ]
    },
    {
      "cell_type": "code",
      "metadata": {
        "cellView": "form",
        "execution": {},
        "id": "Na-5BT6SPOlc"
      },
      "source": [
        "# @title Populating Matric that tracks next word\n",
        "for i, word in enumerate(corpus_words[:-1]):\n",
        "  first_word_idx = word_idx_dict[word]\n",
        "  next_word_idx = word_idx_dict[corpus_words[i+1]]\n",
        "  next_word_matrix[first_word_idx][next_word_idx] +=1"
      ],
      "execution_count": 20,
      "outputs": []
    },
    {
      "cell_type": "markdown",
      "metadata": {
        "execution": {},
        "id": "eq0UXO6JPOld"
      },
      "source": [
        "Now we have the information ready to construct a markov chain. The next word matrix is crucial in this, as it allows us to go from one word in the sequence to the next. We will soon see how this is used."
      ]
    },
    {
      "cell_type": "markdown",
      "metadata": {
        "execution": {},
        "id": "UtJueZ-_POle"
      },
      "source": [
        "## Section 1.2: What is a Markov Chain or Model?\n",
        "\n",
        "A Markov Chain (or Model) is a:\n",
        "- stochastic model describing a sequence of possible events\n",
        "- the probability of each event depends only on the state attained in the previous event.\n",
        "- a countably infinite sequence, in which the chain moves state at discrete time steps, gives a discrete-time Markov chain (DTMC) [vs. a continuous-time process or CTMC].\n",
        "- The classic formal language model is a Markov Model\n",
        "\n",
        "*Helpful explanations from [eric mjl's tutorial](https://ericmjl.github.io/essays-on-data-science/machine-learning/markov-models/#non-autoregressive-homoskedastic-emissions)*!\n",
        "\n",
        "\n",
        "\n",
        "The simplest Markov models assume that we have a _system_ that contains a finite set of states,\n",
        "and that the _system_ transitions between these states with some probability at each time step $t$,\n",
        "thus generating a sequence of states over time.\n",
        "Let's call these states $S$, where\n",
        "\n",
        "$$S = \\{s_1, s_2, ..., s_n\\}$$\n",
        "\n",
        "To keep things simple, let's start with three states:\n",
        "\n",
        "$$S = \\{s_1, s_2, s_3\\}$$\n",
        "\n",
        "A Markov model generates a sequence of states, with one possible realization being:\n",
        "\n",
        "$$\\{s_1, s_1, s_1, s_3, s_3, s_3, s_2, s_2, s_3, s_3, s_3, s_3, s_1, ...\\}$$\n",
        "\n",
        "And generically, we represent it as a sequence of states $x_t, x_{t+1}... x_{t+n}$. (We have chosen a different symbol to not confuse the \"generic\" state with the specific realization. Graphically, a plain and simple Markov model looks like the following:\n",
        "\n",
        "<center><img src=\"https://raw.githubusercontent.com/NeuromatchAcademy/course-content-dl/main/tutorials/W2D3_ModernRecurrentNeuralNetworks/static/cell_chain.png\" width=\"500\"/></center>\n",
        "\n",
        "\n",
        "\n"
      ]
    },
    {
      "cell_type": "markdown",
      "metadata": {
        "execution": {},
        "id": "ek7UA-atPOlk"
      },
      "source": [
        "### Modelling transitions between states\n",
        "\n",
        "To know how a system transitions between states, we now need a **transition matrix**.\n",
        "\n",
        "The transition matrix describes the probability of transitioning from one state to another (The probability of staying in the same state is semantically equivalent to transitioning to the same state).\n",
        "\n",
        "By convention, transition matrix rows correspond to the state at time $t$,\n",
        "while columns correspond to state at time $t+1$.\n",
        "Hence, row probabilities sum to one, because the probability of transitioning to the next state depends on only the current state, and all possible states are known and enumerated.\n",
        "\n",
        "Let's call the transition matrix $P_{transition}$.\n",
        "The symbol etymology, which usually gets swept under the rug in mathematically-oriented papers, are as follows: \n",
        "\n",
        "- $transition$ doesn't refer to time but simply indicates that it is for transitioning states, \n",
        "- $P$ is used because it is a probability matrix.\n",
        "\n",
        "\\begin{equation}\n",
        "P_{transition} = \n",
        "  \\begin{pmatrix}\n",
        "  p_{11} & p_{12} & p_{13} \\\\\n",
        "  p_{21} & p_{22} & p_{23} \\\\\n",
        "  p_{31} & p_{32} & p_{33} \\\\\n",
        "  \\end{pmatrix}\n",
        "\\end{equation}\n",
        "\n",
        "Using the transition matrix, we can express that the system likes to stay in the state that it enters into, by assigning larger probability mass to the diagonals.\n",
        "\n",
        "Alternatively, we can express that the system likes to transition out of states that it enters into, by assigning larger probability mass to the off-diagonal.\n",
        "\n",
        "In our case, this matrix is created by seeing which words appear after each other."
      ]
    },
    {
      "cell_type": "code",
      "metadata": {
        "cellView": "form",
        "execution": {},
        "id": "yxRxtw6NPOlk"
      },
      "source": [
        "# @title Function for most likely word\n",
        "def most_likely_word_after(word):\n",
        "  # we check for the word most likely to occur using the matrix\n",
        "  most_likely = next_word_matrix[word_idx_dict[word]].argmax()\n",
        "  return distinct_words[most_likely]"
      ],
      "execution_count": 21,
      "outputs": []
    },
    {
      "cell_type": "markdown",
      "metadata": {
        "execution": {},
        "id": "QgRmdpgQPOll"
      },
      "source": [
        "Using our most likely word function, we can begin to create chains of words and create sequences. In the code below we create a naive chain that simply choses the most likely word."
      ]
    },
    {
      "cell_type": "code",
      "metadata": {
        "cellView": "form",
        "execution": {},
        "id": "zbhv83rnPOll"
      },
      "source": [
        "# @title Function for building Naive Chain\n",
        "def naive_chain(word, length=15):\n",
        "  current_word = word\n",
        "  sentence = word\n",
        "  # we now build a naive chain by picking up the most likely word\n",
        "  for _ in range(length):\n",
        "    sentence += ' '\n",
        "    next_word = most_likely_word_after(current_word)\n",
        "    sentence += next_word\n",
        "    current_word = next_word\n",
        "  return sentence"
      ],
      "execution_count": 22,
      "outputs": []
    },
    {
      "cell_type": "markdown",
      "metadata": {
        "execution": {},
        "id": "X_lFcVg-POll"
      },
      "source": [
        "Let us now use this naive chain to see what comes up, using some simple words."
      ]
    },
    {
      "cell_type": "code",
      "metadata": {
        "execution": {},
        "id": "RUroz1AsPOlm",
        "outputId": "85cf442b-cb57-4724-93a5-7a59637c1727",
        "colab": {
          "base_uri": "https://localhost:8080/"
        }
      },
      "source": [
        "print(naive_chain('the'))\n",
        "print(naive_chain('I'))\n",
        "print(naive_chain('What'))\n",
        "print(naive_chain('park'))"
      ],
      "execution_count": 23,
      "outputs": [
        {
          "output_type": "stream",
          "text": [
            "the United States , and the United States , and the United States , and the\n",
            "I have been a new members of the United States , and the United States ,\n",
            "What is a new members of the United States , and the United States , and\n",
            "park . The new members of the United States , and the United States , and\n"
          ],
          "name": "stdout"
        }
      ]
    },
    {
      "cell_type": "markdown",
      "metadata": {
        "execution": {},
        "id": "k6TL562RPOlm"
      },
      "source": [
        "We notice that after the word `the`, `United States` comes up each time. All the other words also end up at `the` quite often - suggesting that this is a pretty bad model. "
      ]
    },
    {
      "cell_type": "markdown",
      "metadata": {
        "execution": {},
        "id": "InlSDJeMPOln"
      },
      "source": [
        "We can now be a little more sophisticated, and return words in a sequence using a weighted choice."
      ]
    },
    {
      "cell_type": "code",
      "metadata": {
        "cellView": "form",
        "execution": {},
        "id": "EpDJk16TPOln"
      },
      "source": [
        "# @title Function for weighted choice\n",
        "def weighted_choice(objects, weights):\n",
        "  \"\"\"\n",
        "  Returns randomly an element from the sequence of 'objects',\n",
        "      the likelihood of the objects is weighted according\n",
        "      to the sequence of 'weights', i.e. percentages.\n",
        "  \"\"\"\n",
        "\n",
        "  weights = np.array(weights, dtype=np.float64)\n",
        "  sum_of_weights = weights.sum()\n",
        "  # standardization:\n",
        "  np.multiply(weights, 1 / sum_of_weights, weights)\n",
        "  weights = weights.cumsum()\n",
        "  x = random.random()\n",
        "  for i in range(len(weights)):\n",
        "    if x < weights[i]:\n",
        "      return objects[i]"
      ],
      "execution_count": 24,
      "outputs": []
    },
    {
      "cell_type": "code",
      "metadata": {
        "cellView": "form",
        "execution": {},
        "id": "z8GjOZnWPOln"
      },
      "source": [
        "# @title Function for sampling next word with weights\n",
        "def sample_next_word_after(word, alpha=0):\n",
        "  next_word_vector = next_word_matrix[word_idx_dict[word]] + alpha\n",
        "  likelihoods = next_word_vector/next_word_vector.sum()\n",
        "  return weighted_choice(distinct_words, likelihoods)"
      ],
      "execution_count": 25,
      "outputs": []
    },
    {
      "cell_type": "code",
      "metadata": {
        "execution": {},
        "id": "jnIoW_NrPOln",
        "outputId": "002c22b0-6492-404d-fea3-a8776f2d991f",
        "colab": {
          "base_uri": "https://localhost:8080/",
          "height": 37
        }
      },
      "source": [
        "sample_next_word_after('The')"
      ],
      "execution_count": 26,
      "outputs": [
        {
          "output_type": "execute_result",
          "data": {
            "application/vnd.google.colaboratory.intrinsic+json": {
              "type": "string"
            },
            "text/plain": [
              "'Dalles'"
            ]
          },
          "metadata": {
            "tags": []
          },
          "execution_count": 26
        }
      ]
    },
    {
      "cell_type": "code",
      "metadata": {
        "execution": {},
        "id": "xsg07v8JPOlo",
        "outputId": "5c05e318-ef75-4f40-9149-37abc6caf4c5",
        "colab": {
          "base_uri": "https://localhost:8080/",
          "height": 37
        }
      },
      "source": [
        "sample_next_word_after('The')"
      ],
      "execution_count": 27,
      "outputs": [
        {
          "output_type": "execute_result",
          "data": {
            "application/vnd.google.colaboratory.intrinsic+json": {
              "type": "string"
            },
            "text/plain": [
              "'inadequacy'"
            ]
          },
          "metadata": {
            "tags": []
          },
          "execution_count": 27
        }
      ]
    },
    {
      "cell_type": "markdown",
      "metadata": {
        "execution": {},
        "id": "ehbu8OpWPOlo"
      },
      "source": [
        "There! We don't see the same word twice (because of the randomisation), and we now use a weighted average of probabilities to find the next word in the chain. Our previous examples had just the next word - we'll now try to build a chain."
      ]
    },
    {
      "cell_type": "code",
      "metadata": {
        "cellView": "form",
        "execution": {},
        "id": "dQrBU3XWPOlo"
      },
      "source": [
        "# @title Function for a stochastic chain using weighted choice\n",
        "def stochastic_chain(word, length=15):\n",
        "  current_word = word\n",
        "  sentence = word\n",
        "\n",
        "  for _ in range(length):\n",
        "    sentence += ' '\n",
        "    next_word = sample_next_word_after(current_word)\n",
        "    sentence += next_word\n",
        "    current_word = next_word\n",
        "\n",
        "  return sentence"
      ],
      "execution_count": 28,
      "outputs": []
    },
    {
      "cell_type": "code",
      "metadata": {
        "execution": {},
        "id": "5QucHKFNPOlo",
        "outputId": "e8d095c5-9606-4825-aaf4-dffa5eda5c2a",
        "colab": {
          "base_uri": "https://localhost:8080/",
          "height": 37
        }
      },
      "source": [
        "stochastic_chain('Hospital')"
      ],
      "execution_count": 29,
      "outputs": [
        {
          "output_type": "execute_result",
          "data": {
            "application/vnd.google.colaboratory.intrinsic+json": {
              "type": "string"
            },
            "text/plain": [
              "'Hospital for surplus for stressing self-help The apostle Paul Stone Harbor . They refuse to be'"
            ]
          },
          "metadata": {
            "tags": []
          },
          "execution_count": 29
        }
      ]
    },
    {
      "cell_type": "markdown",
      "metadata": {
        "execution": {},
        "id": "Y_4No19sPOlo"
      },
      "source": [
        "Neat - we can create stochastic chains for a single word. For a more effective language model, we would want to model sets of words - in the following cells, we create sets of words to predict a chain after a sequence."
      ]
    },
    {
      "cell_type": "code",
      "metadata": {
        "execution": {},
        "id": "BT7mxNXnPOlo"
      },
      "source": [
        "k = 3"
      ],
      "execution_count": 30,
      "outputs": []
    },
    {
      "cell_type": "code",
      "metadata": {
        "cellView": "form",
        "execution": {},
        "id": "d4iCbK4OPOlp"
      },
      "source": [
        "# @title Code to build sets of words for more realistic sequences\n",
        "sets_of_k_words = [' '.join(corpus_words[i:i+k]) for i, _ in enumerate(corpus_words[:-k])]\n",
        "sets_count = len(list(set(sets_of_k_words)))\n",
        "next_after_k_words_matrix = dok_matrix((sets_count, len(distinct_words)))\n",
        "distinct_sets_of_k_words = list(set(sets_of_k_words))\n",
        "k_words_idx_dict = {word: i for i, word in enumerate(distinct_sets_of_k_words)}\n",
        "distinct_k_words_count = len(list(set(sets_of_k_words)))"
      ],
      "execution_count": 31,
      "outputs": []
    },
    {
      "cell_type": "markdown",
      "metadata": {
        "execution": {},
        "id": "-ON7J2LEPOlp"
      },
      "source": [
        "Let's have a look at what that bit of code did."
      ]
    },
    {
      "cell_type": "code",
      "metadata": {
        "execution": {},
        "id": "JGSyVLYOPOlp",
        "outputId": "ac52780f-6e55-4c7b-c0e0-0c25cde187ac",
        "colab": {
          "base_uri": "https://localhost:8080/"
        }
      },
      "source": [
        "distinct_sets_of_k_words[:10]"
      ],
      "execution_count": 32,
      "outputs": [
        {
          "output_type": "execute_result",
          "data": {
            "text/plain": [
              "['mean in a',\n",
              " 'their hour of',\n",
              " 'helping develop Hughes',\n",
              " 'of the law',\n",
              " 'continuously for at',\n",
              " ', philosopher Bertrand',\n",
              " 'aboard . Al',\n",
              " 'local and statewide',\n",
              " 'a communication from',\n",
              " 'include Reps. Edith']"
            ]
          },
          "metadata": {
            "tags": []
          },
          "execution_count": 32
        }
      ]
    },
    {
      "cell_type": "markdown",
      "metadata": {
        "execution": {},
        "id": "1jU6Y4fRPOlp"
      },
      "source": [
        "Great - now we create a matrix for the sets of words."
      ]
    },
    {
      "cell_type": "code",
      "metadata": {
        "cellView": "form",
        "execution": {},
        "id": "nHRNJpayPOlp",
        "outputId": "d5660e49-e3f5-44a5-fff9-6c9c0c293c83",
        "colab": {
          "base_uri": "https://localhost:8080/"
        }
      },
      "source": [
        "# @title Code to populate matrix of sets of words\n",
        "for i, word in enumerate(sets_of_k_words[:-k]):\n",
        "  if i % 50000 == 0:\n",
        "    print(i)\n",
        "  word_sequence_idx = k_words_idx_dict[word]\n",
        "  next_word_idx = word_idx_dict[corpus_words[i+k]]\n",
        "  next_after_k_words_matrix[word_sequence_idx, next_word_idx] += 1"
      ],
      "execution_count": 33,
      "outputs": [
        {
          "output_type": "stream",
          "text": [
            "0\n",
            "50000\n",
            "100000\n",
            "150000\n",
            "200000\n",
            "250000\n",
            "300000\n"
          ],
          "name": "stdout"
        }
      ]
    },
    {
      "cell_type": "markdown",
      "metadata": {
        "execution": {},
        "id": "_J26tOTbPOlp"
      },
      "source": [
        "We now have what we need to build a stochastic chain over a `K` set of words."
      ]
    },
    {
      "cell_type": "code",
      "metadata": {
        "cellView": "form",
        "execution": {},
        "id": "h_NSsrYCPOlp"
      },
      "source": [
        "# @title Function for stochastic Chain for sets of words\n",
        "def stochastic_chain_sequence(words, chain_length=15, words_length=2):\n",
        "  current_words = words.split(' ')\n",
        "  if len(current_words) != words_length:\n",
        "    raise ValueError(f'wrong number of words, expected {words_length}')\n",
        "  sentence = words\n",
        "\n",
        "  for _ in range(chain_length):\n",
        "    sentence += ' '\n",
        "    next_word = sample_next_word_after_sequence(' '.join(current_words))\n",
        "    sentence += next_word\n",
        "    current_words = current_words[1:]+[next_word]\n",
        "  return sentence"
      ],
      "execution_count": 34,
      "outputs": []
    },
    {
      "cell_type": "code",
      "metadata": {
        "cellView": "form",
        "execution": {},
        "id": "s2uQHJHHPOlq"
      },
      "source": [
        "# @title Function to sample next word after sequence\n",
        "def sample_next_word_after_sequence(word_sequence, alpha = 0):\n",
        "  next_word_vector = next_after_k_words_matrix[k_words_idx_dict[word_sequence]] + alpha\n",
        "  likelihoods = next_word_vector/next_word_vector.sum()\n",
        "  return weighted_choice(distinct_words, likelihoods.toarray())"
      ],
      "execution_count": 35,
      "outputs": []
    },
    {
      "cell_type": "code",
      "metadata": {
        "execution": {},
        "id": "cbYghZoiPOlq",
        "outputId": "1f2d01b6-5e23-48ee-d8a1-e135d33b2c45",
        "colab": {
          "base_uri": "https://localhost:8080/",
          "height": 37
        }
      },
      "source": [
        "stochastic_chain_sequence('Judges under the', words_length=3)"
      ],
      "execution_count": 36,
      "outputs": [
        {
          "output_type": "execute_result",
          "data": {
            "application/vnd.google.colaboratory.intrinsic+json": {
              "type": "string"
            },
            "text/plain": [
              "'Judges under the jurisdiction of the United States delegation came to Oslo in a somewhat tentative and exploratory'"
            ]
          },
          "metadata": {
            "tags": []
          },
          "execution_count": 36
        }
      ]
    },
    {
      "cell_type": "markdown",
      "metadata": {
        "execution": {},
        "id": "TzUfXLvIPOlq"
      },
      "source": [
        "Great! This sentence was created using two of the techniques we recently saw - creating sets of words, and using a weighted average stochastic chain. Both of these methods contributed in making it a more meaningful sequence of words. Some of these notions are also captured by Recurrent Neural Networks!"
      ]
    },
    {
      "cell_type": "markdown",
      "metadata": {
        "execution": {},
        "id": "qeiZWtryPOlq"
      },
      "source": [
        "### Think! 1.2: How does changing parameters the sentences generated?\n",
        "\n",
        "Try and use a set of words but using a naive chain, and try a stochastic chain with a low value of k (i.e., 2), and a higher value (i.e., 5). How do these different configurations change the quality of the sequences produced? Below you have sample code to try these out."
      ]
    },
    {
      "cell_type": "code",
      "metadata": {
        "execution": {},
        "cellView": "form",
        "id": "0Kjo9gEaPOlq"
      },
      "source": [
        "def sequences_matrix(k=3):\n",
        "  # @title Code to build sets of words for more realistic sequences\n",
        "  sets_of_k_words = [' '.join(corpus_words[i:i+k]) for i, _ in enumerate(corpus_words[:-k])]\n",
        "  sets_count = len(list(set(sets_of_k_words)))\n",
        "  next_after_k_words_matrix = dok_matrix((sets_count, len(distinct_words)))\n",
        "  distinct_sets_of_k_words = list(set(sets_of_k_words))\n",
        "  k_words_idx_dict = {word: i for i, word in enumerate(distinct_sets_of_k_words)}\n",
        "  distinct_k_words_count = len(list(set(sets_of_k_words)))\n",
        "  for i, word in enumerate(sets_of_k_words[:-k]):\n",
        "    if i % 50000 == 0:\n",
        "      print(i)\n",
        "    word_sequence_idx = k_words_idx_dict[word]\n",
        "    next_word_idx = word_idx_dict[corpus_words[i+k]]\n",
        "    next_after_k_words_matrix[word_sequence_idx, next_word_idx] += 1\n",
        "  return next_after_k_words_matrix\n"
      ],
      "execution_count": 37,
      "outputs": []
    },
    {
      "cell_type": "code",
      "metadata": {
        "execution": {},
        "id": "aM63IY6GPOlq"
      },
      "source": [
        "# next_after_k_words_matrix =  sequences_matrix(k=2)"
      ],
      "execution_count": 38,
      "outputs": []
    },
    {
      "cell_type": "code",
      "metadata": {
        "execution": {},
        "id": "RnOudYdmPOlr"
      },
      "source": [
        "# next_after_k_words_matrix =  sequences_matrix(k=5)"
      ],
      "execution_count": 39,
      "outputs": []
    },
    {
      "cell_type": "markdown",
      "metadata": {
        "execution": {},
        "id": "rYsSGT4SPOlr"
      },
      "source": [
        "You should be able to use these matrices and the previous functions to be able to create the necessary configurations."
      ]
    },
    {
      "cell_type": "markdown",
      "metadata": {
        "execution": {},
        "id": "P9m1EMMiPOlr"
      },
      "source": [
        "## Section 1.3: What is a Hidden Markov Model?\n",
        "\n",
        "A 1960s advance (by Leonard Baum and colleagues): Hidden Markov Models are:\n",
        "- a Markov model in which the system modeled is assumed to be a Markov process/chain with unobservable (\"hidden\") states. \n",
        "- HMM assumes there is another surrogate process whose behavior \"depends\" on the state--you learn about the state by observing the surrogate process. \n",
        "- HMMs have successfully been applied in fields where the goal is to recover a data sequence not immediately observable (but other data that depend on the sequence are).\n",
        "- The first dominant application: Speech and text processing (1970s)\n",
        "\n",
        "In this sub-section we will use the python library [hmmlearn](https://hmmlearn.readthedocs.io/en/latest/tutorial.html#training-hmm-parameters-and-inferring-the-hidden-states), which is part of the *scikit-learn* ecosystem. [nlg-with-hmmlearn](https://github.com/mfilej/nlg-with-hmmlearn) offers useful code snippets to adapt ```hmmlearn``` for text data. Because we are using a package that offers many out of the box implementations for HMMs, we don't have to worry about the states, transition matrices, "
      ]
    },
    {
      "cell_type": "code",
      "metadata": {
        "execution": {},
        "id": "jwcbEyKSPOlr"
      },
      "source": [
        "sentences = brown.sents(categories=category)\n",
        "words = [word.lower() for sentence in sentences for word in sentence]\n",
        "lengths = [len(sentence) for sentence in sentences]\n",
        "alphabet = set(words)"
      ],
      "execution_count": 40,
      "outputs": []
    },
    {
      "cell_type": "code",
      "metadata": {
        "execution": {},
        "id": "lp5QlczLPOlr"
      },
      "source": [
        "le = LabelEncoder()\n",
        "_ = le.fit(list(alphabet))"
      ],
      "execution_count": 41,
      "outputs": []
    },
    {
      "cell_type": "code",
      "metadata": {
        "execution": {},
        "id": "xdgsGuh2POlr"
      },
      "source": [
        "seq = le.transform(words)\n",
        "features = np.fromiter(seq, np.int64)\n",
        "features = np.atleast_2d(features).T\n",
        "fd = FreqDist(seq)"
      ],
      "execution_count": 42,
      "outputs": []
    },
    {
      "cell_type": "markdown",
      "metadata": {
        "execution": {},
        "id": "nTfKIE6SPOls"
      },
      "source": [
        "Now that we have our data setup, we can create our model. We use a multinomial HMM with 8 states, and can either do a random initialisation or use word frequences. We recommend trying both options!"
      ]
    },
    {
      "cell_type": "code",
      "metadata": {
        "cellView": "form",
        "execution": {},
        "id": "nDoScX64POls"
      },
      "source": [
        "# @title Function to create default Multinomial HMM model\n",
        "def get_model(num_states):\n",
        "  print(\"Initial parameter estimation using built-in method\")\n",
        "  model = hmm.MultinomialHMM(n_components=num_states, init_params='ste')\n",
        "  return model"
      ],
      "execution_count": 43,
      "outputs": []
    },
    {
      "cell_type": "code",
      "metadata": {
        "cellView": "form",
        "execution": {},
        "id": "CKVeUisJPOls",
        "outputId": "55ba9c07-eb16-416c-8f3e-92166149cd3c",
        "colab": {
          "base_uri": "https://localhost:8080/"
        }
      },
      "source": [
        "# @title Function to create default Multinomial HMM model information of relative frequencies of words\n",
        "def frequencies(num_states):\n",
        "  print(\"Initial parameter estimation using relative frequencies\")\n",
        "\n",
        "  frequencies = np.fromiter((fd.freq(i) for i in range(len(alphabet))),\n",
        "                            dtype=np.float64)\n",
        "  emission_prob = np.stack([frequencies]*num_states)\n",
        "\n",
        "  model = hmm.MultinomialHMM(n_components=num_states, init_params='st')\n",
        "  model.emissionprob_ = emission_prob\n",
        "  return model\n",
        "\n",
        "\n",
        "print(frequencies(2))"
      ],
      "execution_count": 44,
      "outputs": [
        {
          "output_type": "stream",
          "text": [
            "Initial parameter estimation using relative frequencies\n",
            "MultinomialHMM(algorithm='viterbi', init_params='st', n_components=2, n_iter=10,\n",
            "               params='ste', random_state=None, startprob_prior=1.0, tol=0.01,\n",
            "               transmat_prior=1.0, verbose=False)\n"
          ],
          "name": "stdout"
        }
      ]
    },
    {
      "cell_type": "markdown",
      "metadata": {
        "execution": {},
        "id": "AihJP9hYPOls"
      },
      "source": [
        "**Note**:\n",
        "\n",
        "The following lines of code are commented out because they take a long time (~17 mins for default brown cirpus categories). \n",
        "\n",
        "If you do not have that time, you can download the default model to try to generate text. You have to uncomment the appropriate lines."
      ]
    },
    {
      "cell_type": "code",
      "metadata": {
        "execution": {},
        "id": "nqrOqxwhPOls"
      },
      "source": [
        "## Fitting a default multinomial HMM. This is lenghty (~17 mins)\n",
        "# num_states = 8\n",
        "# model = get_model(num_states)\n",
        "# model = model.fit(features, lengths)"
      ],
      "execution_count": 45,
      "outputs": []
    },
    {
      "cell_type": "code",
      "metadata": {
        "execution": {},
        "id": "GIKMLYRXPOls"
      },
      "source": [
        "# another way to get a model is to use default frequencies when initialising the model\n",
        "# model = frequencies(num_states)"
      ],
      "execution_count": 46,
      "outputs": []
    },
    {
      "cell_type": "code",
      "metadata": {
        "execution": {},
        "id": "SpeRMNvUPOlt"
      },
      "source": [
        "# code to save a model to disk\n",
        "# with open(\"model.pkl\", \"wb\") as file: pickle.dump(model, file)"
      ],
      "execution_count": 47,
      "outputs": []
    },
    {
      "cell_type": "markdown",
      "metadata": {
        "execution": {},
        "id": "B4SENUfxPOlt"
      },
      "source": [
        "Alternatively, you could use a saved model. Here is a [link](https://drive.google.com/file/d/1IymcmcO48V6q3x-6dhf7-OU5NByo5W2F/view?usp=sharing) to the default model, which you can download and then upload into Colab."
      ]
    },
    {
      "cell_type": "code",
      "metadata": {
        "execution": {},
        "id": "dJF4Udc6POlt"
      },
      "source": [
        "# code to load saved model\n",
        "# with open(\"/content/model.pkl\", \"rb\") as file: model = pickle.load(file)"
      ],
      "execution_count": 48,
      "outputs": []
    },
    {
      "cell_type": "code",
      "metadata": {
        "cellView": "form",
        "execution": {},
        "id": "p4u4UdCyPOlt"
      },
      "source": [
        "# @title Function to generate words given a hmm model\n",
        "def generate_text(model, num_lines = 5, random_len=15):\n",
        "  for _i in range(num_lines):\n",
        "    set_seed(_i)\n",
        "    symbols, _states = model.sample(random_len)\n",
        "\n",
        "    output = le.inverse_transform(np.squeeze(symbols))\n",
        "    for word in output:\n",
        "      print(word, end=\" \")\n",
        "    print()"
      ],
      "execution_count": 49,
      "outputs": []
    },
    {
      "cell_type": "code",
      "metadata": {
        "execution": {},
        "id": "4BMhrzGUPOlt"
      },
      "source": [
        "# generate_text(model, num_lines=2, random_len=20)"
      ],
      "execution_count": 50,
      "outputs": []
    },
    {
      "cell_type": "markdown",
      "metadata": {
        "execution": {},
        "id": "JSacIp1EPOlu"
      },
      "source": [
        "We see that a hidden markov model also does well in generating text. We encourage you to try out different initialisations and hyperparameters to see how the model does."
      ]
    },
    {
      "cell_type": "markdown",
      "metadata": {
        "execution": {},
        "id": "H_0NqOE_POlu"
      },
      "source": [
        "### Think! 1.3: Transition probabilities \n",
        "\n",
        "\n",
        "We have seen how we can use sequences of text to form probability chains, as well as how we can use out of the box models to generate text. In this exercise, you will be using your own data to generate sequences using ```hmmlearn``` or any other implementation of a markov model. Explore the transition probabilities in your corpus and generate sentences. For example, one such exploration can be - how does using a model with the word frequencies incorporated in compare to using a default model?\n",
        "\n",
        "Perform any one such comparison or exploration, and generate 3 sentences or 50 words using your model. You should be able to use all the existing functions defined for this exercise."
      ]
    },
    {
      "cell_type": "code",
      "metadata": {
        "execution": {},
        "id": "GxfGo5yvPOlu"
      },
      "source": [
        "# load your own dataset and create a model using the frequencies based HMM model!"
      ],
      "execution_count": 51,
      "outputs": []
    },
    {
      "cell_type": "markdown",
      "metadata": {
        "execution": {},
        "id": "lmwdCeg6POlu"
      },
      "source": [
        "### Useful links for Markov Models and HMM:\n",
        "\n",
        "Here are some useful links if you wish to explore this topic further.\n",
        "\n",
        "- [Markov Chain Text](https://towardsdatascience.com/simulating-text-with-markov-chains-in-python-1a27e6d13fc6)\n",
        "\n",
        "- [Python QuantEcon: Finite Markov Chains with Finance](https://python.quantecon.org/finite_markov.html)\n",
        "\n",
        "- [Markov Models from the ground up, with python](https://ericmjl.github.io/essays-on-data-science/machine-learning/markov-models/)\n",
        "\n",
        "- [GenTex](https://github.com/nareshkumar66675/GenTex)\n",
        "\n",
        "- [HMM learn](https://hmmlearn.readthedocs.io/en/latest/tutorial.html)"
      ]
    },
    {
      "cell_type": "markdown",
      "metadata": {
        "execution": {},
        "id": "RQdefdILPOlu"
      },
      "source": [
        "---\n",
        "# Section 2: Word Embeddings\n"
      ]
    },
    {
      "cell_type": "code",
      "metadata": {
        "cellView": "form",
        "execution": {},
        "id": "iwuVXHM0POlu",
        "outputId": "b39949e7-64fa-4612-a6e0-9648f9b6c28b",
        "colab": {
          "base_uri": "https://localhost:8080/",
          "height": 580,
          "referenced_widgets": [
            "ca9e346ec89147639775bbd0dde37f2a",
            "0d9938de20314e769b2bee65d71637e3",
            "ae5274dc2c0a45e1a0c21a8cfb452523",
            "af8cdd792f9b4d2c98e60618950efb7f",
            "d8af650c84144727947e1a4954c243db",
            "eba761c3807840a491031b12638fdf54"
          ]
        }
      },
      "source": [
        "#@title Video 3: Textual Dimension Reduction\n",
        "# Insert the ID of the corresponding youtube video\n",
        "from ipywidgets import widgets\n",
        "\n",
        "out2 = widgets.Output()\n",
        "with out2:\n",
        "  from IPython.display import IFrame\n",
        "  class BiliVideo(IFrame):\n",
        "    def __init__(self, id, page=1, width=400, height=300, **kwargs):\n",
        "      self.id=id\n",
        "      src = \"https://player.bilibili.com/player.html?bvid={0}&page={1}\".format(id, page)\n",
        "      super(BiliVideo, self).__init__(src, width, height, **kwargs)\n",
        "\n",
        "  video = BiliVideo(id=f\"\", width=854, height=480, fs=1)\n",
        "  print(\"Video available at https://www.bilibili.com/video/{0}\".format(video.id))\n",
        "  display(video)\n",
        "\n",
        "out1 = widgets.Output()\n",
        "with out1:\n",
        "  from IPython.display import YouTubeVideo\n",
        "  video = YouTubeVideo(id=f\"P_I2Ram6Tac\", width=854, height=480, fs=1, rel=0)\n",
        "  print(\"Video available at https://youtube.com/watch?v=\" + video.id)\n",
        "  display(video)\n",
        "\n",
        "out = widgets.Tab([out1, out2])\n",
        "out.set_title(0, 'Youtube')\n",
        "out.set_title(1, 'Bilibili')\n",
        "\n",
        "display(out)"
      ],
      "execution_count": 52,
      "outputs": [
        {
          "output_type": "display_data",
          "data": {
            "application/vnd.jupyter.widget-view+json": {
              "model_id": "ca9e346ec89147639775bbd0dde37f2a",
              "version_minor": 0,
              "version_major": 2
            },
            "text/plain": [
              "Tab(children=(Output(), Output()), _titles={'0': 'Youtube', '1': 'Bilibili'})"
            ]
          },
          "metadata": {
            "tags": []
          }
        }
      ]
    },
    {
      "cell_type": "markdown",
      "metadata": {
        "execution": {},
        "id": "2MzPIzvvPOlv"
      },
      "source": [
        "\n",
        "Words or subword units such as morphemes are the basic units that we use to express meaning  in language. The technique of mapping words to vectors of real numbers is known as word embedding. \n",
        "\n",
        "Word2vec is based on theories of distributional semantics - words that appear around each other are more likely to mean similar things than words that do not appear around each other. Keeping this in mind, our job is to create a high dimensional space where these semantic relations are preserved. The innovation in word2vec is the realisation that we can use unlabelled, running text in sentences as inputs for a supervised learning algorithm--as a self-supervision task. It is supervised because we use the words in a sentence to serve as positive and negative examples. Let’s break this down:\n",
        "\n",
        "... \"use the kitchen knife to chop the vegetables\"…\n",
        "\n",
        "**C1   C2   C3   T   C4   C5   C6   C7**\n",
        "\n",
        "Here, the target word is knife, and the context words are the ones in its immediate (6-word) window. \n",
        "The first word2vec method we’ll see is called skipgram, where the task is to assign a probability for how likely it is that the context window appears around the target word. In the training process, positive examples are samples of words and their context words, and negative examples are created by sampling from pairs of words that do not appear nearby one another. \n",
        "\n",
        "This method of implementing word2vec is called skipgram with negative sampling. So while the algorithm tries to better learn which context words are likely to appear around a target word, it ends up pushing the embedded representations for every word so that they are located optimally (e.g., with minimal semantic distortion). In this process of adjusting embedding values, the algorithm brings semantically similar words close together in the resulting high dimensional space, and dissimilar words far away. \n",
        "\n",
        "Another word2vec training method, Continuous Bag of Words (CBOW), works in a similar fashion, and tries to predict the target word, given context. This is converse of skipgram, which tries to predict the context, given the target word. Skip-gram represents rare words and phrases well, often requiring more data for stable representations, while CBOW is several times faster to train than the skip-gram, but with slightly better accuracy for the frequent words in its prediction task. The popular gensim implementation of word2vec has both the methods included.  "
      ]
    },
    {
      "cell_type": "markdown",
      "metadata": {
        "execution": {},
        "id": "syBKR0fNPOlv"
      },
      "source": [
        "## Section 2.1: Creating Word Embeddings\n",
        "\n",
        "We will create embeddings for a subset of categories in [Brown corpus](https://www1.essex.ac.uk/linguistics/external/clmt/w3c/corpus_ling/content/corpora/list/private/brown/brown.html).  In order to achieve this task we will use [gensim](https://radimrehurek.com/gensim/) library to create word2vec embeddings. Gensim’s word2vec expects a sequence of sentences as its input. Each sentence is a list of words.\n",
        "Calling `Word2Vec(sentences, iter=1)` will run two passes over the sentences iterator (or, in general iter+1 passes). The first pass collects words and their frequencies to build an internal dictionary tree structure. The second and subsequent passes train the neural model. \n",
        "`Word2vec` accepts several parameters that affect both training speed and quality.\n",
        "\n",
        "One of them is for pruning the internal dictionary. Words that appear only once or twice in a billion-word corpus are probably uninteresting typos and garbage. In addition, there’s not enough data to make any meaningful training on those words, so it’s best to ignore them:\n",
        "\n",
        "`model = Word2Vec(sentences, min_count=10)  # default value is 5`\n",
        "\n",
        "\n",
        "A reasonable value for min_count is between 0-100, depending on the size of your dataset.\n",
        "\n",
        "Another parameter is the size of the NN layers, which correspond to the “degrees” of freedom the training algorithm has:\n",
        "\n",
        "`model = Word2Vec(sentences, size=200)  # default value is 100`\n",
        "\n",
        "\n",
        "Bigger size values require more training data, but can lead to better (more accurate) models. Reasonable values are in the tens to hundreds.\n",
        "\n",
        "The last of the major parameters (full list [here](https://radimrehurek.com/gensim/models/word2vec.html#gensim.models.word2vec.Word2Vec)) is for training parallelization, to speed up training:\n",
        "\n",
        "`model = Word2Vec(sentences, workers=4) # default = 1 worker = no parallelization`"
      ]
    },
    {
      "cell_type": "code",
      "metadata": {
        "execution": {},
        "id": "D_UeoURDPOlv"
      },
      "source": [
        "category = ['editorial', 'fiction', 'government', 'mystery', 'news', 'religion',\n",
        "            'reviews', 'romance', 'science_fiction']"
      ],
      "execution_count": 53,
      "outputs": []
    },
    {
      "cell_type": "code",
      "metadata": {
        "execution": {},
        "id": "vxL30DpsPOlv"
      },
      "source": [
        "def create_word2vec_model(category='news', size=50, sg=1, min_count=5):\n",
        "  try:\n",
        "    sentences = brown.sents(categories=category)\n",
        "    model = Word2Vec(sentences, vector_size=size, sg=sg, min_count=min_count)\n",
        "\n",
        "  except (AttributeError, TypeError):\n",
        "      raise AssertionError('Input variable \"category\" should be a string or list,'\n",
        "      '\"size\", \"sg\", \"min_count\" should be integers')\n",
        "\n",
        "  return model\n",
        "\n",
        "def model_dictionary(model):\n",
        "  words = list(w2vmodel.wv.key_to_index)\n",
        "  return words\n",
        "\n",
        "def get_embedding(word, model):\n",
        "  if word in w2vmodel.wv.key_to_index:\n",
        "    return model.wv[word]\n",
        "  else:\n",
        "    return None"
      ],
      "execution_count": 54,
      "outputs": []
    },
    {
      "cell_type": "code",
      "metadata": {
        "execution": {},
        "id": "Ng4u0lhyPOlv"
      },
      "source": [
        "all_categories = brown.categories()"
      ],
      "execution_count": 55,
      "outputs": []
    },
    {
      "cell_type": "code",
      "metadata": {
        "execution": {},
        "id": "_nf9uaWuPOlv",
        "outputId": "79390565-8333-486a-f145-cdaf16cd73c9",
        "colab": {
          "base_uri": "https://localhost:8080/"
        }
      },
      "source": [
        "all_categories"
      ],
      "execution_count": 56,
      "outputs": [
        {
          "output_type": "execute_result",
          "data": {
            "text/plain": [
              "['adventure',\n",
              " 'belles_lettres',\n",
              " 'editorial',\n",
              " 'fiction',\n",
              " 'government',\n",
              " 'hobbies',\n",
              " 'humor',\n",
              " 'learned',\n",
              " 'lore',\n",
              " 'mystery',\n",
              " 'news',\n",
              " 'religion',\n",
              " 'reviews',\n",
              " 'romance',\n",
              " 'science_fiction']"
            ]
          },
          "metadata": {
            "tags": []
          },
          "execution_count": 56
        }
      ]
    },
    {
      "cell_type": "code",
      "metadata": {
        "execution": {},
        "id": "b8vdYJ9bPOlw"
      },
      "source": [
        "w2vmodel = create_word2vec_model(all_categories)"
      ],
      "execution_count": 57,
      "outputs": []
    },
    {
      "cell_type": "code",
      "metadata": {
        "execution": {},
        "id": "bzIZvbUYPOlw",
        "outputId": "f39d5c5a-21d3-4839-cae9-2a65b3ecf501",
        "colab": {
          "base_uri": "https://localhost:8080/"
        }
      },
      "source": [
        "print(model_dictionary(w2vmodel))"
      ],
      "execution_count": 58,
      "outputs": [
        {
          "output_type": "stream",
          "text": [
            "['the', ',', '.', 'of', 'and', 'to', 'a', 'in', 'that', 'is', 'was', 'for', '``', \"''\", 'The', 'with', 'it', 'as', 'he', 'his', 'on', 'be', ';', 'I', 'by', 'had', 'at', '?', 'not', 'are', 'from', 'or', 'this', 'have', 'an', 'which', '--', 'were', 'but', 'He', 'her', 'one', 'they', 'you', 'all', 'would', 'him', 'their', 'been', ')', '(', 'has', 'will', 'who', 'more', 'out', 'It', 'we', 'she', 'said', 'there', 'up', 'In', ':', 'than', 'them', 'into', 'no', 'its', 'about', 'so', 'when', 'can', 'only', 'other', '!', 'could', 'time', 'if', 'what', 'some', 'But', 'A', 'two', 'any', 'may', 'do', 'first', 'like', 'these', 'over', 'such', 'This', 'me', 'my', 'man', 'our', 'made', 'new', 'most', 'now', 'then', 'must', 'also', 'Af', 'did', 'even', 'back', 'before', 'years', 'through', 'And', 'many', 'She', 'much', 'way', 'down', 'your', 'should', 'There', 'where', 'They', 'Mr.', 'after', 'because', 'people', 'too', 'little', 'those', 'very', 'own', 'make', 'good', 'each', 'well', 'work', 'just', 'men', 'If', 'still', 'see', 'get', 'between', 'long', 'being', 'world', 'know', 'same', 'We', 'life', 'us', 'might', 'never', 'year', 'under', 'For', 'both', 'last', 'off', 'how', 'day', 'came', 'against', 'used', 'great', 'here', 'go', 'himself', 'right', 'come', 'When', 'few', 'take', 'New', 'another', 'American', 'old', 'use', 'while', 'around', 'three', 'As', 'state', 'without', 'found', 'again', 'Mrs.', 'His', 'place', '1', 'home', 'You', 'small', 'thought', 'went', 'say', 'upon', 'What', 'left', 'got', 'number', 'part', 'course', 'United', 'high', 'since', 'during', 'away', 'always', 'fact', '2', 'does', 'States', 'every', 'until', 'water', 'think', 'less', 'enough', 'To', 'took', 'put', 'head', 'something', 'One', 'hand', 'school', 'once', 'told', 'far', 'At', 'set', 'almost', 'better', 'public', 'house', 'end', 'night', 'called', 'find', 'knew', 'system', \"didn't\", 'going', 'eyes', \"don't\", 'asked', 'however', 'group', 'toward', 'give', 'days', 'though', 'point', 'possible', 'program', 'given', 'face', 'per', 'present', 'side', 'looked', 'room', 'important', 'look', 'order', 'business', 'next', 'things', 'John', 'become', 'young', 'No', 'nothing', 'That', 'felt', 'later', 'social', 'Then', 'case', 'rather', 'large', 'need', 'form', 'saw', 'often', 'On', 'These', 'least', 'children', 'along', 'best', 'second', 'several', 'seemed', 'early', 'ever', 'Of', 'thing', 'want', 'power', 'four', 'mind', 'interest', 'within', 'turned', 'light', 'area', \"'\", 'done', 'big', 'among', 'problem', 'members', 'country', 'began', 'door', 'family', 'general', 'sense', 'development', 'kind', 'whole', 'different', 'matter', 'open', 'war', 'itself', 'certain', 'help', 'York', 'God', 'human', 'others', 'let', 'name', 'means', '3', 'action', 'example', 'hands', 'gave', 'yet', 'feet', 'line', 'taken', 'law', 'With', 'past', 'seen', 'All', 'above', 'across', 'local', 'either', 'experience', 'government', 'show', 'quite', 'car', 'themselves', 'words', 'Now', \"I'm\", 'body', 'history', 'really', 'anything', 'times', 'death', 'period', 'State', 'half', 'word', 'together', 'city', 'held', 'money', 'information', 'whether', 'cannot', 'having', 'already', 'week', 'President', 'shall', 'white', 'political', 'brought', 'making', 'seems', 'real', 'question', 'whose', 'keep', 'ago', 'moment', 'today', 'After', 'tell', 'known', 'service', 'became', 'behind', 'field', 'result', 'free', 'five', 'why', 'available', 'problems', 'heard', 'sure', 'reason', 'study', 'position', 'change', 'probably', 'job', 'boy', 'areas', 'individual', 'special', 'Miss', 'So', 'close', 'seem', 'major', 'wife', 'wanted', 'turn', 'am', 'full', 'church', 'cost', 'necessary', 'policy', 'voice', 'economic', 'clear', 'company', 'air', 'woman', 'true', 'front', 'able', 'feel', 'age', 'future', 'perhaps', 'community', 'office', 'provide', 'love', 'effect', 'national', 'level', 'stood', 'Some', 'girl', 'How', 'child', 'rate', 'total', 'control', 'common', 'morning', 'short', '4', 'Washington', 'run', 'following', 'students', 'million', 'By', 'sound', 'evidence', 'town', 'force', 'value', 'mean', 'hard', 'believe', 'top', 'land', 'leave', 'surface', 'although', 'An', 'play', 'type', 'situation', 'plan', 'six', 'military', 'process', 'various', 'English', 'party', 'started', 'increase', 'lines', 'says', 'strong', 'further', 'music', 'America', 'minutes', 'idea', 'longer', 'Dr.', 'personal', 'society', 'House', 'tax', 'alone', 'mother', 'near', 'schools', 'outside', 'gone', 'usually', 'months', 'General', 'center', 'needed', 'Not', 'West', 'private', 'expected', 'kept', 'nature', 'values', 'Even', 'living', 'century', 'pressure', 'basis', 'ground', 'art', 'view', 'women', \"I'll\", 'wrote', 'required', 'greater', 'South', 'call', 'moved', 'modern', 'cut', 'conditions', 'complete', 'road', 'particular', 'return', 'support', 'attention', 'book', 'soon', 'else', 'education', 'live', 'material', 'late', \"couldn't\", 'lost', 'Since', 'stage', 'hours', 'single', 'followed', 'amount', '1960', 'costs', 'except', 'added', 'third', 'space', 'hundred', 'coming', 'However', 'board', 'dark', 'including', 'fire', 'tried', 'person', 'heart', 'miles', 'pay', 'reached', 'developed', 'move', 'feeling', 'act', 'recent', 'makes', 'read', 'shown', 'Thus', 'figure', 'simply', 'dead', 'hope', 'class', 'Department', 'St.', 'equipment', 'From', 'National', 'received', 'taking', 'basic', '&', 'doing', 'college', 'looking', 'trying', 'everything', 'sometimes', 'Why', 'inside', 'hold', 'picture', 'cold', 'sort', 'industry', 'U.S.', 'data', 'rest', 'spirit', \"It's\", 'low', 'father', 'terms', 'difficult', 'care', 'War', 'walked', 'nor', 'beginning', 'subject', 'states', 'getting', 'religious', 'passed', 'My', 'floor', 'beyond', 'bring', 'especially', 'black', 'therefore', 'cent', 'simple', 'range', 'England', 'property', 'paper', 'report', 'written', 'needs', '10', 'natural', 'Secretary', 'hear', 'final', \"can't\", 'Her', 'higher', 'growth', 'likely', 'talk', 'meeting', 'considered', 'Congress', 'friends', 'sat', 'answer', 'entire', 'fine', 'ten', 'forces', 'countries', 'story', 'difference', 'working', \"wasn't\", 'table', 'William', 'cases', 'building', 'hair', 'involved', 'meet', 'similar', 'Government', 'training', 'happened', 'street', 'thus', 'hour', 'effort', 'purpose', 'stand', 'Christian', 'issue', 'paid', 'North', 'sent', 'knowledge', 'earlier', 'points', 'market', 'Here', 'whom', 'ready', 'particularly', \"it's\", '5', 'decided', 'results', 'statement', 'increased', 'addition', 'showed', 'East', 'start', 'thinking', 'production', 'Kennedy', 'Well', 'letter', 'son', 'due', 'wall', 'weeks', 'French', 'moral', 'bad', 'girls', 'methods', 'size', 'reading', 'programs', 'ideas', 'stock', 'directly', 'color', 'understand', 'method', 'population', 'fall', 'Yet', 'Island', 'appeared', 'normal', 'lay', 'concerned', 'strength', 'foreign', 'food', 'police', 'Federal', 'City', 'deal', '1961', 'nearly', 'trade', 'record', 'questions', 'merely', 'continued', 'comes', 'peace', 'member', 'research', 'using', 'ran', 'influence', 'section', 'direction', 'During', 'summer', 'boys', 'below', 'husband', 'finally', 'trouble', 'literature', 'physical', 'opened', 'suddenly', 'month', 'led', 'list', 'step', 'temperature', 'stopped', 'cause', 'met', 'piece', 'instead', 'George', 'chance', 'try', 'services', 'Soviet', 'worked', 'effective', 'evening', 'anyone', 'former', 'myself', 'wrong', 'provided', 'theory', 'actually', 'average', 'forms', 'ways', 'bed', 'defense', 'changes', 'lead', 'placed', \"I've\", 'groups', 'Church', 'sales', \"wouldn't\", 'efforts', 'president', 'degree', 'herself', 'friend', 'systems', 'manner', 'University', 'movement', 'lot', 'carried', 'meaning', 'truth', 'aid', 'wide', 'somewhat', 'Although', 'respect', 'fear', 'plant', 'series', 'throughout', 'treatment', 'direct', 'performance', 'game', 'beautiful', 'larger', 'works', 'red', 'approach', 'easy', 'reaction', 'Just', 'couple', 'numbers', 'C', 'While', 'charge', 'described', 'court', 'opportunity', 'remember', 'J.', 'indeed', 'decision', 'determined', 'served', 'First', 'eye', 'running', 'freedom', 'labor', 'generally', 'window', 'understanding', 'reported', 'clearly', 'Each', 'trial', 'hot', 'Europe', 'nation', 'medical', 'Aj', 'British', 'lower', 'S.', 'immediately', 'international', 'certainly', 'character', 'account', 'persons', 'image', 'nations', 'appear', 'feed', 'ask', 'fiscal', 'based', 'earth', 'responsibility', 'learned', 'Act', 'activity', 'steps', 'obtained', 'returned', 'volume', 'forward', 'audience', 'technical', 'arms', \"man's\", 'length', 'planning', 'ones', 'industrial', '6', 'types', 'gives', 'blood', 'function', 'saying', 'doubt', 'serious', 'test', 'straight', '15', 'lived', 'corner', 'quality', 'farm', 'plane', '30', 'latter', 'federal', 'hit', 'Such', 'according', 'Another', 'square', 'Brown', 'include', 'White', 'pattern', 'writing', 'horse', 'Our', 'extent', 'completely', 'choice', 'organization', 'A.', 'stop', 'Court', 'May', 'letters', 'moving', 'activities', 'nuclear', 'born', 'student', 'design', 'specific', 'progress', 'parts', 'cars', 'recently', 'wish', 'Oh', 'shot', 'pool', 'Southern', 'visit', 'lack', 'established', 'distance', 'firm', 'main', 'importance', 'effects', 'indicated', 'slowly', 'plans', 'expect', 'Their', 'Negro', 'principle', 'spring', 'hall', 'neither', 'stress', 'heavy', 'speak', 'stay', 'additional', 'operation', 'existence', 'cities', 'attitude', 'easily', 'remained', 'leaders', 'designed', 'ahead', 'consider', 'applied', '8', 'note', 'central', 'language', 'growing', 'science', 'write', 'reach', 'radio', 'afternoon', 'season', 'Many', 'continue', 'Rhode', 'closed', \"I'd\", 'covered', 'Do', 'Most', 'interested', 'spent', 'becomes', 'College', 'role', 'apparently', 'waiting', 'press', 'Union', \"won't\", 'analysis', 'faith', 'elements', 'serve', 'suggested', 'mouth', 'played', 'World', 'attack', 'Western', 'staff', 'administration', '1959', 'limited', 'reasons', 'scene', 'original', 'date', \"Don't\", 'B', 'prepared', 'factors', 'sun', 'Only', 'married', 'teeth', 'professional', 'rise', 'Sunday', 'bit', 'religion', 'exactly', 'built', 'current', 'Two', 'deep', 'raised', 'dropped', 'ball', 'James', 'demand', 'playing', 'price', 'meant', 'Thomas', 'rates', 'figures', 'race', 'filled', 'hardly', 'sides', 'talking', 'pretty', 'places', 'daily', 'gun', 'events', 'June', 'knows', \"hadn't\", 'machine', 'related', 'Is', 'Chicago', 'Street', 'entered', 'facilities', 'techniques', 'concern', 'claim', 'style', 'March', 'fight', 'income', 'blue', \"That's\", 'supply', 'caught', 'dollars', 'officer', 'Christ', '12', 'energy', 'glass', 'standing', 'Charles', 'actual', 'status', 'usual', 'institutions', 'walk', 'popular', 'studies', 'products', 'attempt', 'trees', 'behavior', 'share', 'thousand', 'changed', '7', 'opinion', 'accepted', 'included', 'unit', 'materials', 'gas', 'considerable', 'seven', 'film', 'green', 'shows', 'remain', 'relations', 'drive', 'older', 'station', \"you're\", 'primary', 'eight', 'Perhaps', 'Old', 'Americans', 'C.', 'standard', 'successful', 'giving', 'practice', 'highly', 'Communist', 'books', '20', 'fell', 'marriage', 'middle', 'none', 'thin', 'obvious', 'proper', 'Jack', 'tradition', 'sitting', 'determine', 'pieces', 'poor', 'Let', 'Mike', 'worth', 'objective', 'arm', '1958', 'sign', 'structure', 'happy', 'radiation', 'project', 'dinner', 'weight', 'produced', 'kitchen', 'funds', 'entirely', 'caused', 'follow', 'heat', 'complex', 'source', 'purposes', 'balance', 'university', \"that's\", 'cattle', 'news', 'condition', 'London', 'annual', 'leadership', 'construction', 'goes', 'mass', 'regard', 'Yes', 'famous', 'noted', 'discussion', 'health', 'Or', 'develop', 'announced', 'Committee', 'unless', 'equal', 'management', 'principal', 'River', 'names', 'carry', \"isn't\", 'whatever', 'Mary', 'measure', 'clothes', 'laws', 'pain', 'oil', 'enemy', 'units', 'Where', 'quickly', 'obviously', 'Both', 'possibility', 'spoke', 'relationship', 'doctor', 'break', 'allowed', 'takes', 'pass', 'companies', 'finished', 'E.', 'Association', 'facts', 'inches', 'Lord', 'died', 'patient', 'touch', 'success', 'failure', 'German', 'require', 'loss', 'cover', 'marked', 'concept', 'records', 'frequently', 'build', \"doesn't\", 'More', 'Once', 'published', 'County', 'assistance', 'greatest', 'Corps', 'remains', 'stated', 'aware', 'previous', 'relatively', 'significant', 'appears', 'Catholic', 'carefully', 'base', 'variety', 'stations', 'clay', 'shape', 'bridge', 'W.', 'distribution', 'product', 'prevent', 'sight', 'learn', 'authority', 'Henry', 'hotel', 'capacity', 'interests', 'Robert', 'collection', 'offered', 'remembered', 'dance', 'sources', 'churches', 'opening', 'requirements', 'impossible', 'poetry', 'presented', '25', 'produce', 'active', 'instance', 'begin', 'broad', 'ship', 'circumstances', 'chief', 'named', 'proposed', 'slightly', 'fixed', 'trip', 'watched', 'operating', 'team', 'Germany', 'scientific', 'created', 'interesting', 'jazz', 'houses', 'provides', 'immediate', 'officers', 'cells', 'parents', 'financial', 'event', 'philosophy', 'sex', 'essential', 'key', 'agreed', 'recognized', 'fully', 'committee', 'explained', 'sea', 'bottom', 'subjects', 'capital', 'campaign', 'workers', 'indicate', 'leaving', 'yesterday', 'manager', 'agreement', 'musical', 'Russian', 'features', 'lives', 'speed', 'spread', 'operations', 'offer', 'forced', 'expression', 'desire', 'term', 'regular', 'drink', 'apartment', 'mentioned', 'studied', 'Sam', 'session', 'atmosphere', 'add', 'enter', 'teacher', 'reports', 'opposite', 'reality', 'fast', 'maximum', 'differences', 'union', 'Its', 'neck', 'picked', '-', 'citizens', 'someone', 'battle', 'bill', '100', 'laid', 'crisis', 'bright', 'secret', 'Providence', 'edge', 'poems', 'looks', 'river', 'district', 'traditional', 'smaller', 'anode', 'reduced', 'train', 'believed', 'favor', 'winter', 'director', 'strange', 'Club', 'editor', 'Commission', 'Council', 'watch', 'procedure', 'literary', 'beside', 'bottle', 'School', 'classes', 'index', 'formed', 'economy', 'B.', 'buildings', 'follows', 'fresh', 'response', 'rules', 'receive', 'separate', 'address', 'difficulty', 'France', 'file', 'treated', 'Red', 'memory', 'removed', 'killed', 'stayed', 'hearing', 'justice', 'presence', 'permit', 'vote', 'Jr.', 'Virginia', 'hospital', \"he'd\", 'Other', 'coffee', 'expressed', 'pointed', 'tone', 'Jewish', 'quiet', 'observed', 'ability', 'check', 'fit', 'seeing', 'security', 'failed', 'November', 'Berlin', 'watching', 'De', 'Army', 'nine', 'hell', 'discovered', 'contrast', 'faculty', 'twenty', 'knife', 'frame', 'selected', 'advantage', 'gain', 'Louis', 'wait', 'pulled', 'youth', 'everyone', 'Morgan', 'resources', 'official', 'Russia', 'store', 'murder', 'Because', 'Company', 'election', 'personnel', 'individuals', 'Jones', 'planned', 'assumed', 'standards', 'T', 'positive', 'familiar', 'detail', 'proved', 'accept', 'smiled', 'increasing', 'forth', 'items', 'Richard', 'chosen', 'legal', 'region', 'factor', 'writer', 'broke', 'brother', 'H.', 'faces', 'bar', 'responsible', 'dog', 'allow', 'Also', 'send', 'Rome', 'Mercer', 'San', 'round', 'sharp', 'platform', 'solid', 'corporation', 'evil', 'brief', 'carrying', 'county', 'daughter', 'April', 'Service', 'rose', 'wants', 'buy', 'levels', 'increases', 'suppose', 'otherwise', 'fields', 'realize', 'realized', 'seek', 'walls', 'shelter', 'nice', 'rich', 'leader', 'waited', 'rights', 'constant', 'Texas', 'vocational', 'die', 'club', 'willing', 'boat', 'ordered', 'Board', 'won', 'Before', 'Monday', 'rule', 'characteristic', 'completed', 'Democratic', 'Khrushchev', 'historical', 'connection', 'minimum', 'animal', 'poet', 'danger', 'settled', 'flow', 'Those', 'dust', 'calls', 'principles', 'lips', 'drawn', 'horses', 'foot', 'sweet', 'writers', 'fair', 'compared', 'maybe', 'statements', 'wine', 'largely', 'answered', 'career', 'yourself', 'appropriate', 'Paris', 'actions', 'thick', 'excellent', 'powers', 'legs', 'beauty', 'asking', 'occurred', 'Saturday', 'plus', 'Moreover', 'camp', 'dogs', 'ordinary', 'ends', 'potential', 'Du', 'significance', 'background', 'unity', 'dress', 'ourselves', 'helped', 'policies', 'July', 'upper', 'issues', 'flat', 'practical', 'Hanover', 'independent', 'phase', 'dry', 'substantial', 'fingers', 'rain', 'relief', 'box', 'reference', 'initial', 'impact', 'signs', 'quick', 'block', 'intellectual', 'directed', 'division', 'chair', 'despite', 'ought', 'twice', 'emotional', 'declared', 'telephone', 'weather', 'membership', 'sections', \"He's\", 'Though', 'projects', 'D.', 'brown', 'plays', 'wore', 'educational', 'imagination', 'California', 'search', 'adequate', 'Maybe', 'rapidly', 'electronic', 'claims', 'employees', 'politics', 'gets', 'supposed', 'hung', 'estimated', 'sit', 'measured', 'Phil', 'Peace', 'leading', 'Bill', 'fashion', 'desk', 'beat', 'stands', 'warm', 'communication', 'matters', 'empty', 'gray', 'object', 'clean', 'objects', 'protection', 'families', 'wonder', 'Day', 'Laos', 'reasonable', 'capable', 'bodies', 'aircraft', 'application', 'teachers', 'discussed', 'grew', 'site', 'approximately', 'cell', 'happen', 'yards', 'drew', 'fighting', 'King', 'fifty', 'belief', 'birth', 'argument', 'Tom', 'China', 'aspects', 'located', 'spiritual', 'jury', 'message', 'Parker', 'ancient', 'broken', 'jobs', 'grow', 'explain', 'Jesus', 'universe', 'primarily', 'closely', 'holding', 'contemporary', 'typical', 'model', 'sleep', \"one's\", 'dominant', 'newspaper', 'arrived', 'assignment', 'unusual', 'relation', 'mission', 'recognize', 'passing', 'December', 'struggle', 'honor', 'turning', 'M.', '9', 'greatly', 'powerful', 'reduce', 'cutting', 'billion', 'highest', 'kill', 'towards', 'assume', 'dramatic', 'achieved', 'north', 'benefit', 'resolution', '11', 'fellow', 'drove', 'Wilson', 'sufficient', 'affairs', 'pictures', 'portion', 'agencies', 'wind', 'narrow', 'friendly', 'Greek', 'properties', 'Boston', 'weapons', 'procedures', 'homes', 'post', 'department', '50', 'liberal', 'U.', 'Are', 'master', 'escape', 'prices', 'soft', 'starting', 'European', 'showing', 'conference', 'Sir', 'teaching', 'R.', 'page', 'speech', 'rising', 'column', 'stared', 'learning', 'machinery', 'refused', 'commercial', \"he's\", 'sets', 'everybody', 'experiment', 'goal', 'extreme', 'onto', 'vast', 'experiments', 'location', 'traffic', 'contained', 'careful', 'closer', 'feelings', 'Finally', 'pleasure', 'join', 'nose', 'dream', 'save', 'Who', 'Friday', 'fourth', \"you'll\", 'maintain', 'domestic', 'existing', 'sensitive', 'Under', 'F.', 'Bible', 'exchange', 'Sometimes', 'exist', 'score', 'task', 'shoulder', 'conclusion', 'heavily', 'finds', 'eat', 'ended', 'contract', 'struck', 'headed', 'equally', 'organizations', 'Negroes', 'south', 'tomorrow', 'Central', 'ideal', 'novel', 'rifle', 'maintenance', 'ultimate', 'setting', 'concerning', 'formula', 'technique', 'cool', \"You're\", 'India', 'tests', 'emphasis', 'circle', 'understood', 'metal', 'exercise', 'useful', 'safe', 'sexual', 'busy', 'lie', 'smile', 'stories', 'wondered', 'District', 'Nations', 'possibly', 'neighborhood', 'liked', 'command', 'parties', 'establish', 'Tuesday', 'slow', 'Roman', 'judgment', 'duty', 'occasion', 'Dallas', 'uses', 'courses', 'lose', 'etc.', 'Administration', 'talked', 'army', 'roof', 'plants', 'appeal', 'alive', 'streets', 'shook', 'details', 'fairly', 'Three', 'enjoyed', 'goods', 'associated', 'taste', 'songs', 'aside', 'guests', 'pale', 'appearance', 'drop', 'combination', 'somehow', 'apparent', 'Lewis', 'Fig.', 'keeping', 'fat', 'continuing', 'unique', 'contact', 'Section', 'Every', 'processes', 'requires', 'Senate', 'baby', 'painting', 'Congo', 'charged', 'permitted', 'Great', 'budget', 'causes', 'majority', 'achievement', 'chemical', 'electric', 'Man', 'solution', 'song', 'September', 'shop', 'loved', 'becoming', 'Chinese', 'truly', 'tree', 'signal', 'entrance', \"There's\", 'culture', 'sky', 'wage', 'avoid', 'tension', 'headquarters', 'bought', 'academic', 'apply', 'represented', 'repeated', '14', 'entitled', 'providing', 'Palmer', 'officials', 'organized', 'spite', 'advance', 'thirty', 'surprised', 'intensity', 'minds', 'competition', 'informed', 'Among', 'evident', 'spot', 'demands', 'begins', 'device', 'extended', 'Your', 'yes', 'scale', 'artist', 'regarded', 'afraid', 'Joseph', 'win', 'Britain', 'critical', 'replied', 'soldiers', 'truck', 'theme', 'perfect', \"she'd\", 'previously', 'credit', 'hat', 'mine', 'runs', 'Like', 'firms', 'wished', 'Martin', '18', 'Joe', 'kid', 'travel', 'identity', 'vision', 'joined', 'confidence', 'conducted', 'notice', 'sought', 'item', 'naturally', 'hole', 'wheel', 'rock', '16', 'components', 'dictionary', 'text', 'double', 'vital', 'rooms', 'unable', 'notes', 'pure', 'supported', 'improved', 'L.', 'bank', 'symbol', 'positions', 'Republican', 'attend', 'motion', 'Smith', 'roads', 'victory', 'seat', 'trained', 'worry', 'grounds', 'sample', 'Jews', 'divided', 'minute', 'games', 'prove', 'negative', 'conduct', 'bear', 'Nothing', 'flowers', 'suggest', 'absence', 'imagine', 'create', 'January', 'Japanese', 'properly', 'spend', 'orders', 'sin', 'inner', 'granted', 'assigned', 'leg', 'draw', 'depth', 'wonderful', \"there's\", 'percent', 'largest', 'disease', 'generation', 'description', 'motor', 'chest', 'experienced', 'experiences', 'windows', 'tall', 'beneath', 'loose', 'risk', 'huge', 'pushed', 'p.m.', 'No.', 'Hudson', 'guess', 'Alfred', 'bedroom', 'yellow', 'U.N.', 'decisions', 'baseball', 'phone', 'soil', 'Indian', 'content', 'sounds', 'flesh', 'establishment', 'element', 'widely', 'vehicles', 'title', 'forget', 'acting', 'pick', 'dozen', 'payment', 'wagon', 'troops', 'introduced', 'grass', 'machines', 'bitter', 'crowd', 'August', 'centers', 'driving', 'developing', 'Los', 'plenty', 'laughed', 'waves', 'wild', 'conflict', 'nodded', 'situations', 'David', 'achieve', 'Protestant', 'snow', 'thoughts', 'handle', 'Still', 'necessarily', 'Arthur', 'animals', 'wet', 'stages', 'approval', 'slight', 'Table', 'putting', 'angle', 'characteristics', 'begun', 'agree', 'governments', 'views', 'raise', 'telling', 'correct', 'abroad', 'stream', 'shoulders', 'breakfast', 'October', 'wood', 'advanced', 'mark', 'Philadelphia', 'conversation', 'uniform', 'conviction', 'Have', 'extremely', 'Latin', 'housing', 'breath', 'expense', 'interpretation', 'Eisenhower', 'practices', 'elections', 'remove', 'easier', 'D', 'Did', 'detailed', 'mention', 'brilliant', 'extra', 'Massachusetts', 'proud', 'devoted', 'noticed', 'Warren', 'pull', 'pair', 'rear', 'faced', 'surprise', 'issued', 'desired', 'walking', 'advice', 'taught', 'silent', 'papers', 'millions', 'fill', 'publication', 'About', 'sick', 'convinced', 'cultural', 'employed', 'consideration', 'firmly', 'colors', 'childhood', 'minor', 'request', 'trust', 'depends', 'incident', 'television', 'hopes', 'moon', 'conventional', 'operator', 'tendency', 'Therefore', '13', 'towns', 'administrative', 'wooden', 'tiny', 'west', 'Co.', 'maintained', 'measurements', 'finding', 'opportunities', 'measures', 'operate', 'park', 'acceptance', 'impressive', 'tired', 'suit', 'Hearst', 'attitudes', 'Charlie', 'moments', 'valley', 'agency', 'gold', 'driver', 'remarks', 'knowing', 'speaking', 'formal', 'leaves', 'cry', 'swung', 'creative', 'estate', 'lady', 'chain', 'destroy', '24', 'advertising', 'chairman', 'comparison', 'choose', 'worse', 'efficiency', 'quietly', 'rolled', 'passage', '1957', 'female', 'de', 'fifteen', 'poem', 'hoped', 'Moscow', 'limit', 'plain', 'shooting', 'liquid', 'detective', 'soul', 'internal', 'P', 'denied', 'patterns', 'Angeles', 'integration', 'payments', 'fundamental', 'testimony', 'version', 'village', 'mere', 'examples', 'concentration', 'Black', '21', 'engine', 'somewhere', 'deny', 'burning', 'library', 'Fort', 'tragedy', 'drinking', 'dear', 'unknown', 'vacation', '23', 'aspect', 'Lincoln', 'boats', 'skin', 'railroad', 'Cuba', 'garden', 'screen', 'bonds', 'stone', 'sold', 'apart', 'silence', 'personality', 'practically', 'Italian', 'periods', 'remarkable', 'expenses', 'lights', 'Q', 'welfare', 'creation', 'conscious', 'partly', 'rural', 'League', 'congregation', 'wearing', 'hero', 'decade', '1954', 'anger', 'resistance', 'threw', 'minister', 'numerous', 'review', 'Wright', 'nobody', 'movements', '60', 'Mantle', 'contrary', 'difficulties', 'equivalent', 'strike', 'association', 'Blue', 'Civil', 'percentage', 'missile', 'centuries', 'till', 'models', 'fears', 'recommended', 'seriously', 'Junior', 'identified', 'humor', 'blind', 'independence', 'Park', 'losses', 'birds', 'artery', 'pink', 'trend', 'fiction', 'stairs', 'wave', 'executive', 'Georgia', 'article', 'interior', 'precisely', 'functions', '22', 'concrete', 'Frank', 'engaged', 'provision', 'Africa', 'opposition', 'intended', 'welcome', 'Hall', 'courts', 'Watson', 'sports', 'somebody', 'contain', 'civil', 'ride', 'please', 'medium', 'cast', 'February', 'feels', 'depend', 'impression', 'target', 'containing', 'load', 'shut', 'shares', 'referred', 'sorry', 'promised', 'curve', 'governor', 'Alexander', 'Edward', 'preparation', 'honest', 'Society', 'encourage', 'Institute', 'twelve', 'diameter', 'Pennsylvania', 'luck', 'panels', 'curious', 'promise', 'adopted', 'safety', 'fought', 'meat', 'native', 'bills', 'precision', 'supplies', 'expansion', 'sheet', 'weakness', 'includes', 'See', 'Medical', 'Big', 'Lucy', 'amounts', 'milk', 'employment', 'intelligence', 'Hans', 'climbed', 'Asia', 'sum', 'arranged', 'mounted', 'expensive', 'thickness', 'suffering', 'cup', 'boards', 'lies', 'accomplished', 'path', 'cross', 'captain', 'relative', 'admitted', 'sale', 'instrument', 'offers', 'band', 'calling', 'taxes', 'thousands', 'mold', 'slaves', 'burden', 'opinions', 'considerably', 'qualities', 'pounds', 'elsewhere', 'charges', 'shoes', 'Manchester', 'answers', 'Instead', 'terrible', 'legislation', 'singing', 'odd', 'Five', 'agent', 'valuable', 'approached', 'Adam', 'dangerous', 'environment', 'confusion', 'lovely', 'resulting', 'comfort', 'Mama', 'Hotel', 'interference', 'fun', 'explanation', 'occur', 'recognition', 'drama', 'lawyer', 'expenditures', 'bond', 'grown', 'Little', 'reader', 'nearby', 'Motors', 'P.', 'coat', 'artists', 'violence', 'ice', 'saved', 'lifted', 'confused', 'insisted', 'rapid', 'contribute', 'Any', 'eventually', 'driven', 'separated', 'readily', 'collected', 'count', 'essentially', 'fired', \"you've\", 'consists', 'darkness', 'Him', 'Indeed', 'believes', 'gradually', 'purchase', 'warning', 'emotions', 'oxygen', 'investigation', 'riding', 'flight', 'Lake', 'warfare', 'revolution', 'Class', 'i.e.', 'Again', 'dollar', 'automobile', 'concerns', 'Figure', 'enjoy', 'guy', 'washing', 'recorded', 'Nevertheless', 'smooth', 'raw', 'suffered', 'exists', 'spirits', 'fund', 'origin', 'obtain', 'varied', 'bag', 'catch', 'crossed', \"ain't\", 'reactions', 'angry', 'shore', 'Without', 'tend', 'mile', 'excess', 'increasingly', 'reflected', 'dirt', 'east', 'wisdom', 'identification', 'Place', 'seeking', 'wages', 'snake', 'pilot', 'porch', 'cloth', 'Adams', 'particles', 'bound', 'appointed', 'La', 'liquor', 'brain', 'foods', 'heads', 'weapon', 'sufficiently', 'possibilities', 'touched', 'helping', 'hate', 'acres', 'pace', 'mail', 'G.', 'Anne', 'switch', 'arts', 'Linda', 'pocket', 'replaced', 'author', 'Time', 'distinct', 'core', 'Rachel', 'listed', 'editorial', 'continues', 'extensive', 'ease', 'involves', 'Carl', 'describe', 'ships', 'Defense', 'salary', 'varying', 'distinction', 'comment', 'residential', 'Captain', 'hundreds', 'Kate', 'dealing', 'insurance', \"Let's\", 'mental', 'errors', 'constantly', 'continuous', 'loan', \"'em\", 'wire', 'remaining', 'tour', 'favorite', 'Francisco', 'Henrietta', 'urban', 'match', 'developments', 'holds', 'distinguished', 'tissue', 'storage', 'teach', 'visited', 'Will', 'communities', 'volumes', 'dancing', 'Besides', 'salt', 'opposed', 'psychological', 'democratic', 'reduction', 'pleased', 'shift', 'brush', 'Division', 'spending', 'Office', '17', 'proposal', 'Come', 'bread', 'Illinois', 'manufacturers', 'limits', 'universal', 'neighbors', 'Commerce', 'pride', 'shouted', 'long-range', 'Last', 'stepped', 'shared', 'focus', 'atoms', 'liberty', 'ring', 'threat', 'removal', 'demanded', 'younger', 'guns', 'Walter', 'sell', 'prominent', 'smoke', 'finger', 'writes', 'virtually', 'Gross', 'talent', 'permanent', 'Later', 'societies', 'Bob', 'arc', 'thrown', 'Democrats', 'notion', 'burned', 'cooling', 'painted', 'composed', 'discover', 'indicates', 'marine', 'shear', 'throw', 'skill', 'steady', 'rough', 'Papa', 'prior', 'joy', 'throat', '40', 'forest', 'Atlantic', 'prison', 'marketing', 'Winston', 'rare', 'Uncle', 'Does', 'Orleans', 'display', 'seed', 'changing', 'existed', 'investment', 'missed', 'brings', 'fed', 'representative', 'everywhere', 'orchestra', 'happens', 'parallel', 'rode', 'afford', 'exception', 'provisions', 'rarely', 'anybody', 'objectives', \"o'clock\", 'downtown', 'transportation', 'award', 'allotment', 'represents', 'Good', 'revealed', 'attractive', 'surely', 'Communists', 'TV', 'express', 'derived', 'visual', 'automatic', 'inch', 'assured', 'regarding', 'trials', 'recall', 'Rayburn', 'anxiety', 'bars', 'offices', 'electrical', 'striking', 'Judge', 'Long', 'colleges', 'Attorney', 'Justice', 'necessity', 'muscle', 'languages', 'secretary', 'deeply', 'Life', 'participation', 'Lawrence', 'stranger', 'defined', 'funny', 'musicians', 'Mississippi', 'sake', 'legislative', 'glance', 'intense', 'Avenue', 'engineering', 'destroyed', 'considering', 'customers', 'Air', 'determination', 'communism', 'combined', 'Several', 'contributed', 'Out', 'comparable', 'controlled', 'lots', 'Education', 'dependent', 'reaching', 'gained', 'turns', 'Constitution', 'selection', 'agents', 'tables', 'voices', 'judge', 'represent', 'theater', 'transfer', \"father's\", 'holes', 'Actually', 'mostly', 'handed', 'contains', 'nineteenth', 'copy', 'studying', 'International', 'assumption', 'bringing', 'Today', 'sudden', 'primitive', 'Within', 'candidates', 'institution', 'Robinson', 'engineer', 'leaned', 'soldier', 'Japan', 'Pike', 'Thompson', 'external', 'Bay', 'mankind', '31', 'brothers', 'tool', 'Cousin', 'relationships', 'decide', 'Treasury', 'criticism', 'knees', 'Research', 'goals', 'Despite', 'eleven', 'thoroughly', 'guidance', 'flying', 'steel', 'scheduled', 'satisfactory', 'Governor', 'atomic', \"What's\", 'Was', 'Ohio', '200', \"God's\", \"We'll\", 'sharply', 'doctrine', 'corresponding', 'hill', 'hydrogen', 'Paul', 'fail', 'ages', 'anyway', 'strongly', 'listening', 'Roberts', 'chapter', 'illusion', 'sleeping', 'comfortable', 'enormous', 'anywhere', \"they're\", 'Would', 'authorized', 'forever', 'drawing', 'Chief', 'innocent', 'species', 'stronger', 'Much', 'conscience', 'serving', 'skills', 'distant', 'atom', 'stomach', 'deeper', 'admit', 'Holmes', 'organic', 'ears', 'pressures', 'briefly', 'track', 'iron', 'tremendous', 'improvement', 'newspapers', 'E', 'devices', 'handsome', 'finish', 'Roy', 'Public', 'civilization', 'tested', 'reply', 'destruction', 'magic', 'assure', 'Susan', 'constructed', 'swimming', 'male', 'approved', 'Center', 'handling', 'blocks', 'forgotten', 'regional', 'profession', 'hills', 'Senator', 'R', 'delivered', 'arrangements', 'belong', 'improve', 'resulted', 'noise', 'formation', 'furniture', 'thyroid', 'questionnaire', 'foam', 'edges', 'stick', 'chose', 'comedy', 'acts', 'fool', 'prime', 'restaurant', 'signed', 'Furthermore', 'Times', 'Journal', 'attempts', 'Jackson', 'mystery', 'accompanied', 'host', 'peoples', 'intention', 'cooperation', 'contribution', 'moves', 'crew', 'equipped', 'authorities', 'Spanish', 'specifically', 'effectively', 'managed', 'occupied', 'mixed', 'High', 'instant', 'supplied', 'completion', 'definite', 'observations', 'kinds', 'error', 'cleaning', 'feature', 'images', 'Peter', 'symbols', 'maturity', 'staining', 'random', 'seeds', \"year's\", 'desirable', 'edition', 'release', 'People', 'substantially', 'Jim', 'plot', 'variable', 'waters', 'Hardy', 'license', 'severe', 'attended', 'districts', 'stored', 'beings', 'dressed', 'accounts', 'push', 'aim', 'Nor', 'coating', 'mood', 'schedule', 'spoken', 'Maris', 'hurt', 'characters', 'ratio', 'Chapter', 'affected', 'glad', 'guide', 'serves', 'recreation', 'Stanley', 'Matsuo', 'Jane', 'Atlanta', 'bombs', 'Hospital', 'Republic', 'jumped', 'outstanding', 'wear', 'worried', 'over-all', 'sees', 'doors', 'calculated', 'grade', 'automatically', 'experts', 'Conference', 'personally', 'output', 'guard', 'outlook', 'Look', 'technology', 'Pope', 'probability', 'yield', 'sequence', 'installed', 'Pont', 'sympathetic', 'eggs', 'claimed', 'tough', 'classic', 'regions', 'waste', 'accurate', 'grant', 'producing', 'prepare', 'patients', 'satisfied', 'inevitably', 'pleasant', 'readers', 'consequences', 'concert', 'Clark', 'agricultural', 'conclusions', 'phenomenon', 'paint', 'tongue', 'visiting', 'dirty', \"we're\", 'sounded', \"haven't\", 'Wednesday', 'accuracy', 'mad', '1962', 'disappeared', 'symbolic', 'challenge', 'consumer', 'Part', 'western', 'visible', 'nationalism', 'binomial', 'scholarship', 'Hill', 'dignity', 'lying', 'tells', 'tools', 'washed', 'sacred', 'coast', 'definition', 'myth', 'owned', 'stores', 'affect', 'mistake', 'Harvard', 'presumably', 'patent', 'multiple', 'tonight', 'emotion', 'exposed', 'filling', 'Earth', 'estimate', 'frequent', 'urged', 'swept', 'height', 'reasonably', 'Lee', 'self', 'tied', 'performed', 'mountains', 'bus', 'owners', 'illustrated', 'sister', 'axis', 'sending', 'isolated', 'Sept.', 'Samuel', 'sad', 'visitors', 'candidate', 'camera', 'calm', 'sir', 'drunk', 'row', 'normally', 'blame', 'meets', 'worship', 'tends', 'latest', 'Johnson', 'clerk', 'Can', 'clouds', 'alternative', 'dispute', 'decades', \"today's\", 'guest', 'raising', 'thereby', 'lists', 'paintings', 'processing', 'vary', 'realistic', 'logical', 'Canada', 'Harry', 'Baker', 'extension', 'bigger', 'retired', 'Neither', 'openly', 'preserve', 'Italy', 'bent', 'protect', 'stretched', 'pencil', 'Four', 'smell', 'context', \"mother's\", 'reception', 'desegregation', 'mechanical', 'suggestion', 'genuine', 'sympathy', 'listen', 'guilt', 'discovery', 'Catholics', 'benefits', 'cash', 'findings', 'gate', 'tragic', 'worst', 'survive', 'Andy', 'badly', 'unlike', 'Prokofieff', 'Jess', 'blow', 'scheme', 'massive', 'involving', 'demonstrated', 'grave', 'vehicle', 'sentence', 'inevitable', 'examine', 'folk', 'fewer', 'determining', 'affair', 'cards', 'equation', 'Supreme', 'leads', 'fallen', 'Never', 'Be', 'wash', 'suitable', 'alert', 'parked', 'Early', 'hunting', 'advised', 'healthy', 'phrase', 'beach', 'bone', 'knee', 'neutral', 'route', 'attempted', 'chlorine', 'seldom', 'Thursday', 'arrangement', 'routine', 'succeeded', 'presents', 'sugar', 'quantity', 'emergency', 'missing', 'performances', 'Take', 'bomb', 'admission', 'owner', 'favorable', 'branches', 'dying', 'namely', 'wise', 'roles', 'yard', 'filed', 'jacket', 'Too', 'connected', 'experimental', 'rejected', 'Poland', 'damage', 'Player', 'crime', 'tears', 'slipped', 'strictly', 'accident', 'suffer', 'cooking', 'Mark', 'proof', 'hurry', 'courage', 'stems', 'occasional', 'weak', 'forty', 'returning', 'e.g.', 'adjustment', 'fruit', 'covers', 'crowded', 'Holy', 'financing', 'awareness', 'interview', '26', 'Second', 'kids', 'reporters', 'occasionally', 'efficient', 'presentation', 'magazine', 'household', 'collective', 'duties', 'partner', 'F', 'burst', 'Indians', 'violent', \"world's\", 'fly', 'promote', 'Lady', 'joint', 'Pat', 'lunch', 'chicken', 'Next', 'initiative', 'Harold', 'bride', '19', 'instructions', 'artistic', 'testing', 'covering', 'reflection', 'regardless', 'remote', 'gathered', 'effectiveness', 'circles', 'beer', 'conception', 'currently', 'grace', 'simultaneously', 'island', 'Square', \"child's\", 'ocean', 'Chandler', 'variation', 'crazy', 'concluded', 'remarked', 'Howard', 'gift', 'smiling', 'Scotty', 'Castro', 'Williams', 'elected', 'gesture', 'Gorton', 'inadequate', 'measurement', 'highway', 'receiving', '**zg', \"nation's\", 'shouting', 'locking', 'knocked', 'slavery', 'nevertheless', 'perfectly', 'corn', 'ending', 'ceiling', 'pages', 'poets', 'elaborate', 'emission', 'allowing', 'Dave', 'tossed', 'thermal', 'N', 'stuff', 'mature', 'fish', 'density', 'considerations', 'whereas', 'columns', 'discussions', 'poetic', 'Field', 'involve', 'armed', 'decline', 'returns', 'composer', 'ruled', 'dancer', 'Via', 'Had', 'saline', 'survey', \"aren't\", 'remark', 'counties', 'winning', 'Poet', 'Russians', 'barely', 'successfully', 'mud', 'Navy', 'so-called', 'fallout', 'senior', 'nights', 'excitement', 'respectively', 'quarter', 'frequencies', 'muscles', 'chamber', 'panel', 'strain', 'Kansas', 'long-term', 'printed', 'Communism', 'Pacific', 'gently', 'identical', 'spots', 'wedding', 'precise', 'Christianity', 'depending', '1952', 'naked', 'tape', 'skywave', 'invariably', 'facing', 'checked', 'parking', 'secondary', 'Prince', 'counter', 'Curt', 'enterprise', 'protected', 'transition', 'worker', 'temporary', 'reducing', 'excessive', 'widespread', 'Alex', 'Force', 'softly', 'piano', 'blanket', 'expert', 'historian', 'campus', 'eating', 'impressed', 'meal', 'farther', 'dates', 'conservative', 'heading', 'Sharpe', 'Franklin', 'occurrence', 'listened', 'Something', 'shock', 'confronted', 'tube', 'encountered', 'lumber', 'troubled', 'suspect', 'letting', 'selling', 'Mayor', 'Miriam', 'starts', 'Eddie', 'concentrated', 'absolute', 'ranging', 'romantic', 'Louisiana', 'crucial', 'complicated', 'sponsored', 'Dartmouth', 'reveal', 'matching', 'Over', 'Shakespeare', 'cuts', 'net', 'Van', 'stable', 'divine', 'network', 'whenever', 'Through', \"You'll\", 'Business', 'Rector', 'surprising', 'Johnny', 'Labor', 'skilled', 'abstract', 'Get', 'supper', 'substance', 'stem', 'scientists', 'instances', 'universities', 'survival', 'slave', 'competitive', 'falling', 'preceding', 'films', 'Professor', 'Woodruff', 'articles', 'fence', 'football', 'et', 'flux', 'extraordinary', 'virtue', 'superior', 'basement', 'markets', 'roll', 'movies', 'suspended', 'beef', 'mixture', 'consequence', 'Felix', 'lightly', 'Sen.', 'secure', 'grand', 'trips', 'sciences', 'transferred', 'trail', 'fishing', 'buying', 'Carleton', 'perform', 'Armed', 'Sherman', 'loans', 'entertainment', 'sewage', 'grinned', 'argued', 'utility', 'guilty', 'suggests', 'suburban', 'morality', 'Republicans', 'Brannon', 'hence', 'creating', 'shadow', 'replace', 'shots', 'According', 'Hence', 'furnish', 'Juniors', 'glasses', 'Assembly', 'era', 'recording', 'exciting', 'divorce', 'ethical', 'dancers', 'residence', 'modest', 'poured', 'delight', 'junior', 'signals', 'ear', 'dealers', 'constitute', 'comments', 'proportion', 'argue', 'fate', 'pressed', 'ignored', 'mainly', 'Bank', 'Others', 'O.', 'lesson', 'unconscious', 'movie', 'tasks', 'asleep', 'Industrial', 'barn', 'threatened', 'Ann', 'helpful', 'p', 'Morse', 'colored', 'extend', 'shorts', 'radical', 'cotton', 'Albert', 'purely', 'helps', 'strip', 'magnitude', 'Mickey', 'reminded', 'Brooklyn', 'evaluation', 'hoping', 'scenes', 'measuring', 'missiles', 'sang', 'consciousness', 'controls', 'bronchial', 'split', 'Until', 'deliberately', 'commonly', 'citizen', 'fabrics', 'colony', 'voting', 'mechanism', 'wound', 'locked', 'plastics', 'Harris', 'laugh', 'discuss', 'offering', 'anxious', 'calendar', \"They're\", 'happening', 'Hal', 'demonstrate', 'representing', 'meetings', 'Roosevelt', 'specified', 'ballet', 'Yankees', 'structures', 'extending', 'introduction', '1955', 'southern', 'examined', 'newly', 'sand', 'coal', 'surfaces', 'Oct.', 'debate', 'cure', 'Santa', 'encouraged', 'libraries', 'satisfaction', 'peculiar', 'consistent', \"you'd\", 'profit', 'tight', 'warmth', 'sovereign', 'plastic', 'jurisdiction', 'pot', 'verse', 'defeat', 'polynomial', 'quarters', 'electronics', 'fourteen', 'talents', 'root', 'committed', 'industries', 'drugs', 'sensitivity', 'closing', 'optimal', 'lighted', 'Suppose', 'branch', 'contributions', 'unions', 'African', 'absent', 'Whether', 'solutions', 'electron', 'propaganda', 'classical', 'dimensions', '1956', 'apparatus', 'gay', 'vigorous', 'bench', 'graduate', 'questioned', 'innocence', 'expanding', 'sovereignty', 'Irish', 'pound', 'Ramey', 'studio', \"let's\", 'carbon', 'fled', 'N.', 'false', 'silver', 'tons', 'cow', 'arise', 'losing', 'rendered', 'enthusiasm', 'marks', 'witness', 'encounter', 'bare', 'hated', 'paused', 'Nobody', 'Interior', 'shapes', 'Beach', 'clarity', 'sacrifice', 'laughing', 'minimal', 'powder', 'upstairs', 'refer', 'associations', 'finance', 'profound', 'Christmas', 'seconds', 'Fred', 'examination', 'exclusive', 'discipline', 'Legislature', 'shade', 'proposals', 'flew', 'responses', 'consisting', 'engineers', 'friendship', 'horizon', 'representatives', 'V', 'gentle', 'prefer', 'surplus', 'merit', 'tea', 'holder', 'Marshall', 'samples', 'Germans', 'sing', 'scope', 'formerly', 'T.', 'operated', 'Dan', 'delicate', 'shoot', 'prevented', 'municipal', 'recovery', 'subsequent', 'dining', 'a.m.', 'combat', 'pulmonary', 'observation', 'maintaining', 'voted', 'damn', 'Coast', 'gathering', 'Myra', 'utterly', 'requirement', 'fees', 'exact', 'professor', 'limitations', 'clinical', 'applying', 'Dean', 'advantages', 'commission', 'acquire', 'insist', 'Shayne', 'council', 'prestige', 'distributed', 'outer', 'Clayton', 'salvation', 'ecumenical', 'opera', 'Davis', 'regulations', 'passes', 'permits', 'imagined', 'absolutely', 'maid', 'scattered', 'rushed', 'Delaware', 'veteran', 'Newport', 'reputation', 'pistol', 'occurs', 'mirror', 'Jefferson', 'drying', 'ladies', 'mighty', 'territory', 'Greenwich', 'Revolution', 'Men', 'slept', 'mountain', 'Forces', 'marriages', 'golf', 'doctors', 'weekend', 'diplomatic', 'Cady', 'Julia', 'grain', 'upward', 'Hughes', 'thanks', 'Obviously', 'reserved', 'dull', 'pursuant', 'perception', 'fiber', 'permission', 'passion', 'restrictions', 'bullet', 'corps', 'pointing', 'released', 'lively', 'critics', 'butter', 'unhappy', 'Jew', 'dreams', 'delightful', 'velocity', 'Science', 'Certainly', 'Palfrey', 'handled', 'staring', 'humanity', 'submarine', 'frightened', 'appreciate', 'compare', 'altogether', 'preferred', 'storm', 'paying', 'frames', 'Almost', 'tangent', 'Johnnie', 'Pathology', 'customer', 'victim', 'phenomena', 'reform', 'Bureau', 'Virgin', 'Young', 'overcome', 'invited', 'reserve', \"Kennedy's\", 'journey', 'mysterious', 'Mitchell', '1953', 'perspective', 'presently', 'cellar', 'identify', 'belt', 'builder', 'marginal', 'eternal', 'Colonel', 'anti-trust', 'inherent', 'reorganization', 'ranch', 'Middle', 'acquired', 'instruction', '27', 'gyro', 'injury', \"She's\", 'fellowship', 'justify', 'sophisticated', 'appointment', 'recalled', 'concepts', 'Greg', 'placing', 'Billy', 'disturbed', 'meals', 'legend', 'farmers', 'outcome', 'magnificent', 'Coolidge', 'climate', 'Eileen', 'stockholders', 'suspicion', \"we'll\", 'Patchen', 'vice', 'approaching', 'eager', 'gross', 'Arlene', 'disaster', 'funeral', 'enemies', \"We're\", 'royal', 'Forest', 'shopping', 'Zen', 'ours', 'Make', 'revenues', 'ill', 'attorney', 'variables', 'conceived', 'emerged', 'electricity', 'stained', 'aesthetic', 'shirt', 'quoted', 'threatening', 'cents', 'desperate', 'lacking', 'Helva', 'textile', 'Sarah', 'Agreement', 'frozen', 'literally', 'Ekstrohm', 'cried', 'card', 'judgments', 'establishing', 'trembling', 'controversy', 'Southerners', 'dried', 'publicly', 'players', 'sheets', 'stars', 'O', 'abandoned', 'painful', 'Probably', 'intelligent', 'volunteers', 'aboard', 'magazines', 'attacked', 'Eugene', 'Bang-Jensen', 'feeding', 'peaceful', 'continually', 'flexible', 'wars', 'SBA', 'scholars', 'Pittsburgh', 'exhibit', 'medicine', 'torn', 'traders', 'productive', 'exceptions', 'directions', 'rational', 'promptly', 'inspired', 'proceeded', 'golden', 'reflect', 'responsibilities', 'Speaker', 'Whatever', 'assist', 'observe', 'switches', 'Valley', 'gentleman', 'disk', 'Village', 'mothers', 'cloud', 'D.C.', 'generous', 'breaking', 'roughly', 'shelters', 'surrounding', 'eliminate', 'reaches', 'composition', 'destructive', 'subtle', 'Mother', \"O'Banion\", 'ritual', 'dawn', 'attached', 'sessions', 'landing', 'glanced', 'builders', 'oral', 'prevention', 'gear', 'Nick', 'laboratory', 'allowances', 'besides', 'entry', 'temperatures', 'Art', 'stretch', 'Use', 'intervals', 'communications', 'transformed', 'publicity', 'settlement', 'lonely', 'grateful', 'Son', 'Aug.', 'Carolina', 'demonstration', 'Nixon', 'bath', 'worthy', 'dilemma', 'component', 'Tim', 'attracted', '300', 'NATO', 'prospect', 'supporting', 'partially', 'bearing', 'suits', 'Wally', 'Tilghman', 'Houston', 'delayed', 'frontier', 'vivid', 'king', 'Owen', 'harm', 'hanging', 'approaches', 'vein', 'Director', 'bird', 'designs', 'charm', 'Alec', 'departments', 'repeat', 'fist', 'beard', 'Barton', 'shortly', 'instruments', 'mobile', 'accused', 'recommend', 'Title', '70', 'adult', 'aimed', 'parade', 'sitter', 'drill', 'contracts', 'commander', 'Broadway', 'expressing', 'Social', 'assembled', 'cycle', 'wishes', 'seized', 'Sure', 'pupils', 'specimen', 'Development', 'insure', 'rice', 'wines', 'exclusively', 'Economic', 'accomplish', 'continuity', 'woods', 'magnetic', 'Blanche', 'accurately', 'operational', 'nearest', 'announcement', 'retirement', 'Portland', 'Mexican', 'yours', 'faint', 'noon', 'tubes', 'nervous', 'probable', 'impressions', 'drivers', 'scarcely', 'absorbed', 'entering', 'fog', 'constitutional', \"they'd\", 'theological', 'arrive', 'speaker', 'march', 'rigid', 'wildly', 'hang', 'automobiles', 'viewed', 'tail', 'wings', 'interpreted', 'applications', 'firing', 'recommendation', 'prayer', 'cook', 'managers', 'chances', 'Independence', 'Mason', 'racial', 'promotion', 'functional', 'Further', 'Northern', 'access', 'peas', 'promising', 'backed', 'allies', 'critic', 'wherever', 'conductor', 'Small', 'detergent', 'realization', 'honored', 'wholly', 'nowhere', 'vague', 'Six', 'Puerto', 'Theresa', 'cited', 'Moore', 'cocktail', 'neighboring', 'Post', 'planes', 'hired', 'qualified', 'desires', 'contacts', 'correspondence', 'tended', 'phases', 'diffusion', 'Very', 'actor', 'consisted', 'Premier', 'contest', 'subjected', 'prospects', 'enthusiastic', 'chin', 'excuse', 'freight', 'dealer', 'categories', 'full-time', 'philosophical', 'tribute', \"You've\", 'Ford', 'slid', 'Jersey', 'Arts', 'heating', 'lawyers', 'Everything', 'dive', 'habit', 'lengths', 'cigarette', 'channels', 'cleared', 'refrigerator', 'registration', 'mathematical', 'unexpected', 'heaven', 'enable', 'factory', 'Casey', 'Hollywood', \"Brown's\", 'widow', 'hungry', 'beliefs', 'meaningful', 'discrimination', 'continuously', 'civilian', 'bore', 'Cook', 'furnished', 'imitation', 'twenty-five', 'sink', 'realism', 'exposure', 'dedicated', 'Jean', 'musician', 'empirical', 'Tennessee', 'compete', 'Suddenly', 'thinks', 'lands', 'arrival', 'Spencer', 'Quiney', 'norms', 'fortune', '29', \"He'd\", 'occupation', 'harder', 'jump', 'luncheon', 'relieved', 'Westminster', \"President's\", 'Soon', 'rocks', 'radar', 'weekly', 'suggestions', 'Onset', 'belly', 'genius', 'excited', 'anti-Semitism', 'pond', 'plug', 'Fogg', 'outdoor', 'incredible', 'coverage', 'grades', 'treat', 'generations', 'astronomy', 'controlling', 'killing', 'snakes', 'colleagues', 'regime', 'Presidential', 'Tell', 'fibers', 'historic', 'wounded', 'terror', 'falls', 'charming', 'noble', 'Gen.', 'northern', 'narrative', 'stressed', 'depression', 'bases', 'trace', 'hurried', 'saddle', 'Madison', 'barrel', 'part-time', 'midnight', 'giant', 'manufacturer', 'curiosity', 'System', 'stupid', 'leather', 'Foreign', 'Pete', 'folklore', 'justified', 'code', 'pack', 'assistant', 'stuck', 'league', 'whispered', 'Maggie', 'Symphony', 'explicit', 'lock', 'Ruth', 'settle', 'category', 'Daily', 'assumptions', 'estimates', 'wake', 'exercises', 'Douglas', 'adjusted', 'employee', 'authors', 'Press', 'cheap', 'substrate', 'Father', 'attempting', 'governmental', 'resumed', 'Testament', 'zero', 'trading', 'protest', 'Palace', 'Maryland', 'Should', 'reflects', 'degrees', 'searching', 'uneasy', 'novels', 'plaster', 'Law', 'overseas', 'cat', 'Anglo-Saxon', 'formulas', 'voluntary', 'appreciation', 'targets', 'casual', 'foams', 'dressing', 'drinks', 'chairs', 'reliable', 'uncertain', 'altered', 'troubles', 'mess', 'sharing', 'manufacturing', 'rank', 'adding', 'destiny', 'bridges', 'Spirit', 'adults', 'tractor', 'servants', 'Green', 'honey', 'bombers', 'Vienna', 'Victor', 'economical', 'worn', 'freely', 'exploration', 'deck', '0', 'amateur', 'Sandburg', 'thrust', 'implications', 'sighed', 'sticks', 'pressing', 'sentiment', 'souls', 'herd', \"she's\", 'hide', 'ward', 'successes', 'metropolitan', 'whisky', 'aids', 'Music', 'Article', 'laughter', 'carries', 'unfortunate', 'grows', 'melting', 'joke', 'conspiracy', 'valid', 'urethane', 'relevant', 'biggest', 'sphere', 'fault', 'convention', 'ambiguous', 'attending', 'traveled', 'tie', 'trucks', 'occasions', 'preparing', 'participate', 'Don', 'Affairs', 'surrender', 'registered', 'dealt', 'convenient', 'Student', 'expects', 'Bobbie', 'autumn', 'lift', 'displacement', 'frequency', 'bother', 'retained', 'possessed', \"shouldn't\", 'totally', 'resist', 'tip', 'obligations', 'plates', \"we'd\", 'posts', 'happiness', 'Rev.', 'steadily', 'Meanwhile', 'alienation', 'triumph', 'middle-class', 'respects', 'structural', 'assessment', 'democracy', 'anticipated', 'frank', 'rifles', 'earliest', 'Baltimore', 'pulling', 'Ralph', 'Deegan', 'select', 'belongs', 'spare', 'planets', 'capabilities', 'loaded', 'panic', 'Royal', 'yelled', 'eliminated', 'S', 'insects', 'suited', 'temple', 'intentions', 'ownership', 'describes', 'gang', 'complained', 'Miller', 'insight', 'fifth', 'Miami', 'engagement', 'sampling', 'evidently', 'Alaska', 'Elaine', 'warned', \"America's\", 'regularly', 'Century', 'oxidation', 'factories', \"B'dikkat\", 'boating', 'ideological', 'strategy', 'killer', 'Russ', 'hen', 'Marshal', 'Utopia', 'defend', 'investigations', 'tale', 'wheels', 'milligrams', 'charter', 'Johnston', 'Program', 'availability', 'certainty', 'Vermont', 'accepting', 'questioning', 'desperately', 'H', 'Home', 'behalf', 'Hoag', 'drawings', 'craft', 'urgent', 'concerts', 'backward', 'spectacular', 'pause', 'Wait', 'painter', 'shining', 'Morris', 'originally', 'Above', 'planetary', 'Consider', 'delay', 'luxury', 'rang', 'fluid', 'fortunate', 'shame', 'envelope', 'preliminary', 'nuts', 'Faulkner', 'particle', 'possession', 'neat', 'Joyce', 'protein', 'occurring', 'Apparently', 'hesitated', \"John's\", \"weren't\", 'Detroit', 'Which', 'balanced', 'linear', '1948', 'Being', 'characterized', 'Cromwell', 'miss', \"children's\", 'dances', 'classification', 'moderate', 'Steele', 'pertinent', 'Police', 'thank', 'persuaded', 'Shu', 'Lo', 'chiefly', 'cope', 'farmer', 'Ben', 'Taylor', 'Book', 'forming', 'Everyone', 'Warwick', 'teams', 'stern', \"patient's\", 'crack', 'Di', 'Queen', 'doubtful', 'rent', 'definitely', 'Nation', 'stiff', 'Wall', 'moreover', 'planet', 'assembly', 'reveals', 'Bobby', 'Reverend', 'recommendations', 'skirt', 'profits', 'mode', 'harmony', 'saving', 'addresses', 'statistics', 'smart', 'Go', 'Rock', 'stumbled', 'Capitol', 'Keith', 'rhythm', 'unlikely', '28', 'Podger', 'passengers', 'seated', 'Rico', 'Aristotle', \"We've\", 'computed', 'garage', 'inclined', 'lowered', 'heels', 'keeps', 'Could', 'corporations', 'pile', 'thorough', 'submitted', 'Mills', 'dishes', 'mutual', 'Penny', 'Kay', 'races', 'hits', 'obliged', 'substitute', 'bid', 'Completion', 'mate', 'arbitrary', 'Eastern', 'Party', 'Report', 'relatives', 'respond', 'despair', 'Note', 'governing', 'intimate', 'regiment', 'liberals', '34', 'meanings', 'racing', 'launched', 'mines', 'hearts', 'Philip', 'roots', 'Nov.', 'complement', 'hypothalamic', 'dynamic', 'Missouri', 'suspected', 'cabin', 'Hell', 'dare', 'Francis', 'Bridget', '1950', 'traditions', 'Michigan', 'loyalty', 'seventeen', 'Katanga', 'respectable', 'habits', 'Belgians', 'masses', 'crises', 'educated', 'Having', 'soap', 'ugly', 'displays', 'Maude', 'enjoyment', 'prospective', 'Vernon', 'conferences', 'Wagner', 'fans', 'Poor', 'replacement', 'Plato', 'struggling', 'enforced', 'anticipation', 'Allen', 'trends', 'Orchestra', 'intervention', 'motives', 'listeners', 'landscape', 'guided', 'orderly', 'lean', 'Major', 'distinctive', 'cream', 'crossing', 'temporarily', 'binding', 'ranks', \"hasn't\", 'Family', 'invention', 'figured', 'conditioned', '/', 'refund', 'indirect', 'Skyros', 'physiological', 'conversion', 'worries', 'cheek', 'flash', 'devil', 'grants', 'El', 'punishment', 'Opera', 'Corporation', 'forgive', 'breathing', 'converted', 'speeches', 'dedication', 'repair', 'Laura', 'guys', 'revolutionary', 'Spring', 'illness', 'fraction', 'monthly', 'banks', 'warrant', 'inventory', 'leaped', 'puts', '1949', 'merger', 'Freddy', 'Alabama', 'Pip', 'Upon', 'disposal', 'nerves', 'confirmed', 'probabilities', 'decent', 'votes', 'rehabilitation', 'pursue', 'lucky', 'Pa', 'Oedipus', '1946', 'package', 'patience', 'quarrel', 'impulse', 'crop', 'displayed', 'sidewalk', 'consequently', 'grains', 'expanded', 'grip', 'creatures', 'newer', 'melody', 'savage', 'encouraging', 'Often', 'wealth', 'relating', 'Michelangelo', 'shadows', 'negotiations', 'passages', 'pipe', 'patrol', 'alike', \"Christ's\", 'Dolores', 'input', 'attain', 'Heaven', 'solve', 'amazing', 'colorful', 'Notte', 'promises', 'similarly', 'sauce', 'sweat', 'clock', 'procurement', 'residents', 'queen', 'solely', 'lungs', 'Jan.', 'Fund', 'Volume', 'Swift', 'wit', 'gentlemen', 'naval', 'brushed', 'bowl', 'clothing', \"company's\", 'wondering', 'B.C.', 'Florida', 'brave', 'tent', 'Arnold', 'emphasize', 'crawled', 'greeted', 'Point', 'auto', 'sixth', 'grabbed', 'injured', 'fitted', 'transformation', 'Outside', 'heroic', 'vacuum', 'exhibition', 'urge', 'acceptable', 'motel', 'criminal', 'attacks', 'commodities', 'define', 'Feb.', 'Cathy', 'beam', 'Manhattan', 'Donald', 'Borden', 'crash', 'receives', 'Inc.', 'strongest', 'screw', 'pitch', 'pitcher', 'endless', 'suitcase', 'secrets', '1951', 'competent', 'blonde', 'Abel', 'diet', 'shaking', 'tire', 'taxpayers', 'bold', 'manage', 'helpless', 'fascinating', '75', 'accordance', 'responded', 'precious', 'peered', 'adjustments', \"city's\", 'suite', 'minority', 'slide', 'purchased', 'authentic', 'inspection', 'convictions', 'smelled', 'plate', 'surrounded', 'numerical', 'murderer', 'ultimately', 'cottage', 'pupil', 'whip', 'assessors', 'boots', 'theatre', 'trap', 'sailing', 'lighting', 'toes', 'Land', 'verbal', 'distinguish', 'addressed', 'bet', 'allows', 'dominated', 'rises', 'guards', 'lobby', 'Paula', 'demanding', 'explains', 'decisive', 'witnesses', 'affects', 'notable', 'register', 'retail', 'Seven', 'reporter', 'depths', 'stroke', 'bones', 'hotels', 'remainder', 'cholesterol', 'foil', 'bundle', 'respective', 'ignore', 'fractions', 'Killpath', 'Letch', 'Road', 'arrest', 'overwhelming', 'hatred', 'scared', 'Lane', 'motive', 'applies', 'happily', 'Shore', 'lacked', 'submarines', 'fever', 'reactivity', 'salesmen', 'curves', 'tactics', 'jet', 'theirs', 'devotion', 'rid', 'Throughout', 'vector', 'startled', 'Third', 'vertex', 'united', 'Allied', 'consistently', 'Doc', 'gardens', 'broader', 'bend', 'midst', 'Means', 'nude', 'mercy', 'winds', 'bullets', 'rush', \"state's\", 'optical', 'venture', 'packed', 'petitioner', 'Salem', 'companion', 'Rather', 'tsunami', 'startling', 'lid', 'hidden', 'tales', 'males', 'swing', 'glued', 'supervision', 'earnings', 'insistence', 'Gun', 'clubs', 'Vincent', 'dim', 'fatal', 'essay', 'ruling', 'dated', 'Form', 'loves', 'solved', 'hypothalamus', 'stake', 'intermediate', 'lesser', 'produces', 'canvas', 'compromise', 'lb.', 'Haney', 'therapist', 'whereby', '1927', 'ladder', 'discharge', 'prisoners', 'label', 'Memorial', 'ambition', 'Mobile', 'foundation', 'civic', 'timber', 'cancer', 'poverty', 'assurance', 'Accordingly', 'slope', 'drank', 'dreamed', 'combinations', 'architect', 'condemned', 'strategic', 'spell', 'Rourke', 'slip', 'revenue', 'imposed', 'specialists', 'bay', 'exceed', 'realm', 'stresses', 'Mars', 'politicians', 'neatly', 'tangible', 'preserved', 'savings', 'variations', 'victims', 'Calif.', 'Unfortunately', 'Gov.', 'Foundation', \"State's\", 'tetrachloride', 'individually', 'assert', 'awake', 'Frederick', 'nest', 'Mexico', 'sketches', 'Pamela', 'mechanics', 'Chairman', 'Wisconsin', 'harbor', 'sheep', 'achievements', 'rolling', 'wiped', 'avoided', 'Stadium', 'Cuban', 'likes', 'loud', 'twisted', 'Rousseau', 'improvements', 'patents', 'aroused', 'indication', 'filing', 'enforcement', 'sera', 'champion', 'arrested', 'immortality', 'physics', 'attract', 'fantastic', 'rubbed', 'pronounced', 'policeman', 'representation', 'partnership', 'brass', 'adolescence', 'dairy', 'observers', 'Beyond', 'monument', '1945', 'religions', 'parlor', 'Modern', 'ratios', 'Sergeant', 'ceremony', 'officially', 'Said', 'effluent', 'servant', 'marry', 'privilege', 'humble', 'nonspecific', 'Saxon', 'autonomy', 'roared', 'proceedings', 'comprehensive', 'Academy', 'mechanisms', 'founded', 'Harbor', 'Dick', 'pioneer', 'resting', 'drops', 'stolen', 'earned', 'commerce', 'aged', 'congregations', 'relax', 'predicted', 'deadly', 'shipping', 'sons', 'ranged', 'applicable', 'specialized', 'Kowalski', 'terribly', 'Room', 'jungle', 'systematic', 'escaped', 'drift', 'physically', 'earnest', 'subjective', 'iodine', 'Stephen', 'Remember', 'instantly', 'hospitals', 'flower', 'gallery', 'bathroom', 'investigated', 'businesses', 'marble', 'attributed', 'consistency', '50%', 'sung', \"doctor's\", 'cooperative', 'manufacture', 'objection', 'favored', 'corporate', 'tooth', 'disposed', 'kicked', 'livestock', 'crops', 'interrupted', 'Griffith', 'wildlife', 'ridiculous', 'deliver', '400', 'designer', 'slender', 'buried', 'phrases', \"Can't\", 'supreme', 'splendid', 'snapped', 'Islands', 'emphasized', 'submit', 'styles', 'directors', 'plainly', 'folks', 'informal', 'repeatedly', 'brick', '35', 'defended', 'gather', 'exceptional', 'classroom', 'supplement', 'gains', 'makers', 'priority', 'coach', 'Oxford', 'Yankee', 'tensions', 'overhead', 'lamp', 'Upton', 'judges', 'Helion', 'lap', 'Austin', 'abrupt', 'workshop', 'string', 'player', 'spectacle', 'epic', 'bargaining', 'underground', 'camps', 'Tokyo', 'strikes', 'acted', 'grams', 'sank', 'circuit', 'causing', 'Cobb', 'Columbia', 'bat', 'locations', 'assignments', 'tournament', 'naive', 'theology', 'bunk', 'interval', 'straightened', '80', 'tray', 'invitation', 'emerge', 'Barco', 'theories', 'brightness', 'proportions', 'talks', 'glory', 'Harvey', 'Religion', 'cosmic', 'voters', 'Stevie', 'puzzled', 'Arkansas', 'refers', 'shrugged', 'competence', 'eighteenth', 'fats', 'Langford', \"men's\", 'Grand', 'costumes', 'Kitti', 'mustard', 'Jazz', 'boss', 'Tommy', 'proceed', 'hostile', 'sixty', 'affection', 'basically', 'simpler', 'Meredith', 'mathematics', 'Week', 'speaks', 'Andrei', 'rugged', 'Ah', 'Few', 'lip', 'technological', 'Madden', 'aluminum', 'Organization', 'exercised', 'Keys', 'faster', 'consumption', 'compelled', 'daytime', 'succession', 'Southeast', 'differ', 'commented', 'blowing', 'birthday', 'sixteen', 'corners', 'announce', 'arose', 'History', 'movable', 'denial', 'Ernie', 'drug', 'shifted', 'situated', 'prize', 'theoretical', 'Stevens', 'toast', 'remarkably', 'faded', 'vicious', 'transport', 'neglected', 'captured', 'Lizzie', 'Banks', 'cooled', 'Fire', 'Rob', 'stocks', 'sensed', 'abruptly', 'convenience', 'ammunition', 'inquiry', 'praise', 'Golden', 'shorter', 'destroying', 'sums', 'K.', 'admired', 'shocked', 'seal', 'associate', 'Community', 'Cleveland', 'Hank', 'Pierre', 'artificial', 'brains', 'accelerometer', 'and/or', 'codes', 'motions', 'Giffen', 'interaction', 'basket', 'prevailing', 'Health', 'hunger', 'pays', 'collar', 'pushing', 'chaos', 'delivery', 'Keep', 'tanks', 'screaming', 'screamed', 'Lalaurie', 'substances', 'Fortunately', 'assign', 'Angie', 'Milton', 'holy', 'chart', 'designated', 'copies', 'sport', 'Geneva', 'Listen', 'flood', 'customs', 'separation', 'advances', 'circular', 'Baptist', 'hay', 'flowing', 'Seventh', 'squeezed', 'Usually', 'renewed', 'print', 'alternatives', 'Lao', 'departure', 'preaching', 'desert', 'corridor', 'interviews', 'declined', 'expecting', 'infinite', 'Ballet', 'Gulf', 'bears', 'formidable', 'reporting', 'crystal', 'checks', 'accompanying', 'entries', 'guitar', 'diplomacy', 'defensive', 'acceleration', 'cracked', 'Show', 'Far', 'cap', 'barriers', 'balls', 'flame', 'Horn', 'editors', 'scientist', 'intersection', 'Benson', 'murmured', 'acquisition', 'obscure', 'undertaken', 'compensation', 'undoubtedly', 'Lieutenant', 'rests', 'followers', 'violation', 'pastor', 'stretching', 'milling', 'Ma', 'reverse', 'shifts', 'present-day', 'loyal', 'enjoying', 'staying', 'supernatural', 'females', 'beloved', 'stall', 'Yeah', 'brand', 'indifference', 'transom', 'holiday', 'medieval', 'Otherwise', 'merchants', 'throwing', 'pockets', 'resentment', 'surprisingly', 'mistaken', 'hypothesis', 'campaigns', 'crown', 'wing', 'stripped', 'illustrate', 'progressive', 'molecular', 'historians', 'neighborhoods', 'Connecticut', 'chorus', 'uncle', 'lest', 'seasons', 'wagons', 'absurd', 'eighth', 'logic', 'aggressive', 'fan', 'visits', 'forgot', 'notions', 'implied', 'resolved', 'formulation', 'Security', 'dome', 'distances', 'counted', 'Raymond', 'Standard', 'cats', 'awful', 'anniversary', 'cops', 'consulted', 'Nadine', 'lit', \"They'll\", 'performing', 'capture', 'anonymous', 'Fulton', 'awards', 'quote', 'Dec.', 'persuade', 'god', 'Please', 'well-known', 'inquiries', 'gin', 'Special', 'sunlight', 'Frankie', 'rested', 'suicide', 'bureau', 'Hamilton', 'via', \"woman's\", 'friction', 'consist', 'v.', 'Carroll', 'intuition', 'jail', 'underlying', 'vaguely', 'Ada', 'Burma', 'sole', 'socialism', 'formally', 'vitality', 'popularity', 'BOD', 'awarded', 'explosive', 'belonged', 'Krim', 'Christians', 'Trevelyan', 'slowed', 'Love', 'loudly', 'Moreland', 'shaped', 'describing', 'Simms', 'kingdom', 'chip', 'bitterness', 'Anniston', 'erected', 'plantation', 'spontaneous', \"husband's\", 'TSH', 'useless', 'voyage', 'photograph', 'grasp', 'Cape', 'amendment', 'fuel', 'possess', 'palm', 'comparative', 'heroes', 'asks', 'candle', 'engines', 'preservation', 'muttered', 'damned', 'shops', 'injustice', 'import', 'Mission', 'Scott', 'flexibility', 'flag', 'instructed', 'Declaration', 'resume', 'bleeding', \"boy's\", 'Walker', 'Right', 'Anthony', 'Henri', 'mailed', 'youngsters', 'broadcast', 'ideals', '500', 'tracing', 'Mae', 'confession', 'confident', 'weary', \"he'll\", 'heated', 'asserted', 'secants', 'spreading', 'orange', 'reflecting', 'translated', 'detectives', 'keys', 'installations', 'Code', 'inquired', 'crouched', 'Free', 'Stein', 'allocation', 'I.', 'inserted', 'orientation', 'ticket', 'wanting', 'horror', 'qualifications', 'shell', \"Hudson's\", 'synthesis', 'priest', 'operand', 'contents', 'orbit', 'Willis', 'secular', 'fences', 'inability', 'Dickens', 'lessons', 'severely', 'pitching', 'overnight', 'matched', 'tap', 'wives', 'cylinder', 'gambling', 'Denver', 'satisfy', 'referring', 'delighted', 'chores', 'buffer', 'traveling', 'slammed', 'mistakes', 'uncertainty', 'Nelson', 'forehead', 'conformity', 'beautifully', 'adjust', 'earn', 'legislators', 'kiss', 'persistent', 'implies', 'unto', 'telephoned', 'collect', 'finest', 'trim', 'portrait', 'Me', 'fame', 'refuse', 'sketch', 'breed', 'Handley', 'legitimate', 'sites', 'trails', 'spotted', 'Payne', 'costly', 'rage', 'proposition', 'cockpit', 'selective', 'humorous', 'philosopher', 'improving', 'taxi', 'fee', 'Gray', 'influenced', 'raises', 'sins', 'museum', 'consent', 'draft', 'gown', 'hitting', 'Someone', '1910', 'graph', 'stride', 'financed', 'liver', 'gotten', 'partners', 'analytic', 'payroll', 'Hawaii', 'curriculum', 'Byron', 'outfit', \"o'\", 'Viet', 'aims', 'rows', 'disastrous', 'loop', 'Hammarskjold', 'lined', 'alien', 'clearing', 'bass', 'pen', 'statue', 'opens', 'mortgage', 'flavor', 'fires', 'tile', 'silently', 'metaphysical', 'confined', 'confirm', 'squad', 'thyroglobulin', 'bunks', 'abuse', 'camping', 'minimize', 'respiratory', 'odd-lot', 'angular', 'successor', 'Brooks', 'notably', 'discussing', 'Up', 'operators', 'bounced', 'Trial', 'farms', 'compounds', 'readings', 'closet', 'illustration', 'alarm', 'thee', 'span', 'rail', 'graduates', 'chemistry', 'documents', 'excluding', 'ambitious', 'apartments', 'pottery', 'devised', 'jar', 'lover', 'ivory', 'Following', 'translation', 'Stuart', 'shake', 'foolish', 'Mount', 'Occasionally', 'Clay', 'leveling', 'Asked', 'abandon', 'hers', 'messages', 'dangers', 'bulk', 'deserves', 'Styka', 'thereof', 'occupy', 'obligation', 'spun', 'cavalry', 'unnecessary', 'Claire', 'commit', 'diseases', 'stating', 'viewpoint', 'Gavin', 'Power', 'Way', 'None', 'Revenue', 'switched', 'imaginary', 'correlation', 'vertical', 'M', 'conclude', 'isolation', '42', 'fringe', 'twist', 'Greece', 'bitterly', 'Cranston', 'serum', 'expectations', 'piled', 'link', 'compatible', 'Already', 'employers', 'clover', 'spray', 'endurance', 'appearing', 'translate', 'whites', 'priests', 'conjunction', 'photographs', 'anyhow', 'bunch', 'weighed', 'Geometric', 'titles', 'cowboy', 'strengthen', 'sober', 'justification', 'dusty', 'claiming', 'Nicolas', 'requiring', 'hiding', 'Back', 'fitting', 'Hanford', 'downward', 'cherished', 'Museum', 'audiences', 'nurse', 'inherited', 'allowance', 'star', 'morale', 'ample', 'gonna', 'suburbs', 'wasted', 'adequately', 'Ray', 'circulation', 'fancy', 'Montgomery', '1/2', 'optimum', 'Military', 'Superior', 'ruined', 'disturbing', 'halfway', 'Rose', 'maintains', 'jaw', 'voltage', 'Fifth', 'opium', 'waved', 'infectious', 'geographical', 'quest', 'insights', 'glimpse', 'Similarly', 'goodness', 'indirectly', 'steam', 'thereafter', 'differently', 'reads', 'capita', 'Sec.', 'Gilborn', 'ate', 'Line', 'simplicity', 'commitments', 'elementary', 'Temple', 'lyrics', 'preceded', \"what's\", 'tore', 'deals', 'Sea', 'stove', 'landed', 'disappointment', 'sentimental', 'staged', 'Vice', 'contours', '1944', 'segregated', 'Havana', 'joining', 'self-help', 'clue', 'Continental', 'governed', 'blast', 'crying', 'attraction', 'guerrillas', 'Englishman', 'daylight', 'pursuit', 'Common', 'forbidden', 'divisions', 'thru', 'disappointed', 'Berger', 'client', 'tense', 'cracking', 'Marine', 'stature', 'tourist', 'Northwest', 'feasible', 'essence', 'farming', 'missions', 'Amy', 'specialist', 'seemingly', 'restricted', 'miracle', 'cease', 'Waddell', 'ambitions', 'Sloan', \"women's\", 'dragged', 'trick', 'practicing', 'verdict', 'purchases', '1940', 'anchor', 'Ryan', 'optimism', 'Thank', 'agreements', 'Stevenson', 'penetration', 'ninth', 'crude', 'sturdy', 'needle', 'indicating', 'trains', 'Juanita', 'tightly', 'ties', 'battens', 'dug', 'decrease', 'deliberate', 'novelist', 'Roger', 'stimulus', 'stirring', 'nut', 'Bridge', 'Ulyate', 'Dutch', 'dimension', 'glorious', 'vanished', 'Ten', 'substituted', 'commanded', 'unemployment', 'Naturally', 'Selden', 'tract', 'burn', 'Cambridge', 'glow', 'muscular', 'afterward', 'exhibits', 'pools', 'sustained', 'textiles', 'networks', 'differential', 'discouraged', 'intensive', 'whiskey', 'Local', 'intend', 'imports', 'stirred', 'rope', 'soils', \"Department's\", 'touching', 'palace', 'vs.', 'batting', 'reward', 'devote', 'virtues', 'parks', 'explosion', 'Powell', 'assault', 'kissed', 'catcher', 'meaningless', 'dropping', 'Al', 'battery', 'reasoning', 'Norman', 'memories', 'Jerry', 'excellence', 'realities', 'nineteenth-century', 'tentative', 'preventive', \"Drug's\", 'biological', 'boost', 'validity', 'gradual', 'transmission', '1912', 'fluids', 'plunged', 'constructive', 'shower', 'Steinberg', 'onion', 'ham', 'ashamed', 'bottles', 'potato', 'Morton', 'contributing', 'deserted', 'Elizabeth', 'Carla', 'kick', 'Dandy', \"wife's\", 'Oriental', 'ballistic', 'razor', 'wider', 'Aegean', 'dish', 'dragging', 'p.', 'printing', 'distinctions', 'defeated', 'productivity', 'sweep', 'shipments', \"Pont's\", 'oppose', 'Homeric', 'Stalin', 'apt', 'potatoes', 'prolonged', 'Katie', 'collage', 'sights', 'Determine', 'shortage', 'distress', 'heavier', 'comparatively', 'tones', 'bees', 'Laboratory', 'accustomed', 'domination', 'Buck', 'opponent', 'fabric', \"Fromm's\", 'alter', 'Eugenia', 'explanations', 'Dark', 'linked', 'senses', 'invasion', 'sheriff', 'Somehow', 'judged', 'coalition', 'texture', 'hire', 'onset', 'commonplace', \"Hardy's\", 'sponsor', 'guessed', 'Fromm', 'Congressman', 'misery', 'peak', 'denominations', 'refusal', 'railroads', 'considers', 'clever', 'heritage', 'alongside', 'exhausted', 'sooner', 'continuation', 'doorway', 'employes', 'Internal', 'Socialist', \"country's\", 'cared', 'cafe', 'Minister', 'Anything', 'Festival', 'pill', 'writings', 'lung', 'owed', 'operates', 'optimistic', 'Chamber', 'vegetables', 'packing', 'doubts', 'Burton', 'juvenile', 'tappet', 'flashed', 'remind', 'actors', 'reactionary', 'knock', 'competing', 'arranging', 'vessel', 'Blackman', 'dissolved', 'horrible', 'creature', 'parent', 'swinging', 'damp', 'originated', 'termed', 'Israel', 'cubic', 'react', 'silly', 'Biblical', 'proves', 'pin', 'petition', 'personalities', 'picnic', 'committees', 'Radio', 'Madame', \"they'll\", 'unpleasant', 'mentally', 'freezing', 'smashed', 'scored', 'lecture', 'qualify', 'helium', 'burns', 'drain', 'Lublin', 'physician', 'straw', 'arguments', 'arteries', 'Library', 'indispensable', 'sociology', 'socially', 'eighteen', \"Russia's\", 'literal', 'proportional', 'carved', 'wrapped', 'selections', 'nearer', 'eligible', 'driveway', 'bow', 'coupled', 'convicted', 'upset', 'survived', 'readiness', 'Marty', 'strips', '10,000', 'superiority', 'fails', 'cleaned', 'Between', 'centered', 'molding', 'loses', 'leap', 'threshold', 'deemed', 'fruits', 'producers', 'wax', 'fighters', 'dismissed', 'Diane', 'odor', 'province', 'drag', 'entertain', 'Model', 'highways', 'Emory', 'supports', 'succeed', 'appearances', 'careers', 'penetrating', 'lemon', 'valued', 'Fourth', 'commands', 'folded', 'one-third', 'bubbles', 'rescue', 'revolver', 'determines', 'Daniel', 'Speaking', 'width', 'Dominican', 'retreat', 'Churches', 'hats', 'expedition', 'rounded', 'oldest', 'flung', 'debut', 'celebrated', 'fury', 'attach', 'Eve', 'vulnerable', 'realtors', 'conceive', 'sweater', 'hastily', 'Swiss', 'influences', 'pit', 'Advisory', 'proceeds', 'boxes', \"Plato's\", 'combine', 'thoughtfully', 'seats', 'dislike', 'complaint', 'expressions', 'candy', 'ceremonies', 'mild', 'Command', 'Garryowen', 'scrutiny', 'connections', 'swiftly', 'reluctant', 'boundaries', 'Belgian', 'administered', 'achieving', 'heater', 'counsel', 'ignorance', 'policemen', 'Greville', 'coordination', 'Yalta', 'prescribed', 'stare', 'Amen', 'adventure', 'beaches', 'flights', 'sincere', 'capability', 'attic', 'Picasso', 'unfortunately', 'swore', 'generator', 'paths', \"He'll\", 'pie', 'Welch', 'criticized', 'AP', 'soup', 'feared', 'pine', 'pan', 'analyzed', 'Theodore', 'dared', 'threats', 'honors', 'python', 'usage', 'Behind', 'fix', 'delegates', 'woke', 'touches', 'preparations', 'intact', 'Nassau', 'bothered', 'cruel', 'lion', 'executed', 'short-term', 'Song', 'True', '15th', 'projected', 'border', 'pairs', 'Beverly', 'marching', 'climax', 'momentum', '45', 'Water', 'illuminated', 'backs', 'toll', 'fork', 'cups', 'Eichmann', 'upright', 'Kent', 'pursued', 'cop', 'Okay', 'husbands', 'conjugates', 'chill', 'sizable', 'picking', 'administrator', 'borrowed', 'organize', 'Angels', 'Jessica', 'pickup', 'vigor', 'grim', 'statistical', 'tobacco', 'Beowulf', 'Edythe', 'Aunt', 'spectra', 'Start', 'Kentucky', 'blank', 'relaxed', 'Harlem', 'Renaissance', 'favorably', 'amended', 'prone', 'clung', 'uncomfortable', 'daughters', 'arises', 'Confederate', 'deviation', 'contempt', 'treats', 'Joan', 'painfully', 'indications', 'Jay', 'shallow', 'rancher', 'Export-Import', 'protective', 'accommodate', 'Shall', \"industry's\", 'ruin', 'annually', 'scenery', 'reforms', 'purchasing', 'profitable', 'eliminating', 'solitary', 'nails', 'bathing', 'colonial', 'Additional', 'bell', 'nursing', 'clearer', 'seventh', 'tickets', \"Jess's\", 'coordinated', 'bark', 'immense', 'aqueous', 'paragraphs', 'disapproval', '$1', 'summary', 'uniforms', 'heap', 'caution', 'intent', 'singular', 'counts', \"Khrushchev's\", '1947', 'publications', 'Ages', 'proteins', 'drums', 'pro', 'speeds', 'appealing', 'resonance', 'engage', 'Garth', 'employer', 'sensation', 'armies', 'Recently', 'evenings', 'pains', 'sustain', 'spectrum', 'yarn', 'Representatives', 'emerging', 'decomposition', 'pianist', 'fig.', 'manners', 'producer', 'organs', 'superb', 'breeze', 'draws', 'amusing', 'encouragement', 'rupees', 'V.', 'Alice', 'Control', 'penalty', 'Bari', 'bored', 'horn', 'alliance', 'Iliad', 'Egypt', 'passenger', 'frightening', 'locate', 'Protestants', 'Theater', 'Columbus', 'approve', 'framed', 'habitat', 'diagonalizable', 'applause', 'remembering', 'trustees', 'structured', 'conditioning', 'symptoms', 'significantly', 'sensible', 'participating', 'foundations', 'gradient', 'feathers', 'answering', 'instinct', 'discretion', 'disclosed', 'revised', 'irrelevant', 'professors', 'failing', 'fastened', \"town's\", 'Check', 'judicial', 'polished', 'monopoly', 'loving', 'enterprises', 'shells', 'shoe', 'Hodges', 'celebration', 'Planning', 'merits', 'transit', 'odds', 'lawn', 'cannery', 'restored', 'hopeless', 'gum', 'Irenaeus', \"people's\", 'apprentice', \"day's\", 'affixed', 'oils', 'rivers', 'cafeteria', 'countless', 'dwelling', 'smallest', 'Utopian', 'mileage', 'cousin', 'beaten', 'Space', 'eagerly', 'Put', 'strings', 'files', 'Below', 'superintendent', 'Gallery', 'arrow', 'Commissioner', 'lever', 'restrained', 'preferably', 'Tory', 'collecting', 'imply', 'solids', 'insert', 'dean', 'supplying', 'Nam', 'references', 'fictional', 'Ed', 'permanently', 'modified', 'Greene', 'ordering', 'Light', 'classified', 'tumbled', 'dumb', 'singers', 'Malraux', 'abilities', 'fits', 'blade', 'familiarity', 'averaged', 'Empire', 'conducting', 'relieve', 'pint', 'Nazi', 'Rep.', 'invitations', '65', 'monk', \"we've\", 'explaining', 'adopt', 'prayers', 'disposition', 'fists', 'bull', 'clarify', 'investigators', 'lend', 'Naval', 'moonlight', 'Telegraph', 'cluster', 'associates', 'remedy', 'separately', 'flames', 'gaining', 'understandable', 'Using', 'brutality', 'monstrous', 'involvement', 'statewide', 'port', 'miserable', 'Bishop', 'swift', 'Assistant', 'nighttime', 'cone', 'congressional', 'dictatorship', 'Birmingham', 'gates', 'acid', 'Word', 'Turning', 'utter', 'lowest', 'prose', 'Children', 'monitoring', 'depreciation', 'Oklahoma', 'pepper', 'derive', 'Truman', 'romance', 'reviewed', 'dough', 'Minnesota', 'Packard', 'suspicious', 'colt', 'Rod', 'rental', 'athletic', 'casually', 'lasting', 'static', 'hormone', 'debt', 'Springs', 'plasma', 'par', 'owns', 'businessmen', 'rebellion', 'cows', 'Sox', 'imaginative', 'defending', 'hut', 'frieze', 'taxed', 'Comedie', 'Glendora', 'Helen', 'steep', 'implicit', 'fellows', 'appeals', 'impersonal', 'paramagnetic', 'sentences', 'Lucille', 'ideology', 'commitment', 'behave', 'statutory', 'behaved', 'Doctor', 'sinister', '800', 'pole', 'curled', 'Ireland', 'correctly', 'treasurer', 'ethics', 'economics', 'observer', 'Thayer', 'assets', 'Figures', 'handy', 'pending', 'barbecue', 'sells', 'waving', 'publishing', 'Garibaldi', 'accelerated', 'handful', 'walks', 'nuclei', 'manifold', 'streetcar', 'witnessed', 'gifted', 'Generally', 'Ambassador', 'roar', 'collapsed', 'stimulation', 'abundance', 'integral', 'curb', 'solar', 'McClellan', 'safely', '1900', 'Scotland', 'A.L.A.M.', 'stopping', 'breakdown', 'N.Y.', 'G', 'Copernicus', 'twentieth', 'Women', 'unaware', 'Ave.', 'litigation', 'maps', 'rely', 'sprang', 'Along', 'Somewhere', 'subsection', 'opposing', 'couples', 'omitted', 'Garden', 'satisfying', 'Piepsam', 'lantern', 'tries', 'carpet', 'undertake', 'mutually', 'abstraction', 'portable', 'leveled', 'liberalism', 'fond', 'Order', 'brooding', 'Jeep', 'assuming', 'proclaim', 'null', 'exerted', 'exaggerated', 'grin', 'beating', 'Building', 'spur', 'Sally', 'rounds', 'Arlen', 'programing', 'ethnic', 'Hart', 'tissues', 'evaluate', 'equilibrium', 'insane', 'rug', 'solidarity', 'typically', 'charcoal', 'Colorado', 'ton', 'crimes', 'treaty', 'restless', 'invented', 'forcing', 'Whenever', 'modernization', 'nursery', 'enters', 'autistic', 'outset', 'expand', 'biography', 'psychology', 'tips', 'convey', 'linguist', 'Dad', 'Death', 'champagne', 'Gardens', 'spokesman', 'beams', 'Democrat', 'Hand', 'rockets', 'Prairie', 'Night', 'doses', 'missionary', 'cruelty', 'protested', 'neighbor', 'Guard', 'Lester', 'Food', 'squares', 'fusion', 'defects', 'guaranteed', 'experimentation', 'tumor', 'enabling', 'Unless', 'radically', 'elderly', 'Forests', 'manpower', 'Members', 'Products', 'resemblance', 'perceive', 'rubber', 'conditioner', 'undue', 'sincerity', 'planners', '32', 'Yale', 'phosphor', 'repetition', 'belonging', 'Methodist', 'differed', 'acute', 'Somebody', 'begged', 'creates', 'stability', 'progressed', 'ace', 'Ludie', 'objections', 'lectures', 'casework', 'objected', 'dot', 'Hope', 'cake', 'scores', 'earnestly', 'underwater', 'Indiana', 'mix', 'Lou', 'customary', 'complexity', 'politician', 'toilet', 'invariant', 'GOP', 'unfair', 'placement', 'Argiento', 'sector', 'blockade', 'patch', 'screwed', 'posture', '$600', 'cereal', 'forgiveness', 'shattered', 'elegant', 'decay', \"officer's\", 'Athabascan', 'WTV', 'incomplete', 'matches', 'deepest', 'gloom', 'vigorously', 'appealed', 'afternoons', 'therapeutic', 'contradiction', 'selecting', 'Hino', 'sue', 'communicate', 'analogy', 'Kohnstamm-positive', 'Kohnstamm', 'scream', 'X', 'compulsivity', 'document', 'corruption', 'sealed', 'roleplaying', 'cheeks', 'visitor', 'participated', 'Lafayette', 'tempted', 'computer', 'thread', 'execution', 'tub', 'meanwhile', 'lagoon', 'Ill.', 'Mays', 'quit', 'vocal', 'embrace', 'propose', 'likewise', 'ultraviolet', 'praised', 'consumed', 'influential', 'Hills', 'drainage', 'compass', 'Oersted', 'detection', 'deputies', 'receiver', 'inhabitants', 'antenna', 'erect', \"night's\", 'Graham', 'graduated', 'promoting', 'bacterial', 'surviving', 'A.M.', 'infantry', 'remembers', 'standpoint', 'media', 'diverse', 'Open', 'Low', \"Pip's\", 'boundary', 'necessities', 'sheer', 'suburb', 'ego', 'adapted', 'Inquirer', 'slightest', 'absorb', \"She'd\", 'induced', 'suggesting', 'Anderson', 'Tribune', 'Artists', 'lieutenant', 'clergy', 'explore', 'world-wide', 'independently', 'Ask', 'Market', 'realizing', 'whisper', 'compounded', 'Richardson', 'demographic', 'Cut', 'presumed', 'youngest', 'Persians', 'tilted', 'Winchester', 'swallowed', 'unstructured', 'Anyone', 'tourists', 'eaten', 'pray', 'Chris', 'Charter', 'tank', 'spokesmen', 'coincide', 'trailers', \"Foundation's\", 'deduct', 'cooler', 'lately', 'bastards', 'Income', 'prayed', 'Richmond', 'amid', 'Sansom', 'affirm', 'aspirations', 'blocked', 'performers', 'Monsieur', 'lens', 'inning', 'tennis', 'ridge', 'prosperity', 'harsh', 'solemn', 'gaze', 'employ', 'Switzerland', 'Rockefeller', 'strokes', 'Station', 'Hunter', 'downstairs', 'nilpotent', 'stereotype', 'crashed', 'mare', 'adventures', 'intersections', 'anti-slavery', 'McFeeley', 'Andrus', 'manned', 'gossip', 'leaning', 'exclaimed', 'blew', 'suspension', 'sisters', 'combustion', 'dolls', 'decides', 'pro-Western', 'magical', 'fulfillment', '2:36', 'purse', 'unlocked', 'ironic', 'hymen', 'meadow', 'equality', 'partisan', 'enacted', 'Electric', 'perceived', 'Garry', 'trot', 'welcomed', 'processed', 'Purdew', 'cane', 'Recent', 'intellectuals', 'fearful', 'Churchill', 'Friends', 'expended', 'buddy', 'dental', 'limp', 'cm.', 'Meltzer', '$500', 'festival', 'detected', 'joints', 'Data', 'fountain', 'Bryan', 'controversial', 'two-thirds', 'weep', 'farewell', 'luminous', 'yielded', 'entertaining', \"Women's\", 'Federation', 'unwed', 'believing', 'interpretations', 'choices', 'islands', 'unlimited', 'secant', 'Country', 'restaurants', 'halted', 'challenging', 'cumulative', 'fantasy', 'whipped', 'Brassnose', 'insect', 'Fine', 'acknowledged', 'installation', 'egg', 'wrinkled', 'functioning', 'legislature', '1943', 'Max', 'staggered', 'durable', 'dialogue', 'Grant', 'carryover', 'chapters', 'incest', 'passions', 'enabled', 'fleet', 'hairs', 'Tri-State', 'sizes', 'honestly', 'pension', 'bubble', 'purity', 'vessels', 'discount', 'seeming', 'beds', 'Better', 'landlord', 'Gabriel', 'kicking', 'diversity', 'refrigeration', 'blues', 'parochial', 'initiated', 'Korea', 'leaf', 'porous', \"Lord's\", 'Drive', 'virus', 'Cappy', 'overall', 'incentive', 'defenses', 'stones', 'inventories', 'Delphine', 'Andrew', 'extends', 'Farm', 'Southwest', 'Feathertop', 'stereo', 'pleading', 'pretending', 'Wayne', 'heights', 'liquidation', 'temptation', 'Try', 'cigarettes', 'Hetman', 'louder', 'deficit', 'Mexicans', 'baptized', '1913', 'cm', \"Steele's\", 'stubborn', 'elevator', 'cab', 'Guam', 'Yang', 'Seeing', 'focused', 'snap', 'foremost', 'idle', 'insoluble', 'distinctly', 'correspondent', 'terminate', 'statute', 'supposedly', 'quaint', 'incorporated', 'state-owned', 'absorption', 'contended', 'irony', 'blindness', 'resident', 'Ptolemaic', 'maker', 'Cooper', 'acknowledge', 'attendant', 'boil', 'urgency', 'Dwight', '20th', 'painters', 'dice', 'lighter', '104', 'alcohol', 'calculation', 'agriculture', 'composite', 'spectators', 'breaks', 'adolescent', 'episode', 'bastard', '$100', 'Bulletin', 'smoothly', 'adjacent', 'hardened', 'maids', \"Trevelyan's\", 'layer', 'terminal', 'map', 'blades', 'copper', 'arriving', 'Future', 'molded', 'loosely', 'Atlas', 'cabinet', 'Everybody', 'crossroads', 'floors', 'sweeping', 'neon', 'gods', 'newest', 'compact', 'diagnosis', 'transferor', 'mythological', 'hollow', 'masters', 'theatrical', 'formulaic', '1.5', 'undergoing', 'unadjusted', 'evidenced', 'hopeful', 'furiously', 'Harmony', 'Benjamin', 'Monroe', 'infrared', 'grab', 'individualism', 'tappets', 'traced', 'everyday', 'swollen', 'Selkirk', 'requested', 'opponents', 'passionate', 'convert', 'territorial', 'Taking', 'shelf', 'Lumumba', 'Metropolitan', 'raced', 'chewing', 'ignorant', 'wealthy', 'grandfather', 'resolve', 'lime', 'sunset', 'consciously', 'dentist', 'villages', 'collaboration', 'Beethoven', 'transparent', 'nomination', 'rebels', 'Russell', 'populated', 'elite', 'youthful', 'evolution', 'stockade', 'ceased', 'lasted', \"Roberts'\", 'coatings', 'Turkish', '7th', 'retention', 'aloud', 'resultant', 'Masters', 'Grandma', 'tower', 'sunny', 'Age', 'Mass.', 'Parliament', 'dependence', 'Joel', 'icy', 'deserved', 'Trujillo', 'recalls', 'sorts', 'reacted', 'murders', 'Soviets', 'boot', 'antigen', 'counting', 'Nazis', 'doubtless', 'Pentagon', 'babies', 'acquainted', 'credited', 'ordinarily', 'turmoil', 'co-operation', 'ominous', 'wires', 'lyric', 'cavity', 'mercenaries', 'composers', 'strengthening', 'jerked', 'resort', 'sadly', 'antibody', 'guerrilla', 'vocabulary', 'effected', 'deserve', \"kid's\", 'dialysis', 'lightning', 'Emperor', 'accordingly', 'gauge', 'Torrio', 'nerve', 'trigger', 'crest', 'adjoining', 'News', 'nineteen', 'teen-agers', 'advisers', 'daring', 'phony', 'impulses', 'interviewed', 'Has', 'ballot', 'initially', 'Half', 'antique', 'violently', 'Hot', 'Essex', 'Inside', 'noting', 'circumstance', 'speakers', 'giants', 'chickens', 'couch', 'Charlotte', 'globe', 'Discovery', 'thunder', 'pity', 'Herbert', 'instituted', 'anaconda', 'stray', 'ribbon', 'fashionable', 'promoted', 'settlers', 'salesman', 'indictment', 'gripped', 'Shelley', 'Congolese', 'borders', 'Pearson', 'proven', 'eccentric', 'satisfactorily', '38', 'capitalism', 'embarrassing', 'evaluated', 'deficiency', 'Hesperus', 'weights', 'towels', 'muffled', \"Scotty's\", 'render', 'sodium', 'frighten', 'tear', 'Chapel', 'breast', 'beg', 'injuries', 'airplane', 'counterparts', 'bursting', 'Earl', 'happier', 'infancy', 'sexes', 'furnace', '1920', 'trailer', 'sixties', 'construct', 'constitution', 'Korean', 'presidential', 'curse', 'ribs', 'Bar', 'squeeze', 'juice', 'restraint', 'bits', 'Hillsboro', 'enzymes', 'marking', 'proprietor', 'Column', 'custom', 'ninety', 'Exchange', 'crawl', 'requests', 'purple', 'concentrate', 'electoral', 'sprawled', 'deciding', 'commercially', 'Fall', 'twenty-four', 'unusually', '$1,000', 'Vince', 'Knight', 'Boys', 'rabbit', 'threaten', 'successive', 'fixing', 'accumulation', 'rejects', '1941', 'limiting', 'Reserve', 'tender', 'Main', 'Pohl', 'towering', 'loading', 'civilized', 'fluorescence', 'compartment', 'drastic', 'enclosed', 'colonel', 'Timothy', 'comprise', 'retain', 'disappear', 'snatched', 'rubbing', 'commissioners', 'emotionally', 'passive', \"Jack's\", 'gifts', 'Hey', 'honeymoon', 'rotation', 'exert', 'Railroad', 'buys', 'debts', 'formulated', 'Progress', 'Consequently', 'shaken', 'Dillon', 'Australia', 'forthcoming', 'conclusive', 'Hogan', 'Herald', 'Moon', 'consultant', 'Edwin', 'angles', 'wonderfully', 'calendars', 'liking', 'choosing', 'cylindrical', 'invested', 'settling', 'necessitated', 'revealing', 'dreaming', 'respected', 'warn', 'duration', 'natives', 'mills', 'noticeable', 'divide', 'Tony', 'Jastrow', 'investigate', 'consult', 'acrylic', 'recover', 'moist', 'locating', 'Szold', 'Kremlin', 'planted', 'dose', 'Throat', 'grasped', 'rejection', 'chronic', 'arched', 'grill', 'declares', 'entities', 'enlisted', 'meats', 'lane', 'shades', 'poorly', 'apprehension', 'fur', 'Anglican', 'pavement', 'Introduction', 'taxpayer', 'intelligible', 'comfortably', 'constitutes', 'lodge', 'foregoing', 'Heights', 'deaf', 'Dylan', 'formulations', 'keen', 'contrasts', 'cemetery', 'treatments', '90', 'bloom', 'bronze', 'spinning', 'indifferent', 'flies', 'Jimmy', 'historically', 'Midwest', 'McBride', 'deductions', 'metaphysics', 'frowning', 'mineral', 'conceivable', 'Looking', 'plow', 'yearly', 'gasoline', 'nucleus', 'eloquent', 'bankers', 'lake', 'crept', 'blond', 'script', 'revelation', 'shaft', 'floating', 'cheaper', 'Phillips', 'energies', 'founding', 'pose', 'Oregon', 'complain', 'endured', 'statesman', 'disguised', 'minerals', 'tracks', 'frantic', 'tires', 'orthodox', 'Brumidi', 'Got', 'memorable', 'streams', 'dies', 'therapy', 'pituitary', 'Ross', 'Barnett', 'discrepancy', 'hazard', 'nearing', 'mg.', 'develops', 'Similar', 'criticisms', 'Quint', 'Protestantism', 'L', 'inspect', 'Albany', 'epidemic', 'Agriculture', \"individual's\", 'Moritz', 'observing', 'wired', 'approximate', 'framework', 'posted', 'Dill', 'Presbyterian', 'Taliesin', \"Eisenhower's\", 'appreciated', 'Cubism', 'gap', 'surgeon', 'adopting', 'merchant', 'contrasting', 'portions', 'Sixties', 'twisting', 'awkward', 'amazed', 'motivation', 'trusted', 'partial', 'usefulness', 'shifting', 'tin', 'aerator', 'smiles', 'Services', 'thereto', 'specify', 'theaters', 'Willie', 'integrated', 'investors', 'eventual', 'teaches', 'infant', 'autonomic', 'housed', 'energetic', 'regretted', 'manufactured', 'Ever', 'conceded', 'Hiroshima', 'fulfilled', 'thoughtful', 'Stone', 'childish', 'Information', '1942', 'contraction', 'frustration', 'array', 'Piazza', 'transfers', 'preserves', \"Shakespeare's\", 'Spelman', 'spaces', 'sliding', 'Sons', 'peasants', 'photographic', 'McKinley', 'nod', 'coincidence', 'specimens', 'arising', 'criteria', 'lousy', 'veterans', 'dots', 'wart', 'assistants', 'symbolized', 'entertained', 'explored', 'Maria', 'summit', 'quantities', 'continent', 'Crombie', 'Mahzeer', 'electrons', 'cohesive', 'sanction', 'faithful', 'butt', 'ml', 'pollen', 'rendering', 'Reef', 'carriage', 'temper', 'privacy', 'fatigue', 'mist', 'plowing', 'climb', 'rival', 'meters', 'squarely', 'rebel', 'psychologists', 'Birds', 'incidents', 'narrator', 'actively', 'frankly', 'unified', 'organ', 'delegation', 'coexistence', 'sculpture', 'Easter', 'Less', '41', 'spit', 'gymnastics', 'neglect', 'interpret', 'grimly', 'unexpectedly', 'swim', 'tropical', 'UN', 'Plymouth', 'leisure', '1000', 'nominal', 'premium', 'politically', 'postwar', 'afforded', 'graduation', 'congruence', 'scholar', 'unprecedented', 'scratching', 'distorted', 'rhythms', 'journalism', 'expectation', 'lengthy', 'Venus', 'secured', 'constituted', '250', 'agrees', 'hardest', 'Viola', 'Porter', 'appropriated', 'tomb', 'Michael', 'anticipate', 'Hong', 'Eight', 'posse', 'varies', 'Kong', 'equitable', 'Kehl', 'Vivian', 'rider', 'strained', 'Hampshire', 'airport', 'Rev', 'mounting', 'Claude', 'log', '1,000', 'nigger', 'flush', 'outline', 'architecture', 'Master', 'titled', 'doubled', 'shed', 'barbed', 'cooperate', 'dominance', 'bands', 'undergraduate', 'appetite', 'attributes', 'Trustees', 'cult', 'silk', 'Corp.', 'Maxwell', 'sleeve', 'Mahayana', 'curtain', \"earth's\", 'analyses', 'uniformity', 'finite', 'carriers', 'convincing', 'aided', 'disliked', 'testified', 'surveys', 'rocking', 'locally', 'Town', 'trivial', 'Cross', 'Either', 'cultures', 'rotating', 'timing', 'detached', 'tribes', 'facility', 'proclamation', 'quo', 'possessions', 'microorganisms', 'obtainable', 'outcomes', 'nailed', 'preacher', 'adverse', 'Orioles', 'U', 'perfection', 'dimensional', 'eastern', 'disciplined', 'Winslow', 'laying', 'repaired', 'blankets', 'oriented', 'Polish', 'Side', 'generated', 'beneficial', 'confess', 'treating', 'foreigners', 'schoolhouse', 'ghetto', 'slice', 'sigh', 'compound', '1930', 'vacant', 'waist', 'depressed', 'vapor', 'persisted', 'Pedersen', 'rally', 'urging', 'nitrogen', 'distributions', 'strenuous', 'Lilly', 'blessing', 'Governments', 'risen', 'puzzle', 'la', 'zone', 'halt', 'Gordon', 'descending', 'outward', 'wholesome', \"brother's\", 'insulation', 'screens', 'thermometer', 'button', 'fathers', 'comrades', 'utilize', 'deputy', 'Evans', 'Sturley', 'managerial', 'professionals', 'tasted', 'exceeds', 'instrumental', 'deficiencies', 'tremble', '17th', 'solidly', \"latter's\", 'spark', 'fleeing', 'projections', 'refrain', 'summoned', 'unite', 'Give', 'afterwards', 'vain', 'Fosdick', 'refusing', 'mice', 'expenditure', 'ration', 'poison', 'descent', 'glowing', 'Must', 'enjoys', '57', 'Prize', 'Except', 'deceased', 'greatness', 'plotted', 'mg/l', 'ranges', 'burial', 'duly', 'ripe', 'Adjusted', 'Herman', 'Drexel', 'tents', 'recruit', 'departing', \"We'd\", 'Best', 'A.D.', 'subsequently', 'Littlepage', 'Eleanor', 'Tax', 'merge', 'eighty', 'rake', 'reject', 'hysterical', 'economically', 'contributes', \"girl's\", 'diagram', 'sixteenth', \"bull's-eye\", 'ardent', 'compiled', 'Ramsey', 'Thanks', 'Authority', 'Margaret', 'drastically', 'VA', 'technicians', 'tide', 'coordinate', 'disabled', 'recordings', 'hip', \"Alex's\", 'Pathet', 'Skorich', 'elevated', 'mining', 'dash', 'warmed', 'cursed', 'luggage', 'assessing', 'waiter', 'feminine', 'Hawksley', 'secede', 'principally', 'Odyssey', 'akin', 'founder', 'indebted', 'Asian', 'vice-president', 'hesitate', 'specificity', 'declaring', 'hemisphere', 'vengeance', 'admire', 'Boris', 'editorials', 'avoiding', 'kennings', 'missionaries', 'Sweden', 'pasture', 'perfume', 'segment', 'slim', 'Telephone', 'deposited', 'Stacy', 'mount', 'creep', 'advocate', 'crushed', 'Eyes', 'Simmons', 'alternate', 'insists', 'theft', 'channel', 'slashed', 'lunar', 'radioactive', 'swelling', 'blooming', 'Huff', 'Lauren', 'gm.', 'rushing', 'forecast', 'philosophic', 'prostitution', 'indignant', 'intricate', 'mob', 'prediction', 'negligible', 'Hebrew', 'Depot', 'masterpiece', 'Howe', 'transducer', 'turnpikes', 'Slim', 'muddy', 'cigar', 'entity', 'Cold', 'saloon', 'rustling', 'freed', '36', 'defendants', 'synthetic', \"Isn't\", 'Riverside', 'imperative', 'subsistence', 'preoccupied', 'misleading', 'descriptions', 'Apart', 'brace', 'acreage', 'sermon', 'climbing', 'advisory', 'Stock', 'Autocoder', 'megatons', \"Papa's\", 'Persian', \"Government's\", 'representations', 'Newman', 'misfortune', 'buttons', 'dialect', 'legends', 'educator', 'paste', 'Cavalry', 'waking', 'Sun', 'sings', 'oily', 'utilized', 'clues', 'disagreement', 'coats', 'marital', 'privileges', 'psychologist', 'dozens', 'topics', 'disturb', 'muzzle', 'summers', 'bounds', 'coin', 'Rusk', '85', 'youths', 'framing', 'nickname', 'void', 'impatient', 'hull', 'drilling', 'marines', 'harvest', 'text-form', 'politely', 'cathode', 'robbed', 'albumin', \"Chicago's\", 'Certain', 'magnification', 'layers', 'misunderstanding', 'disturbance', 'catastrophe', 'Dumont', 'lease', 'Pratt', 'assuring', 'earthy', 'paragraph', 'shy', 'fertility', 'acquiring', 'simplest', 'huddled', 'journalist', 'applicants', '1859', 'devoting', 'poised', 'Bright', 'sectors', 'darling', \"Johnson's\", 'Northeast', 'Pops', 'loads', 'prejudice', 'Brandt', 'arch', 'Figs.', 'hardware', 'allotted', 'Trig', 'confronting', 'strict', 'hideous', 'anchored', 'imagery', 'meantime', 'streak', 'pump', 'scar', 'consecutive', '1935', 'Isaac', 'sailed', 'handicapped', 'honesty', 'fragments', 'Romans', 'non-violent', 'genuinely', 'conscientious', 'integrity', 'adjusting', 'obstacle', 'criterion', 'arguing', 'screws', 'privileged', 'implication', '1937', 'Cap', 'diminished', 'patches', 'Foster', 'holster', 'admiration', 'mm.', 'bee', 'archaeology', 'Stop', 'Industry', 'underdeveloped', 'phonologic', 'unfamiliar', 'singled', 'Plains', 'calmly', 'accumulated', 'reservoir', 'semester', 'pleasing', 'Polaris', 'seas', 'Jet', 'tenure', 'reinforce', 'inorganic', 'spreads', 'commute', 'embodiment', 'Tar', 'Hub', 'occurrences', 'likelihood', 'incapable', 'typewriter', 'Steichen', 'decency', 'mortal', 'negotiate', 'allied', 'clients', 'mates', 'relevance', 'nowadays', 'accomplishments', 'theorem', 'mastery', 'learns', 'container', 'Review', 'denying', 'anionic', 'ads', 'paced', 'harness', 'vagina', 'adoption', 'Fla.', 'accuse', 'commercials', 'neurotic', 'argues', 'polynomials', 'danced', 'thirty-five', 'acre', 'schedules', 'elephants', 'doll', 'Goldberg', 'analyze', 'disarmament', 'Lucien', 'mixing', 'combining', 'ad', 'tyranny', 'privately', 'cement', 'Concord', 'Meeker', 'patriotic', 'alleged', 'Magnum', 'museums', 'logically', 'pious', 'identities', 'veto', 'Herr', 'lifetime', '48', 'willingness', 'ingenious', 'stole', \"King's\", 'compilation', 'prints', 'conversations', 'Leonard', \"Who's\", '72', 'parish', 'coarse', 'vegetable', 'uniquely', 'keelson', 'listener', 'Quite', 'bearded', 'margin', 'owe', 'longing', 'gigantic', 'airplanes', 'Larkin', 'Majdanek', 'Emma', 'grief', 'wheeled', 'sociological', 'bags', 'overt', 'constituents', 'sergeant', 'marijuana', 'compulsive', 'three-dimensional', 'licked', 'saint', 'bite', 'impatience', 'sensations', 'consulting', 'elemental', \"Mary's\", 'recognizes', 'admirable', 'accounting', 'abandonment', \"Here's\", 'chains', 'communion', 'Lloyd', 'Carmer', 'nationally', 'bloc', 'immigrants', 'Calhoun', 'guiding', 'amazement', 'Brodie', 'angels', 'detect', 'champions', 'bush', 'undesirable', \"Greg's\", 'chase', 'segments', 'Todman', 'Gazette', 'Aside', 'drum', 'compositions', 'boiled', 'crowds', 'employing', 'limitation', 'raid', '1917', 'scars', 'violin', 'mornings', 'Ken', 'costume', 'Richards', 'Fair', 'doomed', 'Conrad', 'Freeman', 'unanimously', 'segregation', 'Paso', 'AIA', 'Clearly', 'patronage', 'differs', 'rides', 'curiously', 'strode', 'favorites', 'Petitioner', 'completing', 'paints', 'tremendously', 'Route', '71', 'clergyman', 'thumb', 'rolls', 'scanned', 'tops', 'Blues', 'commuter', 'intensely', 'Fellowship', 'Appendix', 'holidays', 'Del', 'Bake', 'retrieved', 'Ernest', 'Ellen', 'conform', 'Whereas', 'aggression', 'symphony', 'Theatre', 'dreadful', 'Warsaw', 'extensively', 'Training', 'diagnostic', 'tunnel', 'awfully', 'cultivated', 'frustrated', 'fake', 'oh', 'Brenner', 'wipe', 'northwest', \"Man's\", 'Hansen', 'launch', 'preventing', 'southeast', 'melodies', 'Staff', 'swear', 'exports', 'judging', 'Istiqlal', 'poultry', 'oxen', 'sail', 'favors', 'feeds', 'fragile', 'pork', 'railway', 'Scottish', 'monks', 'Montero', 'interim', 'restrain', 'wool', 'conjugate', 'Barbara', 'nonsense', 'viscosity', 'no.', 'dimly', 'dramatically', 'specialization', 'token', 'jaws', 'witty', 'ye', 'waterfront', 'bolt', 'Julie', 'pleasantly', 'generals', 'Parents', 'adds', 'linguists', 'undergone', 'restrict', 'militia', 'boredom', 'introduce', 'enduring', 'rhythmic', 'reunion', 'Chester', 'bronchioles', 'bleak', 'Phoenix', 'Ball', 'reckless', 'involution', 'spat', 'Av.', 'murdered', 'motivated', 'guarding', 'Pa.', 'impurities', 'ions', 'stiffly', 'dusk', 'Eromonga', 'Wyoming', 'skies', 'thirteen', 'Grosse', 'ditch', 'distal', 'cooked', 'Blatz', 'occupants', \"governor's\", 'Minneapolis', 'exhibited', 'Oscar', 'corrected', 'derives', 'chairmen', 'eyebrows', 'Hengesbach', 'Randolph', 'Schaffner', 'slower', 'Roebuck', 'duck', 'arrange', 'Gran', 'apportionment', 'Larry', 'delivering', 'Pastern', 'picket', 'f{t}', 'hard-surface', 'sponsors', 'designing', 'sped', 'aerated', 'Shea', 'outright', 'potent', 'proportionate', 'tearing', 'Partisan', 'generators', 'Jupiter', 'Living', \"it'll\", \"other's\", 'businessman', 'averages', 'Marvin', 'spy', 'whirling', 'escort', 'grammatical', 'antibodies', 'chapel', 'dissatisfaction', 'Elec', 'Gonzales', 'sewing', 'humans', 'menace', 'alveolar', 'Rankin', \"It'll\", 'tackle', 'attacking', 'biwa', \"Georgia's\", 'handkerchief', 'heel', 'half-man', 'handles', 'dinners', 'Garson', 'Skeletal', 'deposit', 'Interstate', 'Bears', 'Jubal', 'doubted', 'Bernard', 'ringing', 'Year', 'PBS', 'DEAE-cellulose', 'Trade', 'Shaw', 'Gene', '46', 'End', 'Executive', 'morphophonemics', 'bushes', 'Dogtown', 'discharged', 'drifting', 'resigned', 'Bermuda', 'Hague', 'steeple', 'Jenkins', 'irradiation', 'Giants', 'challenged', 'Credit', 'competitors', 'Moses', 'suds', 'Hohlbein', 'Savannah', 'coins', 'Kayabashi', 'collaborated', 'sore', 'majestic', 'skiff', 'AM', 'Wagner-Peyser', 'Douglass', 'reared', 'dumped', 'regulus', 'Holden', 'flooded', 'Sidney', 'fulfill', 'discharges', 'Esther', 'Cincinnati', 'al', 'Prevot', '1924', 'Profile', 'Freedom', \"else's\", 'palatability', 'Students', 'Kohnstamm-negative', 'Angel', 'taxation', 'subsystems', 'tastes', 'Braque', 'Christiana', 'Byrd', 'finishing', 'Muller', 'figs.', 'clerical', 'depended', 'Docherty', 'Partlow', 'vases', 'stillness', 'draped', 'provinces', 'graceful', 'interfere', 'elder', 'awoke', 'cave', 'hint', 'Mountains', 'sullen', 'slug', 'colleague', 'labeled', 'B-52', 'grease', 'Maine', 'positively', 'Higher', 'cheerful', 'Turnpike', 'Girl', 'departed', 'Eden', 'Australian', 'fox', 'earthquake', 'Into', \"O'Banion's\", \"Island's\", 'lazy', 'resisted', 'chromatic', 'occupational', 'flashes', 'ambassador', '1925', 'guts', 'Barnes', 'plea', 'homely', 'wilderness', 'groupings', 'exploited', \"Peter's\", 'admissible', 'Fiat', 'Plan', 'enables', 'abundant', 'stains', 'nicely', 'precipitated', 'Philharmonic', 'searched', 'Acting', 'anxiously', 'presenting', 'prosecution', 'voluntarily', 'recovered', 'illegal', 'seam', 'bounded', 'prohibition', 'hazards', 'brilliantly', 'ills', 'proudly', 'empire', 'spared', 'orthodontist', 'industrialized', 'pour', 'seams', 'projection', 'Shortly', 'proportionately', 'cheese', 'hastened', 'resource', 'marched', 'settings', 'classics', 'municipalities', 'vitally', '1/4', 'Frankfurter', 'await', 'quack', 'zinc', 'anecdote', 'locker', 'blown', '1933', 'tortured', \"Gavin's\", 'wheat', 'simplify', 'Walton', 'antagonism', 'radius', 'stretches', 'brood', \"Palfrey's\", 'retire', 'skillful', 'consumers', 'cites', '2:35', 'sterile', 'embassy', 'Thor', '150', 'advertised', 'gospel', 'simplified', 'circled', 'emerges', 'denoted', 'attainment', 'paradox', 'equations', 'knit', 'guarantee', 'earning', 'unconsciously', 'geometry', 'constants', 'begging', 'preoccupation', 'Kirby', 'indignation', 'computing', 'illustrations', 'tune', 'soaking', 'calculations', 'Minor', 'destined', 'addressing', 'seeks', 'mask', 'Salter', 'roast', 'extremes', 'amused', 'twentieth-century', 'Harriet', 'Always', 'reins', 'elegance', \"Wright's\", 'picturesque', '10-year', '100,000', 'surveyed', 'Fighting', 'Indies', 'unquestionably', 'resin', 'attractions', 'sticky', 'Precious', 'cautious', 'Dulles', 'Duke', 'ally', 'rack', 'numbered', 'traditionally', 'spontaneously', 'choke', 'timely', 'smoked', 'scrambled', 'elders', 'closest', 'bouncing', 'Unlike', 'stepping', 'manifestations', 'resembles', 'discourage', 'vastly', 'heavens', 'atmospheric', 'angel', 'irresponsible', 'toe', 'tailored', 'cork', 'proceeding', 'assigning', 'Indonesia', 'scratch', 'viewing', 'Battle', '40,000', 'gland', 'institutional', 'Publications', 'defining', 'verses', 'etcetera', 'ensemble', 'plumbing', 'winding', 'salad', 'pineapple', 'offset', 'efficacy', 'theologians', 'hierarchy', 'extracted', 'Freud', 'looming', 'clause', 'wishful', 'currents', 'tenants', 'advancement', 'dazzling', 'Forbes', 'broadening', 'campers', 'quantitative', 'guides', 'Arizona', '47', 'manifest', 'dictates', 'beginnings', 'Ritter', 'borrow', 'ghost', 'Sundays', 'Congressional', 'regret', 'specially', 'inspiration', 'versus', 'anatomical', 'heartily', 'prevents', 'well-being', 'assessed', 'impose', 'trades', 'discoveries', 'immensely', 'similarity', '0.5', 'swayed', 'breathed', 'watercolor', 'utilization', 'gram', 'shaved', 'pants', 'agony', '0.1', 'additions', 'barrier', 'augmented', 'sweetheart', 'anatomy', 'persistence', 'Say', 'annoyance', 'destination', 'versions', 'butyrate', 'cellulose', 'counterpart', 'unification', 'marvelous', 'soloist', 'hillside', 'preference', 'gravel', 'commissions', 'pouring', 'restore', 'subordinates', 'forecasting', 'unchanged', 'comparing', 'summarized', 'Against', 'unimportant', 'rocky', 'caring', 'quill', 'pigment', 'Bronx', 'conflicts', 'creativity', 'intercourse', 'bin', 'Deal', 'grotesque', 'persuasion', 'conveyed', 'gracious', 'fighter', 'induce', 'conventions', 'satire', 'Mass', 'troop', 'commanding', \"How's\", 'Anyway', 'replies', 'overcast', 'conservatism', 'horizontal', 'ft.', '18th', 'blessed', 'sometime', 'conceptions', 'attendance', 'drifted', 'withdrew', 'indulge', 'supplementary', 'Left', 'ministers', 'untouched', 'tolerant', 'ratings', 'invite', 'engendered', 'filter', 'cousins', 'cage', \"son's\", 'enchanting', 'linguistic', 'indicators', 'publishers', 'sensory', 'mortar', 'irregular', 'reviewing', 'Claims', 'precedent', 'weird', 'Merchant', 'malaise', 'Rules', 'Coombs', 'gratitude', 'nightmare', 'Ferry', 'superbly', 'beans', 'dresses', 'Kingdom', 'yell', 'illumination', 'avocado', 'polls', 'Cotton', 'mill', 'Preparation', 'Presently', 'consolidation', 'employs', 'Factory', 'Unit', 'existential', 'spectator', 'latent', 'editions', 'Cadillac', 'protests', 'echo', '3,000', 'evils', 'melted', 'dual', 'improves', 'ingredients', 'pamphlets', 'retains', 'reconnaissance', 'formulate', 'snapping', 'proclaimed', 'export', 'weighing', 'battered', 'domain', 'eminent', 'nagging', 'Gentile', 'Luis', 'puzzling', 'philosophers', 'therein', 'spacious', 'Foods', 'miscellaneous', 'boiling', 'sorrow', 'vividly', 'Classes', 'declining', 'Wisman', 'Kirov', 'compressed', 'Cologne', 'molecules', '$10,000', 'revisions', 'Eventually', 'narrowed', 'Headquarters', 'Add', 'elimination', 'generalized', 'reviews', 'perceptions', 'Fathers', 'wrist', 'reservations', 'denominational', 'grunted', 'ragged', 'pathological', 'symbolize', 'glaze', 'permitting', 'monkey', \"Mann's\", 'Buddhism', 'contention', 'chocolate', 'scholastic', 'catching', 'appalling', 'reportedly', 'mimesis', 'filly', 'virgin', 'purified', 'resumption', 'obedience', 'convertible', 'Hungarian', 'breasts', 'suggestive', 'one-half', 'postponed', 'Housing', 'Shann', 'rated', 'spatial', 'histories', 'facets', 'P.M.', 'Toynbee', 'accord', 'accent', 'bulky', 'workable', 'thesis', 'notices', 'questionable', 'warming', 'Falls', 'Boulevard', 'Youth', 'honorable', 'hardship', 'monetary', 'topic', 'thigh', 'tougher', 'patrons', 'seventeenth', 'obtaining', 'smells', 'systematically', 'shores', 'pulls', 'surge', 'deadlock', 'Germanic', 'enrolled', 'lessened', 'Group', 'Texans', 'steering', 'exploit', 'poll', 'adaptation', 'timed', 'tours', 'hints', 'counseling', 'averaging', 'centralized', '2%', 'invasions', 'rails', 'vent', 'developmental', 'ordinance', 'pulse', 'sewer', 'nephew', 'enormously', 'trifle', 'Push-Pull', 'Fiedler', 'outlet', 'warnings', 'conceivably', 'pansies', 'roaring', 'introducing', 'halfback', \"Faulkner's\", 'Drill', 'forests', 'badness', 'glove', 'Voltaire', 'Han', 'inward', 'worldly', 'steer', 'condensed', 'orbits', 'wept', 'rating', 'Rice', 'miniature', 'plywood', 'Relations', 'furnishings', 'metallic', 'deduction', 'vitamins', 'Norton', 'Kearton', 'pelts', 'K', 'moisture', 'redcoats', 'hauled', 'Bienville', 'concentrations', '55', 'incurred', 'shivering', 'swallow', 'Da', 'Schweitzer', 'dread', 'haste', 'yielding', 'Band', 'dig', 'Othon', 'balloon', 'dense', 'Star', 'disclose', 'pennant', 'Meek', 'Rogers', 'carefree', 'Milwaukee', 'acquaintance', 'homer', 'peering', 'Super-Set', 'wounds', 'irregularities', 'examinations', 'coupling', 'compelling', 'spindle', 'Von', 'concealed', 'removing', 'Gradually', 'veil', 'Doaty', 'Yin', 'Near', 'saloons', 'plots', 'Draft', 'Rhodes', 'upside', 'kills', 'ancestry', 'pathetic', 'Works', 'evolved', 'recreational', 'sailors', 'selfish', 'Robards', 'technically', 'corrupt', 'imported', 'skinny', 'Buzz', 'Papa-san', 'relates', 'scrap', 'diagrams', \"Rayburn's\", 'chooses', 'reciprocal', 'Gratt', 'symbolism', 'trio', 'jumping', 'chef', 'CD', 'Atomic', 'Buddha', 'fitness', '24-hr.', 'stamp', 'Gibson', 'exploded', 'periodic', 'yourselves', 'Pirates', '1931', 'crystals', 'focal', 'footsteps', 'umbrella', 'Dead', 'Marx', 'qualification', 'shaping', 'flu', 'mock', \"Barco's\", 'resemble', 'directional', 'withheld', 'accompaniment', 'neutralist', 'overly', 'apportioned', 'interdependent', 'equals', 'Connally', 'perilous', 'expose', 'Jacques', 'bacteria', 'revolt', 'ultrasonic', 'workbench', 'distilled', 'attained', 'Inspector', 'everlasting', 'strains', 'wins', 'Seminary', 'heed', 'dependable', 'palms', 'Guy', 'Guideposts', 'residue', 'Investigation', 'Leaving', 'analyzing', 'Catholicism', 'Babe', 'mentioning', 'Orthodox', 'irresistible', 'spirited', 'tolerance', 'shield', 'interpreter', 'festivities', 'sympathies', 'discontent', 'accelerometers', 'pumping', 'setup', 'debris', 'Angelo', 'differentiation', 'pH', 'ensure', 'accidental', 'Ryusenji', 'gaiety', 'foamed', 'census', 'Hamrick', 'insistent', 'avoidance', 'post-war', 'reminder', '**yf', 'Citizens', 'Walnut', 'shelves', 'cardinal', 'restorative', 'cynical', 'repel', 'Thornburg', 'scenic', 'Friend', 'oysters', 'knitted', 'inescapable', 'anguish', 'realistically', 'Confrontation', 'jokes', 'sophistication', 'compulsion', 'wicked', 'deeds', 'accidents', 'veranda', 'baroque', 'traces', 'distaste', 'downright', 'McCormick', 'generously', 'cares', 'deprived', 'microscope', 'Constantine', 'Newark', 'sticking', \"Helva's\", 'polish', 'singer', 'agreeable', 'Nogol', 'niece', 'Whoever', 'Carnegie', 'Cruz', 'Dance', 'Showmanship', 'solemnly', 'quirt', 'apple', 'Holland', 'wrath', 'Macklin', 'unpaid', 'themes', 'Wendell', 'outgoing', 'stool', 'characterization', 'possesses', 'architects', 'dashed', 'surroundings', \"enemy's\", 'disadvantages', 'glancing', 'Surely', 'horns', '1921', 'witches', 'dispelled', 'non', 'metropolis', 'calcium', 'FBI', 'slack', 'consultation', 'relied', 'profoundly', 'Beauclerk', 'Stravinsky', '600', 'expresses', 'centimeters', 'supplements', 'canvases', 'ash', 'penetrated', 'kindly', 'inclination', 'flair', 'Matson', 'gracefully', 'charts', 'Studies', 'creeping', 'satellite', 'peer', 'emancipation', 'weeping', 'dwell', 'mingled', 'foreseen', 'motif', '2-56', 'Chien', 'Really', \"poet's\", 'Memphis', 'chuck', 'belts', 'peers', 'resent', 'haunting', 'barrels', 'cliff', 'Lolotte', 'stumbling', 'faulty', 'reminds', 'thrusting', 'skipped', 'observes', 'rocked', 'dock', \"Didn't\", 'interlocking', 'lone', 'logs', 'pills', 'Pretty', \"1/4''\", \"1/2''\", 'Hitler', 'scholarly', 'boast', 'shoved', 'bosom', 'deer', 'jig', 'Jed', 'planking', 'cooks', 'relish', 'snarled', 'Controller', \"they've\", 'descended', 'yeah', 'muttering', 'SAC', 'Artie', 'mahogany', 'offense', 'accusing', 'Liberal', 'Emerson', 'poles', \"1920's\", 'interruption', 'peaks', 'urges', 'Unitarian', 'Lucia', 'slapped', 'cushion', 'minus', 'half-hour', 'springs', 'pitched', 'curtains', 'perpetual', 'mounts', 'accommodations', 'winked', 'Need', 'rust', 'contented', 'Snow', 'absurdity', 'exterior', 'Scots', 'chuckled', 'compost', 'testify', 'radiant', 'Brandon', 'assemble', 'clamped', 'Saviour', 'comic', 'prominently', 'spaced', 'potentialities', 'Strange', 'stag', 'Faith', 'franks', 'echoes', 'buns', 'rousing', 'Chase', 'someday', 'Englishmen', 'Universe', 'feeble', 'tactical', '1861', 'inviting', 'elect', 'one-shot', \"Ruth's\", 'coals', 'analogous', 'importantly', 'excluded', 'courtyard', 'seriousness', \"Curt's\", 'Mosque', 'Across', 'frankfurter', 'impassioned', 'authenticity', 'unsuccessful', 'lotion', 'architectural', \"who'd\", 'trunk', 'obey', 'adherence', 'Fifteen', 'resented', 'Sonata', 'tangle', 'Piano', 'Creator', 'mortality', 'impatiently', 'Op.', 'clutching', 'mobility', 'spiral', 'decorations', 'preached', 'exceedingly', 'vinegar', 'enforce', 'ecclesiastical', 'embarrassment', 'hypothetical', 'bounce', 'Hugh', 'irrational', 'zeal', 'aperture', 'brethren', 'triumphantly', 'N.C.', 'negotiating', 'Embassy', 'clicked', 'knuckles', 'pregnant', 'Sullivan', 'automotive', 'conflicting', 'Camp', 'encounters', 'duplication', 'resembled', 'capillary', 'restriction', 'Garland', 'survivors', 'alibi', 'regulation', 'Proof', 'sorbed', 'exaggerate', 'actives', 'boycott', 'Rights', 'caliber', 'grips', 'delegate', \"goin'\", '**yc', 'confrontation', 'decreased', 'Barker', 'uncommon', 'Presidents', 'co-optation', 'unhappily', 'Charley', 'headlights', 'pillow', 'arcs', 'drawer', 'discarded', 'toys', 'revision', 'contests', 'civilizational', 'cameras', 'lower-class', 'Palazzo', 'benches', 'outsiders', 'blows', 'monotonous', 'staircase', 'wreath', 'aide', 'parameters', 'Expressway', 'simultaneous', 'kinetic', 'diminishing', 'mound', 'telegraph', 'grandmother', 'Victoria', 'paramount', 'engagements', 'radish', 'Traffic', 'athlete', 'Help', 'peril', 'Oak', 'Examiner', 'Lodge', 'dominate', 'conspicuously', 'ADC', 'Frenchman', 'boldly', 'mouse', 'stiffened', 'pet', '1938', 'concede', 'Airport', 'confided', 'illiterate', 'applicant', 'homogeneous', 'boom', 'subdivision', 'bias', 'vines', 'sandwich', 'weaker', 'detectable', 'honoring', 'Mel', 'interlobular', 'strikingly', 'denomination', 'declaration', 'willow', 'micrometeorite', 'requesting', 'scraped', 'endure', 'meteorites', 'staffs', 'Highway', 'blunt', 'southward', 'artillery', '1922', '1914', 'Clarence', 'iodide', 'Lt.', 'taxing', 'afflicted', 'notorious', 'miracles', 'authoritative', 'peripheral', 'bumblebees', 'instructor', 'raged', 'Ivy', 'auditorium', 'Considering', 'Southerner', 'basketball', 'Technology', 'gait', 'knot', 'confront', '1040', 'preach', 'hunt', 'undergo', 'parliamentary', \"Mercer's\", 'Peterson', 'traded', 'sixty-one', \"Hetman's\", 'Tech', 'whereof', 'accompany', 'ankle', 'predispositions', 'unsatisfactory', 'shotgun', 'claimant', 'multiplicity', 'Oil', 'slaughter', '100%', 'Weston', 'trailed', 'Sioux', 'appliances', 'diamond', 'thieves', 'efficiently', 'Rural', 'dividends', 'taut', 'deed', 'precarious', 'collections', 'Price', 'Buffalo', 'appropriations', 'decoration', \"Garibaldi's\", \"Malraux's\", 'serene', 'hips', 'archaeological', 'retreated', 'fresco', 'haunted', 'science-fiction', \"Krim's\", 'bomber', 'Doctrine', 'farmhouse', 'dystopias', 'sanctuary', 'aerial', 'abolish', 'stupidity', 'Sales', '1896', 'prompt', 'Strasbourg', 'cleaner', 'traps', 'cleaners', \"They've\", 'surveying', 'congressmen', 'Athens', 'ruins', 'O.K.', 'newt', 'charging', \"week's\", 'Mamma', 'Copernican', 'crawling', 'termination', 'Judy', 'Manager', 'comforting', 'dismal', 'knelt', 'entails', 'Budapest', 'practiced', 'betrayed', 'allotments', 'foliage', 'recipe', 'baked', '99', 'Agency', 'Sheldon', 'Pollock', 'Murray', 'Le', 'wandered', 'freshman', \"who's\", 'Kern', 'potters', 'Francesca', 'chambers', 'disappearance', 'sunrise', 'strangers', 'leagues', 'agrarian', 'decreases', 'appraisal', 'cyclist', 'Achievement', 'Poetics', 'wardrobe', 'proprietorship', 'germanium', 'Noel', 'martyr', 'Strong', 'designers', 'ontological', 'utopian', 'republic', 'Grace', 'declare', 'tax-free', 'Ptolemy', 'pad', 'supporters', 'steak', 'immediacy', 'ceramic', 'rooted', 'reconstruction', 'isolate', 'prosperous', 'decorative', 'notify', 'varieties', 'undermine', 'Danish', 'flour', 'X-ray', 'exceptionally', 'mating', 'Results', 'Chancellor', 'fort', 'statesmen', 'Industries', 'restoration', 'predictable', 'struggled', 'releases', 'Bottom', 'presses', 'Ruanda-Urundi', 'repairs', 'stimulating', 'impartial', 'unstable', 'bankruptcy', 'divorced', 'peculiarly', 'crisp', 'Presidency', 'Hoover', 'slump', 'frowned', '4th', 'brighter', 'Series', 'slab', 'vacations', 'investigating', 'Dorset', 'rulers', 'consonantal', 'guarantees', 'devise', 'aunt', 'Burns', 'spends', 'panting', 'blindly', 'sleeves', 'humidity', 'C-plane', 'domes', 'clocks', 'telegram', 'rot', 'momentous', 'infection', 'bloody', 'undergraduates', 'Wolfe', 'worthwhile', 'precaution', 'complaints', 'renewal', 'melancholy', '$2', 'Remove', 'astonishing', 'reassurance', 'sentenced', 'financially', 'Jenny', 'Meeting', 'flashlight', 'populations', 'youngster', 'sprung', 'stacked', '1963', 'lb', 'respondents', 'respondent', 'thou', 'overboard', 'carrier', \"You'd\", 'jammed', 'smoking', '19th', 'La.', 'rigidly', 'extruded', 'guessing', 'predict', 'wreck', 'mayor', 'busily', 'social-class', '180', 'fabrication', 'foe', 'essays', 'tactual', 'revival', 'establishments', 'public-limit', 'territories', 'counters', 'intonation', 'contracted', 'blend', 'recommending', 'Vecchio', 'two-story', 'Barney', 'straightforward', 'junk', 'phonemic', 'creek', 'calf', 'Hemphill', 'revive', 'stunned', 'Swadesh', 'usable', 'actuality', 'wonders', 'ambiguity', 'Imagine', 'discernible', 'scholarships', 'turtle', 'toss', 'kilometer', 'Pam', 'hearings', 'messenger', 'borne', 'toll-road', 'speculative', 'slumped', 'hostess', 'frantically', 'pig', 'Production', 'mouths', 'grinding', 'Wales', 'lovers', 'mourning', 'Port', 'embarrassed', 'coldly', 'celestial', 'sucking', 'broaden', 'orthodontic', 'Basic', 'catalogue', 'scrub', 'electrostatic', 'quacks', 'utilizing', 'tumors', 'Vocational', 'replacing', 'clarified', 'secrecy', 'bluff', 'premises', 'thyroxine', 'Deep', 'companions', '$300', 'modes', 'slum', 'succeeds', '1908', 'aborigines', 'bless', 'provincial', 'transmitted', '350', 'withdraw', 'Juet', 'inhibit', 'indicator', 'recruits', 'volunteer', 'unnatural', 'featured', 'propagation', 'mg', 'championship', 'sanctions', 'eased', 'advise', 'Mo.', 'hose', 'barred', 'prairie', 'crimson', 'conquest', 'westward', 'thief', \"party's\", 'Issue', 'Theorem', 'erotic', 'patiently', 'monuments', 'Victorian', 'Pulley', \"years'\", '2,000', 'terrain', 'militant', 'bloat', 'Twice', 'backing', 'articulate', 'forceful', 'Perry', 'Julian', 'buffalo', 'slips', 'deaths', 'bites', 'repeating', \"Navy's\", 'se', 'paradoxically', 'dispatch', 'fundamentally', 'granting', 'bacon', 'reversed', 'nominated', 'Prime', 'parasympathetic', 'assumes', '$50', 'avenue', 'recipient', 'enactment', 'constructing', 'trailing', 'Y.', 'half-mile', '110', 'pricing', 'Burke', 'radios', 'Same', 'stops', 'donated', 'Award', '37', 'statues', '$10', 'occupying', 'prevailed', 'enlarge', 'proposes', 'Tex.', 'collectors', 'wholesale', 'watered', 'merchandising', 'assertion', 'Questions', 'Happy', 'assisted', 'doubling', 'coping', 'confessed', 'legislator', 'issuance', 'retarded', 'ban', 'deterrent', 'teamsters', 'Welfare', 'Karns', 'Golf', 'retiring', 'waged', '8,000', 'Incidentally', 'lending', 'forum', 'fraud', 'resignation', 'dismissal', 'mails', 'Reno', 'probation', 'carcass', 'pleaded', 'Ted', 'exotic', 'switching', 'ankles', 'insult', 'Delta', 'Olympic', 'fruitful', 'credits', 'preserving', 'petitions', 'congenial', 'Orange', 'admitting', 'repay', 'Whipple', 'agreeing', 'expedient', 'Case', 'Grove', 'bowed', 'hailed', 'organizing', \"car's\", 'charity', 'Signal', 'awaited', 'overwhelmingly', 'Patricia', 'gubernatorial', 'solo', 'Deputy', 'grocery', 'norm', 'tragedies', 'con', 'Steel', 'statutes', 'Ala.', 'slums', 'bang', 'levy', 'brisk', 'enact', 'victories', 'Prior', 'troublesome', 'floated', 'contractual', 'violate', 'Question', 'crushing', 'Treaty', 'scandals', 'fare', 'labor-management', 'Martinelli', 'infield', 'Paradise', 'facto', 'cease-fire', 'Representative', 'Buckley', 'pitchers', 'Sr.', '$5', 'dwellings', '1923', 'dividing', 'utilities', 'certificate', 'distressing', '24th', 'cooperating', '9th', 'relaxation', 'enlarged', 'Maurice', 'Gorboduc', 'Nine', 'uncovered', 'lambs', 'provocative', 'inference', 'intensification', 'breathe', 'confines', 'distributor', 'vanity', 'economies', 'triggered', 'Caribbean', \"Company's\", 'examining', 'sanitation', 'builds', 'accreditation', 'Recreation', 'Thanksgiving', 'salami', 'unbroken', 'incidence', 'diarrhea', 'lessening', 'misplaced', 'anarchy', 'mercury', 'Italians', 'mouthpiece', 'submerged', \"Oersted's\", 'chatter', 'banished', 'dealings', 'voltaic', '1819', 'links', 'magnetism', 'sipping', 'Electrical', 'Present', 'consultants', 'Automobile', 'rosy', 'Success', 'nickel', 'charting', 'Things', 'impaired', 'relate', 'rehearsed', 'gazed', 'crashing', 'invisible', 'deja', 'vue', 'surged', 'concurrent', 'nutrition', 'Mediterranean', 'uniformed', 'wiser', 'twenty-one', 'wandering', 'squat', 'repeal', 'Approximately', 'discriminating', 'multiplying', 'liability', 'styrene', 'dominates', 'acetate', 'openings', 'wary', 'plight', 'stud', 'hopelessly', 'unload', 'clinging', 'Follow', 'calculating', 'Horse', 'experimentally', 'wiry', 'curved', 'molds', 'envy', 'grudge', 'bending', 'echoed', 'grey', 'warmly', 'strand', 'Hold', 'Shadow', 'heretofore', 'glue', 'retaining', 'flooring', 'U.S.S.R.', 'axes', 'Competition', 'rag', 'drained', 'shrill', 'frankfurters', 'Score', 'gravely', 'predominantly', 'landmarks', 'formations', 'sunshine', 'Hardly', 'Sophia', 'diamonds', 'woven', 'old-fashioned', 'heir', 'chilled', 'knives', 'Years', 'endlessly', 'stranded', 'obscured', 'Body', 'breadth', 'postcard', \"farmer's\", 'sands', 'underneath', 'Key', 'Animals', 'slopes', 'skeptical', 'high-pitched', 'beset', 'fashioned', 'Problems', 'pinched', 'consensus', 'transform', 'moods', 'Dag', 'recognizable', 'symptomatic', 'Juan', 'innovation', 'hereby', 'penetrate', 'immigration', 'rigorous', 'Batista', 'gatherings', 'elephant', 'protesting', 'Tammany', 'brutal', 'dripping', 'Ellis', 'pipes', 'countryside', 'Joint', 'dunes', \"Washington's\", 'sighted', 'hurricane', 'Montpelier', 'blamed', 'Operation', 'biology', 'riot', 'wasteful', 'cosmetics', 'Cattle', 'ranchers', 'choked', 'generosity', 'accomplishment', 'cancel', 'regulated', 'reluctantly', 'stir', 'deliberations', 'discontinued', 'faintly', 'cracks', 'bruised', 'spin', \"1930's\", 'temperament', 'typing', 'salaries', 'Winter', 'brandy', 'evaluating', 'bucket', 'aeration', 'govern', 'inform', 'evoked', 'abuses', 'defective', 'attributable', 'Hanoverian', 'provoked', 'disputes', 'conveniently', 'Giles', 'Religious', 'pony', 'prevails', 'concessions', 'trapped', 'congregational', 'recruitment', 'nonetheless', 'summed', 'displeased', 'listing', 'Rooney', 'harmonies', 'peasant', 'tails', 'Menshikov', 'Kyoto', 'vulgar', 'Imperial', '7:30', 'uphold', 'strive', 'instinctively', 'callous', 'preferences', 'Corso', 'Nikita', 'haze', 'solving', 'pretend', 'postulated', 'sculptures', 'polar', 'deterministic', 'self-certainty', 'infringement', 'conceal', 'procedural', 'greet', 'royalty', 'withholding', 'Dei', 'facade', 'denounced', 'scraping', 'Somers', 'twins', 'revenge', 'barge', 'bargain', 'headlines', 'gaudy', 'exhaust', 'elastic', 'tapped', 'intuitive', 'Blood', 'Adlai', 'odors', 'socks', 'irons', 'rented', \"ladies'\", 'fierce', \"Wasn't\", 'skins', 'beatnik', 'disorder', 'Shaefer', 'commenced', 'gadgets', 'Tshombe', 'colonies', 'vaginal', 'indefinite', '25,000', 'orgasm', 'ruthless', 'Diana', 'commencing', 'ancestor', 'Harrington', 'Jelke', 'reign', 'lure', 'Conant', 'unavailable', 'kidding', 'regards', 'earthquakes', 'inferior', 'Mister', 'flatly', 'platoon', 'ambush', 'Study', \"Year's\", 'barefoot', 'Lexington', 'appreciably', 'fronts', 'erupted', 'Gore', 'graduating', 'bathed', 'exemption', 'rusty', 'Goulding', 'rattling', 'ascertain', 'chore', 'broadened', 'condemnation', 'incredibly', 'backgrounds', 'paces', 'fragmentary', 'cabins', 'twenty-three', 'Snelling', 'annoyed', 'Starting', 'laundering', \"Sherman's\", 'disappointing', 'lore', 'collector', 'analyst', 'ledger', 'Nashville', 'incidentally', 'bureaucracy', 'maneuvers', 'Napoleon', 'suspicions', 'calories', 'Molotov', 'spoilage', 'concentrates', 'powdered', 'inventor', 'publisher', 'coronary', 'prey', 'Twentieth', 'strangely', 'ugliness', 'portraits', 'fostered', 'fatty', 'morally', 'beast', 'liberties', 'discourse', 'traveler', 'illusions', 'edited', 'reproduce', 'experimenting', 'communicating', 'McCarthy', 'hotter', 'Nice', 'mansion', 'mint', 'Swedish', 'Suite', 'broadcasts', 'weekends', 'lakes', 'Clerfayt', 'origins', '$200', 'correspond', 'exclude', 'popularly', 'implying', 'utmost', 'unmistakable', 'mapping', 'plentiful', 'thy', 'persists', 'reassuring', 'sympathize', 'yearning', 'lord', 'dominion', 'disobedience', 'generalizations', 'insufficient', 'concentrating', 'Taiwan', 'Mao', 'emptied', 'starvation', 'motionless', 'superstition', 'filthy', \"Bultmann's\", 'unavoidable', 'flock', 'despise', 'cycles', 'emergencies', 'rags', 'gestures', 'Whitehead', 'arrives', 'inhuman', 'Tibet', 'undertook', 'defy', 'flattered', \"Charles'\", 'oven', 'chord', 'Jen', 'Elizabethan', 'equivalents', 'superficial', 'blaze', 'overcomes', 'stamped', 'inexperienced', 'Together', 'raining', 'exuberant', 'Going', 'careless', 'myriad', 'battles', 'Victory', 'ballad', 'generate', 'novelties', 'tonal', 'whipping', 'symphonic', 'Kennan', 'revolutions', 'concluding', 'negotiated', \"author's\", 'mildly', 'noteworthy', 'endowed', 'Yorker', 'scratched', 'numbering', 'talented', 'torso', 'ballads', 'linger', 'digging', 'sensibility', 'idiom', 'large-scale', 'Ferguson', 'chronological', 'dignified', 'strides', 'Sponsor', 'assimilation', \"artist's\", 'Gloucester', 'mysteries', 'galaxies', 'hopefully', 'rays', 'tunes', 'gases', 'enclosure', 'responds', 'depart', 'Brahms', 'fortified', 'trusts', 'Spain', 'mores', 'tricks', 'lyrical', '1929', 'raucous', 'expressive', 'invent', 'topped', 'newcomer', 'wink', 'irritation', 'recorder', 'reinforced', 'conclusively', 'magnificently', 'Call', 'hesitation', 'bony', 'sincerely', 'Magazine', 'Pauling', 'intake', 'alteration', 'performer', 'tapered', 'Quartet', 'Congregational', 'comprehension', 'cite', 'fidelity', 'multiplied', 'easiest', 'discomfort', 'pacing', 'Scriptures', 'Finals', 'sensing', 'fishermen', 'recalling', 'nostalgia', 'IBM', 'oval', 'photography', 'tan', 'Large', 'phosphate', 'fifties', 'blossoms', 'reputable', 'narrower', 'acids', 'discs', 'terrifying', 'vulnerability', 'Titan', 'Turn', 'cerebral', 'disorders', 'crowned', 'airborne', 'brushing', 'brushes', 'motors', 'locks', 'terrified', 'Direct', '2:37', 'depicted', 'immature', 'antelope', 'coloring', 'Dear', 'shortened', 'Physical', 'hunch', 'tallyho', 'courtesy', 'enlightened', 'Heat', 'ink', 'cured', 'cruising', 'tablespoons', 'trotted', 'masculine', 'confinement', 'Hoot', 'prisoner', 'Sing', 'Manufacturers', 'nomenclature', 'Ring', 'sloping', \"1/8''\", 'unwilling', 'postpone', 'lifting', 'hysteria', 'fascinated', 'illustrates', 'cylinders', 'piston', 'participates', 'CDC', 'sprinkling', 'glaring', 'thighs', 'emperor', 'Supper', 'preparatory', 'premise', 'hymn', 'inactive', 'sentiments', 'install', 'exploding', 'exclusion', 'Schuylkill', 'polite', 'Jerusalem', 'alley', 'subway', 'reservation', 'prohibited', 'immunity', 'Membership', 'stimulated', 'contemplate', 'refuge', 'offspring', 'embodied', 'credo', 'corpse', 'factual', 'alarmed', 'spiritually', 'ministry', 'joys', 'amusement', 'Karl', 'hanged', 'dubious', 'diversion', 'graveyard', 'departures', 'sixty-five', 'prevail', 'terraces', 'symmetry', 'packaging', 'manipulation', 'monastic', 'beckoned', 'abolition', 'commend', 'desperation', 'hears', 'mailing', 'Marina', 'visions', 'Undoubtedly', 'skiing', 'distortion', 'wisely', 'straining', 'Bench', 'elbows', 'generating', 'Hopkins', 'precautions', 'Engineering', 'unrelated', 'Real', 'restrictive', 'securing', \"client's\", 'Twenty', 'blizzard', 'snows', 'swell', 'certified', 'burdens', 'self-determination', 'obeyed', 'disagree', 'futility', 'approximation', 'patriot', 'Celtic', 'proxy', 'tart', 'streaming', 'bolted', 'suppression', 'Fe', 'wearily', 'polyether', 'threads', 'Meynell', 'photocathode', 'roses', 'slippers', 'surrendered', 'chic', 'Rhine', 'rocket', 'darkened', 'persecution', 'managing', 'grinning', 'executives', 'shout', 'errand', 'ballroom', 'jointly', 'Carnival', \"Shelley's\", 'maximization', 'speck', 'choking', 'Seems', 'Saxons', 'overlooked', 'exit', 'Work', 'apron', 'Expectations', 'Princeton', 'hammer', 'spraying', 'elbow', 'Define', 'quarry', 'DIOCS', 'ponds', \"Hitler's\", 'algae', 'conservation', 'forgetting', 'Boy', 'Tessie', 'Annapolis', 'protozoa', 'stalked', 'damaged', 'middle-aged', 'pilots', 'Mines', 'clutched', 'Nicholas', 'Succession', 'terrestrial', 'experiencing', 'yields', '10%', 'Farmers', 'tractors', 'Va.', 'Kahler', 'Nearly', 'receipts', 'hawk', 'motels', 'discrete', 'lump', 'Molesworth', 'taxable', 'groped', 'spherical', 'softened', 'sporting', 'signing', 'speculate', 'bum', 'stack', 'hallway', 'Duclos', 'entirety', 'Rebel', 'attendants', \"1960's\", 'Rabbi', 'taller', 'Greater', 'invites', 'peaked', 'Troop', 'Col.', 'goddamn', 'bluntly', 'chimney', 'dessert', 'trousers', 'upturn', 'Heard', 'bundles', '40%', 'Shop', 'securities', 'Read', 'Carter', 'Lilian', 'eyed', 'lace', 'writ', 'awaken', 'Olgivanna', 'dystopian', 'inefficient', 'Flannagan', 'subdued', 'sporadic', 'integrate', 'centrifuged', 'Evanston', 'hebephrenic', 'chromatography', 'aerosol', 'semantic', 'lookup', 'meteoritic', 'photochemical', 'CTA', 'syllables', 'queens', 'declarative', 'soiled', 'mentions', 'surface-active', 'cursing', '5,000', 'arena', 'symmetric', 'pensions', 'posed', 'parameter', 'Yokuts', 'hr', 'beebread', 'Mussorgsky', 'marksman', 'vectors', 'dilution', 'offensive', 'Vientiane', 'confirmation', 'Murphy', 'gall', 'Seattle', 'subspace', 'Fidel', 'cf.', 'announcing', 'twin', 'Brandywine', 'Lemma', 'denotes', 'obstacles', 'Summary', 'affiliated', 'quadric', 'Funeral', 'equate', 'supportive', 'regression', 'Anna', 'Andrena', 'narcotics', 'verbs', 'Darling', 'wallpaper', 'pathology', 'oak', 'hereunto', 'Plantations', '69', 'terrace', 'follow-up', 'aggregate', \"More's\", '33', 'garbage', 'Interest', 'flatness', 'fiery', 'Costaggini', 'valuation', 'totaled', 'Fletcher', 'Kitty', 'Oliver', 'alterations', 'Hawk', 'hunted', \"Patchen's\", 'Simpkins', 'afloat', 'Vermejo', 'Illustration', 'reactor', 'consequent', 'Gibbs', 'indices', 'bidding', 'bottoms', 'fastest', 'directing', 'restraints', '203', 'referrals', 'reproduced', 'Burnside', 'trustee', 'Yugoslav', 'collision', 'diaphragm', 'bulb', 'currency', 'Beatrice', 'resistors', 'potentially', 'bail', 'booked', 'positivist', 'Aaron', 'Canadian', 'simulated', 'cortex', 'buses', 'warriors', 'Colonial', 'shrewd', \"Today's\", 'slick', 'punished', '1105', 'monotony', 'longed', 'Slowly', 'diffraction', 'Frankfurt', 'Palestine', 'exalted', 'arches', 'refugee', 'hinted', 'wrinkles', 'Woman', 'grove', 'eyelids', \"Russell's\", 'Leave', 'Willings', 'Everywhere', 'dispersed', 'Nobel', 'aborigine', 'boulder', 'n', 'Mullins', 'configuration', 'faults', \"Meeker's\", 'Solid', 'defiance', 'patted', 'Heiser', 'phones', 'injection', 'execute', \"an'\", '1832', 'embassies', \"Mike's\", 'Hez', 'Wells', 'Register', 'bestowed', 'Venice', 'Oso', 'Homer', 'buckskin', 'Summers', 'Leo', 'ambiguities', 'organisms', 'Hamm', 'excitedly', 'perceptual', 'continents', 'awaiting', 'smoothed', 'combines', 'oats', 'Digby', 'Macneff', 'gapt', 'accessories', 'quivering', 'Days', 'exchanged', 'Siddo', 'wretched', 'urbanization', 'epithets', 'Pakistan', 'fifteenth', 'Donovan', 'hoofs', 'cautiously', 'comprised', 'Paxton', \"Nick's\", 'Gibby', 'Geely', 'accruing', 'frail', 'redhead', 'slacks', 'recession', 'imposing', 'Down', 'Benington', \"club's\", 'Base', 'trumpet', 'portrayal', 'Mousie', 'rendezvous', 'Shylock', 'sampled', 'dugout', 'restraining', 'Cardinal', 'Fudo', 'activation', 'Marcus', 'cough', 'collapse', 'seasonal', 'edged', 'subsidiary', 'knight', 'hugging', 'Catatonia', 'glare', \"York's\", 'Kodyke', 'cheer', 'pursuing', 'Sabella', 'screeching', 'squall', 'Regulation', '1815', 'seizure', 'Berry', 'totalitarian', 'bloomed', 'frivolous', 'overheard', 'Hawthorne', \"Schnabel's\", 'divides', 'Gyp', 'Ridge', \"N'\", 'initiation', 'oppression', 'thinner', 'Souvanna', 'all-out', 'ancestors', '7-1', 'zing', 'Sources', 'questionnaires', 'observance', 'maladjustment', 'Rossoff', 'manifested', 'thaw', 'tanned', 'all-Negro', 'Gansevoort', 'Count', 'pear', 'schizophrenic', 'Manuel', 'Hernandez', 'Orvis', 'slapping', 'shipped', 'compliance', 'Appeals', 'Granny', 'pegboard', 'agitation', 'Handler', 'Pearl', 'sportsmen', 'assures', 'Matilda', 'stint', 'brute', 'modify', 'noises', 'Shafer', \"Welch's\", 'Pels', 'relinquish', 'Aid', 'canyon', 'suspense', 'treason', 'sponge', 'sax', 'magnified', 'pessimistic', 'attacker', 'Doolin', \"bull's-eyes\", 'pansy', 'workmanship', 'exercising', 'elaborately', 'Weider', 'bodybuilder', 'contemporaries', 'refined', 'referral', 'concerto', 'Gladdy', 'gleaming', 'inexplicable', 'airfields', 'invalid', 'Tolley', 'compute', 'vowel', 'Set', 'arm-elevation', 'B-70', 'album', 'mandatory', 'writhing', \"Spencer's\", 'morphophonemic', 'orthography', \"Doaty's\", 'pleasures', 'Gunny', 'sensual', 'Conservation', 'dissatisfied', 'Des', 'freeze', 'candidacy', 'china', 'witnessing', 'inhabited', 'contemplation', 'commissioner', 'manure', 'f-plane', \"mind's\", 'boxcar', 'Alma', 'diluted', 'susceptible', 'handicap', 'Schnabel', 'inscribed', 'tolerated', 'steamed', 'demons', 'operetta', 'disseminated', 'GNP', 'descriptive', 'educators', 'single-valued', 'Text', 'Prieur', 'portray', 'materialism', 'tangents', 'mulch', '74', 'Around', 'propulsion', 'cliche', 'bells', 'Katharine', 'humming', 'Sixth', 'aligned', 'Schwarzkopf', 'Coughlin', 'smug', 'fingerprint', \"They'd\", 'redcoat', 'demythologization', 'darted', 'Think', 'universally', 'potency', \"Black's\", 'outlets', 'underworld', 'musket', 'characterize', 'Jake', 'Bonner', 'fucken', 'extract', 'bothering', 'sneaked', 'depicting', 'fold', 'throttle', 'bitch', 'Westfield', 'billions', 'decreasing', 'longest', \"Killpath's\", 'Roots', 'yelling', 'sleepy', 'licensed', 'merchandise', 'Bong', 'Continent', 'Hello', 'modernity', 'solace', 'dripped', 'Hirey', 'attaining', 'inspiring', 'routes', \"baby's\", 'winking', 'flushed', 'Gap', 'Mountain', 'Upper', 'Thelma', 'Dakota', 'lbs.', 'creaked', 'marinas', 'outboard', 'originate', 'mast', \"Remarque's\", 'grounded', 'treacherous', 'restoring', 'terminology', 'saturated', 'scarce', 'molecule', 'ingredient', 'okay', 'snoring', 'slowing', 'Mollie', 'Perrin', 'deposits', 'arterial', 'Jarrodsville', 'Roberta', 'Scientists', 'flopped', 'crutches', 'bartender', 'unbearable', 'fille', 'Says', 'distribute', 'Mose', 'Fritzie', 'blushed', 'absently', 'clergymen', 'identifies', 'Phedre', 'hostility', 'partition', 'interdependence', 'paradigm', \"Thomas's\", 'forefinger', 'unconcerned', 'bulletin', 'tightened', 'DA', 'whatsoever', 'pastoral', 'rebut', 'evangelism', 'workings', 'DC', 'dipper', 'Kid', 'sinned', 'sword', 'amorphous', 'Rangoni', 'willed', 'Powers', 'frightful', 'Nineteen', 'annihilation', 'distinguishing', 'deduced', 'Rodgers', \"Brumidi's\", 'indefinitely', 'Presumably', 'delivers', 'mainland', 'elicited', 'Simultaneously', 'cathedral', 'Highlands', 'affectionate', 'charted', 'pre-war', 'plank', 'loneliness', 'pounding', 'Shell', 'Practically', 'portrayed', 'whereupon', 'blot', 'propriety', 'intensifiers', 'distrust', 'R-stage', 'suppress', 'responding', 'insisting', 'gyro-stabilized', 'rotor', 'gorgeous', 'amplifier', 'Nellie', 'grandeur', 'appoint', 'broadcasting', 'immortal', 'similitude', 'Negro-appeal', 'intensifier', 'foaming', 'shoving', 'clear-cut', 'Munich', 'continuance', 'forty-five', 'Narragansett', 'ailments', 'sweetly', 'Thou', 'concessionaires', 'Olga', 'surveillance', 'Test', 'Norberg', 'radiopasteurization', 'anew', 'Hesiometer', 'peeling', 'astonished', 'canons', 'garment', 'accepts', 'nation-state', 'firmer', 'Arp', 'forties', 'journal', 'tenuous', 'reversible', \"captain's\", 'affirmed', 'psychoanalytic', 'neurosis', 'comparisons', 'blurred', 'sensibilities', 'convict', 'betrayal', \"Eichmann's\", 'coasts', 'overcoming', 'strangled', 'adolescents', \"family's\", '1939', 'originality', 'reflective', 'J', 'contour', 'rat', 'straighten', 'dissolve', 'Multiply', 'calmed', 'axe', 'huts', 'ox', 'Leyte', 'ridden', 'trooper', 'organism', 'glowed', 'noisy', 'amplitude', 'gravity', 'Osaka', 'insolence', 'methodically', 'Capone', 'Saint', 'Amendment', 'definitions', 'indecent', 'myths', 'patriotism', 'drunken', 'Bellows', 'dodge', 'pretense', 'attorneys', 'trader', 'Examples', 'prompted', 'barley', 'Reich', 'flashing', 'metals', 'Burlington', 'complexion', 'whole-wheat', 'wastes', 'erosion', 'sandy', 'bizarre', '28th', 'momentary', 'Adoniram', 'cries', 'clambered', 'bellowed', 'chattering', 'decks', 'cargo', 'laden', 'psyche', 'Immediately', 'Whig', 'Tories', 'nodding', 'pretentious', 'anthropology', 'Cost', \"Hearst's\", 'brow', 'stairway', 'Manley', \"Bang-Jensen's\", \"Copernicus'\", 'scout', 'quackery', \"Ptolemy's\", 'kidney', 'epicycles', 'velocities', 'luxurious', 'Bey', 'astronomical', 'hid', 'prostitute', 'rabbi', 'submitting', 'sexually', 'Calderone', 'Kenneth', 'Jo', 'posterior', 'membrane', 'Huxley', 'Wexler', 'projecting', 'Travel', 'unhappiness', 'urgently', 'precinct', 'broadly', 'legendary', 'exclamation', 'Spade', 'verified', 'shaded', 'Della', 'piazza', 'renaissance', 'adjunct', 'blinked', 'interchange', 'disregard', 'glistening', 'explicitly', 'transcends', 'polarization', 'elementary-school', 'sniffed', 'vaults', 'attribute', 'lounge', 'Erikson', 'delinquent', 'Whigs', 'fuzzy', 'illustrative', 'testament', 'sidewise', 'whining', 'oddly', 'ponies', 'graves', 'starving', 'Agnese', 'whirled', 'uneasily', \"Court's\", 'internally', 'outbursts', 'Bourbons', 'socialist', 'feudal', 'complicity', 'reflections', 'abstractions', 'Nara', 'Masu', 'licensing', 'thinkers', 'Money', 'countenance', 'barren', 'oath', 'confidential', \"Wisman's\", 'Perier', 'engages', 'characteristically', 'rebuilding', 'Schwartz', 'sucked', 'sequences', 'robbers', 'construed', 'Antonio', 'misunderstood', 'slit', 'Emancipation', \"William's\", 'planter', 'Hays', 'Burgundy', 'practicable', 'churchyard', 'soaked', 'highroad', 'causal', 'merry', 'Heidenstam', 'healing', 'Parthenon', \"parents'\", 'patrolman', 'weakening', 'antiseptic', 'wrists', 'traversed', 'entrepreneur', \"life's\", 'Sherlock', 'Cultural', 'informs', 'newspaperman', 'pretended', '300,000', 'sofa', 'unreal', 'travelers', 'defenders', \"'im\", 'small-town', 'unwanted', 'environmental', 'Collins', 'clad', 'syntax', 'Newton', 'Chapman', 'impelled', 'strays', 'Brazil', 'reconstruct', 'Seeds', 'Beckett', 'Waiting', 'corresponds', 'buzzing', 'dialectic', 'liberated', 'drafting', 'Operating', '1888', 'queer', 'scent', \"master's\", 'veiled', '$5,000', 'recurring', 'gunfire', 'tapping', 'Construction', 'Radiation', 'spear', 'tenor', 'spoiled', 'tablespoon', 'Contrary', 'rupee', 'groundwave', 'Vandiver', 'gloves', 'flares', 'yarns', 'rinse', 'emeralds', 'digital', 'manometer', '1895', 'Fountain', 'interfacial', 'Canyon', 'Zion', 'filtering', 'uneven', 'Pictures', 'Forge', 'authorizations', 'stain', 'greasy', 'users', 'cling', 'piling', 'buggy', 'drowned', 'Publication', 'conspicuous', 'thirty-four', 'calibration', 'Haven', 'Liberty', 'wander', 'Experiments', 'dusting', 'spectral', 'courteous', 'expandable', 'cottages', 'Linden', 'thermometers', 'clamps', '**yl', 'Needless', 'Run', 'sew', 'spoon', 'coil', 'Measurements', 'birthplace', 'polymerization', 'revolving', 'liquids', 'pleura', 'pleural', 'anastomoses', 'subtraction', 'File', 'progresses', 'Tables', 'slot', 'spacing', 'right-hand', 'arrows', 'ossification', 'connecting', 'levers', 'iodinated', 'notches', 'fibrosis', 'Microscopically', 'cord', 'Dowex-2-chloride', 'unduly', 'pseudophloem', 'Designers', 'horizons', 'tedious', 'NS', 'Engineers', 'compression', 'rpm', 'micelle', 'septa', 'Substances', 'pigs', 'strewn', 'sensors', 'intersect', 'meteorite', 'fried', 'pinch', 'minced', 'shave', 'porter', 'fragrance', 'Creek', 'Neutral', 'impetus', '1905', 'cocked', 'compares', 'carbine', 'agglutinin', 'cartridge', 'Deerstalker', 'Hi', 'larvae', 'boa', 'constrictor', 'Adios', 'annoying', 'Forensic', 'Hellenic', 'periodically', 'divan', 'denies', 'Suvorov', 'inhibition', 'Acropolis', 'shattering', 'assassin', 'severed', \"Aristotle's\", 'headaches', \"Morgan's\", 'Frequently', 'riflemen', 'ketosis', 'reproduction', 'enzyme', 'forty-four', 'one-fourth', 'abortion', '$2,000', '700', 'reduces', 'intercept', 'Drug', 'web', '13th', 'salts', 'comb', 'diction', 'place-name', 'firearms', \"Milton's\", 'carpenter', 'scaffold', 'packages', 'Officials', 'exhibiting', 'papal', 'quicker', 'sprayed', 'Venetian', 'adhesive', 'interplay', 'Lowell', 'low-cost', 'tubing', 'supplier', 'Ministry', 'lays', '$20', 'secretaries', 'remedies', \"Thomas'\", \"public's\", 'sundown', 'whistled', \"SAAMI's\", 'coordinates', 'jug', 'Poetry', 'intends', 'Rexroth', 'epoch', 'appointments', 'outraged', 'twenties', \"Prokofieff's\", 'Lauro', 'frontage', 'Bosis', 'swam', 'Contact', 'desolate', 'Geological', 'Offices', 'Cooperatives', 'condensation', 'BTU', 'focusing', 'Fixed', 'thermostat', 'filtered', 'upkeep', 'out-of-state', 'ducts', 'Symposium', 'pins', \"pool's\", 'centum', 'compose', 'profile', 'endorse', 'sunk', 'supplemented', 'Copenhagen', 'stimulate', 'educate', 'infiltration', 'veins', 'Macbeth', 'outlines', 'rotated', 'amplified', 'Shakespearean', 'Blake', 'replaces', 'compulsory', 'x-ray', 'staggering', 'streaks', 'bailiff', 'Stratford', 'clumsy', 'newborn', \"Earth's\", 'spontaneity', 'Breasted', 'expeditions', 'Trees', 'bewildered', 'loom', 'commodity', 'moderately', 'Turkey', 'deadline', 'pry', 'Border', 'aisle', 'dapper', 'Alliance', 'reliance', 'preferable', 'aiding', 'withdrawal', 'Multnomah', 'succeeding', 'unprepared', 'le', 'Individual', 'uranium', 'enrollment', 'discovering', 'successors', 'desegregated', 'tentatively', 'treasures', 'prizes', 'first-class', 'smothered', 'lad', 'Lacking', 'flattened', 'investments', 'folly', 'turnpike', 'coincided', 'gripping', 'dramas', 'classify', 'flourished', 'Grasslands', 'zoo', 'roam', 'recognizing', 'wartime', 'repression', 'chanted', 'schemes', 'DeKalb', 'stance', 'retaliation', 'governors', 'resolutions', 'insured', 'budgeting', 'abandoning', 'geographically', 'understands', 'ever-present', 'apologetically', 'margins', 'outspoken', 'Elder', 'Fitzgerald', '1919', 'Beaverton', 'laymen', 'invoked', 'engaging', 'rationale', 'upheld', 'defendant', 'Aircraft', 'Nebraska', 'declines', 'esprit', \"A's\", 'well-informed', 'strengthened', 'episodes', 'Initially', 'throws', 'secretly', 'probe', 'weakened', 'debates', 'toughness', 'negotiation', 'announcements', 'heightened', 'disgusted', 'doubles', 'Ancient', 'pastors', 'advocating', 'guise', 'paired', 'aching', 'specifications', 'Farrell', 'photographers', \"Miller's\", 'Terry', 'grumble', 'drives', 'separating', 'downhill', 'contemptuous', 'rivalry', 'visibly', '120', 'putt', 'Augusta', 'disbelief', 'presiding', 'perennial', 'Humphrey', 'bodily', 'Colmer', 'noses', 'mountainous', 'upwards', 'invaded', 'presidents', 'banner', 'savages', 'fortunes', 'RCA', 'Records', 'inexpensive', 'presentations', 'interviewing', 'sculptor', 'manifestation', 'vantage', 'glands', 'experimented', 'shaving', 'toothbrush', 'throats', 'textures', 'airy', 'teachings', 'righteousness', 'Version', 'cohesion', 'gazing', 'academy', 'congressman', '1883', 'foes', 'bust', 'Specific', 'pasted', '1865', 'complexes', 'seller', 'Short', 'hardy', 'flowering', 'cordial', 'refreshing', 'inquire', 'Toward', 'omitting', 'laborer', 'packaged', 'cutters', 'riders', 'Voice', 'persist', 'angrily', 'costing', 'inception', 'canoe', 'accelerating', 'sack', \"government's\", 'devoid', 'wears', 'goat', 'fleeting', 'temptations', 'helper', 'subscribers', 'predecessors', 'mandate', 'futile', 'blossom', 'inaction', 'man-made', 'signature', 'floods', '1936', 'contractor', 'Nowhere', 'strife', 'refugees', 'outlined', 'sits', 'Survey', 'Udall', 'shoreline', 'keel', 'predicting', 'automation', 'breach', 'anti-Communist', 'Regardless', 'chancellor', 'assess', 'documented', '95', 'maze', 'stealing', 'canning', 'poise', 'forgiven', 'thinker', 'artificially', 'Iron', 'subordinate', 'unorthodox', 'Plans', 'clouded', 'assembling', 'fabulous', 'Reports', 'notch', 'versa', 'finances', 'out-of-town', 'heavenly', 'manhood', 'alternately', 'ambivalent', 'jam', 'Desegregation', 'towel', 'thanked', 'relic', 'feather', 'sadness', 'earthly', 'commotion', 'Confederacy', 'paneling', 'fireplace', 'storms', 'Jenks', 'Patrolman', '1934', 'pardon', 'Stewart', '$800', 'wavelengths', 'detecting', 'revived', 'navy', 'reactors', 'adviser', 'manuscript', 'wrapping', 'passport', 'patterned', 'hunter', 'Dreadnought', \"Britain's\", 'Various', 'abide', 'NBC', 'Elmer', 'finale', 'laborers', 'manual', \"Mantle's\", 'Johns', 'Prosecutor', 'Mile', '68', 'weaknesses', 'crippling', 'Indianapolis', 'Louisville', 'congestion', 'Turner', 'Pierce', 'Chuck', 'scratches', 'ripped', 'Wilmington', 'Wallace', 'tagged', 'arrears', 'bruises', 'creed', 'Teaching', 'Utah', 'tax-exempt', 'reflexes', 'Siberia', 'makeshift', 'Vietnamese', 'narrowly', 'northeast', 'Liston', 'Werner', 'ambulance', 'Abbey', 'feat', \"She'll\", 'athletics', 'morals', 'promotional', 'canceled', 'hooked', 'Honolulu', \"summer's\", 'buffet', 'Arms', 'idol', 'Cancer', 'Alvin', \"Palmer's\", 'possessing', 'spelled', 'flowed', 'sensational', 'Crystal', 'super', 'Dame', 'Notre', 'inscription', 'healed', 'runaway', 'bats', 'Danny', 'slogan', 'bayonet', 'blazing', 'Harcourt', '$150', 'assaulted', '$20,000', 'robbery', 'Wiley', 'ashes', 'Auditorium', 'attends', 'Katherine', 'Sutherland', 'fraternity', 'Meyer', 'totals', 'doings', 'hospitality', 'Marie', 'Alpha', 'ants', 'accidentally', 'marvel', 'stadium', 'cookies', 'winner', 'Marr', 'Trophy', 'gala', '1926', 'grandchildren', 'caps', 'Stay', 'Stengel', 'residing', 'assisting', 'Pasadena', 'Browning', 'impeccable', 'pilgrimage', 'Getting', 'Bird', 'needles', 'linen', 'Robbins', 'Dunn', 'coconut', 'Hawaiian', 'ramp', 'vicinity', 'someplace', 'attire', 'Fresh', 'colts', 'tucked', 'snack', 'softening', 'outdoors', 'Heritage', 'sprinkle', \"Sunday's\", 'puppet', 'lamps', 'Yuri', 'Whitey', 'fore', 'windshield', 'wiping', 'gallons', 'popped', 'pitches', 'Channel', 'tease', 'boasted', 'senseless', 'auspices', 'Episcopal', 'manipulate', '86', 'assemblies', 'shortstop', 'lecturer', 'Workshop', 'productions', 'Lauderdale', 'props', 'workout', 'relegated', 'rookie', 'circus', 'Mostly', 'Forsythe', 'dividend', 'creator', 'Coach', 'ghastly', 'Quaker', 'm.p.h.', 'Allies', 'pollution', 'wrecked', 'plague', 'Convention', 'Kelsey', 'Buchheister', 'Sciences', 'opener', 'imprisonment', 'Riders', 'interfering', 'sinking', 'rescued', 'ashore', 'contributors', 'Workers', 'rings', 'wallet', 'lamb', 'assessments', 'ribbons', 'Nevada', 'Caesar', 'workmen', 'Leavitt', 'weaken', 'Greer', 'Butcher', 'Waters', 'Football', 'percentages', 'figuring', 'depletion', 'Toronto', '25%', '5%', 'borrowing', 'examiner', 'conversions', 'touchdown', 'debentures', 'liable', 'cautioned', 'pessimism', 'Janice', 'banquet', 'bearings', 'Moss', 'Gin', '56', 'Bonn', 'meter', \"France's\", '6th', 'rub', 'stunning', 'lacks', \"Where's\", 'booking', 'wrongs', 'demonstrates', 'splendor', 'vibrant', 'Lenin', 'imperial', 'Phase', 'subtly', 'paralysis', 'forthright', 'jackets', 'intimately', 'Guardian', 'Hough', 'Different', 'Writing', 'hymns', 'revulsion', 'continuum', 'adaptations', 'alienated', 'singly', 'Bates', 'unpopular', 'Especially', 'coffin', 'economist', 'spine', 'herds', 'excerpt', 'practitioners', 'atop', 'explode', 'ambassadors', 'proposing', 'grenades', 'poignant', 'brightly', 'spotlight', 'fairness', 'publicized', 'Eighth', 'scandal', 'soprano', 'gangs', 'disc', 'grudgingly', 'biting', 'saga', 'lash', 'casts', 'castle', 'uniformly', \"leader's\", 'evoke', 'Ethics', \"Church's\", 'virtuous', 'Emergency', 'indicative', 'Archbishop', 'volley', 'tingling', 'closes', 'abdomen', 'progressively', 'subjectively', \"yesterday's\", 'induction', 'alas', 'recourse', 'Abraham', 'idly', 'exceeding', 'non-Catholic', 'robe', 'glittering', 'hypocrisy', 'fascination', 'participants', 'communicative', 'complied', 'petty', 'twenty-two', 'frenzy', 'contend', 'superimposed', 'chords', 'slipping', 'Berman', 'Glenn', 'dreary', 'Armstrong', 'recital', 'juicy', 'Thurber', 'lapse', 'ecstasy', 'Hero', 'clip', 'operative', 'Active', 'auxiliary', 'twists', 'satellites', '$60', 'meticulously', 'mediocre', 'Ordinary', 'platforms', 'cock', 'Carey', 'buddies', 'Supply', 'probing', 'syndicate', 'Mando', 'huh', 'planks', 'Maintenance', 'brows', 'Orders', 'Burr', 'kindness', 'tribal', 'SMU', 'mastered', 'converse', 'supervise', 'Ronnie', 'Herford', 'allusions', 'monacle', 'showered', 'whoever', 'asserts', '77', 'Crisis', 'salesmanship', 'operatic', 'Page', 'Hayes', \"Sloan's\", 'shadowing', 'Sheriff', 'chronology', 'inflation', 'Clubs', 'Caravan', 'superseded', 'glared', 'hairy', 'palette', 'complaining', 'squared', 'transactions', 'Baer', \"lady's\", 'Rebels', 'differentiated', 'sophomore', 'Loan', 'Blenheim', 'tattered', 'Grey', 'Investors', 'circulating', 'Letters', 'romantics', 'mergers', 'buyers', 'proximity', 'indecision', 'make-up', '1834', 'legacy', 'extraction', 'Gentile-Jewish', 'swirled', 'Emmett', 'piping', 'banister', 'brandishing', 'fruitless', 'devastating', 'telephones', 'entitle', 'thrusts', 'theologian', 'Trinity', 'Leesona', 'Eh', 'rotary', 'garages', 'Registry', 'cabinets', 'Remarks', 'self-sustaining', 'Sydney', 'richness', '3rd', 'Bud', 'Printed', 'Were', 'Rider', 'one-story', 'ghosts', 'Elman', 'pennies', 'dozed', 'disfigured', 'ghettos', 'Budd', 'celebrating', \"months'\", 'truthfully', 'excellently', 'out-of-doors', 'Gone', 'furs', 'Analysis', 'installment', 'reproducible', '1928', 'Arnolphe', 'speedy', 'interstellar', 'AFL-CIO', 'shutter', 'Rite', 'atmospheres', 'Larson', '$4', 'Seigner', 'Fifty', 'teenagers', 'mammalian', 'sensuality', 'morphological', 'Regions', 'baton', 'Sue', 'Millie', 'Pilgrims', 'Islanders', 'Pageant', 'eighty-sixth', 'buff', 'quarterly', 'Held', 'skepticism', 'Advocate', 'Reed', 'zest', 'Kemble', 'inject', 'grapes', 'rude', 'tangled', 'ratification', 'Round', 'Alpert', 'nasty', 'clerks', 'arbiter', \"Edward's\", 'thankful', 'Machine', 'Wild', 'periphery', \"horse's\", 'hurtling', 'kitchens', 'maneuver', 'airfield', 'Gosson', 'Thy', 'skimmed', 'exceeded', 'bequest', 'hemorrhage', 'Barber', 'Lappenberg', 'astonishingly', 'CTCA', 'Merchants', 'reserves', \"Childhood's\", \"Wells's\", 'banter', '1625', \"Lewis's\", 'Gantry', 'S.K.', 'interstate', 'adventurous', 'unseen', 'hys', 'Bancroft', 'mee', 'heroine', 'ther', 'yow', 'monei', 'estates', 'Apollo', 'gaunt', 'brigadier', 'immaculate', 'Audubon', 'pas', 'handing', 'selects', 'Ltd.', 'sparse', 'offenses', 'communes', 'hostilities', 'transitions', 'rounding', 'Cunningham', 'evolve', 'abused', 'Ching', 'intensities', 'serial', 'refinements', 'tapestry', 'coaches', 'choreographer', 'insofar', 'individualized', 'deference', 'ignores', 'ever-changing', '15%', 'astonishment', 'invaluable', 'Changes', 'option', 'plead', 'Personally', 'Petersburg', 'Byzantine', 'expired', 'Godot', 'merging', 'drugged', 'silhouettes', 'cunning', 'centrally', 'spire', 'enchanted', 'Md.', 'pots', 'tubs', 'Nathan', 'Las', 'Vegas', 'garments', 'Parks', 'enhanced', 'Drs.', 'negation', 'boarding', 'psychoanalysis', 'balcony', 'tame', 'mystique', 'Lipton', 'kneel', 'tweed', 'volatile', 'humility', 'sharpened', 'slides', 'puppets', 'Founding', 'authorize', 'staccato', 'continual', 'Cafe', 'stuffed', 'Nature', \"Governor's\", 'Late', 'elapsed', 'glinting', 'homeland', 'coincides', 'retailers', 'librarian', 'workshops', 'claimants', 'format', 'therefrom', \"South's\", 'vows', 'disrupted', 'unreconstructed', 'wrecking', \"Army's\", 'scornful', \"states'\", 'fundamentals', 'exploitation', 'Guest', 'capitalist', 'Knox', 'obnoxious', 'self-consciousness', 'nondescript', 'SR', 'cheerfully', 'avant-garde', 'fortress', 'senate', 'tying', 'alcoves', 'meager', 'upstream', 'relentless', 'lugged', 'enterprising', 'fella', 'decorator', 'planting', 'Flying', 'bivouac', 'Kings', 'self-conscious', 'Plus', 'displaying', 'swooped', 'thickened', 'batch', 'dissent', 'senators', 'fragment', 'guarded', 'Concerto', 'Jacoby', 'hatching', 'transaction', 'irritated', 'cradle', 'Lyford', 'particulars', 'habitual', 'Pendleton', '63', 'donor', 'Jason', 'Flemish', 'Ninth', 'sentry', 'enforcing', 'kerosene', 'diurnal', 'wasting', 'imposition', 'overrun', 'fisherman', 'Grigorss', 'uncanny', 'whistling', 'contends', 'thrill', 'Reactionary', 'Treatment', 'prefers', 'Civilization', 'Ga.', 'receding', 'capacities', \"Joe's\", 'indulged', 'tact', 'roofs', 'adamant', 'maternal', 'slate', 'mattered', 'Constable', 'warrants', 'pads', 'Sadie', 'renting', 'unwillingness', 'saturation', 'Dietrich', 'mustache', '20%', \"Harper's\", 'monster', '1915', 'approximated', 'resultants', 'sojourn', 'logging', 'economists', 'distinguishes', 'Lyttleton', 'Scotch', 'deserts', 'Thinking', 'humiliation', 'Design', 'tiles', 'happenings', 'procession', 'Glen', 'coherent', 'illuminating', 'acquiescence', 'grouped', 'noblest', 'Cox', '1916', 'lawns', 'enroll', \"Thompson's\", 'sculptured', 'scepticism', 'Senators', 'interrelated', 'Parkhouse', 'intellect', 'authorizing', 'pedestal', 'nostalgic', 'slashing', 'catastrophes', 'schooling', 'disguise', 'downed', 'Called', 'advent', 'bout', \"Gabriel's\", 'competently', 'inheritance', 'powders', 'aberrant', 'commuting', 'Activities', \"moment's\", 'stimuli', 'actress', \"corporation's\", 'princess', 'Kerr', 'lets', 'hides', 'spitting', 'fervent', 'hamburger', 'Self', 'Morocco', 'Chicken', 'endeavors', 'measurable', 'Salt', 'seasoned', 'canned', 'Moriarty', 'crowding', \"Watson's\", 'gradients', 'cochannel', 'Wives', 'lavender', 'sparkling', 'Branch', 'hoarse', 'Moll', 'gasped', 'whispering', 'mumbled', 'Dodgers', 'satin', 'revivals', 'greatcoat', 'Mutton', 'Kappa', 'countrymen', 'drizzle', 'Shirley', 'Bern', 'Favre', 'flared', \"Woman's\", 'Thrift', 'Damn', 'Christopher', 'populous', \"That'll\", 'Couperin', 'Slater', 'Boyd', 'screeched', 'gasps', 'franchise', 'impinging', 'stockings', 'touring', 'knocking', 'scrawled', 'asset', 'Stowey', 'Salvation', 'shovel', 'froze', 'crib', 'smoothness', 'gulf', 'mat', 'steaming', 'chat', 'Meadow', 'implementation', 'informally', 'parole', \"mustn't\", 'striped', 'joyous', 'parted', 'overcoat', 'suitcases', 'Grabski', 'braced', 'scented', 'foster', 'shuddered', 'Baseball', 'Violet', 'Criticality', 'laundry', 'cu.', 'Simpson', 'shriek', 'baritone', 'three-year', 'accelerator', 'irradiated', 'proficient', 'radiosterilization', 'sterilization', 'ionizing', 'Currency', 'Properties', 'lay-offs', 'solvent', 'gallium', 'tektites', 'Eagles', 'hydrolysis', 'cliches', 'metabolite', 'chuckle', 'Cardinals', 'Arundel', 'discrepancies', 'Commissioners', 'tracts', 'template', 'embroidered', 'Drew', 'blackness', 'Monte', 'yanked', 'trembled', 'Jerome', 'dingy', 'Lynn', 'Louise', 'concertos', 'administrators', 'Rex', 'Seward', 'hosts', 'Musical', 'sweaty', 'coupler', 'phoned', 'belligerent', 'biscuits', 'sprawling', 'rococo', 'servo', 'torquer', 'torque', 'gyros', 'fringed', 'optimality', 'shakes', 'edging', 'Leona', 'down-to-earth', 'teens', 'kissing', \"Kitty's\", 'Teachers', 'cheekbones', 'downstream', 'metaphor', 'jagged', \"Throat's\", 'Manu', 'bleached', 'Hettie', 'Grafin', '130', 'Yugoslavia', 'Sante', 'DiMaggio', 'prescribe', 'glamorous', 'Nate', 'Burnsides', 'Arbuckle', 'gully', 'impeded', \"bride's\", 'Conchita', 'Maguire', 'Kruger', 'limbs', 'citation', 'vaudeville', 'Pompeii', 'Kizzie', 'utterance', '96', 'Bend', 'Kafka', 'Ruling', 'Hemus', 'Richert', 'Zenith', 'A-Z', 'furrow', 'rains', 'Acala', 'puny', 'twelfth', 'Tuxapoka', 'Thom', 'justly', 'John-and-Linda', 'complications', 'Hartweger', 'Walitzee', 'Askington', 'clutch', 'Reuveni', 'co-operative', \"Roosevelt's\", 'artistically', 'Diego', 'sunburn', 'Adelia', 'flicked', \"Indian's\", 'bale', 'kittens', 'mink', 'lush', 'plunge', 'Dolce', 'Vita', 'overalls', 'clapping', 'plowed', 'dynamite', 'Loop', 'melodic', 'profess', 'Emile', 'virtual', \"Garth's\", 'technician', 'genial', 'tournaments', 'dived', 'Beginning', 'sponsorship', 'lurched', 'Guests', \"driver's\", 'Bradford', 'Carruthers', 'Writers', 'Homicide', 'Brian', \"Mahzeer's\", \"Montero's\", 'Ariz.', 'Aricaras', 'Fiske', 'incidental', 'half-breed', 'Molly', 'dromozoa', 'Florence', 'Earthmen', 'fairway', 'Towne', 'Martian', 'en', 'grok', 'admirably', 'fumbled', 'Anta', \"Alec's\", 'slogans', 'plumb', 'Gary', 'Jaguar', 'Silence', 'scoop', \"Poet's\", 'Calenda', 'Needham', 'Doris', 'Flower', 'DUF', 'Councilman', 'dispatched', 'bleachers', 'hatch', 'Turk', 'Human', 'catkins', 'pussy', 'Twins', 'Region', 'COAHR', 'eve', 'min', 'pledged', 'donors', 'Rh', 'ABO', 'uptown', 'electrophoresis', 'ulcer', 'inert', 'Survivors', 'otter', 'BW', 'intentional', 'Biological', 'microns', 'Nancy', 'inverse', 'sundry', 'basin', 'Slate', 'Psithyrus', 'rattlesnakes', 'Appeal', 'precincts', \"Castro's\", 'neutrophils', 'marrow', 'anemia', 'uptake', 'antithyroid', \"University's\", 'di-iodotyrosine', 'percussive', 'potassium', 'epiphysis', 'Milk', 'conforms', \"Smith's\", 'pictorial', 'signatures', 'Onsets', 'Chart', 'exempt', 'unanimous', 'shunts', 'Rall', 'artery-pulmonary', \"president's\", 'NE', 'hilum', 'pop', 'Leon', 'micrometeorites', 'Poynting-Robertson', 'inversely', '353', 'Fellows', 'constancy', 'one-', '111', 'Example', 'refinement', 'Sections', 'flaming', 'Webster', 'needing', 'suffrage', 'decrees', 'pinpoint', 'Patterson', 'Unifil', 'widened', 'shielding', 'Method', \"Moliere's\", 'Financial', 'backlog', 'Huntley', 'unofficial', 'Detective', 'hereinafter', 'culminates', 'Temperature', 'conductivity', 'Patrol', 'Uniconer', 'flask', 'ant', 'Pyrex', 'quantum', 'Ronald', 'interfaces', 'latch', 'accounted', 'lobes', 'Tucker', 'bunched', 'ion', 'disability', 'dipole', 'coordinator', 'curvature', 'Alumni', 'deformation', 'unfolding', 'elasticity', '30,000', 'Experimental', 'electrode', 'graphite', 'mm', 'reflector', 'Sloanaker', '20,000', 'Devey', 'retailing', 'mucosa', 'Legion', 'tribunal', 'sub', 'shreds', 'warrior', 'commanders', 'Marsden', \"clerk's\", 'Athletic', 'drugstore', 'masonry', 'whereabouts', 'Beautiful', 'dismounted', 'blackout', 'haunches', 'Baby', 'Clifford', 'priorities', 'Catskill', 'delicacy', 'marshal', 'widowed', 'plaintiff', '76', 'communist', \"Secretary's\", 'Xydis', 'timid', \"mayor's\", 'AWOC', 'Hartsfield', 'Cubist', 'relaxing', 'Poems', 'applaud', 'Index', 'two-digit', 'compiler', 'EQU', 'tread', 'shouts', '$15', 'attentive', 'soles', 'Gertrude', 'Tones', 'worrying', 'identifiable', 'lenses', 'Mityukh', 'gasping', 'barrage', 'Pimen', 'Capt.', 'Pozzatti', \"university's\", 'purposely', 'irritable', 'Dodge', 'Grady', 'amounted', 'Analytical', \"Respondents'\", \"artists'\", 'conjugated', 'triumphant', 'AIMO', 'subgroups', 'rebuild', 'Nagrin', 'helplessness', 'reassured', 'Sterling', 'pertains', \"C'\", 'Mt.', 'l', 'Elliott', 'Spahn', 'Cornell', 'Scale', 't', 'fumes', 'anymore', \"D'\", '**ya', 'Funds', 'Given', 'truce', 'neocortex', 'Delhi', 'verify', 'obscurity', 'Cubans', 'accents', 'I.Q.', 'Fifties', 'criminals', 'Gehrig', 'hunter-killer', 'loadings', 'clattered', 'U.N.F.P.', 'Balafrej', 'long-run', 'aberrations', 'nail', '53', 'racket', 'Pelham', 'aiming', 'phonology', 'mindful', 'peddler', 'Sandman', 'modifier', 'premiere', 'W-region', 'boarded', '30th', 'Herb', 'ensued', 'arresting', 'transposed', 'receptionist', 'Stickney', 'shapeless', 'Gas', 'scoring', 'comprehend', 'Estimate', 'housekeeping', 'rip', 'chines', 'safeguard', 'one-inch', 'permissive', 'Hotei', 'postal', 'Letter', 'Occasional', 'suffused', 'marker', 'bids', 'candles', 'cans', 'endeavor', 'affiliations', 'lids', 'allegations', 'Creek-Turn', 'craters', 'holocaust', 'butchery', 'beaming', 'disciples', 'diplomat', 'arouse', 'girlish', 'installing', 'deceived', 'drains', 'Jonathan', 'navigation', 'intellectually', 'piers', '1793', '1810', 'aloof', 'rod', 'ridicule', 'prophecy', 'reminding', 'lent', 'Commonwealth', 'Deer', 'Salisbury', 'Available', 'Newburyport', 'Almighty', 'reversing', 'Feed', 'Cunard', 'slippery', 'securely', 'radial', 'bishops', 'inspector', 'timbers', 'pope', 'surprises', 'chunks', 'Makes', 'predecessor', 'subsided', 'midday', 'carriages', 'mischief', 'wrap', 'bedside', 'invaders', 'hopped', 'attachment', 'photo', 'expanse', 'chilly', 'hum', 'neutralism', 'peacefully', 'all-white', 'apples', 'pies', 'nuisance', 'walnuts', 'freeways', 'roasted', 'freeway', 'dormant', 'allocated', 'Thant', 'ripple', 'tilt', 'peninsula', 'primacy', 'signaling', 'avenues', 'self-contained', 'sauces', 'chili', 'popping', \"Aren't\", 'breathless', 'cartoons', 'forbids', 'sausages', 'Simple', 'unworthy', 'believers', 'unbreakable', 'hibachi', 'suffers', 'begotten', 'Istanbul', 'correspondents', 'hammock', 'towers', 'pillars', 'obelisk', 'caressing', 'Hippodrome', 'plastered', 'bazaar', 'harshly', 'Turks', 'Bosphorus', 'disappearing', 'salvage', 'Swing', 'roadway', '1868', 'lodging', 'Frontier', 'sane', 'surveyor', 'boyhood', 'persuading', 'Horace', 'receivers', 'sonar', 'Nugent', 'Barnard', 'viable', 'Leader', 'murderers', 'computation', 'collects', 'invade', 'microscopic', 'laboratories', 'sidewalks', 'inconsistent', 'attrition', 'abiding', 'Algerian', 'unwelcome', 'athletes', 'connotation', 'burnt', 'easel', 'oyster', 'unwittingly', 'bosses', 'Area', 'valleys', 'portrays', 'calves', 'milligram', 'infections', 'totaling', 'Unity', 'eternity', 'Aureomycin', 'severity', 'scours', 'Simply', 'glamour', 'polarity', 'divisive', 'Eastwick', 'fuse', 'faction', 'esteem', 'faculties', '39', 'reckon', 'institute', 'shortcomings', 'disorganized', 'fertile', \"host's\", 'regulars', 'envied', 'washes', 'temporal', 'Faget', 'freer', 'penance', 'Sargent', 'animated', 'Shriver', 'latitude', 'stagnant', 'adherents', 'enjoined', \"Berger's\", 'zoning', 'tiger', 'trunks', 'pertaining', 'conditioners', 'dictated', 'colder', 'preposterous', 'Channing', \"another's\", 'screening', 'bankrupt', 'carving', 'Grafton', 'haven', 'retreating', 'Philippi', 'clash', 'refreshed', 'reluctance', 'regulatory', 'laissez-faire', \"Hammarskjold's\", 'shabby', 'homogeneity', 'uncompromising', 'novelty', 'sting', 'provisional', 'fluent', 'haul', 'fission', 'captive', 'inhibited', 'mistress', 'sprouting', 'dismay', 'genetic', 'commendable', '$5000', 'checking', 'affinity', 'encroachment', 'caves', 'would-be', 'apprehensions', 'Oslo', 'indelible', 'hazardous', 'posterity', 'accelerate', 'unequivocally', 'consuming', 'Ephesians', '2-year-old', 'beauties', 'substitutes', 'Clean', 'uncertainties', 'Leg', 'glances', 'affords', 'defines', 'wry', 'fading', 'interfaith', 'affecting', 'occasioned', 'carts', 'authoritarian', 'gotta', 'barbell', 'Operations', 'ready-made', 'bravado', 'Courts', 'prominence', 'foresight', 'developer', 'Beth', 'astounding', 'brotherhood', 'instantaneous', 'encourages', 'confuse', 'depressing', 'dietary', 'Reply', 'symptom', 'perfected', 'baths', 'committing', 'corruptible', 'ideally', 'bordering', 'unscrupulous', 'stealth', 'Nuclear', 'vibration', 'enrich', 'vitamin', 'Welcome', 'appreciable', 'Nehru', 'provocation', 'nutrients', 'Noting', 'Secretariat', 'refrigerated', 'pulp', 'avocados', 'buds', 'voiced', \"Lincoln's\", 'justifiably', 'amen', 'Words', 'warts', 'Veterans', 'denounce', 'certify', 'terrific', 'diplomats', 'cypress', 'swamp', 'professed', 'agenda', 'professions', 'stumps', 'equity', 'contingencies', 'Princess', 'Discussion', 'minimized', 'Realtors', 'respectability', 'stricken', 'Lower', 'oneself', 'ambivalence', \"anyone's\", 'self-evident', 'post-attack', 'lessen', 'clothed', 'cafes', 'incur', 'External', 'discouraging', 'counterpoint', 'worlds', 'arithmetic', 'SEATO', 'impractical', 'initiate', 'exasperation', 'sympathetically', 'inaugural', 'Ceylon', 'Top', 'doctrines', 'suffocating', 'pro-Communist', 'Cairo', 'insuring', 'prevalent', 'expelled', 'repelled', 'neutralized', 'fearless', 'risks', 'comply', 'greedy', 'Bertha', 'proprietors', 'imputed', 'Walt', 'inaccurate', 'lowering', 'generalize', 'escalation', 'threatens', 'equated', 'obsolete', 'Rich', 'Martha', 'Faber', 'revered', 'do-it-yourself', \"Stalin's\", 'fine-looking', 'psalmist', 'warlike', 'thrived', 'Caper', 'enlist', 'Fury', 'Dale', 'wailing', 'axle', 'irregularly', 'Carvey', 'thence', 'organizational', 'boring', 'Communese', 'multiplication', \"'round\", 'triangular', 'excerpts', 'accessible', 'Cabinet', 'unfavorable', 'baffled', 'Demon', '6,000', 'scabbard', '30%', 'misdeeds', 'medicines', 'Watch', 'hamper', \"Richard's\", 'orchards', 'duplicate', 'creaking', 'adapt', 'Colt', 'hunters', 'ingenuity', 'Rouge', 'incoming', 'brakes', 'single-shot', 'cartridges', 'recoil', 'Magnums', 'edible', 'Remington', 'scales', 'Baton', 'buck', 'flows', 'mania', 'traits', 'imitate', 'underside', 'slots', 'Miss.', 'congratulations', 'harmonious', 'Aids', 'tendencies', 'reverence', 'monumental', 'Dog', 'proving', 'vanish', 'Divinity', 'faithfully', 'archaic', 'Directions', 'contestants', 'activated', 'uttered', 'bishop', 'ascribed', 'embark', 'Curzon', 'elongated', 'Wine', 'pumps', 'Universal', 'sandals', 'priceless', 'padded', 'dip', 'Judging', 'kitten', 'Number', 'despotism', 'spacers', 'drilled', 'left-hand', 'intercontinental', \"12''\", 'injecting', 'modifications', 'widths', 'succumbed', '1821', 'Evening', 'Classical', 'dynasty', 'glitter', 'pets', \"water's\", 'headache', 'divergent', 'wherein', 'horsepower', 'paved', 'fullest', 'Train', 'fills', 'arbitrarily', 'woodwork', 'craftsmanship', 'symbolically', 'misgivings', 'confronts', 'wits', 'journals', 'poker', 'Tobacco', 'injunctions', 'necessitate', 'sickness', 'coolness', 'Fran', 'interfered', 'generates', 'academically', 'President-elect', 'ancestral', 'beards', 'exaggeration', \"People's\", 'chaotic', 'directs', 'seize', 'transports', 'Inauguration', 'Scientific', 'Educational', 'spans', 'siege', 'blackened', 'Election', 'shutters', 'thumping', 'rattle', 'mechanic', 'proverb', 'capsule', 'Koreans', 'supremacy', 'ax', 'linking', 'chopping', 'cropped', 'surround', 'tenant', 'shrine', 'debated', 'Ideas', 'appointees', 'apologized', 'Minutemen', 'furious', 'glycerine', 'rig', 'humane', 'Folklore', 'Pp.', 'one-tenth', 'chilling', 'allowable', 'dispose', 'inscrutable', 'liquidated', '1776', 'steeped', 'monopolies', 'decisively', 'backwoods', 'machinist', 'reputed', 'shudder', 'acutely', 'Coe', 'analysts', 'hasty', 'appestat', 'obsession', 'whichever', 'rationalize', 'Assemblies', 'awed', 'ass', 'stereotyped', 'insecurity', 'Parsons', 'shaky', 'bogey', 'Rebs', 'stationed', 'Yank', 'two-year', 'figurative', 'thicker', 'unmistakably', '1844', 'Lucian', 'butts', 'aggressiveness', 'Alan', 'immoral', 'Cicero', 'lethal', 'Rule', 'abreast', 'oppressed', 'graphic', 'battlefield', 'hurling', 'lukewarm', 'leaked', 'smelling', 'troopers', 'Custer', 'swivel', 'recipients', 'phalanx', 'verbally', 'obsessed', 'anti-party', 'lingering', 'Medicine', 'clarification', 'editing', 'catastrophic', 'proliferation', 'buckle', 'midway', \"O'Connor\", '1909', 'waiters', 'bulwark', 'factions', 'punch', 'Penn', 'plagued', 'age-old', 'denoting', 'OK', 'Join', 'buzz', 'skillfully', 'Corinthian', 'aft', 'Columns', 'poking', 'Americana', 'Texan', 'Hanch', 'escaping', 'Off', 'O.E.C.D.', 'Regional', 'Brevard', 'crippled', 'Concerts', 'Palm', 'welcoming', 'Hail', 'tag', 'self-discipline', 'groping', 'liaison', 'completes', 'Hartman', 'Standing', 'uneasiness', 'overweight', 'commentary', 'gaily', 'Philosophy', 'espionage', 'triple', 'runners', 'soloists', 'Mail', 'indoors', '16th', 'tuition', 'harmless', 'harassed', 'unfriendly', 'upper-middle-class', 'fins', 'Staten', 'frigid', 'motifs', 'outreach', 'exploring', 'briskly', 'cart', 'austere', 'advantageous', 'registers', 'self-examination', 'Historically', 'Northerners', 'Breeding', \"Nation's\", 'Portago', 'constituent', 'salutary', 'minorities', 'formulae', 'Oriole', 'sacrifices', 'hosses', 'peanut', 'Fisher', 'achieves', 'stony', 'fibrous', 'locust', 'nourished', 'sparks', 'lieu', 'hiring', 'soybeans', 'consolidated', 'tenacity', 'intangible', 'hardships', 'rhetoric', 'definitive', 'Fleet', \"Morse's\", 'inquest', 'unloaded', 'corral', \"givin'\", 'resorted', 'trolley', 'limb', 'shone', 'Europeans', 'kidneys', 'exchanges', 'aimless', 'inn', 'Likewise', 'tariff', 'tuberculosis', 'scant', 'southpaw', 'intimated', 'Lillian', 'ducked', 'mystical', 'Ideally', 'stamping', 'Heywood', 'adversary', 'thickly', 'fetch', 'existent', 'insignificant', 'Loveless', 'second-rate', 'sway', 'hoss', 'transported', 'vices', 'chemically', 'Caution', 'cross-section', 'Barth', 'ventured', 'bombing', 'psychiatric', 'frontiers', 'linguistics', 'firemen', 'unmarried', 'perverse', 'programming', 'cute', 'nephews', 'seating', 'contemplated', 'extensions', 'liberation', 'Luther', 'lofty', 'layout', 'shrink', 'handwriting', 'bricks', 'high-priced', 'coolly', 'unloading', 'Mainland', 'unitized', 'Lumber', 'budgets', 'psychiatrists', 'psychotherapy', 'flags', 'overthrow', 'conferred', 'perpetuate', 'mortgages', '29th', 'Greeks', \"sheriff's\", 'wakeful', 'steal', 'richly', 'high-school', 'rape', 'dismiss', 'beacon', 'Beardens', 'drab', 'silenced', 'Seaman', 'paradise', 'Vesole', 'raids', 'Crosby', 'distracted', 'vile', 'poisonous', 'all-important', 'stew', 'menu', 'stressing', 'richest', 'cherish', 'Daer', 'librarians', 'migration', 'undeniable', 'peeled', 'undertaking', 'strengthens', 'UPI', 'alleviate', 'checkbook', 'removes', 'relying', 'vending', 'uninterrupted', 'shortsighted', 'refuses', 'pedestrian', 'extant', 'demonstrating', 'politeness', 'beverage', 'qualitative', 'Technical', 'extravagant', 'enhance', 'Increased', 'Reynolds', 'Capital', 'clusters', 'primeval', 'isolating', \"Jefferson's\", 'comforts', '260', 'entrenched', 'entail', 'opaque', '1965', 'Full', 'shielded', 'stays', 'polyester', 'periodicals', 'chipping', 'saves', 'bookkeeping', 'Schools', 're-enter', 'Story', 'fireworks', 'bugs', 'gallon', 'shocks', 'richer', 'Oakwood', 'evaluations', 'fuller', 'badge', 'Formosa', 'turbine', 'fights', 'needy', 'tenth', 'escorted', 'orator', 'abstention', 'scan', 'brother-in-law', 'ripples', 'greeting', 'hail', 'nationwide', 'locality', 'weeds', 'Rotary', 'week-end', 'intrinsic', 'Cod', 'Z', 'empirically', 'inquiring', 'Conversely', 'evacuation', 'witch', 'experimenter', 'glimpsed', 'sly', 'disrupt', 'forecasts', 'appliance', 'Susie', 'suck', 'prosecuted', 'Stephens', 'prescription', 'twirling', 'disinterested', 'corpses', 'legally', 'Cerv', '160', 'Kingston', 'crystalline', 'Forks', 'awe', 'sworn', 'patched', 'spurred', \"ship's\", 'Pole', '43', 'fund-raising', 'flourish', 'landscapes', 'corpus', 'clenched', 'ballplayer', 'murky', 'volunteered', 'Arabic', 'materially', 'vowed', 'Final', 'Czechoslovakia', 'Circuit', 'greetings', 'recollection', 'catharsis', 'chloride', 'Ernst', '2000', 'siding', 'licenses', 'motivations', 'Kasavubu', 'Patrice', 'Find', 'fragmentation', 'serenity', 'hazy', 'Mayer', 'meadows', 'one-man', 'engulfed', '23d', 'safer', 'manifestly', 'Waco', 'intimidation', 'livelihood', 'Englander', 'Barre', 'owes', 'misuse', 'labored', 'northward', 'variously', 'Finding', 'adhered', 'Inter-American', 'forestall', 'needless', 'Reama', 'geography', 'disintegration', 'classrooms', 'evokes', 'evasive', 'lied', 'Liberals', 'decorated', 'designate', 'gamblers', 'gushed', 'Farouk', 'Egyptian', 'quarreling', 'innumerable', 'unrest', 'Private', 'ironing', 'Mutual', 'Insurance', 'bump', 'censorship', 'Devil', 'compassion', 'facilitate', 'anterior', 'physicians', 'caresses', 'fearing', '1845']\n"
          ],
          "name": "stdout"
        }
      ]
    },
    {
      "cell_type": "code",
      "metadata": {
        "execution": {},
        "id": "p8Z7oxeKPOlw",
        "outputId": "8b40e261-ae04-4295-f72f-79d4dac28842",
        "colab": {
          "base_uri": "https://localhost:8080/"
        }
      },
      "source": [
        "print(get_embedding('weather', w2vmodel))"
      ],
      "execution_count": 59,
      "outputs": [
        {
          "output_type": "stream",
          "text": [
            "[-0.02126341  0.2524174  -0.24408081 -0.05610114 -0.17104687 -0.36175078\n",
            "  0.29956812  0.06941781 -0.25109288 -0.07310671 -0.0843007  -0.13645616\n",
            "  0.30545714  0.0163558  -0.28080732  0.06572401 -0.26891673  0.23900981\n",
            " -0.3285687  -0.4339567   0.14644247  0.3946088   0.5067444  -0.11483721\n",
            " -0.03145546  0.07320491  0.13182616  0.22627603 -0.33680987  0.07925805\n",
            " -0.29554167 -0.2886072   0.19929309 -0.16929209 -0.01782902 -0.19069012\n",
            "  0.32662848  0.17748705  0.02254524 -0.00108801  0.08947538  0.15858877\n",
            " -0.17937827  0.17332403  0.4706212   0.41386536  0.20285964 -0.27012\n",
            "  0.29017246  0.0434563 ]\n"
          ],
          "name": "stdout"
        }
      ]
    },
    {
      "cell_type": "markdown",
      "metadata": {
        "execution": {},
        "id": "epnc5hlLPOlw"
      },
      "source": [
        "## Section 2.2: Visualizing Word Embedding\n",
        "\n",
        "We can now obtain the word embeddings for any word in the dictionary using word2vec. Let's visualize these embeddings to get an inuition of what these embeddings mean. The word embeddings obtained from word2vec model are in high dimensional space. We will use `PCA` to pick the 2 features that capture the most variance in the embeddings in order to represent them in a 2D space.\n",
        "\n",
        "\n",
        "For each word in `keys`, we pick the top 10 similar words (using cosine similarity) and plot them.  \n",
        "\n",
        " What should be the arrangement of similar words?\n",
        " What should be arrangement of the key clusters with respect to each other?\n",
        " "
      ]
    },
    {
      "cell_type": "code",
      "metadata": {
        "execution": {},
        "id": "AluCiygGPOlw"
      },
      "source": [
        "keys = ['voters', 'magic', 'love', 'God', 'evidence', 'administration', 'governments']"
      ],
      "execution_count": 60,
      "outputs": []
    },
    {
      "cell_type": "code",
      "metadata": {
        "execution": {},
        "id": "rV_0V0X_POlw"
      },
      "source": [
        "def get_cluster_embeddings(keys):\n",
        "  embedding_clusters = []\n",
        "  word_clusters = []\n",
        "\n",
        "  # find closest words and add them to cluster\n",
        "  for word in keys:\n",
        "    embeddings = []\n",
        "    words = []\n",
        "    if not word in w2vmodel.wv.key_to_index:\n",
        "      print('The word ', word, 'is not in the dictionary')\n",
        "      continue\n",
        "\n",
        "    for similar_word, _ in w2vmodel.wv.most_similar(word, topn=10):\n",
        "      words.append(similar_word)\n",
        "      embeddings.append(w2vmodel.wv[similar_word])\n",
        "    embedding_clusters.append(embeddings)\n",
        "    word_clusters.append(words)\n",
        "\n",
        "  # get embeddings for the words in clusers\n",
        "  embedding_clusters = np.array(embedding_clusters)\n",
        "  n, m, k = embedding_clusters.shape\n",
        "  tsne_model_en_2d = TSNE(perplexity=10, n_components=2, init='pca', n_iter=3500, random_state=32)\n",
        "  embeddings_en_2d = np.array(tsne_model_en_2d.fit_transform(embedding_clusters.reshape(n * m, k))).reshape(n, m, 2)\n",
        "\n",
        "  return embeddings_en_2d, word_clusters"
      ],
      "execution_count": 61,
      "outputs": []
    },
    {
      "cell_type": "code",
      "metadata": {
        "execution": {},
        "id": "GMZUghoxPOlx"
      },
      "source": [
        "def tsne_plot_similar_words(title, labels, embedding_clusters,\n",
        "                            word_clusters, a, filename=None):\n",
        "  plt.figure(figsize=(16, 9))\n",
        "  colors = cm.rainbow(np.linspace(0, 1, len(labels)))\n",
        "  for label, embeddings, words, color in zip(labels, embedding_clusters, word_clusters, colors):\n",
        "    x = embeddings[:, 0]\n",
        "    y = embeddings[:, 1]\n",
        "    plt.scatter(x, y, color=color, alpha=a, label=label)\n",
        "    for i, word in enumerate(words):\n",
        "      plt.annotate(word,\n",
        "                   alpha=0.5,\n",
        "                   xy=(x[i], y[i]),\n",
        "                   xytext=(5, 2),\n",
        "                   textcoords='offset points',\n",
        "                   ha='right',\n",
        "                   va='bottom',\n",
        "                   size=10)\n",
        "  plt.legend(loc=\"lower left\")\n",
        "  plt.title(title)\n",
        "  plt.grid(True)\n",
        "  if filename:\n",
        "    plt.savefig(filename, format='png', dpi=150, bbox_inches='tight')\n",
        "  plt.show()"
      ],
      "execution_count": 62,
      "outputs": []
    },
    {
      "cell_type": "code",
      "metadata": {
        "execution": {},
        "id": "ZMSn-IjpPOlx",
        "outputId": "6ac02812-003e-4671-b86a-ad07b933bb27",
        "colab": {
          "base_uri": "https://localhost:8080/",
          "height": 646
        }
      },
      "source": [
        "embeddings_en_2d, word_clusters = get_cluster_embeddings(keys)\n",
        "tsne_plot_similar_words('Similar words from Brown Corpus', keys, embeddings_en_2d, word_clusters, 0.7)"
      ],
      "execution_count": 63,
      "outputs": [
        {
          "output_type": "display_data",
          "data": {
            "image/png": "[encoded data removed]",
            "text/plain": [
              "<Figure size 1152x648 with 1 Axes>"
            ]
          },
          "metadata": {
            "tags": [],
            "image/png": {
              "width": 1134,
              "height": 629
            },
            "needs_background": "light"
          }
        }
      ]
    },
    {
      "cell_type": "markdown",
      "metadata": {
        "execution": {},
        "id": "wiBYtvEtPOlx"
      },
      "source": [
        "## Section 2.3: Exploring meaning with word embeddings\n",
        "\n",
        "While word2vec was the method that started it all, research has since boomed, and we now have more sophisticated ways to represent words. One such method is FastText, developed at Facebook AI research, which breaks words into sub-words: such a technique also allows us to create embedding representations for unseen words. In this section, we will explore how semantics and meaning are captured using embedidngs, after downloading a pre-trained FastText model. Downloading pre-trained models is a way for us to plug in word embeddings and explore them without training them ourselves."
      ]
    },
    {
      "cell_type": "code",
      "metadata": {
        "execution": {},
        "cellView": "form",
        "id": "Y5VIZcKMPOlx"
      },
      "source": [
        "#@title Download FastText English Embeddings of dimension 100\n",
        "\n",
        "# 1d2fzekxTgDIA9LEYskPXT1sfccgAGmUF\n",
        "# file_id = '11qRoFOUiGnvM04ERcN_6Qn6O_dJ2KPLk'\n",
        "# destination = 'cc.en.100.bin.zip'\n",
        "# download_file_from_google_drive(file_id, destination)\n",
        "!wget -O cc.en.100.bin.gz https://osf.io/2frqg/download --quiet\n",
        "\n",
        "os.listdir('.')\n",
        "with zipfile.ZipFile('cc.en.100.bin.gz', 'r') as zip_ref:\n",
        "  zip_ref.extractall('.')"
      ],
      "execution_count": 64,
      "outputs": []
    },
    {
      "cell_type": "code",
      "metadata": {
        "execution": {},
        "id": "ntTqeRq1POlx",
        "outputId": "834c2c77-ca18-48c5-d347-56983cec733b",
        "colab": {
          "base_uri": "https://localhost:8080/"
        }
      },
      "source": [
        "# Load 100 dimension FastText Vectors using FastText library\n",
        "ft_en_vectors = fasttext.load_model('cc.en.100.bin')"
      ],
      "execution_count": 65,
      "outputs": [
        {
          "output_type": "stream",
          "text": [
            "Warning : `load_model` does not return WordVectorModel or SupervisedModel any more, but a `FastText` object which is very similar.\n"
          ],
          "name": "stderr"
        }
      ]
    },
    {
      "cell_type": "code",
      "metadata": {
        "execution": {},
        "id": "r9TuRlc3POlx",
        "outputId": "64c48cdf-8553-46a1-f7cb-7d8753debad4",
        "colab": {
          "base_uri": "https://localhost:8080/"
        }
      },
      "source": [
        "print(\"Length of the embedding is: \", len(ft_en_vectors.get_word_vector('king')))\n",
        "print(\"Embedding for the word King is: \", ft_en_vectors.get_word_vector('king'))"
      ],
      "execution_count": 66,
      "outputs": [
        {
          "output_type": "stream",
          "text": [
            "Length of the embedding is:  100\n",
            "Embedding for the word King is:  [-0.04045481 -0.10617249 -0.27222311  0.06879666  0.16408321  0.00276707\n",
            "  0.27080125 -0.05805573 -0.31865698  0.03748008 -0.00254088  0.13805169\n",
            " -0.00182498 -0.08973497  0.00319015 -0.19619396 -0.09858181 -0.10103802\n",
            " -0.08279888  0.0082208   0.13119364 -0.15956607  0.17203182  0.0315701\n",
            " -0.25064597  0.06182072  0.03929246  0.05157393  0.03543638  0.13660161\n",
            "  0.05473648  0.06072914 -0.04709269  0.17394426 -0.02101276 -0.11402624\n",
            " -0.24489872 -0.08576579 -0.00322696 -0.04509873 -0.00614253 -0.05772085\n",
            " -0.073414   -0.06718913 -0.06057961  0.10963406  0.1245006  -0.04819863\n",
            "  0.11408057  0.11081408  0.06752145 -0.01689911 -0.01186301 -0.11716368\n",
            " -0.01287614  0.10639337 -0.04243141  0.01057278 -0.0230855  -0.04930984\n",
            "  0.04717607  0.03696446  0.0015999  -0.02193867 -0.01331578  0.11102925\n",
            "  0.1686794   0.05814958 -0.00296521 -0.04252011 -0.00352389  0.06267346\n",
            " -0.07747819 -0.08959802 -0.02445797 -0.08913022  0.13422231  0.1258949\n",
            " -0.01296814  0.0531218  -0.00541025 -0.16908626  0.06323182 -0.11510128\n",
            " -0.08352032 -0.07224389  0.01023453  0.08263734 -0.03859017 -0.00798539\n",
            " -0.01498295  0.05448429  0.02708506  0.00549948  0.14634523 -0.12550676\n",
            "  0.04641578 -0.10164826  0.05370862  0.01217492]\n"
          ],
          "name": "stdout"
        }
      ]
    },
    {
      "cell_type": "markdown",
      "metadata": {
        "execution": {},
        "id": "COxsg1LAPOlx"
      },
      "source": [
        "Cosine similarity is used for similarities between words. Similarity is a scalar between 0 and 1."
      ]
    },
    {
      "cell_type": "markdown",
      "metadata": {
        "execution": {},
        "id": "nsnBhCTnPOly"
      },
      "source": [
        "Now find the 10 most similar words to \"King\""
      ]
    },
    {
      "cell_type": "code",
      "metadata": {
        "execution": {},
        "id": "OKDLdwxKPOly",
        "outputId": "6bd5212c-4b4e-457f-bdeb-19186af16ac1",
        "colab": {
          "base_uri": "https://localhost:8080/"
        }
      },
      "source": [
        "ft_en_vectors.get_nearest_neighbors(\"king\", 10)  # Most similar by key"
      ],
      "execution_count": 67,
      "outputs": [
        {
          "output_type": "execute_result",
          "data": {
            "text/plain": [
              "[(0.8168574571609497, 'prince'),\n",
              " (0.796097457408905, 'emperor'),\n",
              " (0.7907207608222961, 'kings'),\n",
              " (0.7655220627784729, 'lord'),\n",
              " (0.7435404062271118, 'king-'),\n",
              " (0.7394551634788513, 'chieftain'),\n",
              " (0.7307553291320801, 'tyrant'),\n",
              " (0.7226710319519043, 'conqueror'),\n",
              " (0.719561755657196, 'kingly'),\n",
              " (0.718187689781189, 'queen')]"
            ]
          },
          "metadata": {
            "tags": []
          },
          "execution_count": 67
        }
      ]
    },
    {
      "cell_type": "markdown",
      "metadata": {
        "execution": {},
        "id": "sLX3ARHoPOly"
      },
      "source": [
        "### Word Similarity"
      ]
    },
    {
      "cell_type": "code",
      "metadata": {
        "cellView": "form",
        "execution": {},
        "id": "V_5A69-qPOly",
        "outputId": "72a7dfeb-0d7a-4ecb-cd4d-0288d430471e",
        "colab": {
          "base_uri": "https://localhost:8080/",
          "height": 580,
          "referenced_widgets": [
            "d1d12b28232945d687cfb3706bed3957",
            "c66e6246b5ac461085d380cfb2616b7c",
            "8597115e85d6441e9f06b14d918de271",
            "55ff23e34de7450a810c4a7a0281e5cb",
            "a9ad5c787269405fa334a9a01ac0519f",
            "69c3848483a44354b03a5e8311255105"
          ]
        }
      },
      "source": [
        "#@title Video 4: Semantic Measurements\n",
        "# Insert the ID of the corresponding youtube video\n",
        "from ipywidgets import widgets\n",
        "\n",
        "out2 = widgets.Output()\n",
        "with out2:\n",
        "  from IPython.display import IFrame\n",
        "  class BiliVideo(IFrame):\n",
        "    def __init__(self, id, page=1, width=400, height=300, **kwargs):\n",
        "      self.id=id\n",
        "      src = \"https://player.bilibili.com/player.html?bvid={0}&page={1}\".format(id, page)\n",
        "      super(BiliVideo, self).__init__(src, width, height, **kwargs)\n",
        "\n",
        "  video = BiliVideo(id=f\"\", width=854, height=480, fs=1)\n",
        "  print(\"Video available at https://www.bilibili.com/video/{0}\".format(video.id))\n",
        "  display(video)\n",
        "\n",
        "out1 = widgets.Output()\n",
        "with out1:\n",
        "  from IPython.display import YouTubeVideo\n",
        "  video = YouTubeVideo(id=f\"djxZMSm7h2k\", width=854, height=480, fs=1, rel=0)\n",
        "  print(\"Video available at https://youtube.com/watch?v=\" + video.id)\n",
        "  display(video)\n",
        "\n",
        "out = widgets.Tab([out1, out2])\n",
        "out.set_title(0, 'Youtube')\n",
        "out.set_title(1, 'Bilibili')\n",
        "\n",
        "display(out)"
      ],
      "execution_count": 68,
      "outputs": [
        {
          "output_type": "display_data",
          "data": {
            "application/vnd.jupyter.widget-view+json": {
              "model_id": "d1d12b28232945d687cfb3706bed3957",
              "version_minor": 0,
              "version_major": 2
            },
            "text/plain": [
              "Tab(children=(Output(), Output()), _titles={'0': 'Youtube', '1': 'Bilibili'})"
            ]
          },
          "metadata": {
            "tags": []
          }
        }
      ]
    },
    {
      "cell_type": "markdown",
      "metadata": {
        "execution": {},
        "id": "UA-XggSTPOly"
      },
      "source": [
        "More on similarity between words. Let's check how similar different pairs of word are. Feel free to play around.\n",
        "\n"
      ]
    },
    {
      "cell_type": "code",
      "metadata": {
        "execution": {},
        "id": "1EHuLOHsPOly",
        "outputId": "7761a7f6-8a61-4c43-ccf8-1874ba05e682",
        "colab": {
          "base_uri": "https://localhost:8080/"
        }
      },
      "source": [
        "def getSimilarity(word1, word2):\n",
        "  v1 = ft_en_vectors.get_word_vector(word1)\n",
        "  v2 = ft_en_vectors.get_word_vector(word2)\n",
        "  return cosine_similarity(v1, v2)\n",
        "\n",
        "print(\"Similarity between the words King and Queen: \", getSimilarity(\"king\", \"queen\"))\n",
        "print(\"Similarity between the words King and Knight: \", getSimilarity(\"king\", \"knight\"))\n",
        "print(\"Similarity between the words King and Rock: \", getSimilarity(\"king\", \"rock\"))\n",
        "print(\"Similarity between the words King and Twenty: \", getSimilarity(\"king\", \"twenty\"))\n",
        "\n",
        "## Try the same for two more pairs\n",
        "# print(\"Similarity between the words ___ and ___: \", getSimilarity(...))\n",
        "# print(\"Similarity between the words ___ and ___: \", getSimilarity(...))\n",
        "\n",
        "# print(\"Similarity between the words ___ and ___: \", getSimilarity(...))\n",
        "# print(\"Similarity between the words ___ and ___: \", getSimilarity(...))"
      ],
      "execution_count": 69,
      "outputs": [
        {
          "output_type": "stream",
          "text": [
            "Similarity between the words King and Queen:  0.71818775\n",
            "Similarity between the words King and Knight:  0.6881009\n",
            "Similarity between the words King and Rock:  0.28928387\n",
            "Similarity between the words King and Twenty:  0.19655468\n"
          ],
          "name": "stdout"
        }
      ]
    },
    {
      "cell_type": "markdown",
      "metadata": {
        "execution": {},
        "id": "dEM9XjLFPOly"
      },
      "source": [
        "### Homonym Words\n",
        "\n",
        "Find the similarity for homonyms with their different meanings. The first one has been implemented for you."
      ]
    },
    {
      "cell_type": "code",
      "metadata": {
        "execution": {},
        "id": "4sV1cFfHPOlz",
        "outputId": "604a59c1-bfa3-45b0-b853-b55cfeb3cb59",
        "colab": {
          "base_uri": "https://localhost:8080/"
        }
      },
      "source": [
        "#######################     Words with multiple meanings     ##########################\n",
        "print(\"Similarity between the words Cricket and Insect: \", getSimilarity(\"cricket\", \"insect\"))\n",
        "print(\"Similarity between the words Cricket and Sport: \", getSimilarity(\"cricket\", \"sport\"))\n",
        "\n",
        "## Try the same for two more pairs\n",
        "# print(\"Similarity between the words ___ and ___: \", getSimilarity(...))\n",
        "# print(\"Similarity between the words ___ and ___: \", getSimilarity(...))\n",
        "\n",
        "# print(\"Similarity between the words ___ and ___: \", getSimilarity(...))\n",
        "# print(\"Similarity between the words ___ and ___: \", getSimilarity(...))"
      ],
      "execution_count": 70,
      "outputs": [
        {
          "output_type": "stream",
          "text": [
            "Similarity between the words Cricket and Insect:  0.40722153\n",
            "Similarity between the words Cricket and Sport:  0.58123744\n"
          ],
          "name": "stdout"
        }
      ]
    },
    {
      "cell_type": "markdown",
      "metadata": {
        "execution": {},
        "id": "ECyQ8xwePOlz"
      },
      "source": [
        "### Word Analogies\n",
        "\n",
        "Embeddings can be used to find word analogies.\n",
        "Let's try it:\n",
        "1.   Man : Woman  ::  King : _____\n",
        "2.  Germany: Berlin :: France : ______\n",
        "3.  Leaf : Tree  ::  Petal : _____"
      ]
    },
    {
      "cell_type": "code",
      "metadata": {
        "execution": {},
        "id": "AkV3psewPOlz",
        "outputId": "1a634764-b793-4935-dc24-0881fb38b00c",
        "colab": {
          "base_uri": "https://localhost:8080/"
        }
      },
      "source": [
        "## Use get_analogies() funnction. The words have to be in the order Positive, negative,  Positve\n",
        "\n",
        "# Man : Woman  ::  King : _____\n",
        "# Positive=(woman, king), Negative=(man)\n",
        "print(ft_en_vectors.get_analogies(\"woman\", \"man\", \"king\",1))\n",
        "\n",
        "# Germany: Berlin :: France : ______\n",
        "# Positive=(berlin, frannce), Negative=(germany)\n",
        "print(ft_en_vectors.get_analogies(\"berlin\", \"germany\", \"france\",1))\n",
        "\n",
        "# Leaf : Tree  ::  Petal : _____\n",
        "# Positive=(tree, petal), Negative=(leaf)\n",
        "print(ft_en_vectors.get_analogies(\"tree\", \"leaf\", \"petal\",1))\n",
        "\n",
        "# Hammer : Nail  ::  Comb : _____\n",
        "# Positive=(nail, comb), Negative=(hammer)\n",
        "print(ft_en_vectors.get_analogies(\"nail\", \"hammer\", \"comb\",1))"
      ],
      "execution_count": 71,
      "outputs": [
        {
          "output_type": "stream",
          "text": [
            "[(0.8162637948989868, 'queen')]\n",
            "[(0.8568049669265747, 'paris')]\n",
            "[(0.7037209272384644, 'flower')]\n",
            "[(0.6908746361732483, 'hair')]\n"
          ],
          "name": "stdout"
        }
      ]
    },
    {
      "cell_type": "markdown",
      "metadata": {
        "execution": {},
        "id": "1MSW8ShePOlz"
      },
      "source": [
        "But, does it always work?\n",
        "\n",
        "\n",
        "1.   Poverty : Wealth  :: Sickness : _____\n",
        "2.   train : board :: horse : _____"
      ]
    },
    {
      "cell_type": "code",
      "metadata": {
        "execution": {},
        "id": "kl9mjWtEPOlz",
        "outputId": "ebefdff8-cb10-4af5-cfac-470bb33c5c59",
        "colab": {
          "base_uri": "https://localhost:8080/"
        }
      },
      "source": [
        "# Poverty : Wealth  :: Sickness : _____\n",
        "print(ft_en_vectors.get_analogies(\"wealth\", \"poverty\", \"sickness\",1))\n",
        "\n",
        "# train : board :: horse : _____\n",
        "print(ft_en_vectors.get_analogies(\"board\", \"train\", \"horse\",1))"
      ],
      "execution_count": 72,
      "outputs": [
        {
          "output_type": "stream",
          "text": [
            "[(0.615874171257019, 'affliction')]\n",
            "[(0.5437814593315125, 'bull')]\n"
          ],
          "name": "stdout"
        }
      ]
    },
    {
      "cell_type": "markdown",
      "metadata": {
        "execution": {},
        "id": "EzwxWqkfPOlz"
      },
      "source": [
        "---\n",
        "#Section 3: Neural Net with word embeddings"
      ]
    },
    {
      "cell_type": "markdown",
      "metadata": {
        "execution": {},
        "id": "EmQGeI8aPOlz"
      },
      "source": [
        "Let's use the pretrained FastText embeddings to train a neural network on the IMDB dataset. \n",
        "\n",
        "To recap, the data consists of reviews and sentiments attached to it. It is a binary classification task. As a simple preview of the upcoming neural networks, we are going to introduce neural net with word embeddings. We'll see detailed networks in the next tutorial.\n",
        "\n",
        "\n"
      ]
    },
    {
      "cell_type": "markdown",
      "metadata": {
        "execution": {},
        "id": "UE2JxdMUPOlz"
      },
      "source": [
        "## Coding Exercise 3.1: Simple Feed Forward Net"
      ]
    },
    {
      "cell_type": "markdown",
      "metadata": {
        "execution": {},
        "id": "U-z03eYpPOl0"
      },
      "source": [
        "This will load 300 dim FastText embeddings. It will take around 2-3 minutes."
      ]
    },
    {
      "cell_type": "markdown",
      "metadata": {
        "execution": {},
        "id": "kgZrULxFPOl0"
      },
      "source": [
        "Define a vanilla neural network with linear layers. Then average the word embeddings to get an embedding for the entire review.\n",
        "The neural net will have one hidden layer of size 128."
      ]
    },
    {
      "cell_type": "code",
      "metadata": {
        "execution": {},
        "cellView": "form",
        "id": "BURoJ7xhPOl0"
      },
      "source": [
        "#@title Download embeddings\n",
        "#@markdown #### Execute this cell!\n",
        "embedding_fasttext = FastText('simple')"
      ],
      "execution_count": 73,
      "outputs": []
    },
    {
      "cell_type": "code",
      "metadata": {
        "execution": {},
        "cellView": "form",
        "id": "PSPyOs5IPOl0",
        "outputId": "88966036-4e28-4fe2-b0eb-29492dbfe414",
        "colab": {
          "base_uri": "https://localhost:8080/"
        }
      },
      "source": [
        "#@markdown Load the Dataset\n",
        "TEXT, vocab_size, train_iter, valid_iter, test_iter = load_dataset(embedding_fasttext, seed=SEED)"
      ],
      "execution_count": 74,
      "outputs": [
        {
          "output_type": "stream",
          "text": [
            "Data are loaded. sentence length: 50 seed: 2021\n"
          ],
          "name": "stdout"
        }
      ]
    },
    {
      "cell_type": "code",
      "metadata": {
        "execution": {},
        "id": "qnTizhM1POl0"
      },
      "source": [
        "class NeuralNet(nn.Module):\n",
        "  def __init__(self, batch_size, output_size, hidden_size, vocab_size,\n",
        "               embedding_length, word_embeddings):\n",
        "    super(NeuralNet, self).__init__()\n",
        "\n",
        "    self.word_embeddings = nn.Embedding(vocab_size, embedding_length)\n",
        "    self.word_embeddings.weight = nn.Parameter(word_embeddings,\n",
        "                                               requires_grad=False)\n",
        "    self.fc1 = nn.Linear(embedding_length, hidden_size)\n",
        "    self.fc2 = nn.Linear(hidden_size, output_size)\n",
        "\n",
        "\n",
        "  def forward(self, inputs):\n",
        "\n",
        "    input = self.word_embeddings(inputs)  # convert text to embeddings\n",
        "    ####################################################################\n",
        "    # Fill in missing code below (...)\n",
        "    raise NotImplementedError(\"Fill in the Neural Net\")\n",
        "    ####################################################################\n",
        "    # Average the word embedddings in a sentence\n",
        "    # Use torch.nn.functional.avg_pool2d to compute the averages\n",
        "    pooled = ...\n",
        "\n",
        "    # Pass the embeddings through the neural net\n",
        "    # A fully-connected layer\n",
        "    x = ...\n",
        "    # ReLU activation\n",
        "    x = ...\n",
        "    # Another fully-connected layer\n",
        "    x = ...\n",
        "    output = F.log_softmax(x, dim=1)\n",
        "\n",
        "    return output\n",
        "\n",
        "\n",
        "# Uncomment to check your code\n",
        "# nn_model = NeuralNet(32, 2, 128, 100, 300, TEXT.vocab.vectors)\n",
        "# print(nn_model)"
      ],
      "execution_count": 75,
      "outputs": []
    },
    {
      "cell_type": "code",
      "metadata": {
        "execution": {},
        "id": "EwpvNVWwPOl0",
        "outputId": "01293916-1b30-4f52-bbd2-318721d5c35a",
        "colab": {
          "base_uri": "https://localhost:8080/"
        }
      },
      "source": [
        "#to_remove solution\n",
        "class NeuralNet(nn.Module):\n",
        "  def __init__(self, batch_size, output_size, hidden_size, vocab_size,\n",
        "               embedding_length, word_embeddings):\n",
        "    super(NeuralNet, self).__init__()\n",
        "\n",
        "    self.word_embeddings = nn.Embedding(vocab_size, embedding_length)\n",
        "    self.word_embeddings.weight = nn.Parameter(word_embeddings,\n",
        "                                               requires_grad=False)\n",
        "    self.fc1 = nn.Linear(embedding_length, hidden_size)\n",
        "    self.fc2 = nn.Linear(hidden_size, output_size)\n",
        "\n",
        "\n",
        "  def forward(self, inputs):\n",
        "\n",
        "    input = self.word_embeddings(inputs)  # convert text to embeddings\n",
        "    # Average the word embedddings in a sentence\n",
        "    # Use torch.nn.functional.avg_pool2d to compute the averages\n",
        "    pooled = F.avg_pool2d(input, (input.shape[1], 1)).squeeze(1)\n",
        "\n",
        "    # Pass the embeddings through the neural net\n",
        "    # A fully-connected layer\n",
        "    x = self.fc1(pooled)\n",
        "    # ReLU activation\n",
        "    x = F.relu(x)\n",
        "    # Another fully-connected layer\n",
        "    x = self.fc2(x)\n",
        "    output = F.log_softmax(x, dim=1)\n",
        "\n",
        "    return output\n",
        "\n",
        "\n",
        "# Uncomment to check your code\n",
        "nn_model = NeuralNet(32, 2, 128, 100, 300, TEXT.vocab.vectors)\n",
        "print(nn_model)"
      ],
      "execution_count": 76,
      "outputs": [
        {
          "output_type": "stream",
          "text": [
            "NeuralNet(\n",
            "  (word_embeddings): Embedding(100, 300)\n",
            "  (fc1): Linear(in_features=300, out_features=128, bias=True)\n",
            "  (fc2): Linear(in_features=128, out_features=2, bias=True)\n",
            ")\n"
          ],
          "name": "stdout"
        }
      ]
    },
    {
      "cell_type": "markdown",
      "metadata": {
        "execution": {},
        "id": "4fxv5JdbPOl0"
      },
      "source": [
        "```\n",
        "NeuralNet(\n",
        "  (word_embeddings): Embedding(100, 300)\n",
        "  (fc1): Linear(in_features=300, out_features=128, bias=True)\n",
        "  (fc2): Linear(in_features=128, out_features=2, bias=True)\n",
        ")\n",
        "```"
      ]
    },
    {
      "cell_type": "code",
      "metadata": {
        "cellView": "form",
        "execution": {},
        "id": "YcKcBfvwPOl1"
      },
      "source": [
        "#@title Training and Testing Functions\n",
        "\n",
        "#@markdown #### `train(model, device, train_iter, valid_iter, epochs, learning_rate)`\n",
        "#@markdown #### `test(model, device, test_iter)`\n",
        "\n",
        "def train(model, device, train_iter, valid_iter, epochs, learning_rate):\n",
        "  criterion = nn.CrossEntropyLoss()\n",
        "  optimizer = torch.optim.Adam(model.parameters(), lr=learning_rate)\n",
        "\n",
        "  train_loss, validation_loss = [], []\n",
        "  train_acc, validation_acc = [], []\n",
        "\n",
        "  for epoch in range(epochs):\n",
        "    # train\n",
        "    model.train()\n",
        "    running_loss = 0.\n",
        "    correct, total = 0, 0\n",
        "    steps = 0\n",
        "\n",
        "    for idx, batch in enumerate(train_iter):\n",
        "      text = batch.text[0]\n",
        "      target = batch.label\n",
        "      target = torch.autograd.Variable(target).long()\n",
        "      text, target = text.to(device), target.to(device)\n",
        "\n",
        "      # add micro for coding training loop\n",
        "      optimizer.zero_grad()\n",
        "      output = model(text)\n",
        "      loss = criterion(output, target)\n",
        "      loss.backward()\n",
        "      optimizer.step()\n",
        "      steps += 1\n",
        "      running_loss += loss.item()\n",
        "\n",
        "      # get accuracy\n",
        "      _, predicted = torch.max(output, 1)\n",
        "      total += target.size(0)\n",
        "      correct += (predicted == target).sum().item()\n",
        "    train_loss.append(running_loss/len(train_iter))\n",
        "    train_acc.append(correct/total)\n",
        "\n",
        "    print(f'Epoch: {epoch + 1}, '\n",
        "          f'Training Loss: {running_loss/len(train_iter):.4f}, '\n",
        "          f'Training Accuracy: {100*correct/total: .2f}%')\n",
        "\n",
        "    # evaluate on validation data\n",
        "    model.eval()\n",
        "    running_loss = 0.\n",
        "    correct, total = 0, 0\n",
        "\n",
        "    with torch.no_grad():\n",
        "      for idx, batch in enumerate(valid_iter):\n",
        "        text = batch.text[0]\n",
        "        target = batch.label\n",
        "        target = torch.autograd.Variable(target).long()\n",
        "        text, target = text.to(device), target.to(device)\n",
        "\n",
        "        optimizer.zero_grad()\n",
        "        output = model(text)\n",
        "\n",
        "        loss = criterion(output, target)\n",
        "        running_loss += loss.item()\n",
        "\n",
        "        # get accuracy\n",
        "        _, predicted = torch.max(output, 1)\n",
        "        total += target.size(0)\n",
        "        correct += (predicted == target).sum().item()\n",
        "\n",
        "    validation_loss.append(running_loss/len(valid_iter))\n",
        "    validation_acc.append(correct/total)\n",
        "\n",
        "    print (f'Validation Loss: {running_loss/len(valid_iter):.4f}, '\n",
        "           f'Validation Accuracy: {100*correct/total: .2f}%')\n",
        "\n",
        "  return train_loss, train_acc, validation_loss, validation_acc\n",
        "\n",
        "\n",
        "def test(model, device, test_iter):\n",
        "  model.eval()\n",
        "  correct = 0\n",
        "  total = 0\n",
        "  with torch.no_grad():\n",
        "    for idx, batch in enumerate(test_iter):\n",
        "      text = batch.text[0]\n",
        "      target = batch.label\n",
        "      target = torch.autograd.Variable(target).long()\n",
        "      text, target = text.to(device), target.to(device)\n",
        "\n",
        "      outputs = model(text)\n",
        "      _, predicted = torch.max(outputs, 1)\n",
        "      total += target.size(0)\n",
        "      correct += (predicted == target).sum().item()\n",
        "\n",
        "    acc = 100 * correct / total\n",
        "    return acc"
      ],
      "execution_count": 77,
      "outputs": []
    },
    {
      "cell_type": "code",
      "metadata": {
        "execution": {},
        "id": "MzJKS4F2POl1",
        "outputId": "7acf6b28-87e0-4f7c-9db4-db44af6fd979",
        "colab": {
          "base_uri": "https://localhost:8080/"
        }
      },
      "source": [
        "# Model hyperparameters\n",
        "learning_rate = 0.0003\n",
        "batch_size = 32\n",
        "output_size = 2\n",
        "hidden_size = 128\n",
        "embedding_length = 300\n",
        "epochs = 15\n",
        "word_embeddings = TEXT.vocab.vectors\n",
        "vocab_size = len(TEXT.vocab)\n",
        "\n",
        "# Model set-up\n",
        "nn_model = NeuralNet(batch_size,\n",
        "                     output_size,\n",
        "                     hidden_size,\n",
        "                     vocab_size,\n",
        "                     embedding_length,\n",
        "                     word_embeddings)\n",
        "nn_model.to(DEVICE)\n",
        "nn_start_time = time.time()\n",
        "set_seed(522)\n",
        "nn_train_loss, nn_train_acc, nn_validation_loss, nn_validation_acc = train(nn_model,\n",
        "                                                                           DEVICE,\n",
        "                                                                           train_iter,\n",
        "                                                                           valid_iter,\n",
        "                                                                           epochs,\n",
        "                                                                           learning_rate)\n",
        "print(\"--- Time taken to train = %s seconds ---\" % (time.time() - nn_start_time))\n",
        "test_accuracy = test(nn_model, DEVICE, test_iter)\n",
        "print(f'\\n\\nTest Accuracy: {test_accuracy}%')"
      ],
      "execution_count": 78,
      "outputs": [
        {
          "output_type": "stream",
          "text": [
            "Random seed 522 has been set.\n",
            "Epoch: 1, Training Loss: 0.6659, Training Accuracy:  60.61%\n",
            "Validation Loss: 0.6444, Validation Accuracy:  63.72%\n",
            "Epoch: 2, Training Loss: 0.6231, Training Accuracy:  66.19%\n",
            "Validation Loss: 0.6142, Validation Accuracy:  67.12%\n",
            "Epoch: 3, Training Loss: 0.5987, Training Accuracy:  68.52%\n",
            "Validation Loss: 0.6016, Validation Accuracy:  68.11%\n",
            "Epoch: 4, Training Loss: 0.5856, Training Accuracy:  69.33%\n",
            "Validation Loss: 0.5966, Validation Accuracy:  68.68%\n",
            "Epoch: 5, Training Loss: 0.5788, Training Accuracy:  69.73%\n",
            "Validation Loss: 0.5935, Validation Accuracy:  68.55%\n",
            "Epoch: 6, Training Loss: 0.5739, Training Accuracy:  70.06%\n",
            "Validation Loss: 0.5911, Validation Accuracy:  68.64%\n",
            "Epoch: 7, Training Loss: 0.5702, Training Accuracy:  70.45%\n",
            "Validation Loss: 0.5894, Validation Accuracy:  68.91%\n",
            "Epoch: 8, Training Loss: 0.5673, Training Accuracy:  70.63%\n",
            "Validation Loss: 0.6012, Validation Accuracy:  68.25%\n",
            "Epoch: 9, Training Loss: 0.5663, Training Accuracy:  70.58%\n",
            "Validation Loss: 0.5870, Validation Accuracy:  69.08%\n",
            "Epoch: 10, Training Loss: 0.5639, Training Accuracy:  70.70%\n",
            "Validation Loss: 0.5881, Validation Accuracy:  68.79%\n",
            "Epoch: 11, Training Loss: 0.5621, Training Accuracy:  70.99%\n",
            "Validation Loss: 0.5874, Validation Accuracy:  68.93%\n",
            "Epoch: 12, Training Loss: 0.5602, Training Accuracy:  71.08%\n",
            "Validation Loss: 0.5849, Validation Accuracy:  69.15%\n",
            "Epoch: 13, Training Loss: 0.5583, Training Accuracy:  71.08%\n",
            "Validation Loss: 0.5860, Validation Accuracy:  68.97%\n",
            "Epoch: 14, Training Loss: 0.5567, Training Accuracy:  71.09%\n",
            "Validation Loss: 0.5885, Validation Accuracy:  68.68%\n",
            "Epoch: 15, Training Loss: 0.5551, Training Accuracy:  71.49%\n",
            "Validation Loss: 0.5825, Validation Accuracy:  69.11%\n",
            "--- Time taken to train = 33.38420748710632 seconds ---\n",
            "\n",
            "\n",
            "Test Accuracy: 70.196%\n"
          ],
          "name": "stdout"
        }
      ]
    },
    {
      "cell_type": "code",
      "metadata": {
        "execution": {},
        "id": "0mu2c9BaPOl1",
        "outputId": "f420bfec-ea7e-4df2-9830-1d438032c232",
        "colab": {
          "base_uri": "https://localhost:8080/",
          "height": 431
        }
      },
      "source": [
        "# Plot accuracy curves\n",
        "plt.figure()\n",
        "plt.subplot(211)\n",
        "plot_train_val(np.arange(0, epochs), nn_train_acc, nn_validation_acc,\n",
        "               'train accuracy', 'val accuracy',\n",
        "               'Neural Net on IMDB text classification', 'accuracy',\n",
        "               color='C0')\n",
        "plt.legend(loc='upper left')\n",
        "plt.subplot(212)\n",
        "plot_train_val(np.arange(0, epochs), nn_train_loss,\n",
        "               nn_validation_loss,\n",
        "               'train loss', 'val loss',\n",
        "               'Vanilla RNN on IMDB text classification',\n",
        "               'loss [a.u.]',\n",
        "               color='C0')\n",
        "plt.legend(loc='upper left')\n",
        "plt.show()"
      ],
      "execution_count": 79,
      "outputs": [
        {
          "output_type": "display_data",
          "data": {
            "image/png": "[encoded data removed]",
            "text/plain": [
              "<Figure size 576x432 with 2 Axes>"
            ]
          },
          "metadata": {
            "tags": [],
            "image/png": {
              "width": 558,
              "height": 414
            },
            "needs_background": "light"
          }
        }
      ]
    },
    {
      "cell_type": "markdown",
      "metadata": {
        "execution": {},
        "id": "aXLS3kwoPOl1"
      },
      "source": [
        "---\n",
        "# Summary\n",
        "\n",
        "In this tutorial, we explored two different concepts linked to sequences, and text in particular, that will be the conceptual foundation for Recurrent Neural Networks.\n",
        "\n",
        "The first concept was that of sequences and probabilities. We saw how we can model language as sequences of text, and use this analogy to generate text. Such a setup is also used to classify text or identify parts of speech. We can either build chains manually using simple python and numerical computation, or use a package such as ```hmmlearn``` that allows us to train models a lot easier. These notions of sequences and probabilities (i.e, creating language models!) are key to the internals of a recurrent neural network as well. \n",
        "\n",
        "The second concept is that of word embeddings, now a mainstay of natural language processing. By using a neural network to predict context of words, these neural networks learn internal representions of words that are a decent approximation of semantic meaning (i.e embeddings!). We saw how these embeddings can be visualised, as well as how they capture meaning. We finally saw how they can be integrated into neural networks to better classify text documents."
      ]
    }
  ]
}