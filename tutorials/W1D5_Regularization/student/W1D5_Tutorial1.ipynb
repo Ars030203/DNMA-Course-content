{
 "cells": [
  {
   "cell_type": "markdown",
   "metadata": {
    "colab_type": "text",
    "id": "view-in-github"
   },
   "source": [
    "<a href=\"https://colab.research.google.com/github/NeuromatchAcademy/course-content-dl/blob/w1d2/tutorials/W1D5_Regularization/student/W1D5_Tutorial1.ipynb\" target=\"_parent\"><img src=\"https://colab.research.google.com/assets/colab-badge.svg\" alt=\"Open In Colab\"/></a>"
   ]
  },
  {
   "cell_type": "markdown",
   "metadata": {},
   "source": [
    "\n",
    "# Neuromatch Academy: Week 1, Day 5, Tutorial 1\n",
    "# Regularization\n",
    "\n",
    "__Content creators:__ Lyle Ungar, Ravi Teja Konkimalla, Mohitrajhu Lingan Kumaraian, Kevin Machado Gamboa, Kelson Shilling-Scrivo\n",
    "\n",
    "__Content reviewers:__ Piyush Chauhan, Kelson Shilling-Scrivo\n",
    "\n",
    "__Content editors:__ Spiros Chavlis, Roberto Guidotti\n",
    "\n",
    "__Production editors:__ Yoni Friedman, Spiros Chavlis, Roberto Guidotti"
   ]
  },
  {
   "cell_type": "markdown",
   "metadata": {},
   "source": [
    "---\n",
    "# Tutorial Objectives\n",
    "\n",
    "1.   **Big ANNs are efficient universal approximators due to adaptive basis functions**\n",
    "2.   **ANN’s memorize some but generalize well**\n",
    "3.   Regularization as shrinkage of overparameterized models: L1, L2, early stopping\n",
    "4.   Regularization by Dropout\n",
    "5. Regularization by Data Augmentation\n",
    "6. Perils of Hyper-Parameter Tuning\n",
    "7.   Rethinking generalization   "
   ]
  },
  {
   "cell_type": "code",
   "execution_count": null,
   "metadata": {
    "cellView": "form",
    "colab": {
     "base_uri": "https://localhost:8080/",
     "height": 518
    },
    "outputId": "f5e2718c-e908-4e37-fff0-9804e1955fa3"
   },
   "outputs": [],
   "source": [
    "#@title Video : Introduction to Regularization\n",
    "import time\n",
    "from IPython.display import YouTubeVideo\n",
    "\n",
    "try: t1;\n",
    "except NameError: t1=time.time()\n",
    "\n",
    "video = YouTubeVideo(id=\"bc1nsP4htVg\", width=854, height=480, fs=1)\n",
    "print(\"Video available at https://youtube.com/watch?v=\" + video.id)\n",
    "\n",
    "video"
   ]
  },
  {
   "cell_type": "markdown",
   "metadata": {},
   "source": [
    "A key idea of neural nets, is that they use models that are \"too complex\" - complex enough to fit all the noise in the data. One then needs to \"regularize\" them to make the models fit complex enough, but not too complex. The more complex the model, the better it fits the training data, but if it is too complex, it generalizes less well; it memorizes the training data but is less accurate on future test data.\n",
    "\n",
    "![Overfitting](https://images.deepai.org/glossary-terms/early-stopping-machine-learning-5422207.jpg)"
   ]
  },
  {
   "cell_type": "code",
   "execution_count": null,
   "metadata": {
    "cellView": "form",
    "colab": {
     "base_uri": "https://localhost:8080/",
     "height": 590
    },
    "outputId": "5c25e2c6-4130-4950-eef5-b339eaa91bfe"
   },
   "outputs": [],
   "source": [
    "#@markdown Tutorial slides\n",
    "\n",
    "#@markdown **Do not read them now.**\n",
    "# you should link the slides for all tutorial videos here (we will store pdfs on osf)\n",
    "\n",
    "from IPython.display import HTML\n",
    "HTML('<iframe src=\"https://docs.google.com/presentation/d/1N9aguIPiBSjzo0ToqPi5uwwG8ChY6_E3/embed?start=false&loop=false&delayms=3000\" frameborder=\"0\" width=\"960\" height=\"569\" allowfullscreen=\"true\" mozallowfullscreen=\"true\" webkitallowfullscreen=\"true\"></iframe>')"
   ]
  },
  {
   "cell_type": "markdown",
   "metadata": {},
   "source": [
    "---\n",
    "# Setup\n",
    "Note that some of the code for today can take up to an hour to run. We have therefore \"hidden\" that code and shown the resulting outputs.\n"
   ]
  },
  {
   "cell_type": "markdown",
   "metadata": {},
   "source": [
    "**Ensure you're running a GPU notebook:**\n",
    "From \"Runtime\" in the drop-down menu above, click \"Change runtime type\". Ensure that \"Hardware Accelerator\" says \"GPU\".\n",
    "\n",
    "**Ensure you can save:** From \"File\", click \"Save a copy in Drive\""
   ]
  },
  {
   "cell_type": "code",
   "execution_count": null,
   "metadata": {},
   "outputs": [],
   "source": [
    "# Imports\n",
    "from __future__ import print_function\n",
    "import torch\n",
    "import pathlib\n",
    "import random\n",
    "import torch.nn as nn\n",
    "import torch.nn.functional as F\n",
    "import torch.optim as optim\n",
    "from torchvision import datasets, transforms\n",
    "from torchvision.datasets import ImageFolder\n",
    "from torch.utils.data import DataLoader, TensorDataset\n",
    "import torch.nn.utils.prune as prune\n",
    "from torch.optim.lr_scheduler import StepLR\n",
    "import time\n",
    "import numpy as np\n",
    "import matplotlib.pyplot as plt\n",
    "import matplotlib.animation as animation\n",
    "import copy\n",
    "from tqdm.auto import tqdm\n",
    "from IPython.display import HTML, display"
   ]
  },
  {
   "cell_type": "code",
   "execution_count": null,
   "metadata": {
    "cellView": "form"
   },
   "outputs": [],
   "source": [
    "# @title Figure Settings\n",
    "import ipywidgets as widgets\n",
    "\n",
    "%matplotlib inline\n",
    "%config InlineBackend.figure_format = 'retina'\n",
    "plt.style.use(\"https://raw.githubusercontent.com/NeuromatchAcademy/course-content/master/nma.mplstyle\")"
   ]
  },
  {
   "cell_type": "code",
   "execution_count": null,
   "metadata": {
    "cellView": "form"
   },
   "outputs": [],
   "source": [
    "# @title Loading Animal Faces data\n",
    "%%capture\n",
    "!rm -r AnimalFaces32x32/\n",
    "!git clone https://github.com/arashash/AnimalFaces32x32\n",
    "!rm -r afhq/\n",
    "!unzip ./AnimalFaces32x32/afhq_32x32.zip"
   ]
  },
  {
   "cell_type": "code",
   "execution_count": null,
   "metadata": {
    "cellView": "form"
   },
   "outputs": [],
   "source": [
    "# @title Loading Animal Faces Randomized data\n",
    "%%capture\n",
    "!rm -r Animal_faces_random/\n",
    "!git clone https://github.com/Ravi3191/Animal_faces_random.git\n",
    "!rm -r afhq_random_32x32/\n",
    "!unzip ./Animal_faces_random/afhq_random_32x32.zip\n",
    "!rm -r afhq_10_32x32/\n",
    "!unzip ./Animal_faces_random/afhq_10_32x32.zip"
   ]
  },
  {
   "cell_type": "code",
   "execution_count": null,
   "metadata": {
    "cellView": "form"
   },
   "outputs": [],
   "source": [
    "#@title Seeding for Reproducibility\n",
    "seed = 90108\n",
    "random.seed(seed)\n",
    "np.random.seed(seed)\n",
    "torch.manual_seed(seed)\n",
    "torch.cuda.manual_seed(seed)\n",
    "torch.cuda.manual_seed_all(seed)\n",
    "torch.backends.cudnn.deterministic = True\n",
    "torch.backends.cudnn.benchmark = False\n",
    "torch.backends.cudnn.enabled = False\n",
    "torch.torch.use_deterministic_algorithms(True)\n",
    "def seed_worker(worker_id):\n",
    "  worker_seed = seed % (worker_id+1)\n",
    "  np.random.seed(worker_seed)\n",
    "  random.seed(worker_seed)"
   ]
  },
  {
   "cell_type": "code",
   "execution_count": null,
   "metadata": {
    "cellView": "form"
   },
   "outputs": [],
   "source": [
    "# @title Plotting functions\n",
    "def imshow(img):\n",
    "    img = img / 2 + 0.5     # unnormalize\n",
    "    npimg = img.numpy()\n",
    "    plt.imshow(np.transpose(npimg, (1, 2, 0)))\n",
    "    plt.axis(False)\n",
    "    plt.show()\n",
    "\n",
    "def plot_weights(norm, labels, ws, title='Weight Size Measurement'):\n",
    "\n",
    "  plt.figure(figsize=[8,6])\n",
    "  plt.title(title)\n",
    "  plt.ylabel('Frobenius Norm Value')\n",
    "  plt.xlabel('Model Layers')\n",
    "  plt.bar(labels, ws)\n",
    "  plt.axhline(y=norm, linewidth=1, color='r', ls='--', label='Total Model F-Norm')\n",
    "  plt.legend()\n",
    "  plt.show()"
   ]
  },
  {
   "cell_type": "markdown",
   "metadata": {},
   "source": [
    "Now, lets define a Animal Net model, train, test and main functions which we will use frequently today."
   ]
  },
  {
   "cell_type": "code",
   "execution_count": null,
   "metadata": {},
   "outputs": [],
   "source": [
    "##Network Class - Animal Faces\n",
    "class Animal_Net(nn.Module):\n",
    "  def __init__(self):\n",
    "    torch.manual_seed(104)\n",
    "    super(Animal_Net, self).__init__()\n",
    "    self.fc1 = nn.Linear(3*32*32, 128)\n",
    "    self.fc2 = nn.Linear(128, 32)\n",
    "    self.fc3 = nn.Linear(32, 3)\n",
    "\n",
    "  def forward(self, x):\n",
    "    x = x.view(x.shape[0],-1)\n",
    "    x = F.relu(self.fc1(x))\n",
    "    x = F.relu(self.fc2(x))\n",
    "    x = self.fc3(x)\n",
    "    output = F.log_softmax(x, dim=1)\n",
    "    return output"
   ]
  },
  {
   "cell_type": "markdown",
   "metadata": {},
   "source": [
    "The train function takes in the current model along with the train_loader and loss function and updates the parameters for a single pass of the entire dataset. The test function takes in the current model after every epoch and calculates the accuracy on the test dataset.\n"
   ]
  },
  {
   "cell_type": "code",
   "execution_count": null,
   "metadata": {},
   "outputs": [],
   "source": [
    "def train(args, model, device, train_loader, optimizer, epoch,reg_function1=None,reg_function2=None,criterion=F.nll_loss):\n",
    "  \"\"\"\n",
    "  Trains the current inpur model using the data\n",
    "  from Train_loader and Updates parameters for a single pass\n",
    "  \"\"\"\n",
    "  model.train()\n",
    "  for batch_idx, (data, target) in enumerate(train_loader):\n",
    "    data, target = data.to(device), target.to(device)\n",
    "    optimizer.zero_grad()\n",
    "    output = model(data)\n",
    "    if reg_function1 is None:\n",
    "      loss = criterion(output, target)\n",
    "    elif reg_function2 is None:\n",
    "      loss = criterion(output, target)+args['lambda']*reg_function1(model)\n",
    "    else:\n",
    "      loss = criterion(output, target)+args['lambda1']*reg_function1(model)+args['lambda2']*reg_function2(model)\n",
    "    loss.backward()\n",
    "    optimizer.step()\n",
    "\n",
    "\n",
    "def test(model, device, test_loader, loader = 'Test',criterion=F.nll_loss):\n",
    "  \"\"\"\n",
    "  Tests the current Model\n",
    "  \"\"\"\n",
    "  model.eval()\n",
    "  test_loss = 0\n",
    "  correct = 0\n",
    "  with torch.no_grad():\n",
    "    for data, target in test_loader:\n",
    "      data, target = data.to(device), target.to(device)\n",
    "      output = model(data)\n",
    "      test_loss += criterion(output, target, reduction='sum').item()  # sum up batch loss\n",
    "      pred = output.argmax(dim=1, keepdim=True)  # get the index of the max log-probability\n",
    "      correct += pred.eq(target.view_as(pred)).sum().item()\n",
    "\n",
    "  test_loss /= len(test_loader.dataset)\n",
    "  return 100. * correct / len(test_loader.dataset)\n",
    "\n",
    "def main(args, model,train_loader,val_loader,test_data,reg_function1=None,reg_function2=None,criterion=F.nll_loss):\n",
    "  \"\"\"\n",
    "  Trains the model with train_loader and tests the learned model using val_loader\n",
    "  \"\"\"\n",
    "\n",
    "  use_cuda = not args['no_cuda'] and torch.cuda.is_available()\n",
    "  device = torch.device('cuda' if use_cuda else 'cpu')\n",
    "\n",
    "  model = model.to(device)\n",
    "  optimizer = optim.SGD(model.parameters(), lr=args['lr'], momentum=args['momentum'])\n",
    "\n",
    "  val_acc_list, train_acc_list,param_norm_list = [], [], []\n",
    "  for epoch in tqdm(range(args['epochs'])):\n",
    "    train(args, model, device, train_loader, optimizer, epoch,reg_function1=reg_function1,reg_function2=reg_function2)\n",
    "    train_acc = test(model,device,train_loader, 'Train')\n",
    "    val_acc = test(model,device,val_loader, 'Val')\n",
    "    param_norm = calculate_frobenius_norm(model)\n",
    "    train_acc_list.append(train_acc)\n",
    "    val_acc_list.append(val_acc)\n",
    "    param_norm_list.append(param_norm)\n",
    "\n",
    "  return val_acc_list, train_acc_list, param_norm_list, model, 0"
   ]
  },
  {
   "cell_type": "markdown",
   "metadata": {},
   "source": [
    "---\n",
    "#Section 1: Regularization is Shrinkage"
   ]
  },
  {
   "cell_type": "code",
   "execution_count": null,
   "metadata": {
    "cellView": "form",
    "colab": {
     "base_uri": "https://localhost:8080/",
     "height": 518
    },
    "outputId": "5f8fc818-b007-4afa-f49a-63b14b720428"
   },
   "outputs": [],
   "source": [
    "#@title Video : Regularization as Shrinkage\n",
    "try: t2;\n",
    "except NameError: t2=time.time()\n",
    "\n",
    "video = YouTubeVideo(id=\"B4CsCKViB3k\", width=854, height=480, fs=1)\n",
    "print(\"Video available at https://youtube.com/watch?v=\" + video.id)\n",
    "\n",
    "video"
   ]
  },
  {
   "cell_type": "markdown",
   "metadata": {},
   "source": [
    "One way to think about Regularization is to think in terms of the magnitude of the overall weights of the model. A model with big weights can fit more data perfectly. Wheras a model with smaller weights tend to underperform on the train set but can suprisingly do very well on the test set. Too small of a weights can also be as issue an it can the underfit the model.\n",
    "\n",
    "This week we use the sum of Frobenius Norm of all the tensors in the model as a measure of the \"size of the model\"."
   ]
  },
  {
   "cell_type": "markdown",
   "metadata": {},
   "source": [
    "##Exercise 1: Frobenius Norm\n",
    "Before we start, let's define the Frobenius norm, sometimes also called the Euclidean norm of an m×n matrix $A$  as the square root of the sum of the absolute squares of its elements. \n",
    "\\begin{equation}\n",
    "||A||_F= \\sqrt(\\sum_{i=1}^m\\sum_{j=1}^n|a_{ij}|^2)\n",
    "\\end{equation} \n",
    "\n",
    "This is just a measure of how big the matrix is, analagous to how big a vector is."
   ]
  },
  {
   "cell_type": "markdown",
   "metadata": {},
   "source": [
    " **Hint:** Use functions model.parameters() or model.named_parameters()\n"
   ]
  },
  {
   "cell_type": "code",
   "execution_count": null,
   "metadata": {},
   "outputs": [],
   "source": [
    "def calculate_frobenius_norm(model):\n",
    "\n",
    "  ####################################################################\n",
    "  # Fill in all missing code below (...),\n",
    "  # then remove or comment the line below to test your function\n",
    "  raise NotImplementedError(\"Define `calculate_frobenius_norm` function\")\n",
    "  ####################################################################\n",
    "\n",
    "  norm = 0.0\n",
    "\n",
    "  # Sum the square of all parameters\n",
    "  for param in model.parameters():\n",
    "      norm += ...\n",
    "\n",
    "  # Take a square root of the sum of squares of all the parameters\n",
    "  norm = ...\n",
    "  return norm\n",
    "\n",
    "# # uncomment to run\n",
    "# net = nn.Linear(10, 1)\n",
    "# print(f'Frobenius Norm of Single Linear Layer: {calculate_frobenius_norm(net)}')"
   ]
  },
  {
   "cell_type": "markdown",
   "metadata": {
    "colab": {
     "base_uri": "https://localhost:8080/"
    },
    "colab_type": "text",
    "outputId": "ec1c6885-2f70-4cb6-aec1-fad0514aedf8"
   },
   "source": [
    "[*Click for solution*](https://github.com/NeuromatchAcademy/course-content-dl/tree/main//tutorials/W1D5_Regularization/solutions/W1D5_Tutorial1_Solution_7d499503.py)\n",
    "\n"
   ]
  },
  {
   "cell_type": "markdown",
   "metadata": {},
   "source": [
    "Apart from calculating the weight size for an entire model, we could also determine the weight size in every layer. For this, we can modify our `calculate_frobenius_norm` function as shown below. \n",
    "\n",
    "**Have a look how it works!!**"
   ]
  },
  {
   "cell_type": "code",
   "execution_count": null,
   "metadata": {
    "cellView": "form",
    "colab": {
     "base_uri": "https://localhost:8080/",
     "height": 447
    },
    "outputId": "86bedcc1-6a72-476e-a266-5039e8843c13"
   },
   "outputs": [],
   "source": [
    "#@markdown Frobenius Norm per Layer\n",
    "def calculate_frobenius_norm(model):\n",
    "\n",
    "  # initialization of variables\n",
    "  norm, ws, labels = 0.0, [], []\n",
    "\n",
    "  # Sum all the parameters\n",
    "  for name, parameters in model.named_parameters():\n",
    "    p = torch.sum(parameters**2)\n",
    "    norm += p\n",
    "\n",
    "    ws.append((p**0.5).cpu().detach().numpy())\n",
    "    labels.append(name)\n",
    "\n",
    "  # Take a square root of the sum of squares of all the parameters\n",
    "  norm = (norm**0.5).cpu().detach().numpy()\n",
    "\n",
    "  return norm, ws, labels\n",
    "\n",
    "#uncomment to run\n",
    "net = nn.Linear(10,1)\n",
    "norm, ws, labels = calculate_frobenius_norm(net)\n",
    "print(f'Frobenius Norm of Single Linear Layer: {norm}')\n",
    "# Plots the weights\n",
    "plot_weights(norm, labels, ws)"
   ]
  },
  {
   "cell_type": "markdown",
   "metadata": {},
   "source": [
    "Using the last function `calculate_frobenius_norm`, we can also obtain the Frobenius Norm per layer for a whole NN model and use the `plot_weigts` function to visualize them."
   ]
  },
  {
   "cell_type": "code",
   "execution_count": null,
   "metadata": {
    "colab": {
     "base_uri": "https://localhost:8080/",
     "height": 447
    },
    "outputId": "c71ab49f-0349-40fd-83e1-0558a4d9aa64"
   },
   "outputs": [],
   "source": [
    "# Creates a new model\n",
    "model = Animal_Net()\n",
    "\n",
    "# Calculates the forbenius norm per layer\n",
    "norm, ws, labels = calculate_frobenius_norm(model)\n",
    "print(f'Frobenius Norm of Models weights: {norm}')\n",
    "\n",
    "# Plots the weights\n",
    "plot_weights(norm, labels, ws)"
   ]
  },
  {
   "cell_type": "markdown",
   "metadata": {},
   "source": [
    "---\n",
    "#Section 2: Overfitting\n"
   ]
  },
  {
   "cell_type": "code",
   "execution_count": null,
   "metadata": {
    "cellView": "form",
    "colab": {
     "base_uri": "https://localhost:8080/",
     "height": 518
    },
    "outputId": "8ba51d23-2f49-4402-f109-d4ca23361795"
   },
   "outputs": [],
   "source": [
    "#@title Video : Overfitting\n",
    "try: t3;\n",
    "except NameError: t3=time.time()\n",
    "\n",
    "from IPython.display import YouTubeVideo\n",
    "video = YouTubeVideo(id=\"RlaGyRKP2nY\", width=854, height=480, fs=1)\n",
    "print(\"Video available at https://youtube.com/watch?v=\" + video.id)\n",
    "\n",
    "video"
   ]
  },
  {
   "cell_type": "markdown",
   "metadata": {},
   "source": [
    "##Visualizing Overfitting\n",
    "\n"
   ]
  },
  {
   "cell_type": "markdown",
   "metadata": {},
   "source": [
    "Let's create some synthetic dataset that we will use to illustrate overfitting in neural networks."
   ]
  },
  {
   "cell_type": "code",
   "execution_count": null,
   "metadata": {
    "colab": {
     "base_uri": "https://localhost:8080/",
     "height": 430
    },
    "outputId": "50b62af3-2fa1-4790-c22f-7d66b4208378"
   },
   "outputs": [],
   "source": [
    "#creating train data\n",
    "X = torch.rand((10, 1))\n",
    "X.sort(dim = 0)\n",
    "Y = 2*X + 2*torch.empty((X.shape[0], 1)).normal_(mean=0, std=1) #adding small error in the data\n",
    "\n",
    "X = X.unsqueeze_(1)\n",
    "Y = Y.unsqueeze_(1)\n",
    "\n",
    "#visualizing trian data\n",
    "plt.figure(figsize=(8, 6))\n",
    "plt.scatter(X.numpy(),Y.numpy())\n",
    "plt.xlabel('input (x)')\n",
    "plt.ylabel('output(y)')\n",
    "plt.title('toy dataset')\n",
    "plt.show()\n",
    "\n",
    "#creating test dataset\n",
    "X_test = torch.linspace(0, 1, 40)\n",
    "X_test = X_test.reshape((40, 1, 1))"
   ]
  },
  {
   "cell_type": "markdown",
   "metadata": {},
   "source": [
    "Let's create an overparametrized NN that can fit on the dataset we just created and train it. \n",
    "\n",
    "First, let's build the model architecture:"
   ]
  },
  {
   "cell_type": "code",
   "execution_count": null,
   "metadata": {},
   "outputs": [],
   "source": [
    "##Network Class - 2D\n",
    "class Net(nn.Module):\n",
    "  def __init__(self):\n",
    "    super(Net, self).__init__()\n",
    "\n",
    "    self.fc1 = nn.Linear(1, 300)\n",
    "    self.fc2 = nn.Linear(300, 500)\n",
    "    self.fc3 = nn.Linear(500, 1)\n",
    "\n",
    "  def forward(self, x):\n",
    "    x = F.leaky_relu(self.fc1(x))\n",
    "    x = F.leaky_relu(self.fc2(x))\n",
    "    output = self.fc3(x)\n",
    "    return output"
   ]
  },
  {
   "cell_type": "markdown",
   "metadata": {},
   "source": [
    "Next, let's define the different parameters for training our model:\n"
   ]
  },
  {
   "cell_type": "code",
   "execution_count": null,
   "metadata": {},
   "outputs": [],
   "source": [
    "#train the network on toy dataset\n",
    "model = Net()\n",
    "\n",
    "criterion = nn.MSELoss()\n",
    "optimizer = optim.Adam(model.parameters(),lr = 1e-4)\n",
    "max_epochs = 10000\n",
    "iters = 0\n",
    "# Calculates frobenius before training\n",
    "normi, wsi, label = calculate_frobenius_norm(model)"
   ]
  },
  {
   "cell_type": "markdown",
   "metadata": {},
   "source": [
    "At this point, we can now train our model."
   ]
  },
  {
   "cell_type": "code",
   "execution_count": null,
   "metadata": {
    "colab": {
     "base_uri": "https://localhost:8080/",
     "height": 66,
     "referenced_widgets": [
      "98c1f4df732f412998aea7a8224a396b",
      "a0bbebf9607445f6aa0903585db56f3d",
      "5950789cdb284bd78bfd8a00809ea3e7",
      "25da95796cac4a3dbf7ba6d0da6e2eb9",
      "4fa8c842713644e19dda9462d233fbd4",
      "c1bde76b3fe24b19ae12521fa094b745",
      "e0239b7e5c3248a6a1412d9b71b6b591",
      "cc2e148dc55a4e94a8521fae165ba4e1"
     ]
    },
    "outputId": "8429406c-c2f3-4d1b-d643-a589fdf1e229"
   },
   "outputs": [],
   "source": [
    "# Initializing variables to store weights\n",
    "per_layer = []\n",
    "\n",
    "running_predictions = np.empty((40,(int)(max_epochs/500 + 1)))\n",
    "\n",
    "train_loss = []\n",
    "test_loss = []\n",
    "model_norm = []\n",
    "\n",
    "for epoch in tqdm(range(max_epochs)):\n",
    "\n",
    "  norm, pl, layer_names = calculate_frobenius_norm(model)\n",
    "\n",
    "  #training\n",
    "  model_norm.append(norm)\n",
    "  per_layer.append(pl)\n",
    "  model.train()\n",
    "  optimizer.zero_grad()\n",
    "  predictions = model(X)\n",
    "  loss = criterion(predictions,Y)\n",
    "  loss.backward()\n",
    "  optimizer.step()\n",
    "\n",
    "  train_loss.append(loss.data)\n",
    "  model.eval()\n",
    "  Y_test = model(X_test)\n",
    "  loss = criterion(Y_test,2*X_test)\n",
    "  test_loss.append(loss.data)\n",
    "\n",
    "  if(epoch % 500 == 0 or epoch == max_epochs - 1):\n",
    "    running_predictions[:,iters] = Y_test[:,0,0].detach().numpy()\n",
    "    iters += 1"
   ]
  },
  {
   "cell_type": "markdown",
   "metadata": {},
   "source": [
    "Now that we have finished training, let's see how the model has evolved over the training process."
   ]
  },
  {
   "cell_type": "code",
   "execution_count": null,
   "metadata": {
    "cellView": "form",
    "colab": {
     "base_uri": "https://localhost:8080/",
     "height": 741
    },
    "outputId": "767159ca-68e9-4918-8c9f-7e7820c91066"
   },
   "outputs": [],
   "source": [
    "#@title Animation (Run Me!)\n",
    "\n",
    "# create a figure and axes\n",
    "fig = plt.figure(figsize=(8, 10))\n",
    "ax1 = plt.subplot(2,1,1)\n",
    "ax2 = plt.subplot(2,1,2)\n",
    "# organizing subplots\n",
    "plot1, = ax1.plot([],[])\n",
    "plot2 = ax2.bar([], [])\n",
    "\n",
    "\n",
    "def frame(i):\n",
    "  ax1.clear()\n",
    "  title1 = ax1.set_title('')\n",
    "  ax1.set_xlabel(\"Input(x)\")\n",
    "  ax1.set_ylabel(\"Output(y)\")\n",
    "\n",
    "  ax2.clear()\n",
    "  ax2.set_xlabel('Layer names')\n",
    "  ax2.set_ylabel('Frobenius norm')\n",
    "  title2 = ax2.set_title('Weight Measurement: Forbenius Norm')\n",
    "\n",
    "  ax1.scatter(X[:,0,:].numpy(),Y[:,0,:].numpy())\n",
    "  plot1 = ax1.plot(X_test[:,0,:].detach().numpy(),running_predictions[:,i])\n",
    "  title1.set_text(f'Epochs: {i * 500}')\n",
    "  plot2 = ax2.bar(label, per_layer[i*500])\n",
    "  plt.axhline(y=model_norm[i*500], linewidth=1,\n",
    "              color='r', ls='--', label=f'Norm: {model_norm[i*500]:.2f}')\n",
    "  plt.legend()\n",
    "\n",
    "  return plot1, plot2\n",
    "\n",
    "anim = animation.FuncAnimation(fig, frame, frames=range(20),\n",
    "                               blit=False, repeat=False, repeat_delay=10000)\n",
    "html_anim = HTML(anim.to_html5_video());\n",
    "plt.close()\n",
    "display(html_anim)"
   ]
  },
  {
   "cell_type": "code",
   "execution_count": null,
   "metadata": {
    "cellView": "form",
    "colab": {
     "base_uri": "https://localhost:8080/",
     "height": 430
    },
    "outputId": "69480607-a98d-4146-e32a-2de5cecbc861"
   },
   "outputs": [],
   "source": [
    "#@title Plot the train and test losses\n",
    "plt.figure(figsize=(8, 6))\n",
    "plt.plot(train_loss,label='train_loss')\n",
    "plt.plot(test_loss,label='test_loss')\n",
    "plt.ylabel('loss')\n",
    "plt.xlabel('epochs')\n",
    "plt.title('loss vs epoch')\n",
    "plt.legend()\n",
    "plt.show()"
   ]
  },
  {
   "cell_type": "markdown",
   "metadata": {},
   "source": [
    "Now let's visualize the Frobenious norm of the model as we trained. You should see that the value of weights increases over the epochs."
   ]
  },
  {
   "cell_type": "code",
   "execution_count": null,
   "metadata": {
    "cellView": "form",
    "colab": {
     "base_uri": "https://localhost:8080/",
     "height": 430
    },
    "outputId": "e269d7e2-e580-45d7-9bd2-35ad08d2032a"
   },
   "outputs": [],
   "source": [
    "#@title Frobenious norm of the model\n",
    "plt.figure(figsize=(8, 6))\n",
    "plt.plot(model_norm)\n",
    "plt.ylabel('norm of the model')\n",
    "plt.xlabel('epochs')\n",
    "plt.title('Size of the model vs Epochs') ## Change title to Frobenious norm of the model\n",
    "plt.show()"
   ]
  },
  {
   "cell_type": "markdown",
   "metadata": {},
   "source": [
    "Finally, you can compare the Frobenius norm for every layer in the model, before and after training."
   ]
  },
  {
   "cell_type": "code",
   "execution_count": null,
   "metadata": {
    "cellView": "form",
    "colab": {
     "base_uri": "https://localhost:8080/",
     "height": 843
    },
    "outputId": "6ead43c9-fa79-4485-e558-4052fa9702dc"
   },
   "outputs": [],
   "source": [
    "#@title Frobenius norm per layer before and after training\n",
    "normf, wsf, label = calculate_frobenius_norm(model)\n",
    "\n",
    "plot_weights(float(normi), label, wsi, title='Weight Size Before Training')\n",
    "plot_weights(float(normf), label, wsf, title='Weight Size After Training')"
   ]
  },
  {
   "cell_type": "markdown",
   "metadata": {},
   "source": [
    "What trend do you see w.r.t to train and test losses ( Where do you see the minimum of these losses?) What does it tell about the model we trained? Discuss among yourselves."
   ]
  },
  {
   "cell_type": "markdown",
   "metadata": {},
   "source": [
    "## Overfitting on Test Dataset\n",
    "\n",
    "\n",
    "In principle, we should not touch our test set until after we have chosen all our hyperparameters. Were we to use the test data in the model selection process, there is a risk that we might overfit the test data. Then we would be in serious trouble. If we overfit our training data, there is always the evaluation on test data to keep us honest. But if we overfit the test data, how would we ever know?\n",
    "\n",
    "Note that there is another kind of overfitting: you do \"honest\" fitting on one set of images or posts, or medical records, but it may not generalize to other sets of images, posts or medical records.\n"
   ]
  },
  {
   "cell_type": "markdown",
   "metadata": {},
   "source": [
    "##Validation Dataset\n",
    "A common practice to address this problem is to split our data three ways, using a validation dataset (or validation set) to tune the hyperparameters. Ideally, we would only touch the test data once, to assess the very best model or to compare a small number of models to each other, real-world test data is seldom discarded after just one use.\n",
    "\n"
   ]
  },
  {
   "cell_type": "markdown",
   "metadata": {},
   "source": [
    "---\n",
    "# Section 3: Memorization\n"
   ]
  },
  {
   "cell_type": "markdown",
   "metadata": {},
   "source": [
    "Given sufficiently large networks and enough training, Neural Networks can acheive almost 100% train accuracy.\n",
    "\n",
    "In this section we train three MLP's one each on:\n",
    "\n",
    "\n",
    "1.   Animal Faces Dataset\n",
    "2.   A Completely Noisy Dataset (Random Shuffling of all labels)\n",
    "3.   Partially Noisy Dataset (Random Shuffling of 15% labels)\n"
   ]
  },
  {
   "cell_type": "markdown",
   "metadata": {},
   "source": [
    "Now, think for a couple of minutes as to what the train and test accuracies of each of these models might be, given you train for sufficient time and use a powerful network."
   ]
  },
  {
   "cell_type": "markdown",
   "metadata": {},
   "source": [
    "First, create the required dataloaders for all three datasets. Notice how we split the data. We train on a fraction of the dataset as it will be faster to train and will overfit more clearly."
   ]
  },
  {
   "cell_type": "code",
   "execution_count": null,
   "metadata": {},
   "outputs": [],
   "source": [
    "##Dataloaders for the Dataset\n",
    "batch_size = 128\n",
    "classes = ('cat', 'dog', 'wild')\n",
    "\n",
    "train_transform = transforms.Compose([\n",
    "     transforms.ToTensor(),\n",
    "     transforms.Normalize((0.5, 0.5, 0.5), (0.5, 0.5, 0.5))\n",
    "     ])\n",
    "data_path = pathlib.Path('.')/'afhq' # using pathlib to be compatible with all OS's\n",
    "img_dataset = ImageFolder(data_path/'train', transform=train_transform)\n",
    "\n",
    "\n",
    "####################################################\n",
    "\n",
    "##Dataloaders for the  Original Dataset\n",
    "\n",
    "\n",
    "img_train_data, img_val_data,_ = torch.utils.data.random_split(img_dataset, [100,100,14430])\n",
    "\n",
    "#Creating train_loader and Val_loader\n",
    "train_loader = torch.utils.data.DataLoader(img_train_data,batch_size=batch_size,worker_init_fn=seed_worker)\n",
    "val_loader = torch.utils.data.DataLoader(img_val_data,batch_size=1000,worker_init_fn=seed_worker)\n",
    "\n",
    "#creating test dataset\n",
    "test_transform = transforms.Compose([\n",
    "     transforms.ToTensor(),\n",
    "     transforms.Normalize((0.5, 0.5, 0.5), (0.5, 0.5, 0.5))\n",
    "     ])\n",
    "img_test_dataset = ImageFolder(data_path/'val', transform=test_transform)\n",
    "\n",
    "\n",
    "####################################################\n",
    "\n",
    "##Dataloaders for the  Random Dataset\n",
    "\n",
    "#splitting randomized data into training and validation data\n",
    "data_path = pathlib.Path('.')/'afhq_random_32x32/afhq_random' # using pathlib to be compatible with all OS's\n",
    "img_dataset = ImageFolder(data_path/'train', transform=train_transform)\n",
    "random_img_train_data, random_img_val_data,_ = torch.utils.data.random_split(img_dataset, [100,100,14430])\n",
    "\n",
    "#Randomized train and validation dataloader\n",
    "rand_train_loader = torch.utils.data.DataLoader(random_img_train_data,\n",
    "                                                batch_size=batch_size,num_workers = 0,\n",
    "                                                worker_init_fn=seed_worker)\n",
    "rand_val_loader = torch.utils.data.DataLoader(random_img_val_data,\n",
    "                                              batch_size=1000,\n",
    "                                              num_workers = 0,\n",
    "                                              worker_init_fn=seed_worker)\n",
    "\n",
    "####################################################\n",
    "\n",
    "##Dataloaders for the Partially Random Dataset\n",
    "\n",
    "#Splitting data between training and validation dataset for partially randomized data\n",
    "data_path = pathlib.Path('.')/'afhq_10_32x32/afhq_10' # using pathlib to be compatible with all OS's\n",
    "img_dataset = ImageFolder(data_path/'train', transform=train_transform)\n",
    "partially_random_train_data, partially_random_val_data,_ = torch.utils.data.random_split(img_dataset, [100,100,14430])\n",
    "\n",
    "#Training and Validation loader for partially randomized data\n",
    "partial_rand_train_loader = torch.utils.data.DataLoader(partially_random_train_data,\n",
    "                                                        batch_size=batch_size,num_workers = 0,\n",
    "                                                        worker_init_fn=seed_worker)\n",
    "partial_rand_val_loader = torch.utils.data.DataLoader(partially_random_val_data,\n",
    "                                                      batch_size=1000,\n",
    "                                                      num_workers = 0,\n",
    "                                                      worker_init_fn=seed_worker)"
   ]
  },
  {
   "cell_type": "markdown",
   "metadata": {},
   "source": [
    "Now let's define a model which has many parameters compared to the training dataset size, and train it on these datasets."
   ]
  },
  {
   "cell_type": "code",
   "execution_count": null,
   "metadata": {},
   "outputs": [],
   "source": [
    "# # Network Class - Animal Faces\n",
    "class Big_Animal_Net(nn.Module):\n",
    "  def __init__(self):\n",
    "    torch.manual_seed(104)\n",
    "    super(Big_Animal_Net, self).__init__()\n",
    "    self.fc1 = nn.Linear(3*32*32, 124)\n",
    "    self.fc2 = nn.Linear(124, 64)\n",
    "    self.fc3 = nn.Linear(64, 3)\n",
    "\n",
    "  def forward(self, x):\n",
    "    x = x.view(x.shape[0],-1)\n",
    "    x = F.leaky_relu(self.fc1(x))\n",
    "    x = F.leaky_relu(self.fc2(x))\n",
    "    x = self.fc3(x)\n",
    "    output = F.log_softmax(x, dim=1)\n",
    "    return output"
   ]
  },
  {
   "cell_type": "markdown",
   "metadata": {},
   "source": [
    "Before training our `Big_AnimalNet()`, calculate the Frobenius norm again."
   ]
  },
  {
   "cell_type": "code",
   "execution_count": null,
   "metadata": {},
   "outputs": [],
   "source": [
    "model = Big_Animal_Net()\n",
    "normi, wsi, label = calculate_frobenius_norm(model)"
   ]
  },
  {
   "cell_type": "markdown",
   "metadata": {},
   "source": [
    "Now, train our `Big_AnimalNet()` model"
   ]
  },
  {
   "cell_type": "code",
   "execution_count": null,
   "metadata": {
    "colab": {
     "base_uri": "https://localhost:8080/",
     "height": 496,
     "referenced_widgets": [
      "800415183d8243a8b65700119be546bc",
      "004b899746b94313910d92a1f4989b69",
      "98c1b4ce955847419a34eaf678201982",
      "1b4e771ddffe4472993e06444021eee0",
      "254a5e2912094f58b71c9c2f63b52a99",
      "4125cda790f74b1e95ee89459b56d591",
      "402529b43c7e4fbb9004dae9ae298b19",
      "2ec0050af14e4ca792c021a1b4084b8f"
     ]
    },
    "outputId": "9703daa6-5d36-468f-f2ff-dfe7789efe82"
   },
   "outputs": [],
   "source": [
    "# # Here we have 100 true train data.\n",
    "args = {'test_batch_size': 1000,\n",
    "        'epochs': 200,\n",
    "        'lr': 5e-3,\n",
    "        'momentum': 0.9,\n",
    "        'no_cuda': False,\n",
    "        }\n",
    "\n",
    "acc_dict = {}\n",
    "\n",
    "start_time = time.time()\n",
    "val_acc_pure, train_acc_pure, _, model ,_ = main(args,model,train_loader,val_loader,img_test_dataset)\n",
    "end_time = time.time()\n",
    "\n",
    "print(\"Time to memorize the dataset:\",end_time - start_time)\n",
    "\n",
    "# # Train and Test accuracy plot\n",
    "plt.figure(figsize=(8, 6))\n",
    "plt.plot(val_acc_pure,label='Val Accuracy Pure',c='red',ls = 'dashed')\n",
    "plt.plot(train_acc_pure,label='Train Accuracy Pure',c='red',ls = 'solid')\n",
    "plt.axhline(y=max(val_acc_pure),c = 'green',ls = 'dashed')\n",
    "plt.title('Memorization')\n",
    "plt.ylabel('Accuracy (%)')\n",
    "plt.xlabel('Epoch')\n",
    "plt.legend()\n",
    "plt.show()"
   ]
  },
  {
   "cell_type": "code",
   "execution_count": null,
   "metadata": {
    "colab": {
     "base_uri": "https://localhost:8080/",
     "height": 430
    },
    "outputId": "00ad3689-db6d-4685-8d43-b5f1d0472f44"
   },
   "outputs": [],
   "source": [
    "plt.figure(figsize=(8, 6))\n",
    "plt.plot(val_acc_pure,label='Val Accuracy Pure',c='red',ls = 'dashed')\n",
    "plt.plot(train_acc_pure,label='Train Accuracy Pure',c='red',ls = 'solid')\n",
    "plt.axhline(y=max(val_acc_pure),c = 'green',ls = 'dashed')\n",
    "plt.title('Memorization')\n",
    "plt.ylabel('Accuracy (%)')\n",
    "plt.xlabel('Epoch')\n",
    "plt.legend()\n",
    "plt.show()"
   ]
  },
  {
   "cell_type": "code",
   "execution_count": null,
   "metadata": {
    "cellView": "form",
    "colab": {
     "base_uri": "https://localhost:8080/",
     "height": 843
    },
    "outputId": "ec0bbff1-be73-402e-cae1-620a55bc7060"
   },
   "outputs": [],
   "source": [
    "#@title Frobenius norm for AnimalNet before and after training\n",
    "normf, wsf, label = calculate_frobenius_norm(model)\n",
    "\n",
    "plot_weights(float(normi), label, wsi, title='Weight Size Before Training')\n",
    "plot_weights(float(normf), label, wsf, title='Weight Size After Training')"
   ]
  },
  {
   "cell_type": "markdown",
   "metadata": {},
   "source": [
    "##Exercise 2: Data Visualizer\n",
    "Before we train the model on a data with random labels, let's visualize and verify for ourselves that the data is random. Here, we have classes = (\"cat\", \"dog\", \"wild\"). \n",
    "\n",
    "**Hint:** Use .permute() method. plt.imshow() expects imput to be in numpy format and in the format (Px,Py,3), where Px and Py are the number of pixels along axis x and y respectively."
   ]
  },
  {
   "cell_type": "code",
   "execution_count": null,
   "metadata": {},
   "outputs": [],
   "source": [
    "def Visualize_data(dataloader):\n",
    "  ####################################################################\n",
    "  # Fill in all missing code below (...),\n",
    "  # then remove or comment the line below to test your function\n",
    "  # The dataloader here gives out mini batches of 100 data points.\n",
    "  raise NotImplementedError(\"Complete the Visualize_random_data function\")\n",
    "  ####################################################################\n",
    "\n",
    "  for idx, (data,label) in enumerate(dataloader):\n",
    "    plt.figure(idx)\n",
    "    # Choose the datapoint you would like to visualize\n",
    "    index = ...\n",
    "\n",
    "    # choose that datapoint using index and permute the dimensions\n",
    "    # and bring the pixel values between [0,1]\n",
    "    data = ...\n",
    "\n",
    "    # Convert the torch tensor into numpy\n",
    "    data = ...\n",
    "\n",
    "    plt.imshow(data)\n",
    "    plt.axis(False)\n",
    "    image_class = classes[...]\n",
    "    print(f'The image belongs to : {image_class}')\n",
    "\n",
    "  plt.show()\n",
    "\n",
    "# # uncomment to run the function\n",
    "# Visualize_data(rand_train_loader)"
   ]
  },
  {
   "cell_type": "markdown",
   "metadata": {
    "colab": {
     "base_uri": "https://localhost:8080/",
     "height": 447
    },
    "colab_type": "text",
    "outputId": "b7797f19-a652-4964-86a9-1349f350d65b"
   },
   "source": [
    "[*Click for solution*](https://github.com/NeuromatchAcademy/course-content-dl/tree/main//tutorials/W1D5_Regularization/solutions/W1D5_Tutorial1_Solution_529efdce.py)\n",
    "\n",
    "*Example output:*\n",
    "\n",
    "<img alt='Solution hint' align='left' width=413 height=413 src=https://raw.githubusercontent.com/NeuromatchAcademy/course-content-dl/main/tutorials/W1D5_Regularization/static/W1D5_Tutorial1_Solution_529efdce_1.png>\n",
    "\n"
   ]
  },
  {
   "cell_type": "markdown",
   "metadata": {},
   "source": [
    "Now let's train the network on the shuffled data and see if it memorizes."
   ]
  },
  {
   "cell_type": "code",
   "execution_count": null,
   "metadata": {
    "colab": {
     "base_uri": "https://localhost:8080/",
     "height": 479,
     "referenced_widgets": [
      "de07c553e4eb4527acf92fe6fae5a2d3",
      "e2b6ba8901854033b34008abd624c2de",
      "d25c39a0b447471a936796b6c21e3e48",
      "b7fcc92b66c94185b1582c049e6a54ee",
      "9e38f3c1d18345e78b6b8af5941a1424",
      "e23a0bd408674b9391308974508d1131",
      "43d3678b8b834495bb25c8fc908d2e13",
      "9352d93953e742e69ecbe95b17e9b5ab"
     ]
    },
    "outputId": "00037d3a-3e10-4fd0-b2d3-892565276389"
   },
   "outputs": [],
   "source": [
    "##Here we have 100 completely shuffled train data.\n",
    "args = {'epochs': 200,\n",
    "        'lr': 5e-3,\n",
    "        'momentum': 0.9,\n",
    "        'no_cuda': False\n",
    "        }\n",
    "\n",
    "acc_dict = {}\n",
    "model = Big_Animal_Net()\n",
    "\n",
    "\n",
    "val_acc_random, train_acc_random, _,model,_ = main(args,\n",
    "                                                   model,\n",
    "                                                   rand_train_loader,\n",
    "                                                   val_loader,\n",
    "                                                   img_test_dataset)\n",
    "\n",
    "##Train and Test accuracy plot\n",
    "plt.figure(figsize=(8, 6))\n",
    "plt.plot(val_acc_random,label='Val Accuracy random',c='red',ls = 'dashed')\n",
    "plt.plot(train_acc_random,label='Train Accuracy random',c='red',ls = 'solid')\n",
    "plt.axhline(y=max(val_acc_random),c = 'green',ls = 'dashed')\n",
    "plt.title('Memorization')\n",
    "plt.ylabel('Accuracy (%)')\n",
    "plt.xlabel('Epoch')\n",
    "plt.legend()\n",
    "plt.show()"
   ]
  },
  {
   "cell_type": "markdown",
   "metadata": {},
   "source": [
    "Finally lets train on a parially shuffled dataset where 15% of the labels are noisy."
   ]
  },
  {
   "cell_type": "code",
   "execution_count": null,
   "metadata": {
    "colab": {
     "base_uri": "https://localhost:8080/",
     "height": 479,
     "referenced_widgets": [
      "85d6e8c0f9404964901dffaa6da88102",
      "1e81e374f7ed4b27aaeee35f2ec8d654",
      "ef31a5e9e9aa48f1bad44da2cd25af6e",
      "703cf832e40d405f8df586840e4d1d6d",
      "72d6b4c32e9b45d288ca1bba32365a57",
      "c888dd46d7ef4ac3b0ac940658395e26",
      "aaa9a5f4091e4178afe39a32f9c2a01e",
      "ff19a3d04ee94628b83e8814f7b176b1"
     ]
    },
    "outputId": "2c23fc04-8e29-44a5-b195-2d1c075240d9"
   },
   "outputs": [],
   "source": [
    "##Here we have 100 partially shuffled train data.\n",
    "args = {'test_batch_size': 1000,\n",
    "        'epochs': 200,\n",
    "        'lr': 5e-3,\n",
    "        'momentum': 0.9,\n",
    "        'no_cuda': False,\n",
    "        }\n",
    "\n",
    "acc_dict = {}\n",
    "model = Big_Animal_Net()\n",
    "\n",
    "\n",
    "val_acc_shuffle, train_acc_shuffle, _,_,_ = main(args,\n",
    "                                                 model,\n",
    "                                                 partial_rand_train_loader,\n",
    "                                                 val_loader,\n",
    "                                                 img_test_dataset)\n",
    "\n",
    "#train and test acc plot\n",
    "plt.figure(figsize=(8, 6))\n",
    "plt.plot(val_acc_shuffle,label='Val Accuracy shuffle',c='red',ls = 'dashed')\n",
    "plt.plot(train_acc_shuffle,label='Train Accuracy shuffle',c='red',ls = 'solid')\n",
    "plt.axhline(y=max(val_acc_shuffle),c = 'green',ls = 'dashed')\n",
    "plt.title('Memorization')\n",
    "plt.ylabel('Accuracy (%)')\n",
    "plt.xlabel('Epoch')\n",
    "plt.legend()\n",
    "plt.show()"
   ]
  },
  {
   "cell_type": "code",
   "execution_count": null,
   "metadata": {
    "cellView": "form",
    "colab": {
     "base_uri": "https://localhost:8080/",
     "height": 430
    },
    "outputId": "03910c53-d5cd-4f38-fa84-fb2fdb3b5a1c"
   },
   "outputs": [],
   "source": [
    "#@title Plotting them all together (Run Me!)\n",
    "plt.figure(figsize=(8, 6))\n",
    "plt.plot(val_acc_pure,label='Val - Pure',c='red',ls = 'dashed')\n",
    "plt.plot(train_acc_pure,label='Train - Pure',c='red',ls = 'solid')\n",
    "plt.plot(val_acc_random,label='Val - Random',c='blue',ls = 'dashed')\n",
    "plt.plot(train_acc_random,label='Train - Random',c='blue',ls = 'solid')\n",
    "plt.title('Memorization')\n",
    "plt.ylabel('Accuracy (%)')\n",
    "plt.xlabel('Epoch')\n",
    "plt.legend()\n",
    "plt.show()"
   ]
  },
  {
   "cell_type": "markdown",
   "metadata": {},
   "source": [
    "Given that the NN fit/memorize the training data perfectly, Do you think it generalizes well? What makes you think it does or doesn't?\n"
   ]
  },
  {
   "cell_type": "markdown",
   "metadata": {},
   "source": [
    "Isn't it supprising to see that the NN was able to acheive 100% training accuracy on randomly shuffled labels. This is one of the reasons why training accuracy is not a good indicator of model performance. \n",
    "\n",
    "Also it is interesting to note that sometimes the model trained on slightly shuffled data does slightly better than the one trained on pure data.  Shuffling some of the data is a form of regularization--one of many ways of adding noise to the training data."
   ]
  }
 ],
 "metadata": {
  "accelerator": "GPU",
  "colab": {
   "collapsed_sections": [],
   "include_colab_link": true,
   "machine_shape": "hm",
   "name": "W1D5_Tutorial1",
   "provenance": [],
   "toc_visible": true
  },
  "kernel": {
   "display_name": "Python 3",
   "language": "python",
   "name": "python3"
  },
  "kernelspec": {
   "display_name": "Python 3",
   "name": "python3"
  }
 },
 "nbformat": 4,
 "nbformat_minor": 0
}
