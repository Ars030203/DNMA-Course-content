{
 "cells": [
  {
   "cell_type": "markdown",
   "metadata": {
    "colab_type": "text",
    "id": "view-in-github"
   },
   "source": [
    "<a href=\"https://colab.research.google.com/github/NeuromatchAcademy/course-content-dl/blob/w1d2/tutorials/W1D5_Regularization/W1D5_Tutorial1.ipynb\" target=\"_parent\"><img src=\"https://colab.research.google.com/assets/colab-badge.svg\" alt=\"Open In Colab\"/></a>"
   ]
  },
  {
   "cell_type": "markdown",
   "metadata": {},
   "source": [
    "\n",
    "# Neuromatch Academy: Week 1, Day 5, Tutorial 1\n",
    "# Regularization\n",
    "\n",
    "__Content creators:__ Lyle Ungar, Ravi Teja Konkimalla, Mohitrajhu Lingan Kumaraian, Kevin Machado Gamboa, Kelson Shilling-Scrivo\n",
    "\n",
    "__Content reviewers:__ Piyush Chauhan, Kelson Shilling-Scrivo\n",
    "\n",
    "__Content editors:__ Spiros Chavlis, Roberto Guidotti\n",
    "\n",
    "__Production editors:__ Yoni Friedman, Spiros Chavlis, Roberto Guidotti"
   ]
  },
  {
   "cell_type": "markdown",
   "metadata": {},
   "source": [
    "---\n",
    "# Tutorial Objectives\n",
    "\n",
    "1.   **Big ANNs are efficient universal approximators due to adaptive basis functions**\n",
    "2.   **ANN’s memorize some but generalize well**\n",
    "3.   Regularization as shrinkage of overparameterized models: L1, L2, early stopping\n",
    "4.   Regularization by Dropout\n",
    "5. Regularization by Data Augmentation\n",
    "6. Perils of Hyper-Parameter Tuning\n",
    "7.   Rethinking generalization   "
   ]
  },
  {
   "cell_type": "code",
   "execution_count": null,
   "metadata": {
    "cellView": "form",
    "colab": {
     "base_uri": "https://localhost:8080/",
     "height": 518
    },
    "outputId": "87c3ba19-2b4e-452c-bbb8-a393bc742593"
   },
   "outputs": [],
   "source": [
    "#@title Video : Introduction to Regularization\n",
    "import time\n",
    "from IPython.display import YouTubeVideo\n",
    "\n",
    "try: t1;\n",
    "except NameError: t1=time.time()\n",
    "\n",
    "video = YouTubeVideo(id=\"bc1nsP4htVg\", width=854, height=480, fs=1)\n",
    "print(\"Video available at https://youtube.com/watch?v=\" + video.id)\n",
    "\n",
    "video"
   ]
  },
  {
   "cell_type": "markdown",
   "metadata": {},
   "source": [
    "A key idea of neural nets, is that they use models that are \"too complex\" - complex enough to fit all the noise in the data. One then needs to \"regularize\" them to make the models fit complex enough, but not too complex. The more complex the model, the better it fits the training data, but if it is too complex, it generalizes less well; it memorizes the training data but is less accurate on future test data.\n",
    "\n",
    "<center><img src=\"https://images.deepai.org/glossary-terms/early-stopping-machine-learning-5422207.jpg\" alt=\"Overfitting\" width=\"600\"/></center>"
   ]
  },
  {
   "cell_type": "code",
   "execution_count": null,
   "metadata": {
    "cellView": "form",
    "colab": {
     "base_uri": "https://localhost:8080/",
     "height": 590
    },
    "outputId": "d58331c6-4745-43b5-c0c7-37b5f2345a0a"
   },
   "outputs": [],
   "source": [
    "#@markdown Tutorial slides\n",
    "\n",
    "#@markdown **Do not read them now.**\n",
    "# you should link the slides for all tutorial videos here (we will store pdfs on osf)\n",
    "\n",
    "from IPython.display import HTML\n",
    "HTML('<iframe src=\"https://docs.google.com/presentation/d/1N9aguIPiBSjzo0ToqPi5uwwG8ChY6_E3/embed?start=false&loop=false&delayms=3000\" frameborder=\"0\" width=\"960\" height=\"569\" allowfullscreen=\"true\" mozallowfullscreen=\"true\" webkitallowfullscreen=\"true\"></iframe>')"
   ]
  },
  {
   "cell_type": "markdown",
   "metadata": {},
   "source": [
    "---\n",
    "# Setup\n",
    "Note that some of the code for today can take up to an hour to run. We have therefore \"hidden\" that code and shown the resulting outputs.\n"
   ]
  },
  {
   "cell_type": "markdown",
   "metadata": {},
   "source": [
    "**Ensure you're running a GPU notebook:**\n",
    "From \"Runtime\" in the drop-down menu above, click \"Change runtime type\". Ensure that \"Hardware Accelerator\" says \"GPU\".\n",
    "\n",
    "**Ensure you can save:** From \"File\", click \"Save a copy in Drive\""
   ]
  },
  {
   "cell_type": "code",
   "execution_count": null,
   "metadata": {},
   "outputs": [],
   "source": [
    "# Imports\n",
    "from __future__ import print_function\n",
    "import torch\n",
    "import pathlib\n",
    "import random\n",
    "import torch.nn as nn\n",
    "import torch.nn.functional as F\n",
    "import torch.optim as optim\n",
    "from torchvision import datasets, transforms\n",
    "from torchvision.datasets import ImageFolder\n",
    "from torch.utils.data import DataLoader, TensorDataset\n",
    "import torch.nn.utils.prune as prune\n",
    "from torch.optim.lr_scheduler import StepLR\n",
    "import time\n",
    "import numpy as np\n",
    "import matplotlib.pyplot as plt\n",
    "import matplotlib.animation as animation\n",
    "import copy\n",
    "from tqdm.auto import tqdm\n",
    "from IPython.display import HTML, display"
   ]
  },
  {
   "cell_type": "code",
   "execution_count": null,
   "metadata": {
    "cellView": "form"
   },
   "outputs": [],
   "source": [
    "# @title Figure Settings\n",
    "import ipywidgets as widgets\n",
    "\n",
    "%matplotlib inline\n",
    "%config InlineBackend.figure_format = 'retina'\n",
    "plt.style.use(\"https://raw.githubusercontent.com/NeuromatchAcademy/course-content/master/nma.mplstyle\")"
   ]
  },
  {
   "cell_type": "code",
   "execution_count": null,
   "metadata": {
    "cellView": "form"
   },
   "outputs": [],
   "source": [
    "# @title Loading Animal Faces data\n",
    "%%capture\n",
    "!rm -r AnimalFaces32x32/\n",
    "!git clone https://github.com/arashash/AnimalFaces32x32\n",
    "!rm -r afhq/\n",
    "!unzip ./AnimalFaces32x32/afhq_32x32.zip"
   ]
  },
  {
   "cell_type": "code",
   "execution_count": null,
   "metadata": {
    "cellView": "form"
   },
   "outputs": [],
   "source": [
    "# @title Loading Animal Faces Randomized data\n",
    "%%capture\n",
    "!rm -r Animal_faces_random/\n",
    "!git clone https://github.com/Ravi3191/Animal_faces_random.git\n",
    "!rm -r afhq_random_32x32/\n",
    "!unzip ./Animal_faces_random/afhq_random_32x32.zip\n",
    "!rm -r afhq_10_32x32/\n",
    "!unzip ./Animal_faces_random/afhq_10_32x32.zip"
   ]
  },
  {
   "cell_type": "code",
   "execution_count": null,
   "metadata": {
    "cellView": "form"
   },
   "outputs": [],
   "source": [
    "#@title Seeding for Reproducibility\n",
    "seed = 90108\n",
    "random.seed(seed)\n",
    "np.random.seed(seed)\n",
    "torch.manual_seed(seed)\n",
    "torch.cuda.manual_seed(seed)\n",
    "torch.cuda.manual_seed_all(seed)\n",
    "torch.backends.cudnn.deterministic = True\n",
    "torch.backends.cudnn.benchmark = False\n",
    "torch.backends.cudnn.enabled = False\n",
    "torch.torch.use_deterministic_algorithms(True)\n",
    "def seed_worker(worker_id):\n",
    "  worker_seed = seed % (worker_id+1)\n",
    "  np.random.seed(worker_seed)\n",
    "  random.seed(worker_seed)"
   ]
  },
  {
   "cell_type": "code",
   "execution_count": null,
   "metadata": {
    "cellView": "form"
   },
   "outputs": [],
   "source": [
    "# @title Plotting functions\n",
    "def imshow(img):\n",
    "    img = img / 2 + 0.5     # unnormalize\n",
    "    npimg = img.numpy()\n",
    "    plt.imshow(np.transpose(npimg, (1, 2, 0)))\n",
    "    plt.axis(False)\n",
    "    plt.show()\n",
    "\n",
    "def plot_weights(norm, labels, ws, title='Weight Size Measurement'):\n",
    "\n",
    "  plt.figure(figsize=[8,6])\n",
    "  plt.title(title)\n",
    "  plt.ylabel('Frobenius Norm Value')\n",
    "  plt.xlabel('Model Layers')\n",
    "  plt.bar(labels, ws)\n",
    "  plt.axhline(y=norm, linewidth=1, color='r', ls='--', label='Total Model F-Norm')\n",
    "  plt.legend()\n",
    "  plt.show()"
   ]
  },
  {
   "cell_type": "markdown",
   "metadata": {},
   "source": [
    "Now, lets define a Animal Net model, train, test and main functions which we will use frequently today."
   ]
  },
  {
   "cell_type": "code",
   "execution_count": null,
   "metadata": {},
   "outputs": [],
   "source": [
    "##Network Class - Animal Faces\n",
    "class Animal_Net(nn.Module):\n",
    "  def __init__(self):\n",
    "    torch.manual_seed(104)\n",
    "    super(Animal_Net, self).__init__()\n",
    "    self.fc1 = nn.Linear(3*32*32, 128)\n",
    "    self.fc2 = nn.Linear(128, 32)\n",
    "    self.fc3 = nn.Linear(32, 3)\n",
    "\n",
    "  def forward(self, x):\n",
    "    x = x.view(x.shape[0],-1)\n",
    "    x = F.relu(self.fc1(x))\n",
    "    x = F.relu(self.fc2(x))\n",
    "    x = self.fc3(x)\n",
    "    output = F.log_softmax(x, dim=1)\n",
    "    return output"
   ]
  },
  {
   "cell_type": "markdown",
   "metadata": {},
   "source": [
    "The train function takes in the current model along with the train_loader and loss function and updates the parameters for a single pass of the entire dataset. The test function takes in the current model after every epoch and calculates the accuracy on the test dataset.\n"
   ]
  },
  {
   "cell_type": "code",
   "execution_count": null,
   "metadata": {},
   "outputs": [],
   "source": [
    "def train(args, model, device, train_loader, optimizer, epoch,reg_function1=None,reg_function2=None,criterion=F.nll_loss):\n",
    "  \"\"\"\n",
    "  Trains the current inpur model using the data\n",
    "  from Train_loader and Updates parameters for a single pass\n",
    "  \"\"\"\n",
    "  model.train()\n",
    "  for batch_idx, (data, target) in enumerate(train_loader):\n",
    "    data, target = data.to(device), target.to(device)\n",
    "    optimizer.zero_grad()\n",
    "    output = model(data)\n",
    "    if reg_function1 is None:\n",
    "      loss = criterion(output, target)\n",
    "    elif reg_function2 is None:\n",
    "      loss = criterion(output, target)+args['lambda']*reg_function1(model)\n",
    "    else:\n",
    "      loss = criterion(output, target)+args['lambda1']*reg_function1(model)+args['lambda2']*reg_function2(model)\n",
    "    loss.backward()\n",
    "    optimizer.step()\n",
    "\n",
    "\n",
    "def test(model, device, test_loader, loader = 'Test',criterion=F.nll_loss):\n",
    "  \"\"\"\n",
    "  Tests the current Model\n",
    "  \"\"\"\n",
    "  model.eval()\n",
    "  test_loss = 0\n",
    "  correct = 0\n",
    "  with torch.no_grad():\n",
    "    for data, target in test_loader:\n",
    "      data, target = data.to(device), target.to(device)\n",
    "      output = model(data)\n",
    "      test_loss += criterion(output, target, reduction='sum').item()  # sum up batch loss\n",
    "      pred = output.argmax(dim=1, keepdim=True)  # get the index of the max log-probability\n",
    "      correct += pred.eq(target.view_as(pred)).sum().item()\n",
    "\n",
    "  test_loss /= len(test_loader.dataset)\n",
    "  return 100. * correct / len(test_loader.dataset)\n",
    "\n",
    "def main(args, model,train_loader,val_loader,test_data,reg_function1=None,reg_function2=None,criterion=F.nll_loss):\n",
    "  \"\"\"\n",
    "  Trains the model with train_loader and tests the learned model using val_loader\n",
    "  \"\"\"\n",
    "\n",
    "  use_cuda = not args['no_cuda'] and torch.cuda.is_available()\n",
    "  device = torch.device('cuda' if use_cuda else 'cpu')\n",
    "\n",
    "  model = model.to(device)\n",
    "  optimizer = optim.SGD(model.parameters(), lr=args['lr'], momentum=args['momentum'])\n",
    "\n",
    "  val_acc_list, train_acc_list,param_norm_list = [], [], []\n",
    "  for epoch in tqdm(range(args['epochs'])):\n",
    "    train(args, model, device, train_loader, optimizer, epoch,reg_function1=reg_function1,reg_function2=reg_function2)\n",
    "    train_acc = test(model,device,train_loader, 'Train')\n",
    "    val_acc = test(model,device,val_loader, 'Val')\n",
    "    param_norm = calculate_frobenius_norm(model)\n",
    "    train_acc_list.append(train_acc)\n",
    "    val_acc_list.append(val_acc)\n",
    "    param_norm_list.append(param_norm)\n",
    "\n",
    "  return val_acc_list, train_acc_list, param_norm_list, model, 0"
   ]
  },
  {
   "cell_type": "markdown",
   "metadata": {},
   "source": [
    "---\n",
    "#Section 1: Regularization is Shrinkage"
   ]
  },
  {
   "cell_type": "code",
   "execution_count": null,
   "metadata": {
    "cellView": "form",
    "colab": {
     "base_uri": "https://localhost:8080/",
     "height": 518
    },
    "outputId": "8c49d0ed-20d4-47bd-8af6-3ebefa70bb43"
   },
   "outputs": [],
   "source": [
    "#@title Video : Regularization as Shrinkage\n",
    "try: t2;\n",
    "except NameError: t2=time.time()\n",
    "\n",
    "video = YouTubeVideo(id=\"B4CsCKViB3k\", width=854, height=480, fs=1)\n",
    "print(\"Video available at https://youtube.com/watch?v=\" + video.id)\n",
    "\n",
    "video"
   ]
  },
  {
   "cell_type": "markdown",
   "metadata": {},
   "source": [
    "One way to think about Regularization is to think in terms of the magnitude of the overall weights of the model. A model with big weights can fit more data perfectly. Wheras a model with smaller weights tend to underperform on the train set but can suprisingly do very well on the test set. Too small of a weights can also be as issue an it can the underfit the model.\n",
    "\n",
    "This week we use the sum of Frobenius Norm of all the tensors in the model as a measure of the \"size of the model\"."
   ]
  },
  {
   "cell_type": "markdown",
   "metadata": {},
   "source": [
    "##Exercise 1: Frobenius Norm\n",
    "Before we start, let's define the Frobenius norm, sometimes also called the Euclidean norm of an m×n matrix $A$  as the square root of the sum of the absolute squares of its elements. \n",
    "\\begin{equation}\n",
    "||A||_F= \\sqrt(\\sum_{i=1}^m\\sum_{j=1}^n|a_{ij}|^2)\n",
    "\\end{equation} \n",
    "\n",
    "This is just a measure of how big the matrix is, analagous to how big a vector is."
   ]
  },
  {
   "cell_type": "markdown",
   "metadata": {},
   "source": [
    " **Hint:** Use functions model.parameters() or model.named_parameters()\n"
   ]
  },
  {
   "cell_type": "code",
   "execution_count": null,
   "metadata": {},
   "outputs": [],
   "source": [
    "def calculate_frobenius_norm(model):\n",
    "\n",
    "  ####################################################################\n",
    "  # Fill in all missing code below (...),\n",
    "  # then remove or comment the line below to test your function\n",
    "  raise NotImplementedError(\"Define `calculate_frobenius_norm` function\")\n",
    "  ####################################################################\n",
    "\n",
    "  norm = 0.0\n",
    "\n",
    "  # Sum the square of all parameters\n",
    "  for param in model.parameters():\n",
    "      norm += ...\n",
    "\n",
    "  # Take a square root of the sum of squares of all the parameters\n",
    "  norm = ...\n",
    "  return norm\n",
    "\n",
    "# # uncomment to run\n",
    "# net = nn.Linear(10, 1)\n",
    "# print(f'Frobenius Norm of Single Linear Layer: {calculate_frobenius_norm(net)}')"
   ]
  },
  {
   "cell_type": "code",
   "execution_count": null,
   "metadata": {
    "colab": {
     "base_uri": "https://localhost:8080/"
    },
    "outputId": "d1138df5-9f29-45f7-b2ed-a5b443d18a0f"
   },
   "outputs": [],
   "source": [
    "# to_remove solution\n",
    "def calculate_frobenius_norm(model):\n",
    "\n",
    "  norm = 0.0\n",
    "\n",
    "  # Sum the square of all parameters\n",
    "  for param in model.parameters():\n",
    "      norm += torch.sum(param**2)\n",
    "\n",
    "  # Take a square root of the sum of squares of all the parameters\n",
    "  norm = norm**0.5\n",
    "  return norm\n",
    "\n",
    "# # uncomment to run\n",
    "net = nn.Linear(10, 1)\n",
    "print(f'Frobenius Norm of Single Linear Layer: {calculate_frobenius_norm(net)}')"
   ]
  },
  {
   "cell_type": "markdown",
   "metadata": {},
   "source": [
    "Apart from calculating the weight size for an entire model, we could also determine the weight size in every layer. For this, we can modify our `calculate_frobenius_norm` function as shown below. \n",
    "\n",
    "**Have a look how it works!!**"
   ]
  },
  {
   "cell_type": "code",
   "execution_count": null,
   "metadata": {
    "cellView": "form",
    "colab": {
     "base_uri": "https://localhost:8080/",
     "height": 447
    },
    "outputId": "b12a289a-66ca-49ae-89f6-c402f7ff47de"
   },
   "outputs": [],
   "source": [
    "#@markdown Frobenius Norm per Layer\n",
    "def calculate_frobenius_norm(model):\n",
    "\n",
    "  # initialization of variables\n",
    "  norm, ws, labels = 0.0, [], []\n",
    "\n",
    "  # Sum all the parameters\n",
    "  for name, parameters in model.named_parameters():\n",
    "    p = torch.sum(parameters**2)\n",
    "    norm += p\n",
    "\n",
    "    ws.append((p**0.5).cpu().detach().numpy())\n",
    "    labels.append(name)\n",
    "\n",
    "  # Take a square root of the sum of squares of all the parameters\n",
    "  norm = (norm**0.5).cpu().detach().numpy()\n",
    "\n",
    "  return norm, ws, labels\n",
    "\n",
    "#uncomment to run\n",
    "net = nn.Linear(10,1)\n",
    "norm, ws, labels = calculate_frobenius_norm(net)\n",
    "print(f'Frobenius Norm of Single Linear Layer: {norm}')\n",
    "# Plots the weights\n",
    "plot_weights(norm, labels, ws)"
   ]
  },
  {
   "cell_type": "markdown",
   "metadata": {},
   "source": [
    "Using the last function `calculate_frobenius_norm`, we can also obtain the Frobenius Norm per layer for a whole NN model and use the `plot_weigts` function to visualize them."
   ]
  },
  {
   "cell_type": "code",
   "execution_count": null,
   "metadata": {
    "colab": {
     "base_uri": "https://localhost:8080/",
     "height": 447
    },
    "outputId": "3844a9b1-1ccf-4681-a63f-e5e1d796cbfd"
   },
   "outputs": [],
   "source": [
    "# Creates a new model\n",
    "model = Animal_Net()\n",
    "\n",
    "# Calculates the forbenius norm per layer\n",
    "norm, ws, labels = calculate_frobenius_norm(model)\n",
    "print(f'Frobenius Norm of Models weights: {norm}')\n",
    "\n",
    "# Plots the weights\n",
    "plot_weights(norm, labels, ws)"
   ]
  },
  {
   "cell_type": "markdown",
   "metadata": {},
   "source": [
    "---\n",
    "#Section 2: Overfitting\n"
   ]
  },
  {
   "cell_type": "code",
   "execution_count": null,
   "metadata": {
    "cellView": "form",
    "colab": {
     "base_uri": "https://localhost:8080/",
     "height": 518
    },
    "outputId": "2d03f16f-0796-4acb-ecee-26082725f44f"
   },
   "outputs": [],
   "source": [
    "#@title Video : Overfitting\n",
    "try: t3;\n",
    "except NameError: t3=time.time()\n",
    "\n",
    "from IPython.display import YouTubeVideo\n",
    "video = YouTubeVideo(id=\"RlaGyRKP2nY\", width=854, height=480, fs=1)\n",
    "print(\"Video available at https://youtube.com/watch?v=\" + video.id)\n",
    "\n",
    "video"
   ]
  },
  {
   "cell_type": "markdown",
   "metadata": {},
   "source": [
    "##Visualizing Overfitting\n",
    "\n"
   ]
  },
  {
   "cell_type": "markdown",
   "metadata": {},
   "source": [
    "Let's create some synthetic dataset that we will use to illustrate overfitting in neural networks."
   ]
  },
  {
   "cell_type": "code",
   "execution_count": null,
   "metadata": {
    "colab": {
     "base_uri": "https://localhost:8080/",
     "height": 430
    },
    "outputId": "b2f0f25b-f305-4c6f-e538-8ea93d6b64ca"
   },
   "outputs": [],
   "source": [
    "#creating train data\n",
    "X = torch.rand((10, 1))\n",
    "X.sort(dim = 0)\n",
    "Y = 2*X + 2*torch.empty((X.shape[0], 1)).normal_(mean=0, std=1) #adding small error in the data\n",
    "\n",
    "X = X.unsqueeze_(1)\n",
    "Y = Y.unsqueeze_(1)\n",
    "\n",
    "#visualizing trian data\n",
    "plt.figure(figsize=(8, 6))\n",
    "plt.scatter(X.numpy(),Y.numpy())\n",
    "plt.xlabel('input (x)')\n",
    "plt.ylabel('output(y)')\n",
    "plt.title('toy dataset')\n",
    "plt.show()\n",
    "\n",
    "#creating test dataset\n",
    "X_test = torch.linspace(0, 1, 40)\n",
    "X_test = X_test.reshape((40, 1, 1))"
   ]
  },
  {
   "cell_type": "markdown",
   "metadata": {},
   "source": [
    "Let's create an overparametrized NN that can fit on the dataset we just created and train it. \n",
    "\n",
    "First, let's build the model architecture:"
   ]
  },
  {
   "cell_type": "code",
   "execution_count": null,
   "metadata": {},
   "outputs": [],
   "source": [
    "##Network Class - 2D\n",
    "class Net(nn.Module):\n",
    "  def __init__(self):\n",
    "    super(Net, self).__init__()\n",
    "\n",
    "    self.fc1 = nn.Linear(1, 300)\n",
    "    self.fc2 = nn.Linear(300, 500)\n",
    "    self.fc3 = nn.Linear(500, 1)\n",
    "\n",
    "  def forward(self, x):\n",
    "    x = F.leaky_relu(self.fc1(x))\n",
    "    x = F.leaky_relu(self.fc2(x))\n",
    "    output = self.fc3(x)\n",
    "    return output"
   ]
  },
  {
   "cell_type": "markdown",
   "metadata": {},
   "source": [
    "Next, let's define the different parameters for training our model:\n"
   ]
  },
  {
   "cell_type": "code",
   "execution_count": null,
   "metadata": {},
   "outputs": [],
   "source": [
    "#train the network on toy dataset\n",
    "model = Net()\n",
    "\n",
    "criterion = nn.MSELoss()\n",
    "optimizer = optim.Adam(model.parameters(),lr = 1e-4)\n",
    "max_epochs = 10000\n",
    "iters = 0\n",
    "# Calculates frobenius before training\n",
    "normi, wsi, label = calculate_frobenius_norm(model)"
   ]
  },
  {
   "cell_type": "markdown",
   "metadata": {},
   "source": [
    "At this point, we can now train our model."
   ]
  },
  {
   "cell_type": "code",
   "execution_count": null,
   "metadata": {
    "colab": {
     "base_uri": "https://localhost:8080/",
     "height": 66,
     "referenced_widgets": [
      "5d7ea3954d584278b7c479efdc951bf3",
      "bfc5504ba8dc449ea93cfffedeef9144",
      "b1d2727423644e39a99c1a27c5134232",
      "fbb79bd5d2184e27b2af526262852f0e",
      "71b865c8f6224164b2559bcc78e7613e",
      "150c5a54385b47a3ab3c9185e1d1c3a1",
      "a25aad6eb8a34d4e9b10de42a4a4e7af",
      "d640ad6ba074404fbeb67757700d5beb"
     ]
    },
    "outputId": "ab2029d9-4687-4c72-f871-0109aa668008"
   },
   "outputs": [],
   "source": [
    "# Initializing variables to store weights\n",
    "per_layer = []\n",
    "\n",
    "running_predictions = np.empty((40,(int)(max_epochs/500 + 1)))\n",
    "\n",
    "train_loss = []\n",
    "test_loss = []\n",
    "model_norm = []\n",
    "\n",
    "for epoch in tqdm(range(max_epochs)):\n",
    "\n",
    "  norm, pl, layer_names = calculate_frobenius_norm(model)\n",
    "\n",
    "  #training\n",
    "  model_norm.append(norm)\n",
    "  per_layer.append(pl)\n",
    "  model.train()\n",
    "  optimizer.zero_grad()\n",
    "  predictions = model(X)\n",
    "  loss = criterion(predictions,Y)\n",
    "  loss.backward()\n",
    "  optimizer.step()\n",
    "\n",
    "  train_loss.append(loss.data)\n",
    "  model.eval()\n",
    "  Y_test = model(X_test)\n",
    "  loss = criterion(Y_test,2*X_test)\n",
    "  test_loss.append(loss.data)\n",
    "\n",
    "  if(epoch % 500 == 0 or epoch == max_epochs - 1):\n",
    "    running_predictions[:,iters] = Y_test[:,0,0].detach().numpy()\n",
    "    iters += 1"
   ]
  },
  {
   "cell_type": "markdown",
   "metadata": {},
   "source": [
    "Now that we have finished training, let's see how the model has evolved over the training process."
   ]
  },
  {
   "cell_type": "code",
   "execution_count": null,
   "metadata": {
    "cellView": "form",
    "colab": {
     "base_uri": "https://localhost:8080/",
     "height": 381
    },
    "outputId": "c6880330-bee3-448d-acfa-ce2cf34a05ee"
   },
   "outputs": [],
   "source": [
    "#@title Animation (Run Me!)\n",
    "\n",
    "# create a figure and axes\n",
    "fig = plt.figure(figsize=(14, 5))\n",
    "ax1 = plt.subplot(1,2,1)\n",
    "ax2 = plt.subplot(1,2,2)\n",
    "# organizing subplots\n",
    "plot1, = ax1.plot([],[])\n",
    "plot2 = ax2.bar([], [])\n",
    "\n",
    "\n",
    "def frame(i):\n",
    "  ax1.clear()\n",
    "  title1 = ax1.set_title('')\n",
    "  ax1.set_xlabel(\"Input(x)\")\n",
    "  ax1.set_ylabel(\"Output(y)\")\n",
    "\n",
    "  ax2.clear()\n",
    "  ax2.set_xlabel('Layer names')\n",
    "  ax2.set_ylabel('Frobenius norm')\n",
    "  title2 = ax2.set_title('Weight Measurement: Forbenius Norm')\n",
    "\n",
    "  ax1.scatter(X[:,0,:].numpy(),Y[:,0,:].numpy())\n",
    "  plot1 = ax1.plot(X_test[:,0,:].detach().numpy(),running_predictions[:,i])\n",
    "  title1.set_text(f'Epochs: {i * 500}')\n",
    "  plot2 = ax2.bar(label, per_layer[i*500])\n",
    "  plt.axhline(y=model_norm[i*500], linewidth=1,\n",
    "              color='r', ls='--', label=f'Norm: {model_norm[i*500]:.2f}')\n",
    "  plt.legend()\n",
    "\n",
    "  return plot1, plot2\n",
    "\n",
    "anim = animation.FuncAnimation(fig, frame, frames=range(20),\n",
    "                               blit=False, repeat=False, repeat_delay=10000)\n",
    "html_anim = HTML(anim.to_html5_video());\n",
    "plt.close()\n",
    "display(html_anim)"
   ]
  },
  {
   "cell_type": "code",
   "execution_count": null,
   "metadata": {
    "cellView": "form",
    "colab": {
     "base_uri": "https://localhost:8080/",
     "height": 430
    },
    "outputId": "e0821a76-f100-45bf-d559-899ba5187069"
   },
   "outputs": [],
   "source": [
    "#@title Plot the train and test losses\n",
    "plt.figure(figsize=(8, 6))\n",
    "plt.plot(train_loss,label='train_loss')\n",
    "plt.plot(test_loss,label='test_loss')\n",
    "plt.ylabel('loss')\n",
    "plt.xlabel('epochs')\n",
    "plt.title('loss vs epoch')\n",
    "plt.legend()\n",
    "plt.show()"
   ]
  },
  {
   "cell_type": "markdown",
   "metadata": {},
   "source": [
    "Now let's visualize the Frobenious norm of the model as we trained. You should see that the value of weights increases over the epochs."
   ]
  },
  {
   "cell_type": "code",
   "execution_count": null,
   "metadata": {
    "cellView": "form",
    "colab": {
     "base_uri": "https://localhost:8080/",
     "height": 430
    },
    "outputId": "8fa78a52-daf3-4b40-c1dd-de0da44709ba"
   },
   "outputs": [],
   "source": [
    "#@title Frobenious norm of the model\n",
    "plt.figure(figsize=(8, 6))\n",
    "plt.plot(model_norm)\n",
    "plt.ylabel('norm of the model')\n",
    "plt.xlabel('epochs')\n",
    "plt.title('Size of the model vs Epochs') ## Change title to Frobenious norm of the model\n",
    "plt.show()"
   ]
  },
  {
   "cell_type": "markdown",
   "metadata": {},
   "source": [
    "Finally, you can compare the Frobenius norm for every layer in the model, before and after training."
   ]
  },
  {
   "cell_type": "code",
   "execution_count": null,
   "metadata": {
    "cellView": "form",
    "colab": {
     "base_uri": "https://localhost:8080/",
     "height": 843
    },
    "outputId": "af9f9b17-7a8e-44cc-b510-8647d0afb337"
   },
   "outputs": [],
   "source": [
    "#@title Frobenius norm per layer before and after training\n",
    "normf, wsf, label = calculate_frobenius_norm(model)\n",
    "\n",
    "plot_weights(float(normi), label, wsi, title='Weight Size Before Training')\n",
    "plot_weights(float(normf), label, wsf, title='Weight Size After Training')"
   ]
  },
  {
   "cell_type": "markdown",
   "metadata": {},
   "source": [
    "What trend do you see w.r.t to train and test losses ( Where do you see the minimum of these losses?) What does it tell about the model we trained? Discuss among yourselves."
   ]
  },
  {
   "cell_type": "markdown",
   "metadata": {},
   "source": [
    "## Overfitting on Test Dataset\n",
    "\n",
    "\n",
    "In principle, we should not touch our test set until after we have chosen all our hyperparameters. Were we to use the test data in the model selection process, there is a risk that we might overfit the test data. Then we would be in serious trouble. If we overfit our training data, there is always the evaluation on test data to keep us honest. But if we overfit the test data, how would we ever know?\n",
    "\n",
    "Note that there is another kind of overfitting: you do \"honest\" fitting on one set of images or posts, or medical records, but it may not generalize to other sets of images, posts or medical records.\n"
   ]
  },
  {
   "cell_type": "markdown",
   "metadata": {},
   "source": [
    "##Validation Dataset\n",
    "A common practice to address this problem is to split our data three ways, using a validation dataset (or validation set) to tune the hyperparameters. Ideally, we would only touch the test data once, to assess the very best model or to compare a small number of models to each other, real-world test data is seldom discarded after just one use.\n",
    "\n"
   ]
  },
  {
   "cell_type": "markdown",
   "metadata": {},
   "source": [
    "---\n",
    "# Section 3: Memorization\n"
   ]
  },
  {
   "cell_type": "markdown",
   "metadata": {},
   "source": [
    "Given sufficiently large networks and enough training, Neural Networks can acheive almost 100% train accuracy.\n",
    "\n",
    "In this section we train three MLP's one each on:\n",
    "\n",
    "\n",
    "1.   Animal Faces Dataset\n",
    "2.   A Completely Noisy Dataset (Random Shuffling of all labels)\n",
    "3.   Partially Noisy Dataset (Random Shuffling of 15% labels)\n"
   ]
  },
  {
   "cell_type": "markdown",
   "metadata": {},
   "source": [
    "Now, think for a couple of minutes as to what the train and test accuracies of each of these models might be, given you train for sufficient time and use a powerful network."
   ]
  },
  {
   "cell_type": "markdown",
   "metadata": {},
   "source": [
    "First, create the required dataloaders for all three datasets. Notice how we split the data. We train on a fraction of the dataset as it will be faster to train and will overfit more clearly."
   ]
  },
  {
   "cell_type": "code",
   "execution_count": null,
   "metadata": {},
   "outputs": [],
   "source": [
    "##Dataloaders for the Dataset\n",
    "batch_size = 128\n",
    "classes = ('cat', 'dog', 'wild')\n",
    "\n",
    "train_transform = transforms.Compose([\n",
    "     transforms.ToTensor(),\n",
    "     transforms.Normalize((0.5, 0.5, 0.5), (0.5, 0.5, 0.5))\n",
    "     ])\n",
    "data_path = pathlib.Path('.')/'afhq' # using pathlib to be compatible with all OS's\n",
    "img_dataset = ImageFolder(data_path/'train', transform=train_transform)\n",
    "\n",
    "\n",
    "####################################################\n",
    "\n",
    "##Dataloaders for the  Original Dataset\n",
    "\n",
    "\n",
    "img_train_data, img_val_data,_ = torch.utils.data.random_split(img_dataset, [100,100,14430])\n",
    "\n",
    "#Creating train_loader and Val_loader\n",
    "train_loader = torch.utils.data.DataLoader(img_train_data,batch_size=batch_size,worker_init_fn=seed_worker)\n",
    "val_loader = torch.utils.data.DataLoader(img_val_data,batch_size=1000,worker_init_fn=seed_worker)\n",
    "\n",
    "#creating test dataset\n",
    "test_transform = transforms.Compose([\n",
    "     transforms.ToTensor(),\n",
    "     transforms.Normalize((0.5, 0.5, 0.5), (0.5, 0.5, 0.5))\n",
    "     ])\n",
    "img_test_dataset = ImageFolder(data_path/'val', transform=test_transform)\n",
    "\n",
    "\n",
    "####################################################\n",
    "\n",
    "##Dataloaders for the  Random Dataset\n",
    "\n",
    "#splitting randomized data into training and validation data\n",
    "data_path = pathlib.Path('.')/'afhq_random_32x32/afhq_random' # using pathlib to be compatible with all OS's\n",
    "img_dataset = ImageFolder(data_path/'train', transform=train_transform)\n",
    "random_img_train_data, random_img_val_data,_ = torch.utils.data.random_split(img_dataset, [100,100,14430])\n",
    "\n",
    "#Randomized train and validation dataloader\n",
    "rand_train_loader = torch.utils.data.DataLoader(random_img_train_data,\n",
    "                                                batch_size=batch_size,num_workers = 0,\n",
    "                                                worker_init_fn=seed_worker)\n",
    "rand_val_loader = torch.utils.data.DataLoader(random_img_val_data,\n",
    "                                              batch_size=1000,\n",
    "                                              num_workers = 0,\n",
    "                                              worker_init_fn=seed_worker)\n",
    "\n",
    "####################################################\n",
    "\n",
    "##Dataloaders for the Partially Random Dataset\n",
    "\n",
    "#Splitting data between training and validation dataset for partially randomized data\n",
    "data_path = pathlib.Path('.')/'afhq_10_32x32/afhq_10' # using pathlib to be compatible with all OS's\n",
    "img_dataset = ImageFolder(data_path/'train', transform=train_transform)\n",
    "partially_random_train_data, partially_random_val_data,_ = torch.utils.data.random_split(img_dataset, [100,100,14430])\n",
    "\n",
    "#Training and Validation loader for partially randomized data\n",
    "partial_rand_train_loader = torch.utils.data.DataLoader(partially_random_train_data,\n",
    "                                                        batch_size=batch_size,num_workers = 0,\n",
    "                                                        worker_init_fn=seed_worker)\n",
    "partial_rand_val_loader = torch.utils.data.DataLoader(partially_random_val_data,\n",
    "                                                      batch_size=1000,\n",
    "                                                      num_workers = 0,\n",
    "                                                      worker_init_fn=seed_worker)"
   ]
  },
  {
   "cell_type": "markdown",
   "metadata": {},
   "source": [
    "Now let's define a model which has many parameters compared to the training dataset size, and train it on these datasets."
   ]
  },
  {
   "cell_type": "code",
   "execution_count": null,
   "metadata": {},
   "outputs": [],
   "source": [
    "# # Network Class - Animal Faces\n",
    "class Big_Animal_Net(nn.Module):\n",
    "  def __init__(self):\n",
    "    torch.manual_seed(104)\n",
    "    super(Big_Animal_Net, self).__init__()\n",
    "    self.fc1 = nn.Linear(3*32*32, 124)\n",
    "    self.fc2 = nn.Linear(124, 64)\n",
    "    self.fc3 = nn.Linear(64, 3)\n",
    "\n",
    "  def forward(self, x):\n",
    "    x = x.view(x.shape[0],-1)\n",
    "    x = F.leaky_relu(self.fc1(x))\n",
    "    x = F.leaky_relu(self.fc2(x))\n",
    "    x = self.fc3(x)\n",
    "    output = F.log_softmax(x, dim=1)\n",
    "    return output"
   ]
  },
  {
   "cell_type": "markdown",
   "metadata": {},
   "source": [
    "Before training our `Big_AnimalNet()`, calculate the Frobenius norm again."
   ]
  },
  {
   "cell_type": "code",
   "execution_count": null,
   "metadata": {},
   "outputs": [],
   "source": [
    "model = Big_Animal_Net()\n",
    "normi, wsi, label = calculate_frobenius_norm(model)"
   ]
  },
  {
   "cell_type": "markdown",
   "metadata": {},
   "source": [
    "Now, train our `Big_AnimalNet()` model"
   ]
  },
  {
   "cell_type": "code",
   "execution_count": null,
   "metadata": {
    "colab": {
     "base_uri": "https://localhost:8080/",
     "height": 496,
     "referenced_widgets": [
      "14a4ee060d5f44de8afb9f5eacb8031d",
      "cb49d64dc7504440a8bd81629c3b2c22",
      "26201e3fe1d24145ae74f41c0d90df40",
      "ea062149055040a8bfc74297d96b0e23",
      "5e2f2fedf3444b119c5b5c951b911d17",
      "a024b45dd7ea477fbbc31a551639155c",
      "1d1f56ad7ef7441d9ee8c5a653d092cc",
      "7882ef4b53d44582b9493fbcd4f56be7"
     ]
    },
    "outputId": "d2f4c035-17ac-4846-a253-3e93f80c8ad6"
   },
   "outputs": [],
   "source": [
    "# # Here we have 100 true train data.\n",
    "args = {'test_batch_size': 1000,\n",
    "        'epochs': 200,\n",
    "        'lr': 5e-3,\n",
    "        'momentum': 0.9,\n",
    "        'no_cuda': False,\n",
    "        }\n",
    "\n",
    "acc_dict = {}\n",
    "\n",
    "start_time = time.time()\n",
    "val_acc_pure, train_acc_pure, _, model ,_ = main(args,model,train_loader,val_loader,img_test_dataset)\n",
    "end_time = time.time()\n",
    "\n",
    "print(\"Time to memorize the dataset:\",end_time - start_time)\n",
    "\n",
    "# # Train and Test accuracy plot\n",
    "plt.figure(figsize=(8, 6))\n",
    "plt.plot(val_acc_pure,label='Val Accuracy Pure',c='red',ls = 'dashed')\n",
    "plt.plot(train_acc_pure,label='Train Accuracy Pure',c='red',ls = 'solid')\n",
    "plt.axhline(y=max(val_acc_pure),c = 'green',ls = 'dashed')\n",
    "plt.title('Memorization')\n",
    "plt.ylabel('Accuracy (%)')\n",
    "plt.xlabel('Epoch')\n",
    "plt.legend()\n",
    "plt.show()"
   ]
  },
  {
   "cell_type": "code",
   "execution_count": null,
   "metadata": {
    "cellView": "form",
    "colab": {
     "base_uri": "https://localhost:8080/",
     "height": 843
    },
    "outputId": "f96afe01-fdfb-4284-905d-0ddeb76f1b8a"
   },
   "outputs": [],
   "source": [
    "#@title Frobenius norm for AnimalNet before and after training\n",
    "normf, wsf, label = calculate_frobenius_norm(model)\n",
    "\n",
    "plot_weights(float(normi), label, wsi, title='Weight Size Before Training')\n",
    "plot_weights(float(normf), label, wsf, title='Weight Size After Training')"
   ]
  },
  {
   "cell_type": "markdown",
   "metadata": {},
   "source": [
    "##Exercise 2: Data Visualizer\n",
    "Before we train the model on a data with random labels, let's visualize and verify for ourselves that the data is random. Here, we have classes = (\"cat\", \"dog\", \"wild\"). \n",
    "\n",
    "**Hint:** Use .permute() method. plt.imshow() expects imput to be in numpy format and in the format (Px,Py,3), where Px and Py are the number of pixels along axis x and y respectively."
   ]
  },
  {
   "cell_type": "code",
   "execution_count": null,
   "metadata": {},
   "outputs": [],
   "source": [
    "def Visualize_data(dataloader):\n",
    "  ####################################################################\n",
    "  # Fill in all missing code below (...),\n",
    "  # then remove or comment the line below to test your function\n",
    "  # The dataloader here gives out mini batches of 100 data points.\n",
    "  raise NotImplementedError(\"Complete the Visualize_random_data function\")\n",
    "  ####################################################################\n",
    "\n",
    "  for idx, (data,label) in enumerate(dataloader):\n",
    "    plt.figure(idx)\n",
    "    # Choose the datapoint you would like to visualize\n",
    "    index = ...\n",
    "\n",
    "    # choose that datapoint using index and permute the dimensions\n",
    "    # and bring the pixel values between [0,1]\n",
    "    data = ...\n",
    "\n",
    "    # Convert the torch tensor into numpy\n",
    "    data = ...\n",
    "\n",
    "    plt.imshow(data)\n",
    "    plt.axis(False)\n",
    "    image_class = classes[...]\n",
    "    print(f'The image belongs to : {image_class}')\n",
    "\n",
    "  plt.show()\n",
    "\n",
    "# # uncomment to run the function\n",
    "# Visualize_data(rand_train_loader)"
   ]
  },
  {
   "cell_type": "code",
   "execution_count": null,
   "metadata": {
    "colab": {
     "base_uri": "https://localhost:8080/",
     "height": 447
    },
    "outputId": "a1a924ba-90bb-4452-98c3-c8fd34218e13"
   },
   "outputs": [],
   "source": [
    "# to_remove solution\n",
    "def Visualize_data(dataloader):\n",
    "\n",
    "  for idx, (data,label) in enumerate(dataloader):\n",
    "    plt.figure(idx)\n",
    "    # Choose the datapoint you would like to visualize\n",
    "    index = 22\n",
    "\n",
    "    # choose that datapoint using index and permute the dimensions\n",
    "    # and bring the pixel values between [0,1]\n",
    "    data = data[index].permute(1, 2, 0) * \\\n",
    "           torch.tensor([0.5, 0.5, 0.5]) + \\\n",
    "           torch.tensor([0.5, 0.5, 0.5])\n",
    "\n",
    "    # Convert the torch tensor into numpy\n",
    "    data = data.numpy()\n",
    "\n",
    "    plt.imshow(data)\n",
    "    plt.axis(False)\n",
    "    image_class = classes[label[index].item()]\n",
    "    print(f'The image belongs to : {image_class}')\n",
    "\n",
    "  plt.show()\n",
    "\n",
    "# # uncomment to run the function\n",
    "Visualize_data(rand_train_loader)"
   ]
  },
  {
   "cell_type": "markdown",
   "metadata": {},
   "source": [
    "Now let's train the network on the shuffled data and see if it memorizes."
   ]
  },
  {
   "cell_type": "code",
   "execution_count": null,
   "metadata": {
    "colab": {
     "base_uri": "https://localhost:8080/",
     "height": 479,
     "referenced_widgets": [
      "d8fdf09dd54840e3953230a41bbffc6e",
      "e2ace9c09fcc441295e47675d95bf756",
      "d477d8d428f2421499c62223960a3885",
      "a3d21cecaebf4bb794d31a9d7a72c752",
      "4ed9c12694b44f6c9cdc1c1cf611ce30",
      "4ecf33f3d65643a3b48b607e8cdc1d79",
      "c9e8dbafb8da44adb119d843f18358e0",
      "1f1e69f726be4eda9bacc2070bc910a7"
     ]
    },
    "outputId": "3c6f697a-66f5-4e11-fadf-8f109afc657a"
   },
   "outputs": [],
   "source": [
    "##Here we have 100 completely shuffled train data.\n",
    "args = {'epochs': 200,\n",
    "        'lr': 5e-3,\n",
    "        'momentum': 0.9,\n",
    "        'no_cuda': False\n",
    "        }\n",
    "\n",
    "acc_dict = {}\n",
    "model = Big_Animal_Net()\n",
    "\n",
    "\n",
    "val_acc_random, train_acc_random, _,model,_ = main(args,\n",
    "                                                   model,\n",
    "                                                   rand_train_loader,\n",
    "                                                   val_loader,\n",
    "                                                   img_test_dataset)\n",
    "\n",
    "##Train and Test accuracy plot\n",
    "plt.figure(figsize=(8, 6))\n",
    "plt.plot(val_acc_random,label='Val Accuracy random',c='red',ls = 'dashed')\n",
    "plt.plot(train_acc_random,label='Train Accuracy random',c='red',ls = 'solid')\n",
    "plt.axhline(y=max(val_acc_random),c = 'green',ls = 'dashed')\n",
    "plt.title('Memorization')\n",
    "plt.ylabel('Accuracy (%)')\n",
    "plt.xlabel('Epoch')\n",
    "plt.legend()\n",
    "plt.show()"
   ]
  },
  {
   "cell_type": "markdown",
   "metadata": {},
   "source": [
    "Finally lets train on a parially shuffled dataset where 15% of the labels are noisy."
   ]
  },
  {
   "cell_type": "code",
   "execution_count": null,
   "metadata": {
    "colab": {
     "base_uri": "https://localhost:8080/",
     "height": 479,
     "referenced_widgets": [
      "6e22e5716f0d4941a4af4039ad68c096",
      "b6d9c30ed07d47a48d75d23cfb2c98d8",
      "97dce912be2a4b43a6e42af108e7c4bf",
      "ff628d9eeabb4ee88d7229ae9d13c5ae",
      "9f394659dba74e9fa90472f070bfe7d8",
      "b4b5d01be90b4f4d9d6b7e173a0263b7",
      "12f134ab03c14cdfa3a45c9f18072708",
      "3618e78040db4d698a092fd5f5b6cf30"
     ]
    },
    "outputId": "b37fbc90-d44e-46fd-c04b-426a64f559c0"
   },
   "outputs": [],
   "source": [
    "##Here we have 100 partially shuffled train data.\n",
    "args = {'test_batch_size': 1000,\n",
    "        'epochs': 200,\n",
    "        'lr': 5e-3,\n",
    "        'momentum': 0.9,\n",
    "        'no_cuda': False,\n",
    "        }\n",
    "\n",
    "acc_dict = {}\n",
    "model = Big_Animal_Net()\n",
    "\n",
    "\n",
    "val_acc_shuffle, train_acc_shuffle, _,_,_ = main(args,\n",
    "                                                 model,\n",
    "                                                 partial_rand_train_loader,\n",
    "                                                 val_loader,\n",
    "                                                 img_test_dataset)\n",
    "\n",
    "#train and test acc plot\n",
    "plt.figure(figsize=(8, 6))\n",
    "plt.plot(val_acc_shuffle,label='Val Accuracy shuffle',c='red',ls = 'dashed')\n",
    "plt.plot(train_acc_shuffle,label='Train Accuracy shuffle',c='red',ls = 'solid')\n",
    "plt.axhline(y=max(val_acc_shuffle),c = 'green',ls = 'dashed')\n",
    "plt.title('Memorization')\n",
    "plt.ylabel('Accuracy (%)')\n",
    "plt.xlabel('Epoch')\n",
    "plt.legend()\n",
    "plt.show()"
   ]
  },
  {
   "cell_type": "code",
   "execution_count": null,
   "metadata": {
    "cellView": "form",
    "colab": {
     "base_uri": "https://localhost:8080/",
     "height": 430
    },
    "outputId": "59ce4d30-46de-4141-e0f5-03e94b7a279a"
   },
   "outputs": [],
   "source": [
    "#@title Plotting them all together (Run Me!)\n",
    "plt.figure(figsize=(8, 6))\n",
    "plt.plot(val_acc_pure,label='Val - Pure',c='red',ls = 'dashed')\n",
    "plt.plot(train_acc_pure,label='Train - Pure',c='red',ls = 'solid')\n",
    "plt.plot(val_acc_random,label='Val - Random',c='blue',ls = 'dashed')\n",
    "plt.plot(train_acc_random,label='Train - Random',c='blue',ls = 'solid')\n",
    "plt.title('Memorization')\n",
    "plt.ylabel('Accuracy (%)')\n",
    "plt.xlabel('Epoch')\n",
    "plt.legend()\n",
    "plt.show()"
   ]
  },
  {
   "cell_type": "markdown",
   "metadata": {},
   "source": [
    "Given that the NN fit/memorize the training data perfectly, Do you think it generalizes well? What makes you think it does or doesn't?\n"
   ]
  },
  {
   "cell_type": "markdown",
   "metadata": {},
   "source": [
    "Isn't it supprising to see that the NN was able to acheive 100% training accuracy on randomly shuffled labels. This is one of the reasons why training accuracy is not a good indicator of model performance. \n",
    "\n",
    "Also it is interesting to note that sometimes the model trained on slightly shuffled data does slightly better than the one trained on pure data.  Shuffling some of the data is a form of regularization--one of many ways of adding noise to the training data."
   ]
  },
  {
   "cell_type": "markdown",
   "metadata": {},
   "source": [
    "---\n",
    "# Section 4: Early Stopping\n"
   ]
  },
  {
   "cell_type": "code",
   "execution_count": null,
   "metadata": {
    "cellView": "form",
    "colab": {
     "base_uri": "https://localhost:8080/",
     "height": 518
    },
    "outputId": "5f3529dd-5f21-411c-e595-29ff5d3ea629"
   },
   "outputs": [],
   "source": [
    "#@title Video : Early Stopping\n",
    "try: t4;\n",
    "except NameError: t4=time.time()\n",
    "\n",
    "from IPython.display import YouTubeVideo\n",
    "video = YouTubeVideo(id=\"GA6J-50GCWs\", width=854, height=480, fs=1)\n",
    "print(\"Video available at https://youtube.com/watch?v=\" + video.id)\n",
    "\n",
    "video"
   ]
  },
  {
   "cell_type": "markdown",
   "metadata": {},
   "source": [
    "\n",
    "Now that we have established that the validation accuracy reaches the peak well before the model overfits we want to somehow stop the training early. You should have also observed from the above plots that the train/test loss on real data is not very smooth and hence you might guess that the choice of epoch can play a very large role on the val/test accuracy of your model. \n",
    "\n",
    "Early stopping stops training when the validation accuracies stop increasing. \n",
    "\n",
    "<center><img src=\"https://images.deepai.org/glossary-terms/early-stopping-machine-learning-5422207.jpg\" alt=\"Overfitting\" width=\"600\"/></center>"
   ]
  },
  {
   "cell_type": "markdown",
   "metadata": {},
   "source": [
    "## Exercise 3: Early Stopping\n",
    "Reimplement the main function to include early stopping as described above. Then run the code below to validate your implementation."
   ]
  },
  {
   "cell_type": "code",
   "execution_count": null,
   "metadata": {},
   "outputs": [],
   "source": [
    "def early_stopping_main(args, model, train_loader, val_loader, test_data):\n",
    "\n",
    "  ####################################################################\n",
    "  # Fill in all missing code below (...),\n",
    "  # then remove or comment the line below to test your function\n",
    "  raise NotImplementedError(\"Complete the early_stopping_main function\")\n",
    "  ####################################################################\n",
    "\n",
    "  use_cuda = not args['no_cuda'] and torch.cuda.is_available()\n",
    "  device = torch.device('cuda' if use_cuda else 'cpu')\n",
    "\n",
    "  model = model.to(device)\n",
    "  optimizer = optim.SGD(model.parameters(), lr=args['lr'], momentum=args['momentum'])\n",
    "\n",
    "  best_acc  = 0.0\n",
    "  best_epoch = 0\n",
    "\n",
    "  # Number of successive epochs that you want to wait before stopping training process\n",
    "  patience = 20\n",
    "\n",
    "  # Keps track of number of epochs during which the val_acc was less than best_acc\n",
    "  wait = 0\n",
    "\n",
    "  val_acc_list, train_acc_list = [], []\n",
    "  for epoch in tqdm(range(args['epochs'])):\n",
    "    # train the model\n",
    "    ...\n",
    "    # calculate training accuracy\n",
    "    train_acc = ...\n",
    "    # calculate validation accuracy\n",
    "    val_acc = ...\n",
    "    if (val_acc > best_acc):\n",
    "      best_acc = val_acc\n",
    "      best_epoch = epoch\n",
    "      best_model = copy.deepcopy(model)\n",
    "      wait = 0\n",
    "    else:\n",
    "      wait += 1\n",
    "    if (wait > patience):\n",
    "      print('early stopped on epoch:',epoch)\n",
    "      break\n",
    "    train_acc_list.append(train_acc)\n",
    "    val_acc_list.append(val_acc)\n",
    "\n",
    "  return val_acc_list, train_acc_list, best_model, best_epoch"
   ]
  },
  {
   "cell_type": "code",
   "execution_count": null,
   "metadata": {},
   "outputs": [],
   "source": [
    "# to_remove solution\n",
    "def early_stopping_main(args, model, train_loader, val_loader, test_data):\n",
    "\n",
    "  use_cuda = not args['no_cuda'] and torch.cuda.is_available()\n",
    "  device = torch.device('cuda' if use_cuda else 'cpu')\n",
    "\n",
    "  model = model.to(device)\n",
    "  optimizer = optim.SGD(model.parameters(), lr=args['lr'], momentum=args['momentum'])\n",
    "\n",
    "  best_acc  = 0.0\n",
    "  best_epoch = 0\n",
    "\n",
    "  # Number of successive epochs that you want to wait before stopping training process\n",
    "  patience = 20\n",
    "\n",
    "  # Keps track of number of epochs during which the val_acc was less than best_acc\n",
    "  wait = 0\n",
    "\n",
    "  val_acc_list, train_acc_list = [], []\n",
    "  for epoch in tqdm(range(args['epochs'])):\n",
    "    # train the model\n",
    "    train(args, model, device, train_loader, optimizer, epoch)\n",
    "    # calculate training accuracy\n",
    "    train_acc = test(model, device, train_loader, 'Train')\n",
    "    # calculate validation accuracy\n",
    "    val_acc = test(model, device, val_loader, 'Val')\n",
    "    if (val_acc > best_acc):\n",
    "      best_acc = val_acc\n",
    "      best_epoch = epoch\n",
    "      best_model = copy.deepcopy(model)\n",
    "      wait = 0\n",
    "    else:\n",
    "      wait += 1\n",
    "    if (wait > patience):\n",
    "      print('early stopped on epoch:',epoch)\n",
    "      break\n",
    "    train_acc_list.append(train_acc)\n",
    "    val_acc_list.append(val_acc)\n",
    "\n",
    "  return val_acc_list, train_acc_list, best_model, best_epoch"
   ]
  },
  {
   "cell_type": "code",
   "execution_count": null,
   "metadata": {
    "colab": {
     "base_uri": "https://localhost:8080/",
     "height": 83,
     "referenced_widgets": [
      "6257694f4ca84da096ed9a5b75062769",
      "9bbc33e2bdf547f08d054c5b11ba9e79",
      "edabaf98254540ea91cdd7716ac95419",
      "7c1b1cd8827f492abbc12d63bfd600dd",
      "44aadda4e2084c9299a5d1261c8634f6",
      "286cfc972fd840d4bcc4539561a1e767",
      "fb8086132f6d487a831c4c494e2ef3c5",
      "91e6c785518f4659a81bb89249f7ede6"
     ]
    },
    "outputId": "1621f0cf-0d0b-483e-9b1c-c7e23f8a3332"
   },
   "outputs": [],
   "source": [
    "args = {'epochs': 200,\n",
    "        'lr': 5e-4,\n",
    "        'momentum': 0.99,\n",
    "        'no_cuda': False,\n",
    "        }\n",
    "\n",
    "model = Animal_Net()\n",
    "val_acc_earlystop, train_acc_earlystop, _, best_epoch = early_stopping_main(args,\n",
    "                                                                            model,\n",
    "                                                                            train_loader,\n",
    "                                                                            val_loader,\n",
    "                                                                            img_test_dataset)\n",
    "\n",
    "print(\"Maximum Validation Accuracy is reached at epoch:%2d\"%(best_epoch))"
   ]
  },
  {
   "cell_type": "markdown",
   "metadata": {},
   "source": [
    "Do you think early stopping can be harmful for the training of your network? Discuss among your pod why or why not?"
   ]
  }
 ],
 "metadata": {
  "accelerator": "GPU",
  "colab": {
   "collapsed_sections": [],
   "include_colab_link": true,
   "machine_shape": "hm",
   "name": "W1D5_Tutorial1",
   "provenance": [],
   "toc_visible": true
  },
  "kernel": {
   "display_name": "Python 3",
   "language": "python",
   "name": "python3"
  },
  "kernelspec": {
   "display_name": "Python 3",
   "name": "python3"
  }
 },
 "nbformat": 4,
 "nbformat_minor": 0
}
